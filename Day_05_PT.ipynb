{
  "nbformat": 4,
  "nbformat_minor": 0,
  "metadata": {
    "colab": {
      "name": "Day 05_PT.ipynb",
      "provenance": [],
      "authorship_tag": "ABX9TyPDSpjWtoyR+Ud5XuswTLSL",
      "include_colab_link": true
    },
    "kernelspec": {
      "name": "python3",
      "display_name": "Python 3"
    },
    "language_info": {
      "name": "python"
    }
  },
  "cells": [
    {
      "cell_type": "markdown",
      "metadata": {
        "id": "view-in-github",
        "colab_type": "text"
      },
      "source": [
        "<a href=\"https://colab.research.google.com/github/Aditya2086/Python-Training/blob/main/Day_05_PT.ipynb\" target=\"_parent\"><img src=\"https://colab.research.google.com/assets/colab-badge.svg\" alt=\"Open In Colab\"/></a>"
      ]
    },
    {
      "cell_type": "markdown",
      "source": [
        "# **Dictionary Is Having A Key-Value Pair :-**"
      ],
      "metadata": {
        "id": "EkpyuK-4-1WH"
      }
    },
    {
      "cell_type": "code",
      "source": [
        "d = {}\n",
        "print(d)\n",
        "print(type(d))"
      ],
      "metadata": {
        "colab": {
          "base_uri": "https://localhost:8080/"
        },
        "id": "T_Uawx6L--Pa",
        "outputId": "5b3c8cb5-0078-45c0-8579-d40d4d69d9cf"
      },
      "execution_count": 2,
      "outputs": [
        {
          "output_type": "stream",
          "name": "stdout",
          "text": [
            "{}\n",
            "<class 'dict'>\n"
          ]
        }
      ]
    },
    {
      "cell_type": "code",
      "source": [
        "d['Python'] = 'Easy Language'\n",
        "d['Java'] = 'Tough Language'\n",
        "print(d)"
      ],
      "metadata": {
        "colab": {
          "base_uri": "https://localhost:8080/"
        },
        "id": "KtqOynpq_LTR",
        "outputId": "90322ade-5ca8-48c5-dc4b-b42a4a51c00c"
      },
      "execution_count": 3,
      "outputs": [
        {
          "output_type": "stream",
          "name": "stdout",
          "text": [
            "{'Python': 'Easy Language', 'Java': 'Tough Language'}\n"
          ]
        }
      ]
    },
    {
      "cell_type": "code",
      "source": [
        "d = {'Python':'Easy Language', 'Java':'Tough Language'}\n",
        "print(d)\n",
        "print(type(d))"
      ],
      "metadata": {
        "colab": {
          "base_uri": "https://localhost:8080/"
        },
        "id": "8o34K7bx_Okf",
        "outputId": "da2ad850-3311-4715-e0cc-cd685bc29c84"
      },
      "execution_count": 4,
      "outputs": [
        {
          "output_type": "stream",
          "name": "stdout",
          "text": [
            "{'Python': 'Easy Language', 'Java': 'Tough Language'}\n",
            "<class 'dict'>\n"
          ]
        }
      ]
    },
    {
      "cell_type": "code",
      "source": [
        "d['Python']"
      ],
      "metadata": {
        "colab": {
          "base_uri": "https://localhost:8080/",
          "height": 35
        },
        "id": "AOdcSMzT_RrQ",
        "outputId": "43f08a29-43c7-41fa-f683-4a5a82c818c5"
      },
      "execution_count": 5,
      "outputs": [
        {
          "output_type": "execute_result",
          "data": {
            "text/plain": [
              "'Easy Language'"
            ],
            "application/vnd.google.colaboratory.intrinsic+json": {
              "type": "string"
            }
          },
          "metadata": {},
          "execution_count": 5
        }
      ]
    },
    {
      "cell_type": "code",
      "source": [
        "d['Easy Language']"
      ],
      "metadata": {
        "colab": {
          "base_uri": "https://localhost:8080/",
          "height": 165
        },
        "id": "O9-Ij94X_UmP",
        "outputId": "bda8a647-9131-4b8e-9d02-929a771b59ff"
      },
      "execution_count": 6,
      "outputs": [
        {
          "output_type": "error",
          "ename": "KeyError",
          "evalue": "ignored",
          "traceback": [
            "\u001b[0;31m---------------------------------------------------------------------------\u001b[0m",
            "\u001b[0;31mKeyError\u001b[0m                                  Traceback (most recent call last)",
            "\u001b[0;32m<ipython-input-6-229da321bc22>\u001b[0m in \u001b[0;36m<module>\u001b[0;34m()\u001b[0m\n\u001b[0;32m----> 1\u001b[0;31m \u001b[0md\u001b[0m\u001b[0;34m[\u001b[0m\u001b[0;34m'Easy Language'\u001b[0m\u001b[0;34m]\u001b[0m\u001b[0;34m\u001b[0m\u001b[0;34m\u001b[0m\u001b[0m\n\u001b[0m",
            "\u001b[0;31mKeyError\u001b[0m: 'Easy Language'"
          ]
        }
      ]
    },
    {
      "cell_type": "code",
      "source": [
        "avengers = {'1':'Tony', '2':'Steve', '3':'Thor'}\n",
        "avengers"
      ],
      "metadata": {
        "colab": {
          "base_uri": "https://localhost:8080/"
        },
        "id": "DbNCF3S8_Y-h",
        "outputId": "e1d1e97c-618e-4710-f12c-4e16db3df637"
      },
      "execution_count": 7,
      "outputs": [
        {
          "output_type": "execute_result",
          "data": {
            "text/plain": [
              "{'1': 'Tony', '2': 'Steve', '3': 'Thor'}"
            ]
          },
          "metadata": {},
          "execution_count": 7
        }
      ]
    },
    {
      "cell_type": "code",
      "source": [
        "avengers = {'1':'Tony', '2':'Steve', '3':'Thor', '3':'Hulk'}\n",
        "avengers"
      ],
      "metadata": {
        "colab": {
          "base_uri": "https://localhost:8080/"
        },
        "id": "p8bVd26z_cmG",
        "outputId": "0252bcb1-9562-4552-fe85-718743663d78"
      },
      "execution_count": 8,
      "outputs": [
        {
          "output_type": "execute_result",
          "data": {
            "text/plain": [
              "{'1': 'Tony', '2': 'Steve', '3': 'Hulk'}"
            ]
          },
          "metadata": {},
          "execution_count": 8
        }
      ]
    },
    {
      "cell_type": "code",
      "source": [
        "avengers = {'1':'Tony', '2':'Steve', '3':'Thor', '3':'Hulk'}\n",
        "del avengers['3']"
      ],
      "metadata": {
        "id": "oOzqz3su_gnH"
      },
      "execution_count": 9,
      "outputs": []
    },
    {
      "cell_type": "code",
      "source": [
        "print(avengers)"
      ],
      "metadata": {
        "colab": {
          "base_uri": "https://localhost:8080/"
        },
        "id": "xnk9oJtA_jOG",
        "outputId": "6604ed0f-350c-4739-d122-32797433d10f"
      },
      "execution_count": 10,
      "outputs": [
        {
          "output_type": "stream",
          "name": "stdout",
          "text": [
            "{'1': 'Tony', '2': 'Steve'}\n"
          ]
        }
      ]
    },
    {
      "cell_type": "code",
      "source": [
        "len(avengers)"
      ],
      "metadata": {
        "colab": {
          "base_uri": "https://localhost:8080/"
        },
        "id": "gyW7QCGP_mTI",
        "outputId": "04fb00ae-a916-4f21-8859-6cf9933d9962"
      },
      "execution_count": 11,
      "outputs": [
        {
          "output_type": "execute_result",
          "data": {
            "text/plain": [
              "2"
            ]
          },
          "metadata": {},
          "execution_count": 11
        }
      ]
    },
    {
      "cell_type": "markdown",
      "source": [
        "# **Dictionary Methods :-**"
      ],
      "metadata": {
        "id": "6-2H5_pD_rY2"
      }
    },
    {
      "cell_type": "code",
      "source": [
        "avengers = {1:'Tony', 2:'Steve', 3:'Thor', 4:'Hulk'}\n",
        "for k in avengers.keys():\n",
        "  print('The key',k,'maps to',avengers[k])\n",
        "ks = list(avengers.keys())\n",
        "print(ks)"
      ],
      "metadata": {
        "colab": {
          "base_uri": "https://localhost:8080/"
        },
        "id": "5qktn6q6_xTl",
        "outputId": "a89efeae-b8d6-40fe-a12b-ce532d9a65ac"
      },
      "execution_count": 12,
      "outputs": [
        {
          "output_type": "stream",
          "name": "stdout",
          "text": [
            "The key 1 maps to Tony\n",
            "The key 2 maps to Steve\n",
            "The key 3 maps to Thor\n",
            "The key 4 maps to Hulk\n",
            "[1, 2, 3, 4]\n"
          ]
        }
      ]
    },
    {
      "cell_type": "code",
      "source": [
        "print(avengers.keys())"
      ],
      "metadata": {
        "colab": {
          "base_uri": "https://localhost:8080/"
        },
        "id": "DGi6sDAW_2vt",
        "outputId": "c5f546f5-cef7-4b57-fbc5-28c1f7970f41"
      },
      "execution_count": 13,
      "outputs": [
        {
          "output_type": "stream",
          "name": "stdout",
          "text": [
            "dict_keys([1, 2, 3, 4])\n"
          ]
        }
      ]
    },
    {
      "cell_type": "code",
      "source": [
        "print(avengers.values())"
      ],
      "metadata": {
        "colab": {
          "base_uri": "https://localhost:8080/"
        },
        "id": "A4G6nLIk_5HF",
        "outputId": "283527e1-c7cc-46a8-89a5-7352c1850fac"
      },
      "execution_count": 14,
      "outputs": [
        {
          "output_type": "stream",
          "name": "stdout",
          "text": [
            "dict_values(['Tony', 'Steve', 'Thor', 'Hulk'])\n"
          ]
        }
      ]
    },
    {
      "cell_type": "code",
      "source": [
        "print(avengers.items())"
      ],
      "metadata": {
        "colab": {
          "base_uri": "https://localhost:8080/"
        },
        "id": "M7OIGq-k_74-",
        "outputId": "3c86e07f-96f8-4796-94b8-0f537efd8d02"
      },
      "execution_count": 15,
      "outputs": [
        {
          "output_type": "stream",
          "name": "stdout",
          "text": [
            "dict_items([(1, 'Tony'), (2, 'Steve'), (3, 'Thor'), (4, 'Hulk')])\n"
          ]
        }
      ]
    },
    {
      "cell_type": "markdown",
      "source": [
        "# **You Can Check If A Key Is Present In A Dictionary Or Not :-**"
      ],
      "metadata": {
        "id": "Ns0XNXqi__RG"
      }
    },
    {
      "cell_type": "code",
      "source": [
        "print(1 in avengers)"
      ],
      "metadata": {
        "colab": {
          "base_uri": "https://localhost:8080/"
        },
        "id": "NHwWNqp8AOP8",
        "outputId": "3b7e0b05-4b2b-4ea2-cef9-13a23675c6f9"
      },
      "execution_count": 16,
      "outputs": [
        {
          "output_type": "stream",
          "name": "stdout",
          "text": [
            "True\n"
          ]
        }
      ]
    },
    {
      "cell_type": "code",
      "source": [
        "print(5 in avengers)"
      ],
      "metadata": {
        "colab": {
          "base_uri": "https://localhost:8080/"
        },
        "id": "9MsQoGBYARCP",
        "outputId": "91c9bd64-81f7-4185-8b8e-78af354da12b"
      },
      "execution_count": 17,
      "outputs": [
        {
          "output_type": "stream",
          "name": "stdout",
          "text": [
            "False\n"
          ]
        }
      ]
    },
    {
      "cell_type": "code",
      "source": [
        "avengers.has_key(1)"
      ],
      "metadata": {
        "colab": {
          "base_uri": "https://localhost:8080/",
          "height": 165
        },
        "id": "tNLqNWriAVq4",
        "outputId": "4d186a1c-1fa6-47a9-8e75-cd12d52dc94c"
      },
      "execution_count": 18,
      "outputs": [
        {
          "output_type": "error",
          "ename": "AttributeError",
          "evalue": "ignored",
          "traceback": [
            "\u001b[0;31m---------------------------------------------------------------------------\u001b[0m",
            "\u001b[0;31mAttributeError\u001b[0m                            Traceback (most recent call last)",
            "\u001b[0;32m<ipython-input-18-b507d91705b2>\u001b[0m in \u001b[0;36m<module>\u001b[0;34m()\u001b[0m\n\u001b[0;32m----> 1\u001b[0;31m \u001b[0mavengers\u001b[0m\u001b[0;34m.\u001b[0m\u001b[0mhas_key\u001b[0m\u001b[0;34m(\u001b[0m\u001b[0;36m1\u001b[0m\u001b[0;34m)\u001b[0m\u001b[0;34m\u001b[0m\u001b[0;34m\u001b[0m\u001b[0m\n\u001b[0m",
            "\u001b[0;31mAttributeError\u001b[0m: 'dict' object has no attribute 'has_key'"
          ]
        }
      ]
    },
    {
      "cell_type": "code",
      "source": [
        "avengers[5]"
      ],
      "metadata": {
        "colab": {
          "base_uri": "https://localhost:8080/",
          "height": 165
        },
        "id": "Rh43VymKAY_J",
        "outputId": "f72e9710-3fc3-4768-fbba-5c6390b9b92c"
      },
      "execution_count": 19,
      "outputs": [
        {
          "output_type": "error",
          "ename": "KeyError",
          "evalue": "ignored",
          "traceback": [
            "\u001b[0;31m---------------------------------------------------------------------------\u001b[0m",
            "\u001b[0;31mKeyError\u001b[0m                                  Traceback (most recent call last)",
            "\u001b[0;32m<ipython-input-19-a80969ba8691>\u001b[0m in \u001b[0;36m<module>\u001b[0;34m()\u001b[0m\n\u001b[0;32m----> 1\u001b[0;31m \u001b[0mavengers\u001b[0m\u001b[0;34m[\u001b[0m\u001b[0;36m5\u001b[0m\u001b[0;34m]\u001b[0m\u001b[0;34m\u001b[0m\u001b[0;34m\u001b[0m\u001b[0m\n\u001b[0m",
            "\u001b[0;31mKeyError\u001b[0m: 5"
          ]
        }
      ]
    },
    {
      "cell_type": "markdown",
      "source": [
        "# **Default Dictionary :-**"
      ],
      "metadata": {
        "id": "jpID5MEYAoE1"
      }
    },
    {
      "cell_type": "code",
      "source": [
        "from collections import defaultdict\n",
        "old_avengers = defaultdict(lambda:'Not an old Avenger')\n",
        "old_avengers[1] = 'Tony'\n",
        "old_avengers[2] = 'Steve'\n",
        "old_avengers[3] = 'Thor'\n",
        "print(old_avengers[1])\n",
        "print(old_avengers[4])"
      ],
      "metadata": {
        "colab": {
          "base_uri": "https://localhost:8080/"
        },
        "id": "t6EBP-7LAt8V",
        "outputId": "e41817a0-546f-4bc7-c449-1f451a8fa3ee"
      },
      "execution_count": 20,
      "outputs": [
        {
          "output_type": "stream",
          "name": "stdout",
          "text": [
            "Tony\n",
            "Not an old Avenger\n"
          ]
        }
      ]
    },
    {
      "cell_type": "code",
      "source": [
        "print(avengers.get(2))"
      ],
      "metadata": {
        "colab": {
          "base_uri": "https://localhost:8080/"
        },
        "id": "5ibI-M-sA098",
        "outputId": "8f9d3b5e-b9bd-482d-cb3b-62ee2cfc181d"
      },
      "execution_count": 21,
      "outputs": [
        {
          "output_type": "stream",
          "name": "stdout",
          "text": [
            "Steve\n"
          ]
        }
      ]
    },
    {
      "cell_type": "code",
      "source": [
        "print(avengers.get(5, 'Hawkeye'))"
      ],
      "metadata": {
        "colab": {
          "base_uri": "https://localhost:8080/"
        },
        "id": "yyv3FnSfA4HU",
        "outputId": "075aaa2b-2a9f-464a-9e62-1072d7706270"
      },
      "execution_count": 22,
      "outputs": [
        {
          "output_type": "stream",
          "name": "stdout",
          "text": [
            "Hawkeye\n"
          ]
        }
      ]
    },
    {
      "cell_type": "code",
      "source": [
        "print(avengers)"
      ],
      "metadata": {
        "colab": {
          "base_uri": "https://localhost:8080/"
        },
        "id": "UWdLj8HkA6vj",
        "outputId": "d9301def-0602-4ef8-af15-b0f9e613cd34"
      },
      "execution_count": 23,
      "outputs": [
        {
          "output_type": "stream",
          "name": "stdout",
          "text": [
            "{1: 'Tony', 2: 'Steve', 3: 'Thor', 4: 'Hulk'}\n"
          ]
        }
      ]
    },
    {
      "cell_type": "markdown",
      "source": [
        "# **How To Update Your Dictionary :-**"
      ],
      "metadata": {
        "id": "vEFSp4BNA-om"
      }
    },
    {
      "cell_type": "code",
      "source": [
        "avengers.update({4:'Hawkeye'})\n",
        "avengers"
      ],
      "metadata": {
        "colab": {
          "base_uri": "https://localhost:8080/"
        },
        "id": "nxnQz5WkBGNr",
        "outputId": "59c6325e-7c60-4edc-834d-0e31a1f7bf75"
      },
      "execution_count": 24,
      "outputs": [
        {
          "output_type": "execute_result",
          "data": {
            "text/plain": [
              "{1: 'Tony', 2: 'Steve', 3: 'Thor', 4: 'Hawkeye'}"
            ]
          },
          "metadata": {},
          "execution_count": 24
        }
      ]
    },
    {
      "cell_type": "code",
      "source": [
        "avengers.update({5:'Natasha'})\n",
        "avengers"
      ],
      "metadata": {
        "colab": {
          "base_uri": "https://localhost:8080/"
        },
        "id": "iFqXiIrYBK7k",
        "outputId": "cb064521-b362-4e8f-ef7d-90302d474a6e"
      },
      "execution_count": 25,
      "outputs": [
        {
          "output_type": "execute_result",
          "data": {
            "text/plain": [
              "{1: 'Tony', 2: 'Steve', 3: 'Thor', 4: 'Hawkeye', 5: 'Natasha'}"
            ]
          },
          "metadata": {},
          "execution_count": 25
        }
      ]
    },
    {
      "cell_type": "code",
      "source": [
        "avengers.update({5:'Natasha', 0:'Nick'})\n",
        "avengers"
      ],
      "metadata": {
        "colab": {
          "base_uri": "https://localhost:8080/"
        },
        "id": "vH6f0WtHBNo1",
        "outputId": "f89d86dd-067c-4ab3-c5e1-c6463c7ef4a5"
      },
      "execution_count": 26,
      "outputs": [
        {
          "output_type": "execute_result",
          "data": {
            "text/plain": [
              "{0: 'Nick', 1: 'Tony', 2: 'Steve', 3: 'Thor', 4: 'Hawkeye', 5: 'Natasha'}"
            ]
          },
          "metadata": {},
          "execution_count": 26
        }
      ]
    },
    {
      "cell_type": "code",
      "source": [
        "avengers.update([(6,'Thanos'), (7,'CrossBones')])\n",
        "print(avengers)"
      ],
      "metadata": {
        "colab": {
          "base_uri": "https://localhost:8080/"
        },
        "id": "ivIj2TF1BQBG",
        "outputId": "0363b130-54ea-4ce1-ae03-f18142a31d0c"
      },
      "execution_count": 27,
      "outputs": [
        {
          "output_type": "stream",
          "name": "stdout",
          "text": [
            "{1: 'Tony', 2: 'Steve', 3: 'Thor', 4: 'Hawkeye', 5: 'Natasha', 0: 'Nick', 6: 'Thanos', 7: 'CrossBones'}\n"
          ]
        }
      ]
    },
    {
      "cell_type": "markdown",
      "source": [
        "# **Remove Values From Dictionary :-**"
      ],
      "metadata": {
        "id": "8Y1JTlkiBTjs"
      }
    },
    {
      "cell_type": "code",
      "source": [
        "del avengers[7]\n",
        "avengers"
      ],
      "metadata": {
        "colab": {
          "base_uri": "https://localhost:8080/"
        },
        "id": "EYAOF3wMBXuu",
        "outputId": "e0783c3b-1267-4dd0-b7cf-81a80ad56d78"
      },
      "execution_count": 28,
      "outputs": [
        {
          "output_type": "execute_result",
          "data": {
            "text/plain": [
              "{0: 'Nick',\n",
              " 1: 'Tony',\n",
              " 2: 'Steve',\n",
              " 3: 'Thor',\n",
              " 4: 'Hawkeye',\n",
              " 5: 'Natasha',\n",
              " 6: 'Thanos'}"
            ]
          },
          "metadata": {},
          "execution_count": 28
        }
      ]
    },
    {
      "cell_type": "code",
      "source": [
        "avengers.pop(6)\n",
        "avengers"
      ],
      "metadata": {
        "colab": {
          "base_uri": "https://localhost:8080/"
        },
        "id": "NQ93sqePBdrK",
        "outputId": "dfa01f5b-0a2c-45ad-a567-17690ae9cf77"
      },
      "execution_count": 29,
      "outputs": [
        {
          "output_type": "execute_result",
          "data": {
            "text/plain": [
              "{0: 'Nick', 1: 'Tony', 2: 'Steve', 3: 'Thor', 4: 'Hawkeye', 5: 'Natasha'}"
            ]
          },
          "metadata": {},
          "execution_count": 29
        }
      ]
    },
    {
      "cell_type": "code",
      "source": [
        "avengers.pop()\n",
        "avengers"
      ],
      "metadata": {
        "colab": {
          "base_uri": "https://localhost:8080/",
          "height": 183
        },
        "id": "c3hTdOPMBgP7",
        "outputId": "52f1dc8b-2458-4ab0-b690-cdde7aa196c1"
      },
      "execution_count": 30,
      "outputs": [
        {
          "output_type": "error",
          "ename": "TypeError",
          "evalue": "ignored",
          "traceback": [
            "\u001b[0;31m---------------------------------------------------------------------------\u001b[0m",
            "\u001b[0;31mTypeError\u001b[0m                                 Traceback (most recent call last)",
            "\u001b[0;32m<ipython-input-30-13906f93e398>\u001b[0m in \u001b[0;36m<module>\u001b[0;34m()\u001b[0m\n\u001b[0;32m----> 1\u001b[0;31m \u001b[0mavengers\u001b[0m\u001b[0;34m.\u001b[0m\u001b[0mpop\u001b[0m\u001b[0;34m(\u001b[0m\u001b[0;34m)\u001b[0m\u001b[0;34m\u001b[0m\u001b[0;34m\u001b[0m\u001b[0m\n\u001b[0m\u001b[1;32m      2\u001b[0m \u001b[0mavengers\u001b[0m\u001b[0;34m\u001b[0m\u001b[0;34m\u001b[0m\u001b[0m\n",
            "\u001b[0;31mTypeError\u001b[0m: pop expected at least 1 arguments, got 0"
          ]
        }
      ]
    },
    {
      "cell_type": "code",
      "source": [
        "avengers.pop(8)\n",
        "avengers"
      ],
      "metadata": {
        "colab": {
          "base_uri": "https://localhost:8080/",
          "height": 183
        },
        "id": "eBanriJnBisz",
        "outputId": "f0e74519-da26-42ec-8f06-8cc26aed5372"
      },
      "execution_count": 31,
      "outputs": [
        {
          "output_type": "error",
          "ename": "KeyError",
          "evalue": "ignored",
          "traceback": [
            "\u001b[0;31m---------------------------------------------------------------------------\u001b[0m",
            "\u001b[0;31mKeyError\u001b[0m                                  Traceback (most recent call last)",
            "\u001b[0;32m<ipython-input-31-62ec69098f7f>\u001b[0m in \u001b[0;36m<module>\u001b[0;34m()\u001b[0m\n\u001b[0;32m----> 1\u001b[0;31m \u001b[0mavengers\u001b[0m\u001b[0;34m.\u001b[0m\u001b[0mpop\u001b[0m\u001b[0;34m(\u001b[0m\u001b[0;36m8\u001b[0m\u001b[0;34m)\u001b[0m\u001b[0;34m\u001b[0m\u001b[0;34m\u001b[0m\u001b[0m\n\u001b[0m\u001b[1;32m      2\u001b[0m \u001b[0mavengers\u001b[0m\u001b[0;34m\u001b[0m\u001b[0;34m\u001b[0m\u001b[0m\n",
            "\u001b[0;31mKeyError\u001b[0m: 8"
          ]
        }
      ]
    },
    {
      "cell_type": "code",
      "source": [
        "avengers.pop(8 ,None)\n",
        "avengers"
      ],
      "metadata": {
        "colab": {
          "base_uri": "https://localhost:8080/"
        },
        "id": "GXUOR3U-Bl6-",
        "outputId": "d1052103-6c5c-45ac-9ff4-28405569a163"
      },
      "execution_count": 32,
      "outputs": [
        {
          "output_type": "execute_result",
          "data": {
            "text/plain": [
              "{0: 'Nick', 1: 'Tony', 2: 'Steve', 3: 'Thor', 4: 'Hawkeye', 5: 'Natasha'}"
            ]
          },
          "metadata": {},
          "execution_count": 32
        }
      ]
    },
    {
      "cell_type": "code",
      "source": [
        "sorted(avengers.keys())"
      ],
      "metadata": {
        "colab": {
          "base_uri": "https://localhost:8080/"
        },
        "id": "XG86KbKoBo-S",
        "outputId": "1fc0b103-1e11-4637-f652-e91237254f76"
      },
      "execution_count": 33,
      "outputs": [
        {
          "output_type": "execute_result",
          "data": {
            "text/plain": [
              "[0, 1, 2, 3, 4, 5]"
            ]
          },
          "metadata": {},
          "execution_count": 33
        }
      ]
    },
    {
      "cell_type": "code",
      "source": [
        "sorted(avengers.items())"
      ],
      "metadata": {
        "colab": {
          "base_uri": "https://localhost:8080/"
        },
        "id": "ccP-NVabBrv7",
        "outputId": "d28f2278-c996-4abe-d533-8a7951e7776d"
      },
      "execution_count": 34,
      "outputs": [
        {
          "output_type": "execute_result",
          "data": {
            "text/plain": [
              "[(0, 'Nick'),\n",
              " (1, 'Tony'),\n",
              " (2, 'Steve'),\n",
              " (3, 'Thor'),\n",
              " (4, 'Hawkeye'),\n",
              " (5, 'Natasha')]"
            ]
          },
          "metadata": {},
          "execution_count": 34
        }
      ]
    },
    {
      "cell_type": "code",
      "source": [
        "sorted(avengers.items(), reverse = True)"
      ],
      "metadata": {
        "colab": {
          "base_uri": "https://localhost:8080/"
        },
        "id": "yn4fPMVIBuxN",
        "outputId": "56f24369-0629-4d48-9c5b-291b14e5a4e1"
      },
      "execution_count": 35,
      "outputs": [
        {
          "output_type": "execute_result",
          "data": {
            "text/plain": [
              "[(5, 'Natasha'),\n",
              " (4, 'Hawkeye'),\n",
              " (3, 'Thor'),\n",
              " (2, 'Steve'),\n",
              " (1, 'Tony'),\n",
              " (0, 'Nick')]"
            ]
          },
          "metadata": {},
          "execution_count": 35
        }
      ]
    },
    {
      "cell_type": "markdown",
      "source": [
        "# **How To Convert A List Into A Dictionary ?**"
      ],
      "metadata": {
        "id": "V6kzEn-_CLaR"
      }
    },
    {
      "cell_type": "code",
      "source": [
        "d = ['Tony', 'Ironman']\n",
        "print(d)"
      ],
      "metadata": {
        "colab": {
          "base_uri": "https://localhost:8080/"
        },
        "id": "V6SGwLlQDHtq",
        "outputId": "4499b055-2f96-49e6-df56-dfa67bd97d90"
      },
      "execution_count": 36,
      "outputs": [
        {
          "output_type": "stream",
          "name": "stdout",
          "text": [
            "['Tony', 'Ironman']\n"
          ]
        }
      ]
    },
    {
      "cell_type": "code",
      "source": [
        "# zip\n",
        "list(zip(d))"
      ],
      "metadata": {
        "colab": {
          "base_uri": "https://localhost:8080/"
        },
        "id": "WZpPyEUVDMVc",
        "outputId": "b3231ca9-dbe0-4873-9b30-59183d24d22f"
      },
      "execution_count": 37,
      "outputs": [
        {
          "output_type": "execute_result",
          "data": {
            "text/plain": [
              "[('Tony',), ('Ironman',)]"
            ]
          },
          "metadata": {},
          "execution_count": 37
        }
      ]
    },
    {
      "cell_type": "code",
      "source": [
        "non_hero_name = ['Tony', 'Steve', 'Bruce']\n",
        "hero_name = ['Ironman', 'Captain America', 'Hulk']\n",
        "avengers = zip(non_hero_name, hero_name)\n",
        "print(avengers)"
      ],
      "metadata": {
        "colab": {
          "base_uri": "https://localhost:8080/"
        },
        "id": "hukFnEpTDPS2",
        "outputId": "6beb0eac-5d4f-44c0-f5a9-3358bee740e7"
      },
      "execution_count": 38,
      "outputs": [
        {
          "output_type": "stream",
          "name": "stdout",
          "text": [
            "<zip object at 0x7f1bee40acd0>\n"
          ]
        }
      ]
    },
    {
      "cell_type": "code",
      "source": [
        "list(zip(avengers))"
      ],
      "metadata": {
        "colab": {
          "base_uri": "https://localhost:8080/"
        },
        "id": "UcrAfA2XDPYW",
        "outputId": "fbe6f7d2-f3ee-4e85-cdc3-02bbd4cae2b1"
      },
      "execution_count": 39,
      "outputs": [
        {
          "output_type": "execute_result",
          "data": {
            "text/plain": [
              "[(('Tony', 'Ironman'),), (('Steve', 'Captain America'),), (('Bruce', 'Hulk'),)]"
            ]
          },
          "metadata": {},
          "execution_count": 39
        }
      ]
    },
    {
      "cell_type": "code",
      "source": [
        "non_hero_name = ['Tony', 'Steve', 'Bruce']\n",
        "hero_name = ['Ironman', 'Captain America', 'Hulk']\n",
        "avengers = dict(zip(non_hero_name, hero_name))\n",
        "print(avengers)"
      ],
      "metadata": {
        "colab": {
          "base_uri": "https://localhost:8080/"
        },
        "id": "Aet_1eXfDVgb",
        "outputId": "af33f8cc-4e3b-4683-aef8-e570b8bbf41c"
      },
      "execution_count": 40,
      "outputs": [
        {
          "output_type": "stream",
          "name": "stdout",
          "text": [
            "{'Tony': 'Ironman', 'Steve': 'Captain America', 'Bruce': 'Hulk'}\n"
          ]
        }
      ]
    },
    {
      "cell_type": "code",
      "source": [
        "avengers.keys()"
      ],
      "metadata": {
        "colab": {
          "base_uri": "https://localhost:8080/"
        },
        "id": "xGKp2ONIDX4n",
        "outputId": "8e5b0c63-d546-48f2-c7e9-9f8c816ec8dd"
      },
      "execution_count": 41,
      "outputs": [
        {
          "output_type": "execute_result",
          "data": {
            "text/plain": [
              "dict_keys(['Tony', 'Steve', 'Bruce'])"
            ]
          },
          "metadata": {},
          "execution_count": 41
        }
      ]
    },
    {
      "cell_type": "code",
      "source": [
        "sorted(avengers.keys())"
      ],
      "metadata": {
        "colab": {
          "base_uri": "https://localhost:8080/"
        },
        "id": "KjCaK6lQDa66",
        "outputId": "d6efd3c6-5408-4cfd-f8b5-d80ebc87f6f0"
      },
      "execution_count": 42,
      "outputs": [
        {
          "output_type": "execute_result",
          "data": {
            "text/plain": [
              "['Bruce', 'Steve', 'Tony']"
            ]
          },
          "metadata": {},
          "execution_count": 42
        }
      ]
    },
    {
      "cell_type": "code",
      "source": [
        "d = ['Tony', 'Ironman']\n",
        "print(dict(zip(d[0::2], d[1::2])))"
      ],
      "metadata": {
        "colab": {
          "base_uri": "https://localhost:8080/"
        },
        "id": "ILvPfvtIDdhB",
        "outputId": "76b5331f-5289-4b52-a1b2-f5d068bf5d23"
      },
      "execution_count": 43,
      "outputs": [
        {
          "output_type": "stream",
          "name": "stdout",
          "text": [
            "{'Tony': 'Ironman'}\n"
          ]
        }
      ]
    },
    {
      "cell_type": "code",
      "source": [
        "d = ['Tony', 'Ironman']\n",
        "print(d[0])\n",
        "print(d[1])\n",
        "print(d[0:1])\n",
        "print(d[0::2])\n",
        "print(d[1::2])"
      ],
      "metadata": {
        "colab": {
          "base_uri": "https://localhost:8080/"
        },
        "id": "tU9EfFqjDfyH",
        "outputId": "609bce4b-bf95-44f0-f814-195531e8ecd9"
      },
      "execution_count": 44,
      "outputs": [
        {
          "output_type": "stream",
          "name": "stdout",
          "text": [
            "Tony\n",
            "Ironman\n",
            "['Tony']\n",
            "['Tony']\n",
            "['Ironman']\n"
          ]
        }
      ]
    },
    {
      "cell_type": "markdown",
      "source": [
        "# **Unzipping A Dictionary :-**"
      ],
      "metadata": {
        "id": "HAaPWVZoDl0P"
      }
    },
    {
      "cell_type": "code",
      "source": [
        "avengers = [('Tony', 'Ironman'),\n",
        "            ('Steve', 'Captain America'), \n",
        "            ('Bruce', 'Hulk')]\n",
        "non_hero, hero = zip(*avengers)\n",
        "print(non_hero)"
      ],
      "metadata": {
        "colab": {
          "base_uri": "https://localhost:8080/"
        },
        "id": "nMMhmaaRDrx_",
        "outputId": "2e8cee51-78ca-43b4-ddd6-47db89159ca9"
      },
      "execution_count": 45,
      "outputs": [
        {
          "output_type": "stream",
          "name": "stdout",
          "text": [
            "('Tony', 'Steve', 'Bruce')\n"
          ]
        }
      ]
    },
    {
      "cell_type": "code",
      "source": [
        "print(hero)"
      ],
      "metadata": {
        "colab": {
          "base_uri": "https://localhost:8080/"
        },
        "id": "B9IvQ6V6DvN-",
        "outputId": "c2c8d53d-89f8-4f5b-fe45-2e3944ea2a7f"
      },
      "execution_count": 46,
      "outputs": [
        {
          "output_type": "stream",
          "name": "stdout",
          "text": [
            "('Ironman', 'Captain America', 'Hulk')\n"
          ]
        }
      ]
    },
    {
      "cell_type": "markdown",
      "source": [
        "# **Dictionary Comprehension :-**"
      ],
      "metadata": {
        "id": "hXuWavg3DyqN"
      }
    },
    {
      "cell_type": "code",
      "source": [
        "non_hero_name = ['Tony', 'Steve', 'Bruce']\n",
        "hero_name = ['Ironman', 'Captain America', 'Hulk']\n",
        "d_com = {k:v for k, v in zip (non_hero_name, hero_name)}\n",
        "print(d_com)"
      ],
      "metadata": {
        "colab": {
          "base_uri": "https://localhost:8080/"
        },
        "id": "tXqzx5sND1W4",
        "outputId": "20824a09-3d17-4ac1-ccdb-47f22e1090d6"
      },
      "execution_count": 47,
      "outputs": [
        {
          "output_type": "stream",
          "name": "stdout",
          "text": [
            "{'Tony': 'Ironman', 'Steve': 'Captain America', 'Bruce': 'Hulk'}\n"
          ]
        }
      ]
    },
    {
      "cell_type": "markdown",
      "source": [
        "# **Write A Program To Print The Contents Of The Dictionary Whose Key Is Greater Than 3 And Key When Divided By 3 Has Remainder 0, Using Dictionary Comprehension.**"
      ],
      "metadata": {
        "id": "Al-a1UwHG9rB"
      }
    },
    {
      "cell_type": "code",
      "source": [
        "a = {1:'a', 2:'b', 3:'c', 4:'d', 5:'e', 6:'f'}\n",
        "a_com = {k:v for k, v in a.items() if k > 3 if k % 3 == 0}\n",
        "print(a_com)"
      ],
      "metadata": {
        "colab": {
          "base_uri": "https://localhost:8080/"
        },
        "id": "Cncu27TKHWk-",
        "outputId": "2cf75f36-7582-4da5-b820-1761b1838e73"
      },
      "execution_count": 48,
      "outputs": [
        {
          "output_type": "stream",
          "name": "stdout",
          "text": [
            "{6: 'f'}\n"
          ]
        }
      ]
    },
    {
      "cell_type": "code",
      "source": [
        ""
      ],
      "metadata": {
        "id": "KqoxFuVwHdky"
      },
      "execution_count": 43,
      "outputs": []
    }
  ]
}