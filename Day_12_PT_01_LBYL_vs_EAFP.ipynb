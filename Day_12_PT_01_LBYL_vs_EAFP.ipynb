{
  "nbformat": 4,
  "nbformat_minor": 0,
  "metadata": {
    "colab": {
      "name": "Day_13_PT_01_LBYL_vs_EAFP.ipynb",
      "provenance": [],
      "authorship_tag": "ABX9TyNBRmJaUp5H0P8LTHREkUOf",
      "include_colab_link": true
    },
    "kernelspec": {
      "name": "python3",
      "display_name": "Python 3"
    },
    "language_info": {
      "name": "python"
    }
  },
  "cells": [
    {
      "cell_type": "markdown",
      "metadata": {
        "id": "view-in-github",
        "colab_type": "text"
      },
      "source": [
        "<a href=\"https://colab.research.google.com/github/Aditya2086/Python-Training/blob/main/Day_13_PT_01_LBYL_vs_EAFP.ipynb\" target=\"_parent\"><img src=\"https://colab.research.google.com/assets/colab-badge.svg\" alt=\"Open In Colab\"/></a>"
      ]
    },
    {
      "cell_type": "markdown",
      "source": [
        "# **LBYL -> Look Before You Leap**"
      ],
      "metadata": {
        "id": "DmGtxf8B02vU"
      }
    },
    {
      "cell_type": "code",
      "execution_count": 1,
      "metadata": {
        "colab": {
          "base_uri": "https://localhost:8080/"
        },
        "id": "O1kgMwxTzzcm",
        "outputId": "fcd24b19-962c-4373-bed0-7e27d6270e1b"
      },
      "outputs": [
        {
          "output_type": "stream",
          "name": "stdout",
          "text": [
            "Index not found\n"
          ]
        }
      ],
      "source": [
        "my_list = [1, 2, 3, 4]\n",
        "if len(my_list) >= 6:\n",
        "  print(my_list[5])\n",
        "else:\n",
        "  print('Index not found')"
      ]
    },
    {
      "cell_type": "markdown",
      "source": [
        "# **EAFP -> Easier To Ask Forgiveness Than Persmission**"
      ],
      "metadata": {
        "id": "gY0ytv4y09ff"
      }
    },
    {
      "cell_type": "code",
      "source": [
        "my_list = [1, 2, 3, 4]\n",
        "try:\n",
        "  print(my_list[5])\n",
        "except IndexError:\n",
        "  print('Index not found')"
      ],
      "metadata": {
        "colab": {
          "base_uri": "https://localhost:8080/"
        },
        "id": "PRRFA86P0Hzs",
        "outputId": "306e7a72-e6de-4ede-bc98-5494ed481f25"
      },
      "execution_count": 2,
      "outputs": [
        {
          "output_type": "stream",
          "name": "stdout",
          "text": [
            "Index not found\n"
          ]
        }
      ]
    },
    {
      "cell_type": "code",
      "source": [
        "person = {'name': 'RoboKnight', 'job':'protect of the environment and earth', 'status':'Power Ranger'}\n",
        "if 'name' in person and 'job' in person and 'status' in person:\n",
        "  print('I am {name}. My job is to {job}. i am a {status}'.format(**person))\n",
        "else:\n",
        "  print('Missing some keys')"
      ],
      "metadata": {
        "colab": {
          "base_uri": "https://localhost:8080/"
        },
        "id": "lPT7O3Kd1LOP",
        "outputId": "6608d0bd-7522-4623-c50f-bd92b9f21eca"
      },
      "execution_count": 4,
      "outputs": [
        {
          "output_type": "stream",
          "name": "stdout",
          "text": [
            "I am RoboKnight. My job is to protect of the environment and earth. i am a Power Ranger\n"
          ]
        }
      ]
    },
    {
      "cell_type": "code",
      "source": [
        "person = {'name': 'RoboKnight', 'job':'protect of the environment and earth'}\n",
        "try:\n",
        "  print('I am {name}. My job is to {job}. i am a {status}'.format(**person))\n",
        "except KeyError as e:\n",
        "  print('Missing {} keys!!'.format(e))"
      ],
      "metadata": {
        "colab": {
          "base_uri": "https://localhost:8080/"
        },
        "id": "kyrgL3jX1lS6",
        "outputId": "99836909-cf94-410e-e2d5-98b0eddb4025"
      },
      "execution_count": 5,
      "outputs": [
        {
          "output_type": "stream",
          "name": "stdout",
          "text": [
            "Missing 'status' keys!!\n"
          ]
        }
      ]
    },
    {
      "cell_type": "code",
      "source": [
        ""
      ],
      "metadata": {
        "id": "YhjuxvGu2SJZ"
      },
      "execution_count": null,
      "outputs": []
    }
  ]
}
