{
  "nbformat": 4,
  "nbformat_minor": 0,
  "metadata": {
    "colab": {
      "name": "Day 01_PT.ipynb",
      "provenance": [],
      "authorship_tag": "ABX9TyNLrHGZWl6NEKrXYtxsTSYe",
      "include_colab_link": true
    },
    "kernelspec": {
      "name": "python3",
      "display_name": "Python 3"
    },
    "language_info": {
      "name": "python"
    }
  },
  "cells": [
    {
      "cell_type": "markdown",
      "metadata": {
        "id": "view-in-github",
        "colab_type": "text"
      },
      "source": [
        "<a href=\"https://colab.research.google.com/github/Aditya2086/Python-Training/blob/main/Day_01_PT.ipynb\" target=\"_parent\"><img src=\"https://colab.research.google.com/assets/colab-badge.svg\" alt=\"Open In Colab\"/></a>"
      ]
    },
    {
      "cell_type": "code",
      "execution_count": 1,
      "metadata": {
        "colab": {
          "base_uri": "https://localhost:8080/"
        },
        "id": "pvnjWyCqHJNj",
        "outputId": "1a4a0791-2554-490e-86f4-9db708197be8"
      },
      "outputs": [
        {
          "output_type": "stream",
          "name": "stdout",
          "text": [
            "3.7.13\n"
          ]
        }
      ],
      "source": [
        "from platform import python_version\n",
        "print(python_version())"
      ]
    },
    {
      "cell_type": "code",
      "source": [
        "a = 5\n",
        "print(a)"
      ],
      "metadata": {
        "colab": {
          "base_uri": "https://localhost:8080/"
        },
        "id": "YCUvOOuRHWjX",
        "outputId": "af6acdb0-6764-4ff3-f48d-9e0bada9a89a"
      },
      "execution_count": 2,
      "outputs": [
        {
          "output_type": "stream",
          "name": "stdout",
          "text": [
            "5\n"
          ]
        }
      ]
    },
    {
      "cell_type": "code",
      "source": [
        "print(id(a))"
      ],
      "metadata": {
        "colab": {
          "base_uri": "https://localhost:8080/"
        },
        "id": "jLOCDAqPHd70",
        "outputId": "38c70428-00c3-4ea0-8e61-2bd32fec675b"
      },
      "execution_count": 3,
      "outputs": [
        {
          "output_type": "stream",
          "name": "stdout",
          "text": [
            "11256192\n"
          ]
        }
      ]
    },
    {
      "cell_type": "code",
      "source": [
        "a = 100\n",
        "b = 99 + 1\n",
        "print(id(a))\n",
        "print(id(b))"
      ],
      "metadata": {
        "colab": {
          "base_uri": "https://localhost:8080/"
        },
        "id": "kyK7yuNrHjbk",
        "outputId": "cffb7b97-77b4-4add-d55d-fc397dc046c5"
      },
      "execution_count": 4,
      "outputs": [
        {
          "output_type": "stream",
          "name": "stdout",
          "text": [
            "11259232\n",
            "11259232\n"
          ]
        }
      ]
    },
    {
      "cell_type": "code",
      "source": [
        "a = 100\n",
        "b = 99 + 1\n",
        "print(id(a))\n",
        "print(id(b))\n",
        "print(a == b)\n",
        "print(a is b)"
      ],
      "metadata": {
        "colab": {
          "base_uri": "https://localhost:8080/"
        },
        "id": "Ygh-bZvRHmz0",
        "outputId": "ce502ce3-c77b-4c07-d124-683813a85629"
      },
      "execution_count": 5,
      "outputs": [
        {
          "output_type": "stream",
          "name": "stdout",
          "text": [
            "11259232\n",
            "11259232\n",
            "True\n",
            "True\n"
          ]
        }
      ]
    },
    {
      "cell_type": "code",
      "source": [
        "a = 102\n",
        "print(a)"
      ],
      "metadata": {
        "colab": {
          "base_uri": "https://localhost:8080/"
        },
        "id": "OZc8SKMvHooJ",
        "outputId": "2203e8e6-cd21-487e-8238-55c73b90727b"
      },
      "execution_count": 6,
      "outputs": [
        {
          "output_type": "stream",
          "name": "stdout",
          "text": [
            "102\n"
          ]
        }
      ]
    },
    {
      "cell_type": "code",
      "source": [
        "a = 257\n",
        "b = 256 + 1\n",
        "print(id(a))\n",
        "print(id(b))\n",
        "print(a == b)\n",
        "print(a is b)"
      ],
      "metadata": {
        "colab": {
          "base_uri": "https://localhost:8080/"
        },
        "id": "teiRLJiPHt5M",
        "outputId": "142c0091-f4a0-4fca-e5a5-2049e5002b92"
      },
      "execution_count": 7,
      "outputs": [
        {
          "output_type": "stream",
          "name": "stdout",
          "text": [
            "140539866553136\n",
            "140539866553840\n",
            "True\n",
            "False\n"
          ]
        }
      ]
    },
    {
      "cell_type": "code",
      "source": [
        "print(type(a))"
      ],
      "metadata": {
        "colab": {
          "base_uri": "https://localhost:8080/"
        },
        "id": "VUuwFePEHyMN",
        "outputId": "fee106d4-9c24-4ba4-b997-0a1ba8e691ba"
      },
      "execution_count": 8,
      "outputs": [
        {
          "output_type": "stream",
          "name": "stdout",
          "text": [
            "<class 'int'>\n"
          ]
        }
      ]
    },
    {
      "cell_type": "markdown",
      "source": [
        "# **Different Ways To Give Input in Python**"
      ],
      "metadata": {
        "id": "3sWiYyiPIQHx"
      }
    },
    {
      "cell_type": "code",
      "source": [
        "a = 5 # hardcode\n",
        "# For single line comment use single hash"
      ],
      "metadata": {
        "id": "FvE4WgInIjap"
      },
      "execution_count": 9,
      "outputs": []
    },
    {
      "cell_type": "code",
      "source": [
        "a = input('Enter a number:')\n",
        "print(a)"
      ],
      "metadata": {
        "colab": {
          "base_uri": "https://localhost:8080/"
        },
        "id": "4l1GSl2FI3XR",
        "outputId": "3142fb43-5cef-4aa9-bc19-d25f1e943de3"
      },
      "execution_count": 12,
      "outputs": [
        {
          "output_type": "stream",
          "name": "stdout",
          "text": [
            "Enter a number:5\n",
            "5\n"
          ]
        }
      ]
    },
    {
      "cell_type": "code",
      "source": [
        "a = input('Enter a number: ')\n",
        "print('Entered number is',a)"
      ],
      "metadata": {
        "colab": {
          "base_uri": "https://localhost:8080/"
        },
        "id": "6n_R13ZWI8ia",
        "outputId": "d1b99e69-fb6c-4e12-84b7-c2e1ba25a286"
      },
      "execution_count": 13,
      "outputs": [
        {
          "output_type": "stream",
          "name": "stdout",
          "text": [
            "Enter a number: 10\n",
            "Entered number is 10\n"
          ]
        }
      ]
    },
    {
      "cell_type": "code",
      "source": [
        "a = input('Enter a number:- ')\n",
        "print(a,'is entered number')"
      ],
      "metadata": {
        "colab": {
          "base_uri": "https://localhost:8080/"
        },
        "id": "mdoRtP7uJFtK",
        "outputId": "79ee2503-8563-4afb-f055-13d5c82ac226"
      },
      "execution_count": 14,
      "outputs": [
        {
          "output_type": "stream",
          "name": "stdout",
          "text": [
            "Enter a number:- 11\n",
            "11 is entered number\n"
          ]
        }
      ]
    },
    {
      "cell_type": "code",
      "source": [
        "a = input('Enter 1st number:')\n",
        "b = input('Enter 2nd number:')\n",
        "print(a + b)"
      ],
      "metadata": {
        "colab": {
          "base_uri": "https://localhost:8080/"
        },
        "id": "SKWhoRwLJt13",
        "outputId": "960ca762-8d59-4f6f-fccc-881ce7a2cb8b"
      },
      "execution_count": 15,
      "outputs": [
        {
          "output_type": "stream",
          "name": "stdout",
          "text": [
            "Enter 1st number:10\n",
            "Enter 2nd number:34\n",
            "1034\n"
          ]
        }
      ]
    },
    {
      "cell_type": "code",
      "source": [
        "a = int(input('Enter 1st number:- '))\n",
        "b = int(input('Enter 2nd number:- '))\n",
        "print(a + b)"
      ],
      "metadata": {
        "colab": {
          "base_uri": "https://localhost:8080/"
        },
        "id": "dKoyrjlHJ7k0",
        "outputId": "f24a6bdd-7444-467f-ed74-816b35beea75"
      },
      "execution_count": 16,
      "outputs": [
        {
          "output_type": "stream",
          "name": "stdout",
          "text": [
            "Enter 1st number:- 45\n",
            "Enter 2nd number:- 67\n",
            "112\n"
          ]
        }
      ]
    },
    {
      "cell_type": "code",
      "source": [
        "a = 5\n",
        "b = 6\n",
        "print(a, b)"
      ],
      "metadata": {
        "colab": {
          "base_uri": "https://localhost:8080/"
        },
        "id": "zB57Z4SqKEWH",
        "outputId": "f816005d-051a-44fd-82df-c7993094fe2a"
      },
      "execution_count": 17,
      "outputs": [
        {
          "output_type": "stream",
          "name": "stdout",
          "text": [
            "5 6\n"
          ]
        }
      ]
    },
    {
      "cell_type": "code",
      "source": [
        "a, b = 5, 6\n",
        "print(a, b)"
      ],
      "metadata": {
        "colab": {
          "base_uri": "https://localhost:8080/"
        },
        "id": "-mXhV30MKLD7",
        "outputId": "d5b4c666-7b8d-4fc0-cf86-2cc1d25bd84f"
      },
      "execution_count": 18,
      "outputs": [
        {
          "output_type": "stream",
          "name": "stdout",
          "text": [
            "5 6\n"
          ]
        }
      ]
    },
    {
      "cell_type": "code",
      "source": [
        "a, b, _ = 5, 6, 7\n",
        "print(a, b, _)"
      ],
      "metadata": {
        "colab": {
          "base_uri": "https://localhost:8080/"
        },
        "id": "eNQL3OwPKOxI",
        "outputId": "d7401e38-9aa2-4cd3-edb6-c4385e94bdeb"
      },
      "execution_count": 19,
      "outputs": [
        {
          "output_type": "stream",
          "name": "stdout",
          "text": [
            "5 6 7\n"
          ]
        }
      ]
    },
    {
      "cell_type": "code",
      "source": [
        "a, *b = 5, 6, 7, 8\n",
        "print(a, b)"
      ],
      "metadata": {
        "colab": {
          "base_uri": "https://localhost:8080/"
        },
        "id": "wvEjM0CVKSVm",
        "outputId": "4fe398df-b577-41cc-92e1-3c4aa8a6bc04"
      },
      "execution_count": 20,
      "outputs": [
        {
          "output_type": "stream",
          "name": "stdout",
          "text": [
            "5 [6, 7, 8]\n"
          ]
        }
      ]
    },
    {
      "cell_type": "code",
      "source": [
        "a, *b, c = 5, 6, 7, 8, 9\n",
        "print(a, b, c)"
      ],
      "metadata": {
        "colab": {
          "base_uri": "https://localhost:8080/"
        },
        "id": "Q3U7HSzDKZFN",
        "outputId": "140150e1-605f-49f4-f175-971a35db33a1"
      },
      "execution_count": 21,
      "outputs": [
        {
          "output_type": "stream",
          "name": "stdout",
          "text": [
            "5 [6, 7, 8] 9\n"
          ]
        }
      ]
    },
    {
      "cell_type": "code",
      "source": [
        "*a, b, c = 5, 6, 7, 8, 9\n",
        "print(a, b, c)"
      ],
      "metadata": {
        "colab": {
          "base_uri": "https://localhost:8080/"
        },
        "id": "FR6PvmlGKfF0",
        "outputId": "11cf079f-aace-4fcc-93f8-4343ca84b8bf"
      },
      "execution_count": 22,
      "outputs": [
        {
          "output_type": "stream",
          "name": "stdout",
          "text": [
            "[5, 6, 7] 8 9\n"
          ]
        }
      ]
    },
    {
      "cell_type": "code",
      "source": [
        "a, b, *c = 5, 6, 7, 8, 9\n",
        "print(a, b, c)"
      ],
      "metadata": {
        "colab": {
          "base_uri": "https://localhost:8080/"
        },
        "id": "BvkVerogKmRg",
        "outputId": "9831c922-b32d-478b-8d15-eed1501fc969"
      },
      "execution_count": 23,
      "outputs": [
        {
          "output_type": "stream",
          "name": "stdout",
          "text": [
            "5 6 [7, 8, 9]\n"
          ]
        }
      ]
    },
    {
      "cell_type": "code",
      "source": [
        "a, *b, *c = 5, 6, 7, 8, 9\n",
        "print(a, b, c)"
      ],
      "metadata": {
        "colab": {
          "base_uri": "https://localhost:8080/",
          "height": 130
        },
        "id": "6LX0pz01KpGL",
        "outputId": "bb554049-36f0-4030-89a0-9255cc26d7f8"
      },
      "execution_count": 26,
      "outputs": [
        {
          "output_type": "error",
          "ename": "SyntaxError",
          "evalue": "ignored",
          "traceback": [
            "\u001b[0;36m  File \u001b[0;32m\"<ipython-input-26-a81467320544>\"\u001b[0;36m, line \u001b[0;32m1\u001b[0m\n\u001b[0;31m    a, *b, *c = 5, 6, 7, 8, 9\u001b[0m\n\u001b[0m                             ^\u001b[0m\n\u001b[0;31mSyntaxError\u001b[0m\u001b[0;31m:\u001b[0m two starred expressions in assignment\n"
          ]
        }
      ]
    },
    {
      "cell_type": "code",
      "source": [
        "a = input().split(' ')\n",
        "print(a)"
      ],
      "metadata": {
        "colab": {
          "base_uri": "https://localhost:8080/"
        },
        "id": "vZHA8OSyK5I7",
        "outputId": "3171b2b8-a132-4c2d-a201-fb17452e4dd8"
      },
      "execution_count": 27,
      "outputs": [
        {
          "output_type": "stream",
          "name": "stdout",
          "text": [
            "7\n",
            "['7']\n"
          ]
        }
      ]
    },
    {
      "cell_type": "code",
      "source": [
        "a = input().split(' ')\n",
        "print(a)"
      ],
      "metadata": {
        "colab": {
          "base_uri": "https://localhost:8080/"
        },
        "id": "cQ0nyIv3LAyp",
        "outputId": "28429086-9202-47a2-fa03-7949fc6b7067"
      },
      "execution_count": 29,
      "outputs": [
        {
          "output_type": "stream",
          "name": "stdout",
          "text": [
            "1 2 3 4 5 6 7 8 9\n",
            "['1', '2', '3', '4', '5', '6', '7', '8', '9']\n"
          ]
        }
      ]
    },
    {
      "cell_type": "code",
      "source": [
        "a = input().split(',')\n",
        "print(a)"
      ],
      "metadata": {
        "colab": {
          "base_uri": "https://localhost:8080/"
        },
        "id": "cnE7cxKVLR0X",
        "outputId": "47a41d80-d14d-4fa7-9614-b1e270585996"
      },
      "execution_count": 30,
      "outputs": [
        {
          "output_type": "stream",
          "name": "stdout",
          "text": [
            "1,2,3,4,5,6,7,8,9\n",
            "['1', '2', '3', '4', '5', '6', '7', '8', '9']\n"
          ]
        }
      ]
    },
    {
      "cell_type": "code",
      "source": [
        "a, b = input().split(' ')\n",
        "print(a, b)"
      ],
      "metadata": {
        "colab": {
          "base_uri": "https://localhost:8080/"
        },
        "id": "APvYkbkuLp_m",
        "outputId": "1319cff6-9407-405a-cc15-23da66c61fdf"
      },
      "execution_count": 31,
      "outputs": [
        {
          "output_type": "stream",
          "name": "stdout",
          "text": [
            "3 4\n",
            "3 4\n"
          ]
        }
      ]
    },
    {
      "cell_type": "code",
      "source": [
        "a, b = input().split(' ')\n",
        "print(a, b)"
      ],
      "metadata": {
        "colab": {
          "base_uri": "https://localhost:8080/",
          "height": 200
        },
        "id": "GyuCkNU2LxuO",
        "outputId": "5d7a40cb-a48f-4548-f88d-116283c59d4b"
      },
      "execution_count": 33,
      "outputs": [
        {
          "name": "stdout",
          "output_type": "stream",
          "text": [
            "8 9 0\n"
          ]
        },
        {
          "output_type": "error",
          "ename": "ValueError",
          "evalue": "ignored",
          "traceback": [
            "\u001b[0;31m---------------------------------------------------------------------------\u001b[0m",
            "\u001b[0;31mValueError\u001b[0m                                Traceback (most recent call last)",
            "\u001b[0;32m<ipython-input-33-1889cf0d91dd>\u001b[0m in \u001b[0;36m<module>\u001b[0;34m()\u001b[0m\n\u001b[0;32m----> 1\u001b[0;31m \u001b[0ma\u001b[0m\u001b[0;34m,\u001b[0m \u001b[0mb\u001b[0m \u001b[0;34m=\u001b[0m \u001b[0minput\u001b[0m\u001b[0;34m(\u001b[0m\u001b[0;34m)\u001b[0m\u001b[0;34m.\u001b[0m\u001b[0msplit\u001b[0m\u001b[0;34m(\u001b[0m\u001b[0;34m' '\u001b[0m\u001b[0;34m)\u001b[0m\u001b[0;34m\u001b[0m\u001b[0;34m\u001b[0m\u001b[0m\n\u001b[0m\u001b[1;32m      2\u001b[0m \u001b[0mprint\u001b[0m\u001b[0;34m(\u001b[0m\u001b[0ma\u001b[0m\u001b[0;34m,\u001b[0m \u001b[0mb\u001b[0m\u001b[0;34m)\u001b[0m\u001b[0;34m\u001b[0m\u001b[0;34m\u001b[0m\u001b[0m\n",
            "\u001b[0;31mValueError\u001b[0m: too many values to unpack (expected 2)"
          ]
        }
      ]
    },
    {
      "cell_type": "markdown",
      "source": [
        "# **Write A Program To Find The Greater Number**"
      ],
      "metadata": {
        "id": "8d4C4kEtMFmY"
      }
    },
    {
      "cell_type": "code",
      "source": [
        "a = int(input('Enter 1st number:'))\n",
        "b = int(input('Enter 2nd number:'))\n",
        "if a > b:\n",
        "  print(a,'is greater number')\n",
        "else:\n",
        "  print(b,'is greater number')"
      ],
      "metadata": {
        "colab": {
          "base_uri": "https://localhost:8080/"
        },
        "id": "1_jHsSzgMXUp",
        "outputId": "c6210da2-9ace-4931-9301-80ebb38ebb04"
      },
      "execution_count": 34,
      "outputs": [
        {
          "output_type": "stream",
          "name": "stdout",
          "text": [
            "Enter 1st number:9\n",
            "Enter 2nd number:10\n",
            "10 is greater number\n"
          ]
        }
      ]
    },
    {
      "cell_type": "code",
      "source": [
        "a = int(input('Enter 1st number:'))\n",
        "b = int(input('Enter 2nd number:'))\n",
        "if a > b:\n",
        "  print(a,'is greater number')\n",
        "print(b,'is greater number')"
      ],
      "metadata": {
        "colab": {
          "base_uri": "https://localhost:8080/"
        },
        "id": "ybvyCOAyMjI0",
        "outputId": "1e8e0bb1-6583-4a01-e34f-bb480b432629"
      },
      "execution_count": 36,
      "outputs": [
        {
          "output_type": "stream",
          "name": "stdout",
          "text": [
            "Enter 1st number:8\n",
            "Enter 2nd number:9\n",
            "9 is greater number\n"
          ]
        }
      ]
    },
    {
      "cell_type": "code",
      "source": [
        "a = int(input('Enter 1st number:'))\n",
        "b = int(input('Enter 2nd number:'))\n",
        "if a > b:\n",
        "  print(a,'is greater number')\n",
        "elif a == b:\n",
        "  print('Both numbers are equal')\n",
        "else:\n",
        "  print(b,'is greater number')"
      ],
      "metadata": {
        "colab": {
          "base_uri": "https://localhost:8080/"
        },
        "id": "FPqf3pkKNDJP",
        "outputId": "103fef1a-38f2-4cf7-f6aa-cca5e44acde3"
      },
      "execution_count": 37,
      "outputs": [
        {
          "output_type": "stream",
          "name": "stdout",
          "text": [
            "Enter 1st number:10\n",
            "Enter 2nd number:10\n",
            "Both numbers are equal\n"
          ]
        }
      ]
    },
    {
      "cell_type": "code",
      "source": [
        "a = int(input('Enter 1st number:'))\n",
        "b = int(input('Enter 2nd number:'))\n",
        "if a > b:\n",
        "  print(a,'is greater number')\n",
        "elif a == b:\n",
        "  print('Both numbers are equal')\n",
        "else:\n",
        "  print(b,'is greater number')"
      ],
      "metadata": {
        "colab": {
          "base_uri": "https://localhost:8080/"
        },
        "id": "9n6MI5UoNOha",
        "outputId": "07dca860-8338-47d8-f453-aa860cde6392"
      },
      "execution_count": 38,
      "outputs": [
        {
          "output_type": "stream",
          "name": "stdout",
          "text": [
            "Enter 1st number:78\n",
            "Enter 2nd number:90\n",
            "90 is greater number\n"
          ]
        }
      ]
    },
    {
      "cell_type": "markdown",
      "source": [
        "# **Write A Program To Swap Two Numbers If The 1st Number is Greater Than The 2nd Number ?**"
      ],
      "metadata": {
        "id": "meIAsCBcNTD0"
      }
    },
    {
      "cell_type": "code",
      "source": [
        "a = int(input('Enter 1st number:'))\n",
        "b = int(input('Enter 2nd number:'))\n",
        "if a > b:\n",
        "  a, b = b, a\n",
        "  print('The swapped numbers are a =',a, 'and b =',b)\n",
        "else:\n",
        "  print('The unswapped numbers are a =',a, 'and b =',b)"
      ],
      "metadata": {
        "colab": {
          "base_uri": "https://localhost:8080/"
        },
        "id": "jk25nRtHNmz3",
        "outputId": "df61dd1f-34c6-45de-c69d-965f635c0196"
      },
      "execution_count": 40,
      "outputs": [
        {
          "output_type": "stream",
          "name": "stdout",
          "text": [
            "Enter 1st number:9\n",
            "Enter 2nd number:8\n",
            "The swapped numbers are a = 8 and b = 9\n"
          ]
        }
      ]
    },
    {
      "cell_type": "code",
      "source": [
        "a = int(input('Enter 1st number:'))\n",
        "b = int(input('Enter 2nd number:'))\n",
        "if a > b:\n",
        "  a, b = b, a\n",
        "  print('The swapped numbers are a =',a, 'and b =',b)\n",
        "else:\n",
        "  print('The unswapped numbers are a =',a, 'and b =',b)"
      ],
      "metadata": {
        "colab": {
          "base_uri": "https://localhost:8080/"
        },
        "id": "HuPeOhlmQbd3",
        "outputId": "8c61ff3c-16ca-45e9-a592-f7a02c9ad013"
      },
      "execution_count": 42,
      "outputs": [
        {
          "output_type": "stream",
          "name": "stdout",
          "text": [
            "Enter 1st number:56\n",
            "Enter 2nd number:43\n",
            "The swapped numbers are a = 43 and b = 56\n"
          ]
        }
      ]
    },
    {
      "cell_type": "code",
      "source": [
        "a = int(input('Enter 1st number:'))\n",
        "b = int(input('Enter 2nd number:'))\n",
        "if a > b:\n",
        "  temp = a\n",
        "  a = b\n",
        "  b = temp\n",
        "  print('The swapped numbers are a =',a, 'and b =',b)\n",
        "else:\n",
        "  print('The unswapped numbers are a =',a, 'and b =',b)"
      ],
      "metadata": {
        "colab": {
          "base_uri": "https://localhost:8080/"
        },
        "id": "lef4EDluRkA-",
        "outputId": "fd6c10a7-5118-4f33-f10f-0a7ee249f164"
      },
      "execution_count": 43,
      "outputs": [
        {
          "output_type": "stream",
          "name": "stdout",
          "text": [
            "Enter 1st number:90\n",
            "Enter 2nd number:80\n",
            "The swapped numbers are a = 80 and b = 90\n"
          ]
        }
      ]
    },
    {
      "cell_type": "code",
      "source": [
        "a = int(input('Enter 1st number:'))\n",
        "b = int(input('Enter 2nd number:'))\n",
        "if a > b:\n",
        "  if a > 10:\n",
        "    a, b = b, a\n",
        "    print('The swapped numbers are a =',a, 'and b =',b)\n",
        "  else:\n",
        "    print('The unswapped numbers are a =',a, 'and b =',b)\n",
        "else:\n",
        "    print('The unswapped numbers are a =',a, 'and b =',b)"
      ],
      "metadata": {
        "colab": {
          "base_uri": "https://localhost:8080/"
        },
        "id": "1MEeoWh0RxV5",
        "outputId": "3f04f0d9-a260-4525-8e40-d400a46ee6ef"
      },
      "execution_count": 44,
      "outputs": [
        {
          "output_type": "stream",
          "name": "stdout",
          "text": [
            "Enter 1st number:90\n",
            "Enter 2nd number:56\n",
            "The swapped numbers are a = 56 and b = 90\n"
          ]
        }
      ]
    },
    {
      "cell_type": "markdown",
      "source": [
        "# **Write A Program To Check If A Year is Leap Year Or Not ?**"
      ],
      "metadata": {
        "id": "NVeSXJgrR6Vg"
      }
    },
    {
      "cell_type": "code",
      "source": [
        "y = int(input('Enter the year:'))\n",
        "if ((y%4 == 0 and y%100 != 0) or (y%400 == 0)):\n",
        "  print('Year',y,'is leap year')\n",
        "else:\n",
        "  print('Year',y,'is not a leap year')"
      ],
      "metadata": {
        "colab": {
          "base_uri": "https://localhost:8080/"
        },
        "id": "t8DsC8jOSPL2",
        "outputId": "de173f2e-790f-41fe-ec3b-0916a1e3acc6"
      },
      "execution_count": 45,
      "outputs": [
        {
          "output_type": "stream",
          "name": "stdout",
          "text": [
            "Enter the year:2020\n",
            "Year 2020 is leap year\n"
          ]
        }
      ]
    },
    {
      "cell_type": "markdown",
      "source": [
        "# **For Loop**\n",
        "# Syntax-->\n",
        "# **For in Range (Start, Stop, Step)**\n",
        "# Start Value is Included\n",
        "# Stop Value is Not Included\n",
        "# Step is Optional if Step Value is 1"
      ],
      "metadata": {
        "id": "i-PTcw21S6CG"
      }
    },
    {
      "cell_type": "code",
      "source": [
        "a = int(input('Enter a number:- '))\n",
        "for i in range(1,a):\n",
        "  print(i)"
      ],
      "metadata": {
        "colab": {
          "base_uri": "https://localhost:8080/"
        },
        "id": "h4Vr4jA3Tp1S",
        "outputId": "7a2f4245-eca3-4afa-959f-801315037362"
      },
      "execution_count": 46,
      "outputs": [
        {
          "output_type": "stream",
          "name": "stdout",
          "text": [
            "Enter a number:- 8\n",
            "1\n",
            "2\n",
            "3\n",
            "4\n",
            "5\n",
            "6\n",
            "7\n"
          ]
        }
      ]
    },
    {
      "cell_type": "markdown",
      "source": [
        "# **Write A Program To Find A Factorial Number ?**"
      ],
      "metadata": {
        "id": "YRTvfjiwUXCA"
      }
    },
    {
      "cell_type": "code",
      "source": [
        "# 5! = 5 x 4 x 3 x 2 x 1"
      ],
      "metadata": {
        "id": "lOUJhPd5UkQa"
      },
      "execution_count": 47,
      "outputs": []
    },
    {
      "cell_type": "code",
      "source": [
        "a = int(input('Enter a number:- '))\n",
        "fact = 1\n",
        "for i in range(1, a+1):\n",
        "  fact *= i # fact = fact * i\n",
        "  print(fact, end = ' ')"
      ],
      "metadata": {
        "colab": {
          "base_uri": "https://localhost:8080/"
        },
        "id": "8YexfuJ0Uni9",
        "outputId": "fbaf9b20-ad5b-4c9a-9057-7d161df195cd"
      },
      "execution_count": 48,
      "outputs": [
        {
          "output_type": "stream",
          "name": "stdout",
          "text": [
            "Enter a number:- 5\n",
            "1 2 6 24 120 "
          ]
        }
      ]
    },
    {
      "cell_type": "markdown",
      "source": [
        "# **Write A Program To Check The Prime Number ?**"
      ],
      "metadata": {
        "id": "zdG4nAckU8-F"
      }
    },
    {
      "cell_type": "code",
      "source": [
        "a = int(input('Enter a number:- '))\n",
        "for i in range(2, a):\n",
        "  if a%i == 0:\n",
        "    print('Not Prime')\n",
        "    break\n",
        "else:\n",
        "  print('Prime')"
      ],
      "metadata": {
        "colab": {
          "base_uri": "https://localhost:8080/"
        },
        "id": "0LpDtZdrVQat",
        "outputId": "613ac48b-d0b0-4f27-8eed-2a0a83e64880"
      },
      "execution_count": 50,
      "outputs": [
        {
          "output_type": "stream",
          "name": "stdout",
          "text": [
            "Enter a number:- 7\n",
            "Prime\n"
          ]
        }
      ]
    },
    {
      "cell_type": "code",
      "source": [
        "!pip install abhiprime"
      ],
      "metadata": {
        "colab": {
          "base_uri": "https://localhost:8080/"
        },
        "id": "wLbmlr_aVcPG",
        "outputId": "e12708b2-85f3-4d0a-c348-6affed1e19a8"
      },
      "execution_count": 51,
      "outputs": [
        {
          "output_type": "stream",
          "name": "stdout",
          "text": [
            "Looking in indexes: https://pypi.org/simple, https://us-python.pkg.dev/colab-wheels/public/simple/\n",
            "Collecting abhiprime\n",
            "  Downloading abhiprime-6.0.0-py3-none-any.whl (3.7 kB)\n",
            "Installing collected packages: abhiprime\n",
            "Successfully installed abhiprime-6.0.0\n"
          ]
        }
      ]
    },
    {
      "cell_type": "code",
      "source": [
        "import abhiprime as ap\n",
        "ap.test_prime(8)"
      ],
      "metadata": {
        "colab": {
          "base_uri": "https://localhost:8080/"
        },
        "id": "0Q1SRtXwVqHn",
        "outputId": "e5c74846-626e-4f1a-b59d-0e3924ff592c"
      },
      "execution_count": 52,
      "outputs": [
        {
          "output_type": "execute_result",
          "data": {
            "text/plain": [
              "0"
            ]
          },
          "metadata": {},
          "execution_count": 52
        }
      ]
    },
    {
      "cell_type": "code",
      "source": [
        "ap.next_prime(100)"
      ],
      "metadata": {
        "colab": {
          "base_uri": "https://localhost:8080/"
        },
        "id": "RMP5mi8pWiKu",
        "outputId": "bc40408a-93c8-4879-ef2e-8bb92dbf6721"
      },
      "execution_count": 53,
      "outputs": [
        {
          "output_type": "execute_result",
          "data": {
            "text/plain": [
              "101"
            ]
          },
          "metadata": {},
          "execution_count": 53
        }
      ]
    },
    {
      "cell_type": "code",
      "source": [
        "ap.prev_prime(100)"
      ],
      "metadata": {
        "colab": {
          "base_uri": "https://localhost:8080/"
        },
        "id": "92bbJ0WKWoTD",
        "outputId": "cc3ab7ad-0336-4395-cebb-0cecb9bac972"
      },
      "execution_count": 54,
      "outputs": [
        {
          "output_type": "execute_result",
          "data": {
            "text/plain": [
              "97"
            ]
          },
          "metadata": {},
          "execution_count": 54
        }
      ]
    },
    {
      "cell_type": "code",
      "source": [
        "ap.range_prime(10,100)"
      ],
      "metadata": {
        "colab": {
          "base_uri": "https://localhost:8080/"
        },
        "id": "7vzK08AmWsby",
        "outputId": "b5cc1d26-2715-4676-b0b1-a92468a479b9"
      },
      "execution_count": 55,
      "outputs": [
        {
          "output_type": "stream",
          "name": "stdout",
          "text": [
            "11 13 17 19 23 29 31 37 41 43 47 53 59 61 67 71 73 79 83 89 97 \n"
          ]
        }
      ]
    },
    {
      "cell_type": "code",
      "source": [
        "ap.prime_upto(50)"
      ],
      "metadata": {
        "colab": {
          "base_uri": "https://localhost:8080/"
        },
        "id": "0xbRcFatWvJI",
        "outputId": "0c81ae0d-385e-4dd4-d7f0-a9c4e1a68030"
      },
      "execution_count": 56,
      "outputs": [
        {
          "output_type": "execute_result",
          "data": {
            "text/plain": [
              "[2, 3, 5, 7, 11, 13, 17, 19, 23, 29, 31, 37, 41, 43, 47]"
            ]
          },
          "metadata": {},
          "execution_count": 56
        }
      ]
    },
    {
      "cell_type": "code",
      "source": [
        "ap.fib_prime(100)"
      ],
      "metadata": {
        "colab": {
          "base_uri": "https://localhost:8080/"
        },
        "id": "3ZEv_SHjW307",
        "outputId": "4afc1005-cd9b-4eec-bafa-24502cc899f8"
      },
      "execution_count": 57,
      "outputs": [
        {
          "output_type": "stream",
          "name": "stdout",
          "text": [
            "2 3 5 13 89 "
          ]
        }
      ]
    },
    {
      "cell_type": "code",
      "source": [
        "ap.prime_factor(50)"
      ],
      "metadata": {
        "colab": {
          "base_uri": "https://localhost:8080/"
        },
        "id": "RxICRJywXBzS",
        "outputId": "35ff35df-83dc-425f-d7e7-5ebdbc3fc747"
      },
      "execution_count": 59,
      "outputs": [
        {
          "output_type": "execute_result",
          "data": {
            "text/plain": [
              "[2, 5, 5]"
            ]
          },
          "metadata": {},
          "execution_count": 59
        }
      ]
    },
    {
      "cell_type": "code",
      "source": [
        "ap.prime_factor(20)"
      ],
      "metadata": {
        "colab": {
          "base_uri": "https://localhost:8080/"
        },
        "id": "Xtufb2fKXIWy",
        "outputId": "e54aeb4a-7f87-409b-9c10-08536539587d"
      },
      "execution_count": 60,
      "outputs": [
        {
          "output_type": "execute_result",
          "data": {
            "text/plain": [
              "[2, 2, 5]"
            ]
          },
          "metadata": {},
          "execution_count": 60
        }
      ]
    },
    {
      "cell_type": "markdown",
      "source": [
        "# **Write A Program To Print The Following Numbers :-**\n",
        "\n",
        "5 x 4 = 20\n",
        "\n",
        "4 x 3 = 12\n",
        "\n",
        "3 x 2 = 6\n",
        "\n",
        "2 x 1 = 2"
      ],
      "metadata": {
        "id": "XWKG1BYJXMpC"
      }
    },
    {
      "cell_type": "code",
      "source": [
        "a = int(input('Enter 1st no.:- '))\n",
        "b = int(input('Enter 2nd no.:- '))\n",
        "while (a and b) > 0:\n",
        "  c = a * b\n",
        "  print(a,'x',b,'=',c)\n",
        "  a -= 1\n",
        "  b -= 1"
      ],
      "metadata": {
        "colab": {
          "base_uri": "https://localhost:8080/"
        },
        "id": "CNJ_PmWPZQlF",
        "outputId": "91cc7f79-f527-4abd-af22-312f963ae171"
      },
      "execution_count": 62,
      "outputs": [
        {
          "output_type": "stream",
          "name": "stdout",
          "text": [
            "Enter 1st no.:- 9\n",
            "Enter 2nd no.:- 8\n",
            "9 x 8 = 72\n",
            "8 x 7 = 56\n",
            "7 x 6 = 42\n",
            "6 x 5 = 30\n",
            "5 x 4 = 20\n",
            "4 x 3 = 12\n",
            "3 x 2 = 6\n",
            "2 x 1 = 2\n"
          ]
        }
      ]
    }
  ]
}