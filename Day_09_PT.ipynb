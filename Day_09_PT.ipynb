{
  "nbformat": 4,
  "nbformat_minor": 0,
  "metadata": {
    "colab": {
      "name": "Day 09_PT(1) - Some Programs.ipynb",
      "provenance": [],
      "authorship_tag": "ABX9TyNth4XuYGPxOBlaisNvotQK",
      "include_colab_link": true
    },
    "kernelspec": {
      "name": "python3",
      "display_name": "Python 3"
    },
    "language_info": {
      "name": "python"
    }
  },
  "cells": [
    {
      "cell_type": "markdown",
      "metadata": {
        "id": "view-in-github",
        "colab_type": "text"
      },
      "source": [
        "<a href=\"https://colab.research.google.com/github/Aditya2086/Python-Training/blob/main/Day_09_PT(1)_Some_Programs.ipynb\" target=\"_parent\"><img src=\"https://colab.research.google.com/assets/colab-badge.svg\" alt=\"Open In Colab\"/></a>"
      ]
    },
    {
      "cell_type": "markdown",
      "source": [
        "## **Some Frequently Asked Programs in Python Interviews & Written Exams :-**\n",
        "\n",
        "# **Q. Write A Program To Find The Largest Element From A List Without Using max( ) Function.**"
      ],
      "metadata": {
        "id": "mkHGlsK1ghBz"
      }
    },
    {
      "cell_type": "code",
      "execution_count": 2,
      "metadata": {
        "colab": {
          "base_uri": "https://localhost:8080/"
        },
        "id": "f5zRkagpfN3R",
        "outputId": "a9b869a5-619a-409a-9f43-8873b0960d01"
      },
      "outputs": [
        {
          "output_type": "stream",
          "name": "stdout",
          "text": [
            "Largest Value: 90\n"
          ]
        }
      ],
      "source": [
        "lst = [34,90,56,45,84,67,22]\n",
        "max1 = lst[0]\n",
        "for j in range(1,len(lst)): # '0' is assigned & so we traverse from '1' upto  length of list\n",
        "    if lst[j] > max1 :\n",
        "        max1 = lst[j]\n",
        "print(\"Largest Value:\",max1)"
      ]
    },
    {
      "cell_type": "markdown",
      "source": [
        "# **Q. Write A Program To Find The Index Position Of Any Given Value In The List Without Using Index() Function.**"
      ],
      "metadata": {
        "id": "HQiADAhCiM90"
      }
    },
    {
      "cell_type": "code",
      "source": [
        "mylst = [46,74,46,68,84,34,91]\n",
        "find_ind = int(input(\"Enter Search Element :- \"))\n",
        "ind_found = False # Initially flag is set to 'False' \n",
        "for k in range(len(mylst)):\n",
        "    ind_found = mylst[k] == find_ind\n",
        "    if ind_found :\n",
        "        break\n",
        "        \n",
        "if ind_found:\n",
        "    print('Element present at index',k)\n",
        "else:\n",
        "    print('Element not found in list!!!!')"
      ],
      "metadata": {
        "colab": {
          "base_uri": "https://localhost:8080/"
        },
        "id": "joChY3-2iaR0",
        "outputId": "7b702f28-c202-465c-eb6d-e83ccfccb99d"
      },
      "execution_count": 3,
      "outputs": [
        {
          "output_type": "stream",
          "name": "stdout",
          "text": [
            "Enter Search Element :- 91\n",
            "Element present at index 6\n"
          ]
        }
      ]
    },
    {
      "cell_type": "markdown",
      "source": [
        "# **Q. Write A Program To Find The Middle Value Of A List.**"
      ],
      "metadata": {
        "id": "gI8CI68YjTk5"
      }
    },
    {
      "cell_type": "code",
      "source": [
        "# Case of even number of elements in the list.\n",
        "mylst = [86,84,26,58,74,34,91,65]\n",
        "if len(mylst)%2 == 0:\n",
        "    j = len(mylst)//2\n",
        "    k = len(mylst)//2 - 1\n",
        "    print(\"Middle elements :\",mylst[j],\",\",mylst[k])\n",
        "else:\n",
        "    j = len(mylst)//2\n",
        "    print(\"Middle element :\",mylst[j])"
      ],
      "metadata": {
        "colab": {
          "base_uri": "https://localhost:8080/"
        },
        "id": "OTQldi-gjO5q",
        "outputId": "37e5d5ce-a74b-4f39-a036-cc09e1c2b946"
      },
      "execution_count": 6,
      "outputs": [
        {
          "output_type": "stream",
          "name": "stdout",
          "text": [
            "Middle elements : 74 , 58\n"
          ]
        }
      ]
    },
    {
      "cell_type": "code",
      "source": [
        "# Case of odd number of elements in the list.\n",
        "mylst = [66,74,36,18,94,14,45]\n",
        "if len(mylst)%2 == 0:\n",
        "    j = len(mylst)//2\n",
        "    k = len(mylst)//2 - 1\n",
        "    print(\"Middle elements :\",mylst[j],\",\",mylst[k])\n",
        "else:\n",
        "    j = len(mylst)//2\n",
        "    print(\"Middle element :\",mylst[j])"
      ],
      "metadata": {
        "colab": {
          "base_uri": "https://localhost:8080/"
        },
        "id": "ERNIsOT5jb15",
        "outputId": "841acce7-22f0-4683-fd0f-84ccf2780dc7"
      },
      "execution_count": 8,
      "outputs": [
        {
          "output_type": "stream",
          "name": "stdout",
          "text": [
            "Middle element : 18\n"
          ]
        }
      ]
    },
    {
      "cell_type": "markdown",
      "source": [
        "# **Q. Write A Program To Find The First Repeated Element/Word From A Given String.**"
      ],
      "metadata": {
        "id": "BwR66WTDkuM9"
      }
    },
    {
      "cell_type": "code",
      "source": [
        "def repeat(n):\n",
        "    c = {}\n",
        "    for k in n: # if first element is in string 'n' , loops is used because element already present\n",
        "        if k in c: # if it is also in 'c'\n",
        "            return k\n",
        "        c[k] = 1\n",
        "    return None\n",
        "\n",
        "mystr = input(\"Enter Any String :- \")\n",
        "print(\"First repeated element :\",repeat(mystr))"
      ],
      "metadata": {
        "colab": {
          "base_uri": "https://localhost:8080/"
        },
        "id": "lLTUkMDqk7of",
        "outputId": "8a7f8d53-37e2-4332-adaf-2e0d73215c7c"
      },
      "execution_count": 10,
      "outputs": [
        {
          "output_type": "stream",
          "name": "stdout",
          "text": [
            "Enter Any String :- ADITYA\n",
            "First repeated element : A\n"
          ]
        }
      ]
    },
    {
      "cell_type": "markdown",
      "source": [
        "# **Q. Given An Array Of String Words , Return The Words That Can Be Typed Using Letters Of The Alphabet On Only One Row Of American Keyboard.**"
      ],
      "metadata": {
        "id": "ULScVoEdlmGy"
      }
    },
    {
      "cell_type": "code",
      "source": [
        "def findwords(lst):\n",
        "    qwer = set(\"qwertyuiop\") # 1st Row Consists\n",
        "    asdf = set(\"asdfghjkl\") # 2nd Row Consists\n",
        "    zxcv = set(\"zxcvbnm\") # 3rd Row Consists\n",
        "    rlst = []\n",
        "    \n",
        "    for j in lst:\n",
        "        w = set(j.lower())\n",
        "        if w <= qwer or w <= asdf or w <= zxcv:\n",
        "            rlst.append(j)\n",
        "    return rlst\n",
        "\n",
        "mylst = ['asd','fog','hjkl','qwerty']\n",
        "print(findwords(mylst))"
      ],
      "metadata": {
        "colab": {
          "base_uri": "https://localhost:8080/"
        },
        "id": "L1XSy_zfl6rz",
        "outputId": "8f5d1edd-9142-4f9d-c4b5-c62a9b06b96f"
      },
      "execution_count": 11,
      "outputs": [
        {
          "output_type": "stream",
          "name": "stdout",
          "text": [
            "['asd', 'hjkl', 'qwerty']\n"
          ]
        }
      ]
    },
    {
      "cell_type": "markdown",
      "source": [
        "# **Q. Write A Program To Convert Integers Into Roman Numbers.**"
      ],
      "metadata": {
        "id": "sUfYVwxmmaES"
      }
    },
    {
      "cell_type": "code",
      "source": [
        "charset = [(1000,'M'),(900,'CM'),(500,'D'),(400,'CD'),\n",
        "           (100,'C'),(90,'XC'),(50,'L'),(40,'XL'),(10,'X'),\n",
        "           (9,'IX'),(5,'V'),(4,'IV'),(1,'I')]\n",
        "def to_roman(n):\n",
        "    rn = ''\n",
        "    while n > 0:\n",
        "        for k , m in charset:\n",
        "            while n >= k:\n",
        "                rn += m\n",
        "                n -= k\n",
        "        return rn\n",
        "\n",
        "num = int(input(\"Enter An Integer :- \"))\n",
        "print(\"Roman Value Of\",num,\"is\",to_roman(num))"
      ],
      "metadata": {
        "colab": {
          "base_uri": "https://localhost:8080/"
        },
        "id": "9rvkWtxfmgpD",
        "outputId": "2e10f91f-b0d9-4c31-b0d1-8689bd4560f1"
      },
      "execution_count": 14,
      "outputs": [
        {
          "output_type": "stream",
          "name": "stdout",
          "text": [
            "Enter An Integer :- 990\n",
            "Roman Value Of 990 is CMXC\n"
          ]
        }
      ]
    },
    {
      "cell_type": "markdown",
      "source": [
        "# **Q. Write A Program To Find LCM Of 'n' Numbers.**"
      ],
      "metadata": {
        "id": "S8E3MNHYm6LB"
      }
    },
    {
      "cell_type": "code",
      "source": [
        "def LCM_n(x,y):\n",
        "    if x > y:\n",
        "        lrgr = x\n",
        "    else :\n",
        "        lrgr = y\n",
        "        \n",
        "    while True :\n",
        "        if(lrgr % x == 0) and (lrgr % y == 0):\n",
        "            lcm = lrgr\n",
        "            break\n",
        "        lrgr += 1\n",
        "    return lcm\n",
        "\n",
        "lst = [5,7,8,3,9]\n",
        "p = lst[0]\n",
        "q = lst[1]\n",
        "LCM = LCM_n(p,q)\n",
        "for j in range(2,len(lst)):\n",
        "    LCM = LCM_n(LCM,lst[j])\n",
        "print(\"LCM is :\",LCM)"
      ],
      "metadata": {
        "colab": {
          "base_uri": "https://localhost:8080/"
        },
        "id": "Tpk5iB-NnEsJ",
        "outputId": "70cc80ff-ed3a-40a5-d3fa-c42f62fa75c3"
      },
      "execution_count": 15,
      "outputs": [
        {
          "output_type": "stream",
          "name": "stdout",
          "text": [
            "LCM is : 2520\n"
          ]
        }
      ]
    },
    {
      "cell_type": "code",
      "source": [
        ""
      ],
      "metadata": {
        "id": "14YzRlA2npPX"
      },
      "execution_count": null,
      "outputs": []
    }
  ]
}
