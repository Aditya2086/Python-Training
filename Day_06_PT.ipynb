{
  "nbformat": 4,
  "nbformat_minor": 0,
  "metadata": {
    "colab": {
      "name": "Day 06_PT.ipynb",
      "provenance": [],
      "authorship_tag": "ABX9TyPEca1BhEu/NkYccFwUwYqG",
      "include_colab_link": true
    },
    "kernelspec": {
      "name": "python3",
      "display_name": "Python 3"
    },
    "language_info": {
      "name": "python"
    }
  },
  "cells": [
    {
      "cell_type": "markdown",
      "metadata": {
        "id": "view-in-github",
        "colab_type": "text"
      },
      "source": [
        "<a href=\"https://colab.research.google.com/github/Aditya2086/Python-Training/blob/main/Day_06_PT.ipynb\" target=\"_parent\"><img src=\"https://colab.research.google.com/assets/colab-badge.svg\" alt=\"Open In Colab\"/></a>"
      ]
    },
    {
      "cell_type": "markdown",
      "source": [
        "# **Set Is An Unordered Collection Of Elements Which Are Unique :-**"
      ],
      "metadata": {
        "id": "H2j5sU5cqRDJ"
      }
    },
    {
      "cell_type": "code",
      "source": [
        "hero_name = {'Tony', 'Steve', 'Thor'}\n",
        "print(hero_name)\n",
        "print(type(hero_name))"
      ],
      "metadata": {
        "colab": {
          "base_uri": "https://localhost:8080/"
        },
        "id": "U9kgqKsyqnmr",
        "outputId": "d9cefa58-ce3c-4aec-981e-34c17028a13f"
      },
      "execution_count": 1,
      "outputs": [
        {
          "output_type": "stream",
          "name": "stdout",
          "text": [
            "{'Steve', 'Tony', 'Thor'}\n",
            "<class 'set'>\n"
          ]
        }
      ]
    },
    {
      "cell_type": "markdown",
      "source": [
        "# **Empty Sets :-**"
      ],
      "metadata": {
        "id": "ssC0z6Z8rrBm"
      }
    },
    {
      "cell_type": "code",
      "source": [
        "a = {}\n",
        "print(type(a))"
      ],
      "metadata": {
        "colab": {
          "base_uri": "https://localhost:8080/"
        },
        "id": "HgoAmw-OrvSH",
        "outputId": "d6402027-0953-4282-8e5c-65cb21b493b2"
      },
      "execution_count": 2,
      "outputs": [
        {
          "output_type": "stream",
          "name": "stdout",
          "text": [
            "<class 'dict'>\n"
          ]
        }
      ]
    },
    {
      "cell_type": "code",
      "source": [
        "a = set()\n",
        "print(type(a))"
      ],
      "metadata": {
        "colab": {
          "base_uri": "https://localhost:8080/"
        },
        "id": "8jUGSD6GrzBU",
        "outputId": "51b0dae7-4a7b-43fe-c7ba-1d79bc5f8dad"
      },
      "execution_count": 3,
      "outputs": [
        {
          "output_type": "stream",
          "name": "stdout",
          "text": [
            "<class 'set'>\n"
          ]
        }
      ]
    },
    {
      "cell_type": "code",
      "source": [
        "hero_name = ['Tony', 'Steve', 'Thor']\n",
        "print(hero_name)\n",
        "print(type(hero_name))"
      ],
      "metadata": {
        "colab": {
          "base_uri": "https://localhost:8080/"
        },
        "id": "tSkED-LYr2m1",
        "outputId": "09f624ad-94da-4187-ecaf-825e4c6168e2"
      },
      "execution_count": 4,
      "outputs": [
        {
          "output_type": "stream",
          "name": "stdout",
          "text": [
            "['Tony', 'Steve', 'Thor']\n",
            "<class 'list'>\n"
          ]
        }
      ]
    },
    {
      "cell_type": "code",
      "source": [
        "hero_name = ['Tony', 'Steve', 'Thor']\n",
        "a = set(hero_name)\n",
        "print(a)\n",
        "print(type(a))"
      ],
      "metadata": {
        "colab": {
          "base_uri": "https://localhost:8080/"
        },
        "id": "o8xfWmBTr60F",
        "outputId": "4207a8e3-15a6-4252-8038-f09361799005"
      },
      "execution_count": 5,
      "outputs": [
        {
          "output_type": "stream",
          "name": "stdout",
          "text": [
            "{'Steve', 'Tony', 'Thor'}\n",
            "<class 'set'>\n"
          ]
        }
      ]
    },
    {
      "cell_type": "code",
      "source": [
        "hero_name = 'Tony', 'Steve', 'Thor'\n",
        "a = set(hero_name)\n",
        "print(a)\n",
        "print(type(a))"
      ],
      "metadata": {
        "colab": {
          "base_uri": "https://localhost:8080/"
        },
        "id": "ol_pfADEr9nF",
        "outputId": "9c8aef3a-79b4-4be3-864b-57a3d94fbc9e"
      },
      "execution_count": 6,
      "outputs": [
        {
          "output_type": "stream",
          "name": "stdout",
          "text": [
            "{'Steve', 'Tony', 'Thor'}\n",
            "<class 'set'>\n"
          ]
        }
      ]
    },
    {
      "cell_type": "code",
      "source": [
        "hero_name = 'Tony', 'Steve', 'Thor'\n",
        "set(hero_name)"
      ],
      "metadata": {
        "colab": {
          "base_uri": "https://localhost:8080/"
        },
        "id": "Jc5blLHusA4d",
        "outputId": "c010c22d-01e7-49b8-e73c-0079b6914d79"
      },
      "execution_count": 7,
      "outputs": [
        {
          "output_type": "execute_result",
          "data": {
            "text/plain": [
              "{'Steve', 'Thor', 'Tony'}"
            ]
          },
          "metadata": {},
          "execution_count": 7
        }
      ]
    },
    {
      "cell_type": "code",
      "source": [
        "hero_name = 'Tony', 'Steve', 'Thor', 'Tony'\n",
        "set(hero_name)"
      ],
      "metadata": {
        "colab": {
          "base_uri": "https://localhost:8080/"
        },
        "id": "OopQRP97sEgE",
        "outputId": "e4deff15-43ea-4cdf-9823-c7ef14f8a36b"
      },
      "execution_count": 8,
      "outputs": [
        {
          "output_type": "execute_result",
          "data": {
            "text/plain": [
              "{'Steve', 'Thor', 'Tony'}"
            ]
          },
          "metadata": {},
          "execution_count": 8
        }
      ]
    },
    {
      "cell_type": "markdown",
      "source": [
        "# **Operations On Set :-**"
      ],
      "metadata": {
        "id": "frjr4r-LsHik"
      }
    },
    {
      "cell_type": "code",
      "source": [
        "hero_name = {'Tony', 'Steve', 'Thor'}\n",
        "len(hero_name)"
      ],
      "metadata": {
        "colab": {
          "base_uri": "https://localhost:8080/"
        },
        "id": "wfqu_QdmsMJk",
        "outputId": "f88e4dc1-cf0c-427c-de8a-ab6913563894"
      },
      "execution_count": 9,
      "outputs": [
        {
          "output_type": "execute_result",
          "data": {
            "text/plain": [
              "3"
            ]
          },
          "metadata": {},
          "execution_count": 9
        }
      ]
    },
    {
      "cell_type": "code",
      "source": [
        "'Steve' in hero_name"
      ],
      "metadata": {
        "colab": {
          "base_uri": "https://localhost:8080/"
        },
        "id": "Fj-yJFabsQee",
        "outputId": "438df3f2-ec88-4b41-9180-4c2584f0dfaf"
      },
      "execution_count": 10,
      "outputs": [
        {
          "output_type": "execute_result",
          "data": {
            "text/plain": [
              "True"
            ]
          },
          "metadata": {},
          "execution_count": 10
        }
      ]
    },
    {
      "cell_type": "code",
      "source": [
        "'IronMan' in hero_name"
      ],
      "metadata": {
        "colab": {
          "base_uri": "https://localhost:8080/"
        },
        "id": "1TAaqOH5sSs8",
        "outputId": "12954a28-18ad-4a71-9716-58a59e64fbaa"
      },
      "execution_count": 11,
      "outputs": [
        {
          "output_type": "execute_result",
          "data": {
            "text/plain": [
              "False"
            ]
          },
          "metadata": {},
          "execution_count": 11
        }
      ]
    },
    {
      "cell_type": "code",
      "source": [
        "'IronMan' not in hero_name"
      ],
      "metadata": {
        "colab": {
          "base_uri": "https://localhost:8080/"
        },
        "id": "zDsYmS5ssVJU",
        "outputId": "b91f805f-7672-4cc4-f61a-fc0f722cde29"
      },
      "execution_count": 12,
      "outputs": [
        {
          "output_type": "execute_result",
          "data": {
            "text/plain": [
              "True"
            ]
          },
          "metadata": {},
          "execution_count": 12
        }
      ]
    },
    {
      "cell_type": "markdown",
      "source": [
        "# **Union In Sets :-**"
      ],
      "metadata": {
        "id": "epXq1dIwsZr0"
      }
    },
    {
      "cell_type": "code",
      "source": [
        "hero_name = {'Tony', 'Steve', 'Thor'}\n",
        "villain_name = {'Thanos', 'Ultron', 'Vulture'}\n",
        "print(hero_name | villain_name) # union --> joining all elements"
      ],
      "metadata": {
        "colab": {
          "base_uri": "https://localhost:8080/"
        },
        "id": "lntbJZ5VsdrH",
        "outputId": "ca428e70-e9ce-47ba-d9d4-ed312a5030fb"
      },
      "execution_count": 13,
      "outputs": [
        {
          "output_type": "stream",
          "name": "stdout",
          "text": [
            "{'Tony', 'Ultron', 'Thanos', 'Vulture', 'Steve', 'Thor'}\n"
          ]
        }
      ]
    },
    {
      "cell_type": "code",
      "source": [
        "print(hero_name.union(villain_name))"
      ],
      "metadata": {
        "colab": {
          "base_uri": "https://localhost:8080/"
        },
        "id": "VCXnGO_6sjB0",
        "outputId": "64fc02e4-7405-47dc-8cd2-790f39fb3ef6"
      },
      "execution_count": 14,
      "outputs": [
        {
          "output_type": "stream",
          "name": "stdout",
          "text": [
            "{'Tony', 'Ultron', 'Thanos', 'Vulture', 'Steve', 'Thor'}\n"
          ]
        }
      ]
    },
    {
      "cell_type": "markdown",
      "source": [
        "# **Is There Any Difference Between Union Method & Pipe Operator ?**"
      ],
      "metadata": {
        "id": "1Zwr44jwsmGc"
      }
    },
    {
      "cell_type": "code",
      "source": [
        "print(hero_name | ('Thanos', 'Ultron', 'Vulture'))"
      ],
      "metadata": {
        "colab": {
          "base_uri": "https://localhost:8080/",
          "height": 165
        },
        "id": "MjAb3FC7sw_S",
        "outputId": "8b56c86d-b647-4e6d-eef6-0aae52a8e083"
      },
      "execution_count": 15,
      "outputs": [
        {
          "output_type": "error",
          "ename": "TypeError",
          "evalue": "ignored",
          "traceback": [
            "\u001b[0;31m---------------------------------------------------------------------------\u001b[0m",
            "\u001b[0;31mTypeError\u001b[0m                                 Traceback (most recent call last)",
            "\u001b[0;32m<ipython-input-15-6774fe62d7e7>\u001b[0m in \u001b[0;36m<module>\u001b[0;34m()\u001b[0m\n\u001b[0;32m----> 1\u001b[0;31m \u001b[0mprint\u001b[0m\u001b[0;34m(\u001b[0m\u001b[0mhero_name\u001b[0m \u001b[0;34m|\u001b[0m \u001b[0;34m(\u001b[0m\u001b[0;34m'Thanos'\u001b[0m\u001b[0;34m,\u001b[0m \u001b[0;34m'Ultron'\u001b[0m\u001b[0;34m,\u001b[0m \u001b[0;34m'Vulture'\u001b[0m\u001b[0;34m)\u001b[0m\u001b[0;34m)\u001b[0m\u001b[0;34m\u001b[0m\u001b[0;34m\u001b[0m\u001b[0m\n\u001b[0m",
            "\u001b[0;31mTypeError\u001b[0m: unsupported operand type(s) for |: 'set' and 'tuple'"
          ]
        }
      ]
    },
    {
      "cell_type": "code",
      "source": [
        "print(hero_name.union(('Thanos', 'Ultron', 'Vulture')))"
      ],
      "metadata": {
        "colab": {
          "base_uri": "https://localhost:8080/"
        },
        "id": "CRU7iVFCs1OS",
        "outputId": "154a3084-9680-42f5-b769-dc1069651fd9"
      },
      "execution_count": 16,
      "outputs": [
        {
          "output_type": "stream",
          "name": "stdout",
          "text": [
            "{'Ultron', 'Vulture', 'Steve', 'Thor', 'Tony', 'Thanos'}\n"
          ]
        }
      ]
    },
    {
      "cell_type": "markdown",
      "source": [
        "# **Intersection in Sets :-**\n"
      ],
      "metadata": {
        "id": "_4mLN7Zws6WQ"
      }
    },
    {
      "cell_type": "code",
      "source": [
        "hero_name = {'Tony', 'Steve', 'Thor'}\n",
        "villain_name = {'Thanos', 'Ultron', 'Vulture'}\n",
        "print(hero_name & villain_name) # intersection --> returns the common value"
      ],
      "metadata": {
        "colab": {
          "base_uri": "https://localhost:8080/"
        },
        "id": "9rdw_qWytJT5",
        "outputId": "426e47a5-b94d-4db3-a06e-93bfea55ef34"
      },
      "execution_count": 17,
      "outputs": [
        {
          "output_type": "stream",
          "name": "stdout",
          "text": [
            "set()\n"
          ]
        }
      ]
    },
    {
      "cell_type": "code",
      "source": [
        "hero_name = {'Tony', 'Steve', 'Thor'}\n",
        "villain_name = {'Thanos', 'Ultron', 'Vulture', 'Thor'}\n",
        "print(hero_name & villain_name) # intersection --> returns the common value"
      ],
      "metadata": {
        "colab": {
          "base_uri": "https://localhost:8080/"
        },
        "id": "vKsNjdRdtOLR",
        "outputId": "d69ab486-e929-4b26-86a3-0e70bc227cf2"
      },
      "execution_count": 18,
      "outputs": [
        {
          "output_type": "stream",
          "name": "stdout",
          "text": [
            "{'Thor'}\n"
          ]
        }
      ]
    },
    {
      "cell_type": "code",
      "source": [
        "print(hero_name.intersection(villain_name))"
      ],
      "metadata": {
        "colab": {
          "base_uri": "https://localhost:8080/"
        },
        "id": "5gBCqHB4tQxZ",
        "outputId": "f868ea4b-eb00-48bf-a349-1b7f68c54399"
      },
      "execution_count": 19,
      "outputs": [
        {
          "output_type": "stream",
          "name": "stdout",
          "text": [
            "{'Thor'}\n"
          ]
        }
      ]
    },
    {
      "cell_type": "markdown",
      "source": [
        "# **Difference in Sets --> Elements Which Are Present in One Set But Not Present in Another Set :-**"
      ],
      "metadata": {
        "id": "Tn1LmS1HtTFj"
      }
    },
    {
      "cell_type": "code",
      "source": [
        "hero_name = {'Tony', 'Steve', 'Thor'}\n",
        "villain_name = {'Thanos', 'Ultron', 'Vulture', 'Thor'}\n",
        "print(hero_name - villain_name)"
      ],
      "metadata": {
        "colab": {
          "base_uri": "https://localhost:8080/"
        },
        "id": "iwFfnfVZtgHx",
        "outputId": "1b40cb6a-8e8e-4712-d43f-b34e95b0f114"
      },
      "execution_count": 20,
      "outputs": [
        {
          "output_type": "stream",
          "name": "stdout",
          "text": [
            "{'Steve', 'Tony'}\n"
          ]
        }
      ]
    },
    {
      "cell_type": "code",
      "source": [
        "hero_name = {'Tony', 'Steve', 'Thor'}\n",
        "villain_name = {'Thanos', 'Ultron', 'Vulture', 'Thor'}\n",
        "print(villain_name - hero_name)"
      ],
      "metadata": {
        "colab": {
          "base_uri": "https://localhost:8080/"
        },
        "id": "ztFeESePth7_",
        "outputId": "05ed977a-576f-4873-dbed-6088166c5a33"
      },
      "execution_count": 21,
      "outputs": [
        {
          "output_type": "stream",
          "name": "stdout",
          "text": [
            "{'Ultron', 'Thanos', 'Vulture'}\n"
          ]
        }
      ]
    },
    {
      "cell_type": "markdown",
      "source": [
        "# **Is Subset() in Sets :-**"
      ],
      "metadata": {
        "id": "R5NnzvG9tqIq"
      }
    },
    {
      "cell_type": "code",
      "source": [
        "hero_name = {'Tony', 'Steve', 'Thor'}\n",
        "villain_name = {'Thanos', 'Ultron', 'Vulture', 'Thor'}\n",
        "print(villain_name <= hero_name)"
      ],
      "metadata": {
        "colab": {
          "base_uri": "https://localhost:8080/"
        },
        "id": "XLVsuJXetwv5",
        "outputId": "6416cf21-7f77-47b6-edf3-922193f99ba6"
      },
      "execution_count": 22,
      "outputs": [
        {
          "output_type": "stream",
          "name": "stdout",
          "text": [
            "False\n"
          ]
        }
      ]
    },
    {
      "cell_type": "code",
      "source": [
        "print(hero_name <= villain_name)"
      ],
      "metadata": {
        "colab": {
          "base_uri": "https://localhost:8080/"
        },
        "id": "W-tW-knkt1IZ",
        "outputId": "f85ebb8c-4a5e-4113-ffe7-5df8e505591f"
      },
      "execution_count": 23,
      "outputs": [
        {
          "output_type": "stream",
          "name": "stdout",
          "text": [
            "False\n"
          ]
        }
      ]
    },
    {
      "cell_type": "code",
      "source": [
        "iron_man_1 = {'Tony', 'Warmachine'}\n",
        "iron_man_2 = {'Tony', 'Warmachine', 'Natasha'}\n",
        "print(iron_man_1 <= iron_man_2)"
      ],
      "metadata": {
        "colab": {
          "base_uri": "https://localhost:8080/"
        },
        "id": "K9fEXud0t325",
        "outputId": "20ebd4f5-309d-4f7d-c8e2-4c98921f0905"
      },
      "execution_count": 24,
      "outputs": [
        {
          "output_type": "stream",
          "name": "stdout",
          "text": [
            "True\n"
          ]
        }
      ]
    },
    {
      "cell_type": "code",
      "source": [
        "print(iron_man_2 <= iron_man_1)"
      ],
      "metadata": {
        "colab": {
          "base_uri": "https://localhost:8080/"
        },
        "id": "0MK4EVkYt-_o",
        "outputId": "dd8119af-6ea7-4a21-fe88-ef1467fa9a95"
      },
      "execution_count": 25,
      "outputs": [
        {
          "output_type": "stream",
          "name": "stdout",
          "text": [
            "False\n"
          ]
        }
      ]
    },
    {
      "cell_type": "markdown",
      "source": [
        "# **Is Superset() In Sets :-**"
      ],
      "metadata": {
        "id": "sP6V0NNquBxh"
      }
    },
    {
      "cell_type": "code",
      "source": [
        "print(iron_man_1 >= iron_man_2)"
      ],
      "metadata": {
        "colab": {
          "base_uri": "https://localhost:8080/"
        },
        "id": "2z6nc6v2uH7T",
        "outputId": "4501f95f-142b-410f-f958-7b47277c914b"
      },
      "execution_count": 26,
      "outputs": [
        {
          "output_type": "stream",
          "name": "stdout",
          "text": [
            "False\n"
          ]
        }
      ]
    },
    {
      "cell_type": "code",
      "source": [
        "print(iron_man_2 >= iron_man_1)"
      ],
      "metadata": {
        "colab": {
          "base_uri": "https://localhost:8080/"
        },
        "id": "8Ojimw3TuL8A",
        "outputId": "6dc3cbe6-8411-4429-e403-f8c211427d89"
      },
      "execution_count": 27,
      "outputs": [
        {
          "output_type": "stream",
          "name": "stdout",
          "text": [
            "True\n"
          ]
        }
      ]
    },
    {
      "cell_type": "markdown",
      "source": [
        "# **Is Disjoint() In Sets --> Gives Output True When There Are No Common Elements :-**"
      ],
      "metadata": {
        "id": "3WmOlaShuPUi"
      }
    },
    {
      "cell_type": "code",
      "source": [
        "iron_man_1 = {'Tony', 'Warmachine'}\n",
        "iron_man_2 = {'Tony', 'Warmachine', 'Natasha'}\n",
        "print(iron_man_1.isdisjoint(iron_man_2))"
      ],
      "metadata": {
        "colab": {
          "base_uri": "https://localhost:8080/"
        },
        "id": "gVseuWgRua68",
        "outputId": "01810f98-d612-4ed2-af3b-e8e2949db49f"
      },
      "execution_count": 28,
      "outputs": [
        {
          "output_type": "stream",
          "name": "stdout",
          "text": [
            "False\n"
          ]
        }
      ]
    },
    {
      "cell_type": "code",
      "source": [
        "print(iron_man_2.isdisjoint(iron_man_1))"
      ],
      "metadata": {
        "colab": {
          "base_uri": "https://localhost:8080/"
        },
        "id": "jO53NVvMuf1z",
        "outputId": "00a12e6c-8f43-4a27-87fe-f974e752907f"
      },
      "execution_count": 29,
      "outputs": [
        {
          "output_type": "stream",
          "name": "stdout",
          "text": [
            "False\n"
          ]
        }
      ]
    },
    {
      "cell_type": "code",
      "source": [
        "hero_name = {'Tony', 'Steve', 'Thor'}\n",
        "villain_name = {'Thanos', 'Ultron', 'Vulture'}\n",
        "print(hero_name.isdisjoint(villain_name))"
      ],
      "metadata": {
        "colab": {
          "base_uri": "https://localhost:8080/"
        },
        "id": "e1HJO1WOukaJ",
        "outputId": "e39bc4cd-0ae3-4200-e421-0391d1566264"
      },
      "execution_count": 30,
      "outputs": [
        {
          "output_type": "stream",
          "name": "stdout",
          "text": [
            "True\n"
          ]
        }
      ]
    },
    {
      "cell_type": "markdown",
      "source": [
        "# **Symmetric Difference In Sets --> Generate A Set Having Elements Which Are Not Common In Either 1st Set Or 2nd Set :-**"
      ],
      "metadata": {
        "id": "rvS5bhVSunT4"
      }
    },
    {
      "cell_type": "code",
      "source": [
        "print(hero_name.symmetric_difference(villain_name))"
      ],
      "metadata": {
        "colab": {
          "base_uri": "https://localhost:8080/"
        },
        "id": "GyHbP75PuzQ_",
        "outputId": "a2e35bf9-c2d1-4bd5-8557-9ba232dfdf58"
      },
      "execution_count": 31,
      "outputs": [
        {
          "output_type": "stream",
          "name": "stdout",
          "text": [
            "{'Ultron', 'Vulture', 'Steve', 'Thor', 'Tony', 'Thanos'}\n"
          ]
        }
      ]
    },
    {
      "cell_type": "code",
      "source": [
        "print(hero_name ^ villain_name)"
      ],
      "metadata": {
        "colab": {
          "base_uri": "https://localhost:8080/"
        },
        "id": "xOF7K9Xlu6T3",
        "outputId": "7ff6315d-31cb-40a2-a0e4-3a342ca3a2bc"
      },
      "execution_count": 32,
      "outputs": [
        {
          "output_type": "stream",
          "name": "stdout",
          "text": [
            "{'Ultron', 'Vulture', 'Steve', 'Thor', 'Tony', 'Thanos'}\n"
          ]
        }
      ]
    },
    {
      "cell_type": "markdown",
      "source": [
        "# **Adding Elements In A Set :-**"
      ],
      "metadata": {
        "id": "7buaQ0w5u_9-"
      }
    },
    {
      "cell_type": "code",
      "source": [
        "hero_name = {'Tony', 'Steve', 'Thor'}\n",
        "hero_name.add('Hulk')\n",
        "hero_name"
      ],
      "metadata": {
        "colab": {
          "base_uri": "https://localhost:8080/"
        },
        "id": "wYRBeljOvIuP",
        "outputId": "ea4cf0bc-db5a-4946-a35a-a6dbad7b9a7b"
      },
      "execution_count": 33,
      "outputs": [
        {
          "output_type": "execute_result",
          "data": {
            "text/plain": [
              "{'Hulk', 'Steve', 'Thor', 'Tony'}"
            ]
          },
          "metadata": {},
          "execution_count": 33
        }
      ]
    },
    {
      "cell_type": "code",
      "source": [
        "hero_name.add('Hawkeye', 'Natasha')\n",
        "hero_name"
      ],
      "metadata": {
        "colab": {
          "base_uri": "https://localhost:8080/",
          "height": 183
        },
        "id": "r8KkygJFvOln",
        "outputId": "c8aba8cb-81c7-4255-a4d0-94f3c7f1a7f7"
      },
      "execution_count": 34,
      "outputs": [
        {
          "output_type": "error",
          "ename": "TypeError",
          "evalue": "ignored",
          "traceback": [
            "\u001b[0;31m---------------------------------------------------------------------------\u001b[0m",
            "\u001b[0;31mTypeError\u001b[0m                                 Traceback (most recent call last)",
            "\u001b[0;32m<ipython-input-34-3c6be3fb27a3>\u001b[0m in \u001b[0;36m<module>\u001b[0;34m()\u001b[0m\n\u001b[0;32m----> 1\u001b[0;31m \u001b[0mhero_name\u001b[0m\u001b[0;34m.\u001b[0m\u001b[0madd\u001b[0m\u001b[0;34m(\u001b[0m\u001b[0;34m'Hawkeye'\u001b[0m\u001b[0;34m,\u001b[0m \u001b[0;34m'Natasha'\u001b[0m\u001b[0;34m)\u001b[0m\u001b[0;34m\u001b[0m\u001b[0;34m\u001b[0m\u001b[0m\n\u001b[0m\u001b[1;32m      2\u001b[0m \u001b[0mhero_name\u001b[0m\u001b[0;34m\u001b[0m\u001b[0;34m\u001b[0m\u001b[0m\n",
            "\u001b[0;31mTypeError\u001b[0m: add() takes exactly one argument (2 given)"
          ]
        }
      ]
    },
    {
      "cell_type": "code",
      "source": [
        "hero_name.add(['Hawkeye', 'Natasha'])\n",
        "hero_name"
      ],
      "metadata": {
        "colab": {
          "base_uri": "https://localhost:8080/",
          "height": 183
        },
        "id": "Ol2vbNVrvR3e",
        "outputId": "b7c880da-de38-472d-8113-720cb185506b"
      },
      "execution_count": 35,
      "outputs": [
        {
          "output_type": "error",
          "ename": "TypeError",
          "evalue": "ignored",
          "traceback": [
            "\u001b[0;31m---------------------------------------------------------------------------\u001b[0m",
            "\u001b[0;31mTypeError\u001b[0m                                 Traceback (most recent call last)",
            "\u001b[0;32m<ipython-input-35-b898c573b9e2>\u001b[0m in \u001b[0;36m<module>\u001b[0;34m()\u001b[0m\n\u001b[0;32m----> 1\u001b[0;31m \u001b[0mhero_name\u001b[0m\u001b[0;34m.\u001b[0m\u001b[0madd\u001b[0m\u001b[0;34m(\u001b[0m\u001b[0;34m[\u001b[0m\u001b[0;34m'Hawkeye'\u001b[0m\u001b[0;34m,\u001b[0m \u001b[0;34m'Natasha'\u001b[0m\u001b[0;34m]\u001b[0m\u001b[0;34m)\u001b[0m\u001b[0;34m\u001b[0m\u001b[0;34m\u001b[0m\u001b[0m\n\u001b[0m\u001b[1;32m      2\u001b[0m \u001b[0mhero_name\u001b[0m\u001b[0;34m\u001b[0m\u001b[0;34m\u001b[0m\u001b[0m\n",
            "\u001b[0;31mTypeError\u001b[0m: unhashable type: 'list'"
          ]
        }
      ]
    },
    {
      "cell_type": "code",
      "source": [
        "hero_name.add({'Hawkeye', 'Natasha'})\n",
        "hero_name"
      ],
      "metadata": {
        "colab": {
          "base_uri": "https://localhost:8080/",
          "height": 183
        },
        "id": "hTJ_Y4WnvUhX",
        "outputId": "ab3e7b81-e5a5-45b1-c551-bcdf43e1b9d7"
      },
      "execution_count": 36,
      "outputs": [
        {
          "output_type": "error",
          "ename": "TypeError",
          "evalue": "ignored",
          "traceback": [
            "\u001b[0;31m---------------------------------------------------------------------------\u001b[0m",
            "\u001b[0;31mTypeError\u001b[0m                                 Traceback (most recent call last)",
            "\u001b[0;32m<ipython-input-36-03c11b5f0f75>\u001b[0m in \u001b[0;36m<module>\u001b[0;34m()\u001b[0m\n\u001b[0;32m----> 1\u001b[0;31m \u001b[0mhero_name\u001b[0m\u001b[0;34m.\u001b[0m\u001b[0madd\u001b[0m\u001b[0;34m(\u001b[0m\u001b[0;34m{\u001b[0m\u001b[0;34m'Hawkeye'\u001b[0m\u001b[0;34m,\u001b[0m \u001b[0;34m'Natasha'\u001b[0m\u001b[0;34m}\u001b[0m\u001b[0;34m)\u001b[0m\u001b[0;34m\u001b[0m\u001b[0;34m\u001b[0m\u001b[0m\n\u001b[0m\u001b[1;32m      2\u001b[0m \u001b[0mhero_name\u001b[0m\u001b[0;34m\u001b[0m\u001b[0;34m\u001b[0m\u001b[0m\n",
            "\u001b[0;31mTypeError\u001b[0m: unhashable type: 'set'"
          ]
        }
      ]
    },
    {
      "cell_type": "code",
      "source": [
        "hero_name.add(('Hawkeye', 'Natasha'))\n",
        "hero_name"
      ],
      "metadata": {
        "colab": {
          "base_uri": "https://localhost:8080/"
        },
        "id": "ziIvQzlNvXbX",
        "outputId": "ed785e33-775a-448c-c1d4-8f46e458ef20"
      },
      "execution_count": 37,
      "outputs": [
        {
          "output_type": "execute_result",
          "data": {
            "text/plain": [
              "{('Hawkeye', 'Natasha'), 'Hulk', 'Steve', 'Thor', 'Tony'}"
            ]
          },
          "metadata": {},
          "execution_count": 37
        }
      ]
    },
    {
      "cell_type": "markdown",
      "source": [
        "# **Remove Elements From A Set :-**"
      ],
      "metadata": {
        "id": "kF3IZpxxvb4u"
      }
    },
    {
      "cell_type": "code",
      "source": [
        "hero = {'Hulk', 'Steve', 'Thor', 'Tony'}\n",
        "hero.remove('Thor')\n",
        "hero"
      ],
      "metadata": {
        "colab": {
          "base_uri": "https://localhost:8080/"
        },
        "id": "T2Fok3_dvheV",
        "outputId": "7b5d2ac6-69e8-476a-cc6d-ca30d966f5fe"
      },
      "execution_count": 38,
      "outputs": [
        {
          "output_type": "execute_result",
          "data": {
            "text/plain": [
              "{'Hulk', 'Steve', 'Tony'}"
            ]
          },
          "metadata": {},
          "execution_count": 38
        }
      ]
    },
    {
      "cell_type": "code",
      "source": [
        "hero = {'Hulk', 'Steve', 'Thor', 'Tony'}\n",
        "hero.discard('Thor')\n",
        "hero"
      ],
      "metadata": {
        "colab": {
          "base_uri": "https://localhost:8080/"
        },
        "id": "V0fNucC2vlZu",
        "outputId": "04c7a711-3ad8-486c-b295-e599c4806a00"
      },
      "execution_count": 39,
      "outputs": [
        {
          "output_type": "execute_result",
          "data": {
            "text/plain": [
              "{'Hulk', 'Steve', 'Tony'}"
            ]
          },
          "metadata": {},
          "execution_count": 39
        }
      ]
    },
    {
      "cell_type": "code",
      "source": [
        "hero = {'Hulk', 'Steve', 'Tony'}\n",
        "hero.remove('Thor')\n",
        "hero"
      ],
      "metadata": {
        "colab": {
          "base_uri": "https://localhost:8080/",
          "height": 200
        },
        "id": "x7SwmeSLvoQl",
        "outputId": "091cf429-35dd-4a50-ebe4-8e5bdfff7ad1"
      },
      "execution_count": 40,
      "outputs": [
        {
          "output_type": "error",
          "ename": "KeyError",
          "evalue": "ignored",
          "traceback": [
            "\u001b[0;31m---------------------------------------------------------------------------\u001b[0m",
            "\u001b[0;31mKeyError\u001b[0m                                  Traceback (most recent call last)",
            "\u001b[0;32m<ipython-input-40-6f774dac4276>\u001b[0m in \u001b[0;36m<module>\u001b[0;34m()\u001b[0m\n\u001b[1;32m      1\u001b[0m \u001b[0mhero\u001b[0m \u001b[0;34m=\u001b[0m \u001b[0;34m{\u001b[0m\u001b[0;34m'Hulk'\u001b[0m\u001b[0;34m,\u001b[0m \u001b[0;34m'Steve'\u001b[0m\u001b[0;34m,\u001b[0m \u001b[0;34m'Tony'\u001b[0m\u001b[0;34m}\u001b[0m\u001b[0;34m\u001b[0m\u001b[0;34m\u001b[0m\u001b[0m\n\u001b[0;32m----> 2\u001b[0;31m \u001b[0mhero\u001b[0m\u001b[0;34m.\u001b[0m\u001b[0mremove\u001b[0m\u001b[0;34m(\u001b[0m\u001b[0;34m'Thor'\u001b[0m\u001b[0;34m)\u001b[0m\u001b[0;34m\u001b[0m\u001b[0;34m\u001b[0m\u001b[0m\n\u001b[0m\u001b[1;32m      3\u001b[0m \u001b[0mhero\u001b[0m\u001b[0;34m\u001b[0m\u001b[0;34m\u001b[0m\u001b[0m\n",
            "\u001b[0;31mKeyError\u001b[0m: 'Thor'"
          ]
        }
      ]
    },
    {
      "cell_type": "code",
      "source": [
        "hero = {'Hulk', 'Steve', 'Tony'}\n",
        "hero.discard('Thor')\n",
        "hero"
      ],
      "metadata": {
        "colab": {
          "base_uri": "https://localhost:8080/"
        },
        "id": "wa2tHAnnvr7B",
        "outputId": "f2144ad4-6b2e-479d-d280-17754d5af83d"
      },
      "execution_count": 41,
      "outputs": [
        {
          "output_type": "execute_result",
          "data": {
            "text/plain": [
              "{'Hulk', 'Steve', 'Tony'}"
            ]
          },
          "metadata": {},
          "execution_count": 41
        }
      ]
    },
    {
      "cell_type": "code",
      "source": [
        "hero.pop() # it will remove element randomly\n",
        "hero"
      ],
      "metadata": {
        "colab": {
          "base_uri": "https://localhost:8080/"
        },
        "id": "cuQDW6iDvv4V",
        "outputId": "ecb3e737-642f-46db-ea3a-a18128756422"
      },
      "execution_count": 42,
      "outputs": [
        {
          "output_type": "execute_result",
          "data": {
            "text/plain": [
              "{'Hulk', 'Tony'}"
            ]
          },
          "metadata": {},
          "execution_count": 42
        }
      ]
    },
    {
      "cell_type": "code",
      "source": [
        "hero.pop() # it will remove element randomly\n",
        "hero"
      ],
      "metadata": {
        "colab": {
          "base_uri": "https://localhost:8080/"
        },
        "id": "7FWXGTFGvykt",
        "outputId": "e756be38-3719-4b67-bcde-fdbfb040b5ea"
      },
      "execution_count": 43,
      "outputs": [
        {
          "output_type": "execute_result",
          "data": {
            "text/plain": [
              "{'Hulk'}"
            ]
          },
          "metadata": {},
          "execution_count": 43
        }
      ]
    },
    {
      "cell_type": "code",
      "source": [
        "hero.pop() # it will remove element randomly\n",
        "hero"
      ],
      "metadata": {
        "colab": {
          "base_uri": "https://localhost:8080/"
        },
        "id": "EZXzpystv1Ac",
        "outputId": "963fad0f-a1bd-473b-d5c1-54dd3ab27ba6"
      },
      "execution_count": 44,
      "outputs": [
        {
          "output_type": "execute_result",
          "data": {
            "text/plain": [
              "set()"
            ]
          },
          "metadata": {},
          "execution_count": 44
        }
      ]
    },
    {
      "cell_type": "code",
      "source": [
        "hero.pop() # it will remove element randomly\n",
        "hero"
      ],
      "metadata": {
        "colab": {
          "base_uri": "https://localhost:8080/",
          "height": 183
        },
        "id": "haQ6dlfsv4xx",
        "outputId": "ebe904f7-427e-410b-cbf2-bee54f2096fe"
      },
      "execution_count": 45,
      "outputs": [
        {
          "output_type": "error",
          "ename": "KeyError",
          "evalue": "ignored",
          "traceback": [
            "\u001b[0;31m---------------------------------------------------------------------------\u001b[0m",
            "\u001b[0;31mKeyError\u001b[0m                                  Traceback (most recent call last)",
            "\u001b[0;32m<ipython-input-45-3713be9f6c55>\u001b[0m in \u001b[0;36m<module>\u001b[0;34m()\u001b[0m\n\u001b[0;32m----> 1\u001b[0;31m \u001b[0mhero\u001b[0m\u001b[0;34m.\u001b[0m\u001b[0mpop\u001b[0m\u001b[0;34m(\u001b[0m\u001b[0;34m)\u001b[0m \u001b[0;31m# it will remove element randomly\u001b[0m\u001b[0;34m\u001b[0m\u001b[0;34m\u001b[0m\u001b[0m\n\u001b[0m\u001b[1;32m      2\u001b[0m \u001b[0mhero\u001b[0m\u001b[0;34m\u001b[0m\u001b[0;34m\u001b[0m\u001b[0m\n",
            "\u001b[0;31mKeyError\u001b[0m: 'pop from an empty set'"
          ]
        }
      ]
    },
    {
      "cell_type": "code",
      "source": [
        "hero = {'Hulk', 'Steve', 'Tony'}\n",
        "hero.clear()\n",
        "hero"
      ],
      "metadata": {
        "colab": {
          "base_uri": "https://localhost:8080/"
        },
        "id": "rRH1DuWbv7wd",
        "outputId": "1b6c0a85-20aa-4eb0-a098-d8bd71cc4049"
      },
      "execution_count": 46,
      "outputs": [
        {
          "output_type": "execute_result",
          "data": {
            "text/plain": [
              "set()"
            ]
          },
          "metadata": {},
          "execution_count": 46
        }
      ]
    },
    {
      "cell_type": "code",
      "source": [
        "hero = {'Hulk', 'Steve', 'Tony'}\n",
        "hero.pop('Hulk')\n",
        "hero"
      ],
      "metadata": {
        "colab": {
          "base_uri": "https://localhost:8080/",
          "height": 200
        },
        "id": "Dk1cteRMv-II",
        "outputId": "5e0cb2e9-5702-4fd3-9f7f-db000fd71be8"
      },
      "execution_count": 47,
      "outputs": [
        {
          "output_type": "error",
          "ename": "TypeError",
          "evalue": "ignored",
          "traceback": [
            "\u001b[0;31m---------------------------------------------------------------------------\u001b[0m",
            "\u001b[0;31mTypeError\u001b[0m                                 Traceback (most recent call last)",
            "\u001b[0;32m<ipython-input-47-8cf389d49c9e>\u001b[0m in \u001b[0;36m<module>\u001b[0;34m()\u001b[0m\n\u001b[1;32m      1\u001b[0m \u001b[0mhero\u001b[0m \u001b[0;34m=\u001b[0m \u001b[0;34m{\u001b[0m\u001b[0;34m'Hulk'\u001b[0m\u001b[0;34m,\u001b[0m \u001b[0;34m'Steve'\u001b[0m\u001b[0;34m,\u001b[0m \u001b[0;34m'Tony'\u001b[0m\u001b[0;34m}\u001b[0m\u001b[0;34m\u001b[0m\u001b[0;34m\u001b[0m\u001b[0m\n\u001b[0;32m----> 2\u001b[0;31m \u001b[0mhero\u001b[0m\u001b[0;34m.\u001b[0m\u001b[0mpop\u001b[0m\u001b[0;34m(\u001b[0m\u001b[0;34m'Hulk'\u001b[0m\u001b[0;34m)\u001b[0m\u001b[0;34m\u001b[0m\u001b[0;34m\u001b[0m\u001b[0m\n\u001b[0m\u001b[1;32m      3\u001b[0m \u001b[0mhero\u001b[0m\u001b[0;34m\u001b[0m\u001b[0;34m\u001b[0m\u001b[0m\n",
            "\u001b[0;31mTypeError\u001b[0m: pop() takes no arguments (1 given)"
          ]
        }
      ]
    },
    {
      "cell_type": "markdown",
      "source": [
        "# **Augmented Assignment Operator :-**"
      ],
      "metadata": {
        "id": "WdK_0jAywAUL"
      }
    },
    {
      "cell_type": "code",
      "source": [
        "# a = a + b\n",
        "# a += b"
      ],
      "metadata": {
        "id": "tQcibw6OwC6M"
      },
      "execution_count": 48,
      "outputs": []
    },
    {
      "cell_type": "code",
      "source": [
        "# a = a | b\n",
        "# a |= b"
      ],
      "metadata": {
        "id": "Ys61WBC4wHOJ"
      },
      "execution_count": 49,
      "outputs": []
    },
    {
      "cell_type": "code",
      "source": [
        "# a.union(b) --> a.union_update(b)\n",
        "# a.intersection(b) --> a.intersection_update(b)"
      ],
      "metadata": {
        "id": "Kx77JPF8wJ25"
      },
      "execution_count": 50,
      "outputs": []
    },
    {
      "cell_type": "markdown",
      "source": [
        "# **Frozen Sets :-**"
      ],
      "metadata": {
        "id": "ywJsEEUowNvm"
      }
    },
    {
      "cell_type": "code",
      "source": [
        "hero = frozenset(['Hulk', 'Steve', 'Tony'])\n",
        "print(hero)\n",
        "print(type(hero))"
      ],
      "metadata": {
        "colab": {
          "base_uri": "https://localhost:8080/"
        },
        "id": "ZIt8cqOmwP4Y",
        "outputId": "383a34cc-03bf-4d06-9332-965808073528"
      },
      "execution_count": 51,
      "outputs": [
        {
          "output_type": "stream",
          "name": "stdout",
          "text": [
            "frozenset({'Steve', 'Tony', 'Hulk'})\n",
            "<class 'frozenset'>\n"
          ]
        }
      ]
    },
    {
      "cell_type": "code",
      "source": [
        "hero.pop()\n",
        "hero"
      ],
      "metadata": {
        "colab": {
          "base_uri": "https://localhost:8080/",
          "height": 183
        },
        "id": "gWA7luEzwUMZ",
        "outputId": "06f8de2d-4c57-43ee-e786-571c0bba1ad0"
      },
      "execution_count": 52,
      "outputs": [
        {
          "output_type": "error",
          "ename": "AttributeError",
          "evalue": "ignored",
          "traceback": [
            "\u001b[0;31m---------------------------------------------------------------------------\u001b[0m",
            "\u001b[0;31mAttributeError\u001b[0m                            Traceback (most recent call last)",
            "\u001b[0;32m<ipython-input-52-5e05cea85b48>\u001b[0m in \u001b[0;36m<module>\u001b[0;34m()\u001b[0m\n\u001b[0;32m----> 1\u001b[0;31m \u001b[0mhero\u001b[0m\u001b[0;34m.\u001b[0m\u001b[0mpop\u001b[0m\u001b[0;34m(\u001b[0m\u001b[0;34m)\u001b[0m\u001b[0;34m\u001b[0m\u001b[0;34m\u001b[0m\u001b[0m\n\u001b[0m\u001b[1;32m      2\u001b[0m \u001b[0mhero\u001b[0m\u001b[0;34m\u001b[0m\u001b[0;34m\u001b[0m\u001b[0m\n",
            "\u001b[0;31mAttributeError\u001b[0m: 'frozenset' object has no attribute 'pop'"
          ]
        }
      ]
    },
    {
      "cell_type": "code",
      "source": [
        "hero.clear()\n",
        "hero"
      ],
      "metadata": {
        "colab": {
          "base_uri": "https://localhost:8080/",
          "height": 183
        },
        "id": "lHWRpnx3wW9Y",
        "outputId": "e1bf9a60-5096-43c0-bcfd-cdacd0c166e0"
      },
      "execution_count": 53,
      "outputs": [
        {
          "output_type": "error",
          "ename": "AttributeError",
          "evalue": "ignored",
          "traceback": [
            "\u001b[0;31m---------------------------------------------------------------------------\u001b[0m",
            "\u001b[0;31mAttributeError\u001b[0m                            Traceback (most recent call last)",
            "\u001b[0;32m<ipython-input-53-b590bd682be5>\u001b[0m in \u001b[0;36m<module>\u001b[0;34m()\u001b[0m\n\u001b[0;32m----> 1\u001b[0;31m \u001b[0mhero\u001b[0m\u001b[0;34m.\u001b[0m\u001b[0mclear\u001b[0m\u001b[0;34m(\u001b[0m\u001b[0;34m)\u001b[0m\u001b[0;34m\u001b[0m\u001b[0;34m\u001b[0m\u001b[0m\n\u001b[0m\u001b[1;32m      2\u001b[0m \u001b[0mhero\u001b[0m\u001b[0;34m\u001b[0m\u001b[0;34m\u001b[0m\u001b[0m\n",
            "\u001b[0;31mAttributeError\u001b[0m: 'frozenset' object has no attribute 'clear'"
          ]
        }
      ]
    },
    {
      "cell_type": "code",
      "source": [
        "hero.add('Thor')\n",
        "hero"
      ],
      "metadata": {
        "colab": {
          "base_uri": "https://localhost:8080/",
          "height": 183
        },
        "id": "lWfOI0nswZrV",
        "outputId": "31464843-ba24-4edc-b6ef-d33547c918bd"
      },
      "execution_count": 54,
      "outputs": [
        {
          "output_type": "error",
          "ename": "AttributeError",
          "evalue": "ignored",
          "traceback": [
            "\u001b[0;31m---------------------------------------------------------------------------\u001b[0m",
            "\u001b[0;31mAttributeError\u001b[0m                            Traceback (most recent call last)",
            "\u001b[0;32m<ipython-input-54-11f35f92c9af>\u001b[0m in \u001b[0;36m<module>\u001b[0;34m()\u001b[0m\n\u001b[0;32m----> 1\u001b[0;31m \u001b[0mhero\u001b[0m\u001b[0;34m.\u001b[0m\u001b[0madd\u001b[0m\u001b[0;34m(\u001b[0m\u001b[0;34m'Thor'\u001b[0m\u001b[0;34m)\u001b[0m\u001b[0;34m\u001b[0m\u001b[0;34m\u001b[0m\u001b[0m\n\u001b[0m\u001b[1;32m      2\u001b[0m \u001b[0mhero\u001b[0m\u001b[0;34m\u001b[0m\u001b[0;34m\u001b[0m\u001b[0m\n",
            "\u001b[0;31mAttributeError\u001b[0m: 'frozenset' object has no attribute 'add'"
          ]
        }
      ]
    },
    {
      "cell_type": "code",
      "source": [
        "hero = frozenset(['Hulk', 'Steve', 'Tony'])\n",
        "print(hero)\n",
        "new_hero = {'Strange', 'Spiderman'}\n",
        "hero |= new_hero\n",
        "print(hero)"
      ],
      "metadata": {
        "colab": {
          "base_uri": "https://localhost:8080/"
        },
        "id": "gAN-zymNwcrt",
        "outputId": "32a5bfee-6984-4f37-fc67-6bd4d360e82a"
      },
      "execution_count": 55,
      "outputs": [
        {
          "output_type": "stream",
          "name": "stdout",
          "text": [
            "frozenset({'Steve', 'Tony', 'Hulk'})\n",
            "frozenset({'Tony', 'Spiderman', 'Strange', 'Steve', 'Hulk'})\n"
          ]
        }
      ]
    },
    {
      "cell_type": "code",
      "source": [
        "hero = frozenset(['Hulk', 'Steve', 'Tony'])\n",
        "print(id(hero))\n",
        "new_hero = {'Strange', 'Spiderman'}\n",
        "hero |= new_hero\n",
        "print(id(hero))"
      ],
      "metadata": {
        "colab": {
          "base_uri": "https://localhost:8080/"
        },
        "id": "nLnkPQrFwgK0",
        "outputId": "0db48420-6912-4326-abda-49e0601b1680"
      },
      "execution_count": 56,
      "outputs": [
        {
          "output_type": "stream",
          "name": "stdout",
          "text": [
            "140080203433936\n",
            "140080203432016\n"
          ]
        }
      ]
    },
    {
      "cell_type": "markdown",
      "source": [
        "# **Set Comprehension :-**"
      ],
      "metadata": {
        "id": "lFt0Ssjzwqcs"
      }
    },
    {
      "cell_type": "code",
      "source": [
        "num = [4, 3, 2, 1, 1, 5, 3, 4]\n",
        "set_com = {i for i in num}\n",
        "print(set_com)"
      ],
      "metadata": {
        "colab": {
          "base_uri": "https://localhost:8080/"
        },
        "id": "Rz9NAtapwtBn",
        "outputId": "581b23d6-4e40-4d0b-9880-cfbc93316ca7"
      },
      "execution_count": 57,
      "outputs": [
        {
          "output_type": "stream",
          "name": "stdout",
          "text": [
            "{1, 2, 3, 4, 5}\n"
          ]
        }
      ]
    },
    {
      "cell_type": "code",
      "source": [
        ""
      ],
      "metadata": {
        "id": "uBwbXM7bwwvh"
      },
      "execution_count": null,
      "outputs": []
    }
  ]
}