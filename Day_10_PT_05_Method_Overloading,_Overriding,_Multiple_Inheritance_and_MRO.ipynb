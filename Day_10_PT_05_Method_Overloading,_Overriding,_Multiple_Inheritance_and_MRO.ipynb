{
  "nbformat": 4,
  "nbformat_minor": 0,
  "metadata": {
    "colab": {
      "name": "Day_10_PT_05_Method_Overloading,_Overriding,_Multiple_Inheritance_and_MRO.ipynb",
      "provenance": [],
      "authorship_tag": "ABX9TyP6v/orDI/+AWi+ySKh6B6b",
      "include_colab_link": true
    },
    "kernelspec": {
      "name": "python3",
      "display_name": "Python 3"
    },
    "language_info": {
      "name": "python"
    }
  },
  "cells": [
    {
      "cell_type": "markdown",
      "metadata": {
        "id": "view-in-github",
        "colab_type": "text"
      },
      "source": [
        "<a href=\"https://colab.research.google.com/github/Aditya2086/Python-Training/blob/main/Day_10_PT_05_Method_Overloading%2C_Overriding%2C_Multiple_Inheritance_and_MRO.ipynb\" target=\"_parent\"><img src=\"https://colab.research.google.com/assets/colab-badge.svg\" alt=\"Open In Colab\"/></a>"
      ]
    },
    {
      "cell_type": "code",
      "execution_count": 1,
      "metadata": {
        "colab": {
          "base_uri": "https://localhost:8080/"
        },
        "id": "a9GLoNDVOFbK",
        "outputId": "fd2a8b61-e873-466f-d3e5-4711e8cfc855"
      },
      "outputs": [
        {
          "output_type": "execute_result",
          "data": {
            "text/plain": [
              "183"
            ]
          },
          "metadata": {},
          "execution_count": 1
        }
      ],
      "source": [
        "class student:\n",
        "  def __init__(self, roll1, roll2):\n",
        "    self.roll1 = roll1\n",
        "    self.roll2 = roll2\n",
        "\n",
        "  def my_sum(self, a, b):\n",
        "    s = a + b\n",
        "    return s\n",
        "\n",
        "res = student(10, 11)\n",
        "res.my_sum(85,98)"
      ]
    },
    {
      "cell_type": "code",
      "source": [
        "class student:\n",
        "  def __init__(self, roll1, roll2):\n",
        "    self.roll1 = roll1\n",
        "    self.roll2 = roll2\n",
        "\n",
        "  def my_sum(self, a, b, c = 10):\n",
        "    s = a + b\n",
        "    return s\n",
        "\n",
        "  def my_sum(self, a, b, c):\n",
        "    s = a + b + c\n",
        "    return s\n",
        "\n",
        "res = student(10, 11)\n",
        "res.my_sum(85,98)"
      ],
      "metadata": {
        "colab": {
          "base_uri": "https://localhost:8080/",
          "height": 200
        },
        "id": "pcY5c-HPPcQP",
        "outputId": "bdaef691-786e-4da4-9a91-bb73c1bc36db"
      },
      "execution_count": 2,
      "outputs": [
        {
          "output_type": "error",
          "ename": "TypeError",
          "evalue": "ignored",
          "traceback": [
            "\u001b[0;31m---------------------------------------------------------------------------\u001b[0m",
            "\u001b[0;31mTypeError\u001b[0m                                 Traceback (most recent call last)",
            "\u001b[0;32m<ipython-input-2-3664ae636a11>\u001b[0m in \u001b[0;36m<module>\u001b[0;34m()\u001b[0m\n\u001b[1;32m     13\u001b[0m \u001b[0;34m\u001b[0m\u001b[0m\n\u001b[1;32m     14\u001b[0m \u001b[0mres\u001b[0m \u001b[0;34m=\u001b[0m \u001b[0mstudent\u001b[0m\u001b[0;34m(\u001b[0m\u001b[0;36m10\u001b[0m\u001b[0;34m,\u001b[0m \u001b[0;36m11\u001b[0m\u001b[0;34m)\u001b[0m\u001b[0;34m\u001b[0m\u001b[0;34m\u001b[0m\u001b[0m\n\u001b[0;32m---> 15\u001b[0;31m \u001b[0mres\u001b[0m\u001b[0;34m.\u001b[0m\u001b[0mmy_sum\u001b[0m\u001b[0;34m(\u001b[0m\u001b[0;36m85\u001b[0m\u001b[0;34m,\u001b[0m\u001b[0;36m98\u001b[0m\u001b[0;34m)\u001b[0m\u001b[0;34m\u001b[0m\u001b[0;34m\u001b[0m\u001b[0m\n\u001b[0m",
            "\u001b[0;31mTypeError\u001b[0m: my_sum() missing 1 required positional argument: 'c'"
          ]
        }
      ]
    },
    {
      "cell_type": "code",
      "source": [
        "class water_animal:\n",
        "  def water(self):\n",
        "    print('frog lives in water')\n",
        "\n",
        "class land_animal:\n",
        "  def land(self):\n",
        "    print('frog lives on land')\n",
        "\n",
        "class land_and_water(land_animal):\n",
        "  def land_water(self):\n",
        "    print('frog lives on land and in water')\n",
        "\n",
        "law = land_and_water()\n",
        "law.land_water()"
      ],
      "metadata": {
        "colab": {
          "base_uri": "https://localhost:8080/"
        },
        "id": "x68W3gTBPfcj",
        "outputId": "9f045ea6-5d5d-441a-ce40-0882a00dec58"
      },
      "execution_count": 3,
      "outputs": [
        {
          "output_type": "stream",
          "name": "stdout",
          "text": [
            "frog lives on land and in water\n"
          ]
        }
      ]
    },
    {
      "cell_type": "code",
      "source": [
        "class water_animal:\n",
        "  def land_water(self):\n",
        "    print('frog lives in water')\n",
        "\n",
        "class land_animal:\n",
        "  def land_water(self):\n",
        "    print('frog lives on land')\n",
        "\n",
        "class land_and_water(land_animal):\n",
        "  def land_water(self):\n",
        "    print('frog lives on land and in water')\n",
        "\n",
        "law = land_and_water()\n",
        "law.land_water()"
      ],
      "metadata": {
        "colab": {
          "base_uri": "https://localhost:8080/"
        },
        "id": "Lu90curlPiDx",
        "outputId": "3f245852-4584-4d41-f317-5e5004b39be5"
      },
      "execution_count": 4,
      "outputs": [
        {
          "output_type": "stream",
          "name": "stdout",
          "text": [
            "frog lives on land and in water\n"
          ]
        }
      ]
    },
    {
      "cell_type": "code",
      "source": [
        "class water_animal:\n",
        "  def land_water(self):\n",
        "    print('frog lives in water')\n",
        "\n",
        "class land_animal:\n",
        "  def land_water(self):\n",
        "    print('frog lives on land')\n",
        "\n",
        "class land_and_water(water_animal, land_animal):\n",
        "  def land_water(self):\n",
        "    print('frog lives on land and in water')\n",
        "\n",
        "law = land_and_water()\n",
        "law.land_water()"
      ],
      "metadata": {
        "colab": {
          "base_uri": "https://localhost:8080/"
        },
        "id": "KuC1zR4UPktl",
        "outputId": "ef9a2a12-0566-492d-ec39-cb36409e84cd"
      },
      "execution_count": 5,
      "outputs": [
        {
          "output_type": "stream",
          "name": "stdout",
          "text": [
            "frog lives on land and in water\n"
          ]
        }
      ]
    },
    {
      "cell_type": "code",
      "source": [
        "class water_animal:\n",
        "  def land_water(self):\n",
        "    print('frog lives in water')\n",
        "\n",
        "class land_animal(water_animal):\n",
        "  def land_water(self):\n",
        "    print('frog lives on land')\n",
        "\n",
        "class air_animal(water_animal):\n",
        "  def land_water(self):\n",
        "    print('Duck can swim and fly')\n",
        "\n",
        "class land_and_water(air_animal, water_animal):\n",
        "    pass\n",
        "\n",
        "law = land_and_water()\n",
        "law.land_water()"
      ],
      "metadata": {
        "colab": {
          "base_uri": "https://localhost:8080/"
        },
        "id": "XEY9Ml5pPnPc",
        "outputId": "645fbda6-3517-4a37-a354-e2b40a34f4ae"
      },
      "execution_count": 6,
      "outputs": [
        {
          "output_type": "stream",
          "name": "stdout",
          "text": [
            "Duck can swim and fly\n"
          ]
        }
      ]
    },
    {
      "cell_type": "code",
      "source": [
        "print(land_and_water.mro())"
      ],
      "metadata": {
        "colab": {
          "base_uri": "https://localhost:8080/"
        },
        "id": "9mVeWgIRPqGr",
        "outputId": "12cc0274-cded-46b8-b14a-482304f23e31"
      },
      "execution_count": 7,
      "outputs": [
        {
          "output_type": "stream",
          "name": "stdout",
          "text": [
            "[<class '__main__.land_and_water'>, <class '__main__.air_animal'>, <class '__main__.water_animal'>, <class 'object'>]\n"
          ]
        }
      ]
    },
    {
      "cell_type": "code",
      "source": [
        "class C1:\n",
        "  def m(self):\n",
        "    print('In Class 1')\n",
        "\n",
        "class C2(C1):\n",
        "  def m(self):\n",
        "    print('In Class 2')\n",
        "\n",
        "class C3(C1):\n",
        "  def m(self):\n",
        "    print('In Class 3')\n",
        "\n",
        "class C4(C2, C3):\n",
        "  pass\n",
        "\n",
        "obj = C4()\n",
        "obj.m()"
      ],
      "metadata": {
        "colab": {
          "base_uri": "https://localhost:8080/"
        },
        "id": "P-iFbL7-Prz2",
        "outputId": "87cf3895-c412-4167-c091-9df4c19823ef"
      },
      "execution_count": 8,
      "outputs": [
        {
          "output_type": "stream",
          "name": "stdout",
          "text": [
            "In Class 2\n"
          ]
        }
      ]
    },
    {
      "cell_type": "code",
      "source": [
        "print(C4.mro())"
      ],
      "metadata": {
        "colab": {
          "base_uri": "https://localhost:8080/"
        },
        "id": "nAoq-yHaPt_y",
        "outputId": "644d1722-5069-4727-ddc5-70112c3a1ef8"
      },
      "execution_count": 9,
      "outputs": [
        {
          "output_type": "stream",
          "name": "stdout",
          "text": [
            "[<class '__main__.C4'>, <class '__main__.C2'>, <class '__main__.C3'>, <class '__main__.C1'>, <class 'object'>]\n"
          ]
        }
      ]
    },
    {
      "cell_type": "code",
      "source": [
        "# Polymorphism\n",
        "class Student :\n",
        "  def __init__(self,roll1,roll2):\n",
        "    self.roll1 = roll1\n",
        "    self.roll2 = roll2\n",
        "\n",
        "  def my_sum(self,x,y):\n",
        "    z = x + y\n",
        "    return z\n",
        "\n",
        "r = Student(54,45)\n",
        "r.my_sum(65,96)"
      ],
      "metadata": {
        "colab": {
          "base_uri": "https://localhost:8080/"
        },
        "id": "GNjYIJqZPv_m",
        "outputId": "31df5f21-851a-4399-8767-f142c9cef5ad"
      },
      "execution_count": 10,
      "outputs": [
        {
          "output_type": "execute_result",
          "data": {
            "text/plain": [
              "161"
            ]
          },
          "metadata": {},
          "execution_count": 10
        }
      ]
    },
    {
      "cell_type": "code",
      "source": [
        "# Polymorphism\n",
        "# Python Don't Support Method Overloading.\n",
        "class Student :\n",
        "  def __init__(self,roll1,roll2):\n",
        "    self.roll1 = roll1\n",
        "    self.roll2 = roll2\n",
        "\n",
        "  def my_sum(self,x,y):\n",
        "    z = x + y\n",
        "    return z\n",
        "\n",
        "  def my_sum(self,x,y,t):\n",
        "    z = x + y + t\n",
        "    return z\n",
        "\n",
        "r = Student(54,45)\n",
        "r.my_sum(65,96) # doesn't accepts two arguments"
      ],
      "metadata": {
        "colab": {
          "base_uri": "https://localhost:8080/",
          "height": 200
        },
        "id": "avcmVZzZQdYh",
        "outputId": "434fee2f-5b73-41a5-e61f-6b28c38c0fb2"
      },
      "execution_count": 11,
      "outputs": [
        {
          "output_type": "error",
          "ename": "TypeError",
          "evalue": "ignored",
          "traceback": [
            "\u001b[0;31m---------------------------------------------------------------------------\u001b[0m",
            "\u001b[0;31mTypeError\u001b[0m                                 Traceback (most recent call last)",
            "\u001b[0;32m<ipython-input-11-4341ae2da34a>\u001b[0m in \u001b[0;36m<module>\u001b[0;34m()\u001b[0m\n\u001b[1;32m     15\u001b[0m \u001b[0;34m\u001b[0m\u001b[0m\n\u001b[1;32m     16\u001b[0m \u001b[0mr\u001b[0m \u001b[0;34m=\u001b[0m \u001b[0mStudent\u001b[0m\u001b[0;34m(\u001b[0m\u001b[0;36m54\u001b[0m\u001b[0;34m,\u001b[0m\u001b[0;36m45\u001b[0m\u001b[0;34m)\u001b[0m\u001b[0;34m\u001b[0m\u001b[0;34m\u001b[0m\u001b[0m\n\u001b[0;32m---> 17\u001b[0;31m \u001b[0mr\u001b[0m\u001b[0;34m.\u001b[0m\u001b[0mmy_sum\u001b[0m\u001b[0;34m(\u001b[0m\u001b[0;36m65\u001b[0m\u001b[0;34m,\u001b[0m\u001b[0;36m96\u001b[0m\u001b[0;34m)\u001b[0m \u001b[0;31m# doesn't accepts two arguments\u001b[0m\u001b[0;34m\u001b[0m\u001b[0;34m\u001b[0m\u001b[0m\n\u001b[0m",
            "\u001b[0;31mTypeError\u001b[0m: my_sum() missing 1 required positional argument: 't'"
          ]
        }
      ]
    },
    {
      "cell_type": "code",
      "source": [
        "# Polymorphism\n",
        "class Student :\n",
        "  def __init__(self,roll1,roll2):\n",
        "    self.roll1 = roll1\n",
        "    self.roll2 = roll2\n",
        "\n",
        "  def my_sum(self,x,y):\n",
        "    z = x + y\n",
        "    return z\n",
        "\n",
        "  def my_sum(self,x,y,t):\n",
        "    z = x + y + t\n",
        "    return z\n",
        "\n",
        "r = Student(54,45)\n",
        "r.my_sum(65,96,66) # works well with three arguments"
      ],
      "metadata": {
        "colab": {
          "base_uri": "https://localhost:8080/"
        },
        "id": "5f9avz7TQqiA",
        "outputId": "439114e3-6e1a-4a70-af17-23d48de610fc"
      },
      "execution_count": 12,
      "outputs": [
        {
          "output_type": "execute_result",
          "data": {
            "text/plain": [
              "227"
            ]
          },
          "metadata": {},
          "execution_count": 12
        }
      ]
    },
    {
      "cell_type": "code",
      "source": [
        "# Polymorphism\n",
        "class Student :\n",
        "  def __init__(self,roll1,roll2):\n",
        "    self.roll1 = roll1\n",
        "    self.roll2 = roll2\n",
        "\n",
        "  def my_sum(self,x,y,t=45): # default argumentation\n",
        "    z = x + y + t\n",
        "    return z\n",
        "\n",
        "r = Student(54,45)\n",
        "r.my_sum(65,96)"
      ],
      "metadata": {
        "colab": {
          "base_uri": "https://localhost:8080/"
        },
        "id": "my8l21QWQyuJ",
        "outputId": "3f440690-92d3-4101-c64c-3d94cd44b0db"
      },
      "execution_count": 13,
      "outputs": [
        {
          "output_type": "execute_result",
          "data": {
            "text/plain": [
              "206"
            ]
          },
          "metadata": {},
          "execution_count": 13
        }
      ]
    },
    {
      "cell_type": "code",
      "source": [
        "# Single Inheritance\n",
        "class water_animal: # parent class\n",
        "  def water(self):\n",
        "    print('frog lives in water')\n",
        "\n",
        "class land_animal: # parent class\n",
        "  def land(self):\n",
        "    print('frog lives on land')\n",
        "\n",
        "class land_and_water(land_animal): # this class inherits 'land_animal' class and so it's a child class\n",
        "  def land_water(self):\n",
        "    print('frog lives on land and in water') # body present so it will be printed\n",
        "\n",
        "law = land_and_water() # instance of third class\n",
        "law.land_water()"
      ],
      "metadata": {
        "colab": {
          "base_uri": "https://localhost:8080/"
        },
        "id": "8fx8AorkQ6w-",
        "outputId": "a0dbba1a-8845-4aee-e34e-5d63684e7803"
      },
      "execution_count": 14,
      "outputs": [
        {
          "output_type": "stream",
          "name": "stdout",
          "text": [
            "frog lives on land and in water\n"
          ]
        }
      ]
    },
    {
      "cell_type": "code",
      "source": [
        "# Method Overriding\n",
        "class water_animal: # base class\n",
        "  def land_water(self):\n",
        "    print('frog lives in water')\n",
        "\n",
        "class land_animal: # base class\n",
        "  def land_water(self): # function overriden\n",
        "    print('frog lives on land')\n",
        "\n",
        "class land_and_water(land_animal): # 'land_animal' inherited in child class\n",
        "  def land_water(self): # function overriden\n",
        "    print('frog lives on land and in water')\n",
        "\n",
        "law = land_and_water()\n",
        "law.land_water()"
      ],
      "metadata": {
        "colab": {
          "base_uri": "https://localhost:8080/"
        },
        "id": "GEZP9rwlQ727",
        "outputId": "37252674-50b0-4bfb-9366-ca88ab610926"
      },
      "execution_count": 15,
      "outputs": [
        {
          "output_type": "stream",
          "name": "stdout",
          "text": [
            "frog lives on land and in water\n"
          ]
        }
      ]
    },
    {
      "cell_type": "code",
      "source": [
        "# Multiple Inheritance\n",
        "class water_animal: # parent class 1\n",
        "  def land_water(self):\n",
        "    print('frog lives in water')\n",
        "\n",
        "class land_animal: # parent class 2\n",
        "  def land_water(self): # method overriden\n",
        "    print('frog lives on land')\n",
        "\n",
        "class land_and_water(water_animal, land_animal): # both parent classes inherited in child class\n",
        "  def land_water(self): # method overriden\n",
        "    print('frog lives on land and in water')\n",
        "\n",
        "law = land_and_water()\n",
        "law.land_water()"
      ],
      "metadata": {
        "colab": {
          "base_uri": "https://localhost:8080/"
        },
        "id": "F-a-qQQfRAdk",
        "outputId": "4af59f7c-7382-4b33-fc9c-c1a30d231e6a"
      },
      "execution_count": 16,
      "outputs": [
        {
          "output_type": "stream",
          "name": "stdout",
          "text": [
            "frog lives on land and in water\n"
          ]
        }
      ]
    },
    {
      "cell_type": "code",
      "source": [
        "class water_animal: # parent class\n",
        "  def land_water(self):\n",
        "    print('frog lives in water')\n",
        "\n",
        "class land_animal(water_animal): # derived class 1 inheriting base class\n",
        "  def land_water(self): # method overriden\n",
        "    print('frog lives on land')\n",
        "\n",
        "class air_animal(water_animal): # derived class 2 inheriting base class\n",
        "  def land_water(self): # method overriden\n",
        "    print('Duck can swim and fly')\n",
        "\n",
        "class land_and_water(air_animal, water_animal): # derived class 3 inheriting one base class and one sub class\n",
        "    pass # empty body\n",
        "\n",
        "law = land_and_water() # derives 'air_animal' first and so its body get executed.\n",
        "law.land_water()"
      ],
      "metadata": {
        "colab": {
          "base_uri": "https://localhost:8080/"
        },
        "id": "iyCTaUxrRCab",
        "outputId": "5b80f9dc-2e3b-4542-a595-11a4502e6c6a"
      },
      "execution_count": 17,
      "outputs": [
        {
          "output_type": "stream",
          "name": "stdout",
          "text": [
            "Duck can swim and fly\n"
          ]
        }
      ]
    },
    {
      "cell_type": "code",
      "source": [
        "print(land_and_water.mro()) # mro -----> Method Resolution Order"
      ],
      "metadata": {
        "colab": {
          "base_uri": "https://localhost:8080/"
        },
        "id": "21aUPJlyRFHZ",
        "outputId": "4c017018-c243-45cb-cc02-90353e84b326"
      },
      "execution_count": 18,
      "outputs": [
        {
          "output_type": "stream",
          "name": "stdout",
          "text": [
            "[<class '__main__.land_and_water'>, <class '__main__.air_animal'>, <class '__main__.water_animal'>, <class 'object'>]\n"
          ]
        }
      ]
    },
    {
      "cell_type": "code",
      "source": [
        "# Multiple Inheritance\n",
        "class One:\n",
        "  def k(self):\n",
        "    print(\"Inside 1\")\n",
        "\n",
        "class Two(One):\n",
        "  def k(self):\n",
        "    print(\"Inside 2\")\n",
        "\n",
        "class Three(One):\n",
        "  def k(self):\n",
        "    print(\"Inside 3\")\n",
        "\n",
        "class Four(Two,Three):\n",
        "  pass\n",
        "\n",
        "o = Four()\n",
        "o.k()"
      ],
      "metadata": {
        "colab": {
          "base_uri": "https://localhost:8080/"
        },
        "id": "7YxoEfKcRIfo",
        "outputId": "c5a99d8a-c7ba-4115-a675-6a1dd6ed47af"
      },
      "execution_count": 19,
      "outputs": [
        {
          "output_type": "stream",
          "name": "stdout",
          "text": [
            "Inside 2\n"
          ]
        }
      ]
    },
    {
      "cell_type": "code",
      "source": [
        "print(Four.mro()) # mro -----> Method Resolution Order"
      ],
      "metadata": {
        "colab": {
          "base_uri": "https://localhost:8080/"
        },
        "id": "0BF4hdwURLxj",
        "outputId": "6f538601-b0e8-4790-b979-fdebec290e4e"
      },
      "execution_count": 20,
      "outputs": [
        {
          "output_type": "stream",
          "name": "stdout",
          "text": [
            "[<class '__main__.Four'>, <class '__main__.Two'>, <class '__main__.Three'>, <class '__main__.One'>, <class 'object'>]\n"
          ]
        }
      ]
    },
    {
      "cell_type": "code",
      "source": [
        ""
      ],
      "metadata": {
        "id": "bVNMmd1dROIk"
      },
      "execution_count": null,
      "outputs": []
    }
  ]
}