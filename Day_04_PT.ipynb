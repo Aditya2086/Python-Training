{
  "nbformat": 4,
  "nbformat_minor": 0,
  "metadata": {
    "colab": {
      "name": "Day 04_PT.ipynb",
      "provenance": [],
      "authorship_tag": "ABX9TyOzBUWgAYhEYEZfeoNp1nJX",
      "include_colab_link": true
    },
    "kernelspec": {
      "name": "python3",
      "display_name": "Python 3"
    },
    "language_info": {
      "name": "python"
    }
  },
  "cells": [
    {
      "cell_type": "markdown",
      "metadata": {
        "id": "view-in-github",
        "colab_type": "text"
      },
      "source": [
        "<a href=\"https://colab.research.google.com/github/Aditya2086/Python-Training/blob/main/Day_04_PT.ipynb\" target=\"_parent\"><img src=\"https://colab.research.google.com/assets/colab-badge.svg\" alt=\"Open In Colab\"/></a>"
      ]
    },
    {
      "cell_type": "markdown",
      "source": [
        "# **List Attributes in Python :-**"
      ],
      "metadata": {
        "id": "hgi-nS0haBdG"
      }
    },
    {
      "cell_type": "code",
      "source": [
        "a = [1, 2, 34, 56, 7, 2, 1]\n",
        "print(a.count(1)) # tell that how many 1s are present in list\n",
        "print(a.index(34)) # gives the index position of 34\n",
        "print(sum(a)) # gives the sum of all elements of an integer list\n",
        "print(len(a)) # gives the length of the list or total number of elements present in the list"
      ],
      "metadata": {
        "colab": {
          "base_uri": "https://localhost:8080/"
        },
        "id": "LyOir8NMaPIF",
        "outputId": "b1f054c0-aa2f-46de-e661-626029f3fe33"
      },
      "execution_count": 1,
      "outputs": [
        {
          "output_type": "stream",
          "name": "stdout",
          "text": [
            "2\n",
            "2\n",
            "103\n",
            "7\n"
          ]
        }
      ]
    },
    {
      "cell_type": "code",
      "source": [
        "print(max(a)) # to get the max value of the list\n",
        "print(min(a)) # to get the min value of list\n",
        "print(sum(a)/len(a)) # to get average"
      ],
      "metadata": {
        "colab": {
          "base_uri": "https://localhost:8080/"
        },
        "id": "E2u7ecdOalgO",
        "outputId": "513f2f56-e50f-4d77-be74-141c9f9d8fb3"
      },
      "execution_count": 2,
      "outputs": [
        {
          "output_type": "stream",
          "name": "stdout",
          "text": [
            "56\n",
            "1\n",
            "14.714285714285714\n"
          ]
        }
      ]
    },
    {
      "cell_type": "markdown",
      "source": [
        "# **Enumerate Function**\n",
        "\n",
        "\n",
        "### **Write A Program To Print The Values Along With Their Index Position Of A List :-**"
      ],
      "metadata": {
        "id": "BZZy622SsTih"
      }
    },
    {
      "cell_type": "code",
      "source": [
        "a = ['Python', 'Java', 'C', 'C++']\n",
        "for x in range (len(a)):\n",
        "  print(x, a[x])"
      ],
      "metadata": {
        "colab": {
          "base_uri": "https://localhost:8080/"
        },
        "id": "MpHbSg_6s_8t",
        "outputId": "2b670648-c0bf-406d-a2f3-f4075c8b7dab"
      },
      "execution_count": 3,
      "outputs": [
        {
          "output_type": "stream",
          "name": "stdout",
          "text": [
            "0 Python\n",
            "1 Java\n",
            "2 C\n",
            "3 C++\n"
          ]
        }
      ]
    },
    {
      "cell_type": "markdown",
      "source": [
        "# **Another Way To Do This Is By Using Enumerate Function :-**"
      ],
      "metadata": {
        "id": "rPf4NUWW2QjP"
      }
    },
    {
      "cell_type": "code",
      "source": [
        "a = ['Python', 'Java', 'C', 'C++']\n",
        "for x, y in enumerate(a):\n",
        "  print(x, y)"
      ],
      "metadata": {
        "colab": {
          "base_uri": "https://localhost:8080/"
        },
        "id": "euKilFHM2a69",
        "outputId": "ac42871a-1a9a-4ffe-a6d1-60276a6f1ff1"
      },
      "execution_count": 4,
      "outputs": [
        {
          "output_type": "stream",
          "name": "stdout",
          "text": [
            "0 Python\n",
            "1 Java\n",
            "2 C\n",
            "3 C++\n"
          ]
        }
      ]
    },
    {
      "cell_type": "code",
      "source": [
        "a = ['Python', 'Java', 'C', 'C++']\n",
        "for y, x in enumerate(a): # change x and y position\n",
        "  print(x, y)"
      ],
      "metadata": {
        "colab": {
          "base_uri": "https://localhost:8080/"
        },
        "id": "6-rKKG712ghM",
        "outputId": "c0559770-56f0-4e71-8995-14a2dbe4ed8b"
      },
      "execution_count": 5,
      "outputs": [
        {
          "output_type": "stream",
          "name": "stdout",
          "text": [
            "Python 0\n",
            "Java 1\n",
            "C 2\n",
            "C++ 3\n"
          ]
        }
      ]
    },
    {
      "cell_type": "code",
      "source": [
        "a = ['Python', 'Java', 'C', 'C++']\n",
        "for y, x in enumerate(a):\n",
        "  print(y, x)"
      ],
      "metadata": {
        "colab": {
          "base_uri": "https://localhost:8080/"
        },
        "id": "NOM9uV7Y2m4c",
        "outputId": "07abff5e-1e01-4fd8-951b-c56e1f2819e4"
      },
      "execution_count": 6,
      "outputs": [
        {
          "output_type": "stream",
          "name": "stdout",
          "text": [
            "0 Python\n",
            "1 Java\n",
            "2 C\n",
            "3 C++\n"
          ]
        }
      ]
    },
    {
      "cell_type": "markdown",
      "source": [
        "# **Another Use Of Enumerate Is That We Can Start Index Position From Any Number We Want :-**"
      ],
      "metadata": {
        "id": "9KCGqPAa2sn9"
      }
    },
    {
      "cell_type": "code",
      "source": [
        "a = ['Python', 'Java', 'C', 'C++']\n",
        "for x, y in enumerate(a, 100): # now the index becomes like serial number and will start from 100\n",
        "  print(x, y)"
      ],
      "metadata": {
        "colab": {
          "base_uri": "https://localhost:8080/"
        },
        "id": "yun3BLCN28Dz",
        "outputId": "ad44282b-2c81-476f-b4ac-de47f54b2cb2"
      },
      "execution_count": 7,
      "outputs": [
        {
          "output_type": "stream",
          "name": "stdout",
          "text": [
            "100 Python\n",
            "101 Java\n",
            "102 C\n",
            "103 C++\n"
          ]
        }
      ]
    },
    {
      "cell_type": "markdown",
      "source": [
        "# **Write A Program To Calculate Average Of Space Separated Elements Created By A User Defined List Using List Comprehension :-**"
      ],
      "metadata": {
        "id": "R9Wfs5vH3BDN"
      }
    },
    {
      "cell_type": "code",
      "source": [
        "a = int(input('Enter the number of subjects:'))\n",
        "print('Enter the marks space separated:')\n",
        "marks = [int(i) for i in input().split(' ')[0:a]] # [0:a] will take only no.of subjects defined in 'a'. If more than 'a' are given, then others are ignored\n",
        "print(marks)\n",
        "print('Average is:', sum(marks)/a)"
      ],
      "metadata": {
        "colab": {
          "base_uri": "https://localhost:8080/"
        },
        "id": "g39dKxhB3TDN",
        "outputId": "7e957cef-2142-47b1-eb7e-4d5353902200"
      },
      "execution_count": 9,
      "outputs": [
        {
          "output_type": "stream",
          "name": "stdout",
          "text": [
            "Enter the number of subjects:5\n",
            "Enter the marks space separated:\n",
            "90 95 95 98 99\n",
            "[90, 95, 95, 98, 99]\n",
            "Average is: 95.4\n"
          ]
        }
      ]
    },
    {
      "cell_type": "markdown",
      "source": [
        "# **Write A Program To Remove Common Elements From 2 Lists & Store Them In A Separate List :-**"
      ],
      "metadata": {
        "id": "12pEm2dt37mZ"
      }
    },
    {
      "cell_type": "code",
      "source": [
        "a = [1, 2, 3, 4, 5, 6]\n",
        "b = [4, 5, 6, 7, 8, 9]\n",
        "c = []\n",
        "for i in a:\n",
        "  if i in b:\n",
        "    c.append(i)\n",
        "print(c)"
      ],
      "metadata": {
        "colab": {
          "base_uri": "https://localhost:8080/"
        },
        "id": "ACTRdXOh4R4Y",
        "outputId": "cf294453-f3fb-47bc-abf5-e4c9530a41d8"
      },
      "execution_count": 10,
      "outputs": [
        {
          "output_type": "stream",
          "name": "stdout",
          "text": [
            "[4, 5, 6]\n"
          ]
        }
      ]
    },
    {
      "cell_type": "markdown",
      "source": [
        "# **Write A Program To Print The Index Of All The Elements In List 1 Which Are Present In List 2 :-**"
      ],
      "metadata": {
        "id": "HEB0Gvhm4YO4"
      }
    },
    {
      "cell_type": "code",
      "source": [
        "a = [1, 2, 3, 4, 5, 6, 2, 3, 6]\n",
        "b = [1, 3, 6]\n",
        "c = []\n",
        "for i in range(len(a)):\n",
        "  if a[i] in b:\n",
        "    c.append(i)\n",
        "print(c)"
      ],
      "metadata": {
        "colab": {
          "base_uri": "https://localhost:8080/"
        },
        "id": "lqCvQANF49IJ",
        "outputId": "5576be94-bfa3-4c05-edf7-6be6a471768f"
      },
      "execution_count": 11,
      "outputs": [
        {
          "output_type": "stream",
          "name": "stdout",
          "text": [
            "[0, 2, 5, 7, 8]\n"
          ]
        }
      ]
    },
    {
      "cell_type": "markdown",
      "source": [
        "# **Write A Program To Store All The Duplicate Elements Of A List Into Another List Using Count Method :-**"
      ],
      "metadata": {
        "id": "Rs7LAuUe5Br2"
      }
    },
    {
      "cell_type": "code",
      "source": [
        "a = [1, 2, 3, 4, 5, 6, 2, 3, 6]\n",
        "b = []\n",
        "for i in range(len(a)):\n",
        "  if a.count(i) > 1:\n",
        "    b.append(i)\n",
        "print(b)"
      ],
      "metadata": {
        "colab": {
          "base_uri": "https://localhost:8080/"
        },
        "id": "a5UF24Fu5hPW",
        "outputId": "39cad1ce-d97e-4eea-deaa-a9e5eef227ef"
      },
      "execution_count": 12,
      "outputs": [
        {
          "output_type": "stream",
          "name": "stdout",
          "text": [
            "[2, 3, 6]\n"
          ]
        }
      ]
    },
    {
      "cell_type": "markdown",
      "source": [
        "# **String Attributes :-**"
      ],
      "metadata": {
        "id": "JhfXVVbJ5kW1"
      }
    },
    {
      "cell_type": "code",
      "source": [
        "a = ' Python '\n",
        "print(a)\n",
        "print(a.strip())"
      ],
      "metadata": {
        "colab": {
          "base_uri": "https://localhost:8080/"
        },
        "id": "3YduK39Z5qU1",
        "outputId": "ecca435c-6b05-485b-a289-4bb6efaae2a8"
      },
      "execution_count": 13,
      "outputs": [
        {
          "output_type": "stream",
          "name": "stdout",
          "text": [
            " Python \n",
            "Python\n"
          ]
        }
      ]
    },
    {
      "cell_type": "code",
      "source": [
        "a = 'Python '\n",
        "print(a)\n",
        "print(a.rstrip())"
      ],
      "metadata": {
        "colab": {
          "base_uri": "https://localhost:8080/"
        },
        "id": "K0dwtIlZ5wQ9",
        "outputId": "7b59916e-739d-483c-c675-f400488105dd"
      },
      "execution_count": 14,
      "outputs": [
        {
          "output_type": "stream",
          "name": "stdout",
          "text": [
            "Python \n",
            "Python\n"
          ]
        }
      ]
    },
    {
      "cell_type": "code",
      "source": [
        "a = ' Python'\n",
        "print(a)\n",
        "print(a.lstrip())"
      ],
      "metadata": {
        "colab": {
          "base_uri": "https://localhost:8080/"
        },
        "id": "De85s8Yi5z9F",
        "outputId": "31ba8750-c3b2-480d-ca99-2a20808237d4"
      },
      "execution_count": 15,
      "outputs": [
        {
          "output_type": "stream",
          "name": "stdout",
          "text": [
            " Python\n",
            "Python\n"
          ]
        }
      ]
    },
    {
      "cell_type": "code",
      "source": [
        "a = 'Python is fun'\n",
        "print(a)\n",
        "print(a.startswith('Python'))"
      ],
      "metadata": {
        "colab": {
          "base_uri": "https://localhost:8080/"
        },
        "id": "kxa0F-iz533_",
        "outputId": "7abd8898-abec-41fa-ba32-3c2d0231bd62"
      },
      "execution_count": 16,
      "outputs": [
        {
          "output_type": "stream",
          "name": "stdout",
          "text": [
            "Python is fun\n",
            "True\n"
          ]
        }
      ]
    },
    {
      "cell_type": "code",
      "source": [
        "a = 'Python is fun'\n",
        "print(a)\n",
        "print(a.endswith('fun'))"
      ],
      "metadata": {
        "colab": {
          "base_uri": "https://localhost:8080/"
        },
        "id": "Rja0LTW957hk",
        "outputId": "2f3b1203-f505-4cd5-fe30-c71767a45fa4"
      },
      "execution_count": 17,
      "outputs": [
        {
          "output_type": "stream",
          "name": "stdout",
          "text": [
            "Python is fun\n",
            "True\n"
          ]
        }
      ]
    },
    {
      "cell_type": "code",
      "source": [
        "a = 'Python'\n",
        "print(a.isalpha())"
      ],
      "metadata": {
        "colab": {
          "base_uri": "https://localhost:8080/"
        },
        "id": "a1n-URug5-4T",
        "outputId": "4944c68d-b3d5-4e78-d46f-5a9e5e402c86"
      },
      "execution_count": 18,
      "outputs": [
        {
          "output_type": "stream",
          "name": "stdout",
          "text": [
            "True\n"
          ]
        }
      ]
    },
    {
      "cell_type": "code",
      "source": [
        "a = 'Python'\n",
        "print(a.isdigit())"
      ],
      "metadata": {
        "colab": {
          "base_uri": "https://localhost:8080/"
        },
        "id": "bjkSeBru6C2x",
        "outputId": "ab9a0dbf-f95c-494f-e0c6-785cc83943a1"
      },
      "execution_count": 19,
      "outputs": [
        {
          "output_type": "stream",
          "name": "stdout",
          "text": [
            "False\n"
          ]
        }
      ]
    },
    {
      "cell_type": "code",
      "source": [
        "a = 'Python is EASY' # space is present that's why output is False\n",
        "print(a.isalpha())"
      ],
      "metadata": {
        "colab": {
          "base_uri": "https://localhost:8080/"
        },
        "id": "HbMJ4sKh6F04",
        "outputId": "e4624d3e-8376-4cd6-a47c-bb54c901231b"
      },
      "execution_count": 20,
      "outputs": [
        {
          "output_type": "stream",
          "name": "stdout",
          "text": [
            "False\n"
          ]
        }
      ]
    },
    {
      "cell_type": "code",
      "source": [
        "a = '123'\n",
        "print(a.isdigit())"
      ],
      "metadata": {
        "colab": {
          "base_uri": "https://localhost:8080/"
        },
        "id": "38YExFSE6Kdb",
        "outputId": "dee82233-58c6-4256-e9c7-91bbc3e5c30c"
      },
      "execution_count": 21,
      "outputs": [
        {
          "output_type": "stream",
          "name": "stdout",
          "text": [
            "True\n"
          ]
        }
      ]
    },
    {
      "cell_type": "code",
      "source": [
        "a = 123\n",
        "print(a.isdigit())"
      ],
      "metadata": {
        "colab": {
          "base_uri": "https://localhost:8080/",
          "height": 183
        },
        "id": "_V26EWvK66OH",
        "outputId": "e84cd4ff-d46d-4db8-b7af-4010356007d6"
      },
      "execution_count": 22,
      "outputs": [
        {
          "output_type": "error",
          "ename": "AttributeError",
          "evalue": "ignored",
          "traceback": [
            "\u001b[0;31m---------------------------------------------------------------------------\u001b[0m",
            "\u001b[0;31mAttributeError\u001b[0m                            Traceback (most recent call last)",
            "\u001b[0;32m<ipython-input-22-91fd08220450>\u001b[0m in \u001b[0;36m<module>\u001b[0;34m()\u001b[0m\n\u001b[1;32m      1\u001b[0m \u001b[0ma\u001b[0m \u001b[0;34m=\u001b[0m \u001b[0;36m123\u001b[0m\u001b[0;34m\u001b[0m\u001b[0;34m\u001b[0m\u001b[0m\n\u001b[0;32m----> 2\u001b[0;31m \u001b[0mprint\u001b[0m\u001b[0;34m(\u001b[0m\u001b[0ma\u001b[0m\u001b[0;34m.\u001b[0m\u001b[0misdigit\u001b[0m\u001b[0;34m(\u001b[0m\u001b[0;34m)\u001b[0m\u001b[0;34m)\u001b[0m\u001b[0;34m\u001b[0m\u001b[0;34m\u001b[0m\u001b[0m\n\u001b[0m",
            "\u001b[0;31mAttributeError\u001b[0m: 'int' object has no attribute 'isdigit'"
          ]
        }
      ]
    },
    {
      "cell_type": "code",
      "source": [
        "a = 'Java'\n",
        "print(a.strip())\n",
        "b = 'C++'\n",
        "print(b.lstrip())\n",
        "c = 'Python'\n",
        "print(c.rstrip())"
      ],
      "metadata": {
        "colab": {
          "base_uri": "https://localhost:8080/"
        },
        "id": "G74IZ-Zk672c",
        "outputId": "74d0587f-be3e-48b9-b8ff-206d06c1a30a"
      },
      "execution_count": 24,
      "outputs": [
        {
          "output_type": "stream",
          "name": "stdout",
          "text": [
            "Java\n",
            "C++\n",
            "Python\n"
          ]
        }
      ]
    }
  ]
}