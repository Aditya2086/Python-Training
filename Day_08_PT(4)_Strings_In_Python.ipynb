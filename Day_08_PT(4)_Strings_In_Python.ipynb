{
  "nbformat": 4,
  "nbformat_minor": 0,
  "metadata": {
    "colab": {
      "name": "Day 08_PT(4) - Strings In Python.ipynb",
      "provenance": [],
      "authorship_tag": "ABX9TyM1unz0YG4Z4jf57zTfZgHM",
      "include_colab_link": true
    },
    "kernelspec": {
      "name": "python3",
      "display_name": "Python 3"
    },
    "language_info": {
      "name": "python"
    }
  },
  "cells": [
    {
      "cell_type": "markdown",
      "metadata": {
        "id": "view-in-github",
        "colab_type": "text"
      },
      "source": [
        "<a href=\"https://colab.research.google.com/github/Aditya2086/Python-Training/blob/main/Day_08_PT(4)_Strings_In_Python.ipynb\" target=\"_parent\"><img src=\"https://colab.research.google.com/assets/colab-badge.svg\" alt=\"Open In Colab\"/></a>"
      ]
    },
    {
      "cell_type": "code",
      "execution_count": 1,
      "metadata": {
        "colab": {
          "base_uri": "https://localhost:8080/"
        },
        "id": "fB0Wus00XKft",
        "outputId": "c6ab0692-9f3d-4049-866e-1180db93be74"
      },
      "outputs": [
        {
          "output_type": "stream",
          "name": "stdout",
          "text": [
            "<class 'str'>\n",
            "<class 'str'>\n",
            "<class 'str'>\n",
            "<class 'str'>\n"
          ]
        }
      ],
      "source": [
        "a = 'Python'\n",
        "print(type(a))\n",
        "b = \"Python\"\n",
        "print(type(b))\n",
        "c = '''Python'''\n",
        "print(type(c))\n",
        "d = \"\"\"Python\"\"\"\n",
        "print(type(d))"
      ]
    },
    {
      "cell_type": "code",
      "source": [
        "a = \"Python's Training is Fun\"\n",
        "print(a)"
      ],
      "metadata": {
        "colab": {
          "base_uri": "https://localhost:8080/"
        },
        "id": "zwB1yRnIYPog",
        "outputId": "6674c2de-d85d-43c8-ee06-6cc4f19b2b83"
      },
      "execution_count": 2,
      "outputs": [
        {
          "output_type": "stream",
          "name": "stdout",
          "text": [
            "Python's Training is Fun\n"
          ]
        }
      ]
    },
    {
      "cell_type": "code",
      "source": [
        "a = '''\"Python's Training is Fun\"'''\n",
        "print(a)"
      ],
      "metadata": {
        "colab": {
          "base_uri": "https://localhost:8080/"
        },
        "id": "qD2lxJafYVin",
        "outputId": "1153448b-f714-4c70-b1b8-4b973bdc4e59"
      },
      "execution_count": 3,
      "outputs": [
        {
          "output_type": "stream",
          "name": "stdout",
          "text": [
            "\"Python's Training is Fun\"\n"
          ]
        }
      ]
    },
    {
      "cell_type": "code",
      "source": [
        "# Single Line Comment is written using Hash\n",
        "'''Python\n",
        "Training\n",
        "Is\n",
        "Fun'''"
      ],
      "metadata": {
        "colab": {
          "base_uri": "https://localhost:8080/",
          "height": 35
        },
        "id": "pWi3p-MYYX19",
        "outputId": "5dee2ef0-677a-4a84-cc34-f1752d8b00c9"
      },
      "execution_count": 4,
      "outputs": [
        {
          "output_type": "execute_result",
          "data": {
            "text/plain": [
              "'Python\\nTraining\\nIs\\nFun'"
            ],
            "application/vnd.google.colaboratory.intrinsic+json": {
              "type": "string"
            }
          },
          "metadata": {},
          "execution_count": 4
        }
      ]
    },
    {
      "cell_type": "code",
      "source": [
        "'''Docstring: It is a docstring'''\n",
        "\n",
        "a = 'Python Training'\n",
        "print(a)"
      ],
      "metadata": {
        "colab": {
          "base_uri": "https://localhost:8080/"
        },
        "id": "mXUhpkpbYcnT",
        "outputId": "18298269-3cac-48ac-d352-947cb12a001a"
      },
      "execution_count": 5,
      "outputs": [
        {
          "output_type": "stream",
          "name": "stdout",
          "text": [
            "Python Training\n"
          ]
        }
      ]
    },
    {
      "cell_type": "code",
      "source": [
        "print(len(a)) # length of the string"
      ],
      "metadata": {
        "colab": {
          "base_uri": "https://localhost:8080/"
        },
        "id": "x8d0wEHyYfIt",
        "outputId": "d6b40955-bb7c-4c82-b94c-d736243158ea"
      },
      "execution_count": 6,
      "outputs": [
        {
          "output_type": "stream",
          "name": "stdout",
          "text": [
            "15\n"
          ]
        }
      ]
    },
    {
      "cell_type": "code",
      "source": [
        "print(a.upper()) # uppercase"
      ],
      "metadata": {
        "colab": {
          "base_uri": "https://localhost:8080/"
        },
        "id": "qQviGAq0Yirk",
        "outputId": "32585cb0-a52c-4e3f-8aaf-7eae4ecb010c"
      },
      "execution_count": 7,
      "outputs": [
        {
          "output_type": "stream",
          "name": "stdout",
          "text": [
            "PYTHON TRAINING\n"
          ]
        }
      ]
    },
    {
      "cell_type": "code",
      "source": [
        "print(a.lower()) # lowercase"
      ],
      "metadata": {
        "colab": {
          "base_uri": "https://localhost:8080/"
        },
        "id": "s6gmoyCwY2W_",
        "outputId": "286a74be-759e-4ada-8dd7-bcf523a17b09"
      },
      "execution_count": 8,
      "outputs": [
        {
          "output_type": "stream",
          "name": "stdout",
          "text": [
            "python training\n"
          ]
        }
      ]
    },
    {
      "cell_type": "code",
      "source": [
        "a = 'Python Training'\n",
        "print(a)\n",
        "print(a.capitalize())"
      ],
      "metadata": {
        "colab": {
          "base_uri": "https://localhost:8080/"
        },
        "id": "44KqtsFJY3Kb",
        "outputId": "08171a46-6af6-4aa7-8cac-c2cd1e4c0a11"
      },
      "execution_count": 9,
      "outputs": [
        {
          "output_type": "stream",
          "name": "stdout",
          "text": [
            "Python Training\n",
            "Python training\n"
          ]
        }
      ]
    },
    {
      "cell_type": "code",
      "source": [
        "a = 'Python training'\n",
        "print(a)\n",
        "print(a.title())"
      ],
      "metadata": {
        "colab": {
          "base_uri": "https://localhost:8080/"
        },
        "id": "tVQ7qFsBY69X",
        "outputId": "2f18c4e1-9a10-4c06-839b-f21bf74dc9ea"
      },
      "execution_count": 10,
      "outputs": [
        {
          "output_type": "stream",
          "name": "stdout",
          "text": [
            "Python training\n",
            "Python Training\n"
          ]
        }
      ]
    },
    {
      "cell_type": "code",
      "source": [
        "a = 'pYtHoN TrAiNiNg'\n",
        "print(a)\n",
        "print(a.swapcase())"
      ],
      "metadata": {
        "colab": {
          "base_uri": "https://localhost:8080/"
        },
        "id": "nKUw319EY-yf",
        "outputId": "943859ab-a40f-42fb-f751-a85f7602fc30"
      },
      "execution_count": 11,
      "outputs": [
        {
          "output_type": "stream",
          "name": "stdout",
          "text": [
            "pYtHoN TrAiNiNg\n",
            "PyThOn tRaInInG\n"
          ]
        }
      ]
    },
    {
      "cell_type": "code",
      "source": [
        "print(a.isdigit())"
      ],
      "metadata": {
        "colab": {
          "base_uri": "https://localhost:8080/"
        },
        "id": "00PkQM2NZA_N",
        "outputId": "0f52b53d-be7d-4998-d030-b078dae82e2a"
      },
      "execution_count": 12,
      "outputs": [
        {
          "output_type": "stream",
          "name": "stdout",
          "text": [
            "False\n"
          ]
        }
      ]
    },
    {
      "cell_type": "code",
      "source": [
        "a = '123'\n",
        "print(a)\n",
        "print(a.isdigit())"
      ],
      "metadata": {
        "colab": {
          "base_uri": "https://localhost:8080/"
        },
        "id": "D2T-YsiLZELa",
        "outputId": "5ae5e4e3-7cd8-4e73-db8c-536ed02b7757"
      },
      "execution_count": 13,
      "outputs": [
        {
          "output_type": "stream",
          "name": "stdout",
          "text": [
            "123\n",
            "True\n"
          ]
        }
      ]
    },
    {
      "cell_type": "code",
      "source": [
        "a = 'Python123'\n",
        "print(a)\n",
        "print(a.isdigit())"
      ],
      "metadata": {
        "colab": {
          "base_uri": "https://localhost:8080/"
        },
        "id": "Q4T5DS7zZHR7",
        "outputId": "1a10275f-a825-4fba-a868-041a8ef08e29"
      },
      "execution_count": 14,
      "outputs": [
        {
          "output_type": "stream",
          "name": "stdout",
          "text": [
            "Python123\n",
            "False\n"
          ]
        }
      ]
    },
    {
      "cell_type": "code",
      "source": [
        "a = 'Python'\n",
        "print(a)\n",
        "print(a.isalpha())"
      ],
      "metadata": {
        "colab": {
          "base_uri": "https://localhost:8080/"
        },
        "id": "l5nRIuqdZKSp",
        "outputId": "f72ceeab-8535-4dfc-b16c-07ad22efed13"
      },
      "execution_count": 15,
      "outputs": [
        {
          "output_type": "stream",
          "name": "stdout",
          "text": [
            "Python\n",
            "True\n"
          ]
        }
      ]
    },
    {
      "cell_type": "code",
      "source": [
        "a = 'Python123'\n",
        "print(a)\n",
        "print(a.isalnum())"
      ],
      "metadata": {
        "colab": {
          "base_uri": "https://localhost:8080/"
        },
        "id": "kG4ZOcUUZNhy",
        "outputId": "c2a24133-4ed5-4280-b8a0-5ebebab19632"
      },
      "execution_count": 16,
      "outputs": [
        {
          "output_type": "stream",
          "name": "stdout",
          "text": [
            "Python123\n",
            "True\n"
          ]
        }
      ]
    },
    {
      "cell_type": "code",
      "source": [
        "a = ''\n",
        "print(a.isspace())"
      ],
      "metadata": {
        "colab": {
          "base_uri": "https://localhost:8080/"
        },
        "id": "a_YFeMTpZP89",
        "outputId": "583d2f0b-977e-44e0-a1df-4f81b6941363"
      },
      "execution_count": 17,
      "outputs": [
        {
          "output_type": "stream",
          "name": "stdout",
          "text": [
            "False\n"
          ]
        }
      ]
    },
    {
      "cell_type": "code",
      "source": [
        "a = 'Python123'\n",
        "print(a)\n",
        "print(a.startswith('P'))"
      ],
      "metadata": {
        "colab": {
          "base_uri": "https://localhost:8080/"
        },
        "id": "PWRQhGAlZS25",
        "outputId": "daf0e607-bc8f-431b-d730-7df5c52a95a7"
      },
      "execution_count": 18,
      "outputs": [
        {
          "output_type": "stream",
          "name": "stdout",
          "text": [
            "Python123\n",
            "True\n"
          ]
        }
      ]
    },
    {
      "cell_type": "code",
      "source": [
        "a = 'Python is fun'\n",
        "print(a)\n",
        "print(a.endswith('fun'))"
      ],
      "metadata": {
        "colab": {
          "base_uri": "https://localhost:8080/"
        },
        "id": "SlT9e71ZZZIZ",
        "outputId": "19d70141-9b65-4f97-e14f-f7638befe7d1"
      },
      "execution_count": 19,
      "outputs": [
        {
          "output_type": "stream",
          "name": "stdout",
          "text": [
            "Python is fun\n",
            "True\n"
          ]
        }
      ]
    },
    {
      "cell_type": "code",
      "source": [
        "a = 'Python is fun'\n",
        "print(a)\n",
        "print(a.find('fun'))"
      ],
      "metadata": {
        "colab": {
          "base_uri": "https://localhost:8080/"
        },
        "id": "wYxcHm25ZaNJ",
        "outputId": "2bbe369b-0972-4b32-8528-6fc61f5040bf"
      },
      "execution_count": 20,
      "outputs": [
        {
          "output_type": "stream",
          "name": "stdout",
          "text": [
            "Python is fun\n",
            "10\n"
          ]
        }
      ]
    },
    {
      "cell_type": "code",
      "source": [
        "a = 'Python is fun'\n",
        "print(a)\n",
        "print(a.replace('Python','Javascript').lower())"
      ],
      "metadata": {
        "colab": {
          "base_uri": "https://localhost:8080/"
        },
        "id": "jsjhw2iCZc2N",
        "outputId": "02f1e9d9-c602-45c9-dbc4-e4d32038987c"
      },
      "execution_count": 21,
      "outputs": [
        {
          "output_type": "stream",
          "name": "stdout",
          "text": [
            "Python is fun\n",
            "javascript is fun\n"
          ]
        }
      ]
    },
    {
      "cell_type": "code",
      "source": [
        "a = 'Python is fun'\n",
        "print(a)\n",
        "print(a.split())"
      ],
      "metadata": {
        "colab": {
          "base_uri": "https://localhost:8080/"
        },
        "id": "OA7HAOnrZi52",
        "outputId": "324b4661-500b-4958-ba0e-57b2044cce3d"
      },
      "execution_count": 22,
      "outputs": [
        {
          "output_type": "stream",
          "name": "stdout",
          "text": [
            "Python is fun\n",
            "['Python', 'is', 'fun']\n"
          ]
        }
      ]
    },
    {
      "cell_type": "code",
      "source": [
        "a = 'Python'\n",
        "print(a)\n",
        "print(a.split())"
      ],
      "metadata": {
        "colab": {
          "base_uri": "https://localhost:8080/"
        },
        "id": "6qd6xQq1ZmBj",
        "outputId": "421630f0-4a06-49d6-eaff-2b2a2bf953dd"
      },
      "execution_count": 23,
      "outputs": [
        {
          "output_type": "stream",
          "name": "stdout",
          "text": [
            "Python\n",
            "['Python']\n"
          ]
        }
      ]
    },
    {
      "cell_type": "code",
      "source": [
        "a = 'Python is fun'\n",
        "print(a)\n",
        "print('-'.join(a))"
      ],
      "metadata": {
        "colab": {
          "base_uri": "https://localhost:8080/"
        },
        "id": "l-BcpHV8Zm6k",
        "outputId": "bf0abc49-dd97-4c91-d2b7-ef9f6677e879"
      },
      "execution_count": 24,
      "outputs": [
        {
          "output_type": "stream",
          "name": "stdout",
          "text": [
            "Python is fun\n",
            "P-y-t-h-o-n- -i-s- -f-u-n\n"
          ]
        }
      ]
    },
    {
      "cell_type": "markdown",
      "source": [
        "# **Write A Program To Create A Random List Of Numbers From 1 To 50. Prompt The User To Select A Number At Runtime. Check How Many Numbers in The List Are Divisible By This User Selected Number.**"
      ],
      "metadata": {
        "id": "OIgJECJbZsb5"
      }
    },
    {
      "cell_type": "code",
      "source": [
        "my_list = list(range(1,51))\n",
        "a = int(input('Enter a number:'))\n",
        "count = 0\n",
        "for elem in my_list:\n",
        "  if elem % a == 0:\n",
        "    count += 1\n",
        "print(count)"
      ],
      "metadata": {
        "colab": {
          "base_uri": "https://localhost:8080/"
        },
        "id": "GuffT18HbhY8",
        "outputId": "7890ca8a-b4c6-4373-c34a-60818fa79ecf"
      },
      "execution_count": 26,
      "outputs": [
        {
          "output_type": "stream",
          "name": "stdout",
          "text": [
            "Enter a number:10\n",
            "5\n"
          ]
        }
      ]
    },
    {
      "cell_type": "code",
      "source": [
        "print(list(range(1,51)))"
      ],
      "metadata": {
        "colab": {
          "base_uri": "https://localhost:8080/"
        },
        "id": "sBnnyvQDbo4T",
        "outputId": "2dcd9ad1-b474-4ee7-9167-515af73320ac"
      },
      "execution_count": 27,
      "outputs": [
        {
          "output_type": "stream",
          "name": "stdout",
          "text": [
            "[1, 2, 3, 4, 5, 6, 7, 8, 9, 10, 11, 12, 13, 14, 15, 16, 17, 18, 19, 20, 21, 22, 23, 24, 25, 26, 27, 28, 29, 30, 31, 32, 33, 34, 35, 36, 37, 38, 39, 40, 41, 42, 43, 44, 45, 46, 47, 48, 49, 50]\n"
          ]
        }
      ]
    },
    {
      "cell_type": "markdown",
      "source": [
        "# **Write A Program To Add All The Digits From A Given String.:-**"
      ],
      "metadata": {
        "id": "bd3Jg9XYb2RD"
      }
    },
    {
      "cell_type": "code",
      "source": [
        "a = 'Python was introduced in 1989 and officially released in 1991'\n",
        "print(a.split())"
      ],
      "metadata": {
        "colab": {
          "base_uri": "https://localhost:8080/"
        },
        "id": "SHFtc3uNcEpu",
        "outputId": "709aded2-76ee-42e9-9ad3-b9a3c90dc356"
      },
      "execution_count": 28,
      "outputs": [
        {
          "output_type": "stream",
          "name": "stdout",
          "text": [
            "['Python', 'was', 'introduced', 'in', '1989', 'and', 'officially', 'released', 'in', '1991']\n"
          ]
        }
      ]
    },
    {
      "cell_type": "code",
      "source": [
        "sod = [int(i) for i in a.split() if i.isdigit()]\n",
        "print(sod)"
      ],
      "metadata": {
        "colab": {
          "base_uri": "https://localhost:8080/"
        },
        "id": "jvMB8WGMcMnS",
        "outputId": "db520066-242c-40e8-f01d-0092ae9bbb36"
      },
      "execution_count": 29,
      "outputs": [
        {
          "output_type": "stream",
          "name": "stdout",
          "text": [
            "[1989, 1991]\n"
          ]
        }
      ]
    },
    {
      "cell_type": "code",
      "source": [
        "print(sum(sod))"
      ],
      "metadata": {
        "colab": {
          "base_uri": "https://localhost:8080/"
        },
        "id": "XZ8a9RCMcO-1",
        "outputId": "44299e27-f748-425d-eb83-ddec87dee068"
      },
      "execution_count": 30,
      "outputs": [
        {
          "output_type": "stream",
          "name": "stdout",
          "text": [
            "3980\n"
          ]
        }
      ]
    },
    {
      "cell_type": "markdown",
      "source": [
        "# **Python String Formatters :-**"
      ],
      "metadata": {
        "id": "N2WJCzu8cR87"
      }
    },
    {
      "cell_type": "code",
      "source": [
        "name = 'Spiderman'\n",
        "place = 'NewYork'\n",
        "print('I am',name,'. I am from',place)"
      ],
      "metadata": {
        "colab": {
          "base_uri": "https://localhost:8080/"
        },
        "id": "hM2pGXdrcWuL",
        "outputId": "06d08573-87a1-4859-cd60-fc91761d1576"
      },
      "execution_count": 31,
      "outputs": [
        {
          "output_type": "stream",
          "name": "stdout",
          "text": [
            "I am Spiderman . I am from NewYork\n"
          ]
        }
      ]
    },
    {
      "cell_type": "code",
      "source": [
        "print(f'I am {name} and I am from {place}')"
      ],
      "metadata": {
        "colab": {
          "base_uri": "https://localhost:8080/"
        },
        "id": "gNr_aRoscZ27",
        "outputId": "cad01912-d3d5-45da-c4ba-717c0c5bbd5f"
      },
      "execution_count": 32,
      "outputs": [
        {
          "output_type": "stream",
          "name": "stdout",
          "text": [
            "I am Spiderman and I am from NewYork\n"
          ]
        }
      ]
    },
    {
      "cell_type": "code",
      "source": [
        "print(f'I am {place} and I am from {name}')"
      ],
      "metadata": {
        "colab": {
          "base_uri": "https://localhost:8080/"
        },
        "id": "RyyFayvpccgf",
        "outputId": "e8c56079-2cad-4878-8acb-88d7a2eeb6a3"
      },
      "execution_count": 34,
      "outputs": [
        {
          "output_type": "stream",
          "name": "stdout",
          "text": [
            "I am NewYork and I am from Spiderman\n"
          ]
        }
      ]
    },
    {
      "cell_type": "code",
      "source": [
        "print(f 'I am {name} and I am from {place}')"
      ],
      "metadata": {
        "colab": {
          "base_uri": "https://localhost:8080/",
          "height": 130
        },
        "id": "C5IkY08Uchn8",
        "outputId": "3a6e11cd-8568-4063-acf8-ea4d897c0a8f"
      },
      "execution_count": 35,
      "outputs": [
        {
          "output_type": "error",
          "ename": "SyntaxError",
          "evalue": "ignored",
          "traceback": [
            "\u001b[0;36m  File \u001b[0;32m\"<ipython-input-35-ff67fad423ee>\"\u001b[0;36m, line \u001b[0;32m1\u001b[0m\n\u001b[0;31m    print(f 'I am {name} and I am from {place}')\u001b[0m\n\u001b[0m                                              ^\u001b[0m\n\u001b[0;31mSyntaxError\u001b[0m\u001b[0;31m:\u001b[0m invalid syntax\n"
          ]
        }
      ]
    },
    {
      "cell_type": "code",
      "source": [
        "print('I am %s and I am from %s'%(name, place))"
      ],
      "metadata": {
        "colab": {
          "base_uri": "https://localhost:8080/"
        },
        "id": "drRRxKMkckVo",
        "outputId": "821ad75c-8664-4668-a0ab-7e54608a0b94"
      },
      "execution_count": 36,
      "outputs": [
        {
          "output_type": "stream",
          "name": "stdout",
          "text": [
            "I am Spiderman and I am from NewYork\n"
          ]
        }
      ]
    },
    {
      "cell_type": "code",
      "source": [
        "print('I am {0} and I am from {1}'.format(name, place))"
      ],
      "metadata": {
        "colab": {
          "base_uri": "https://localhost:8080/"
        },
        "id": "yEjudY1pcnRE",
        "outputId": "a432d965-2797-471e-c76f-75f1efd51814"
      },
      "execution_count": 37,
      "outputs": [
        {
          "output_type": "stream",
          "name": "stdout",
          "text": [
            "I am Spiderman and I am from NewYork\n"
          ]
        }
      ]
    },
    {
      "cell_type": "code",
      "source": [
        "print('I am {0} and I am from {1}'.format(place, name))"
      ],
      "metadata": {
        "colab": {
          "base_uri": "https://localhost:8080/"
        },
        "id": "ibh0s5p7cpzi",
        "outputId": "5cee9c17-6600-42d3-a806-62ede60aaf52"
      },
      "execution_count": 38,
      "outputs": [
        {
          "output_type": "stream",
          "name": "stdout",
          "text": [
            "I am NewYork and I am from Spiderman\n"
          ]
        }
      ]
    },
    {
      "cell_type": "code",
      "source": [
        "print('I am {1} and I am from {0}'.format(name, place))"
      ],
      "metadata": {
        "colab": {
          "base_uri": "https://localhost:8080/"
        },
        "id": "c_Mg61nwcsIW",
        "outputId": "c129e399-a046-469c-88b0-6a31c13e041e"
      },
      "execution_count": 39,
      "outputs": [
        {
          "output_type": "stream",
          "name": "stdout",
          "text": [
            "I am NewYork and I am from Spiderman\n"
          ]
        }
      ]
    },
    {
      "cell_type": "code",
      "source": [
        "print('I am {} and I am from {}'.format(name, place))"
      ],
      "metadata": {
        "colab": {
          "base_uri": "https://localhost:8080/"
        },
        "id": "dREnWOz8cuF8",
        "outputId": "f116bace-1bbc-49a5-9612-5de06a82854d"
      },
      "execution_count": 40,
      "outputs": [
        {
          "output_type": "stream",
          "name": "stdout",
          "text": [
            "I am Spiderman and I am from NewYork\n"
          ]
        }
      ]
    },
    {
      "cell_type": "code",
      "source": [
        "print('I am {1} and I am from {2}'.format(name, place))"
      ],
      "metadata": {
        "colab": {
          "base_uri": "https://localhost:8080/",
          "height": 165
        },
        "id": "IGsuh9HJcwFe",
        "outputId": "f3f0489b-f46d-44ef-ade2-80da512baf37"
      },
      "execution_count": 41,
      "outputs": [
        {
          "output_type": "error",
          "ename": "IndexError",
          "evalue": "ignored",
          "traceback": [
            "\u001b[0;31m---------------------------------------------------------------------------\u001b[0m",
            "\u001b[0;31mIndexError\u001b[0m                                Traceback (most recent call last)",
            "\u001b[0;32m<ipython-input-41-0a7072dfc067>\u001b[0m in \u001b[0;36m<module>\u001b[0;34m()\u001b[0m\n\u001b[0;32m----> 1\u001b[0;31m \u001b[0mprint\u001b[0m\u001b[0;34m(\u001b[0m\u001b[0;34m'I am {1} and I am from {2}'\u001b[0m\u001b[0;34m.\u001b[0m\u001b[0mformat\u001b[0m\u001b[0;34m(\u001b[0m\u001b[0mname\u001b[0m\u001b[0;34m,\u001b[0m \u001b[0mplace\u001b[0m\u001b[0;34m)\u001b[0m\u001b[0;34m)\u001b[0m\u001b[0;34m\u001b[0m\u001b[0;34m\u001b[0m\u001b[0m\n\u001b[0m",
            "\u001b[0;31mIndexError\u001b[0m: tuple index out of range"
          ]
        }
      ]
    },
    {
      "cell_type": "code",
      "source": [
        "name = 'Tony'\n",
        "print(name.zfill(6)) # zfill --> zero fill"
      ],
      "metadata": {
        "colab": {
          "base_uri": "https://localhost:8080/"
        },
        "id": "e2GmGKMMcyDD",
        "outputId": "0430a2be-950f-42ba-fc4a-dc7405edde6e"
      },
      "execution_count": 42,
      "outputs": [
        {
          "output_type": "stream",
          "name": "stdout",
          "text": [
            "00Tony\n"
          ]
        }
      ]
    },
    {
      "cell_type": "code",
      "source": [
        "name = 'Banner'\n",
        "print(name.zfill(10)) # zfill --> zero fill"
      ],
      "metadata": {
        "colab": {
          "base_uri": "https://localhost:8080/"
        },
        "id": "KEpLvmSpdD8d",
        "outputId": "59fa43c8-9e27-446c-de50-8ed88046bb83"
      },
      "execution_count": 43,
      "outputs": [
        {
          "output_type": "stream",
          "name": "stdout",
          "text": [
            "0000Banner\n"
          ]
        }
      ]
    },
    {
      "cell_type": "code",
      "source": [
        "name = 'Banner'\n",
        "print(name.center(10)) # center --> center aligned"
      ],
      "metadata": {
        "colab": {
          "base_uri": "https://localhost:8080/"
        },
        "id": "FM3TToy0dGlG",
        "outputId": "83fd9bd1-5d43-44f5-bb8c-697ce41598b4"
      },
      "execution_count": 44,
      "outputs": [
        {
          "output_type": "stream",
          "name": "stdout",
          "text": [
            "  Banner  \n"
          ]
        }
      ]
    },
    {
      "cell_type": "code",
      "source": [
        "name = 'Banner'\n",
        "print(name.center(10, '-')) # center --> center aligned"
      ],
      "metadata": {
        "colab": {
          "base_uri": "https://localhost:8080/"
        },
        "id": "KLhg_DORdIba",
        "outputId": "e79fb0a9-b601-41da-f368-9af9c4b087d8"
      },
      "execution_count": 45,
      "outputs": [
        {
          "output_type": "stream",
          "name": "stdout",
          "text": [
            "--Banner--\n"
          ]
        }
      ]
    },
    {
      "cell_type": "code",
      "source": [
        "name = 'Banner'\n",
        "print(name.rjust(10, '-')) # rjust --> justified right side"
      ],
      "metadata": {
        "colab": {
          "base_uri": "https://localhost:8080/"
        },
        "id": "m7VrTCz6dL70",
        "outputId": "46525f74-e106-4714-aef8-d62040ff0283"
      },
      "execution_count": 46,
      "outputs": [
        {
          "output_type": "stream",
          "name": "stdout",
          "text": [
            "----Banner\n"
          ]
        }
      ]
    },
    {
      "cell_type": "code",
      "source": [
        "name = 'Banner'\n",
        "print(name.ljust(10, '-')) # ljust --> justified left side"
      ],
      "metadata": {
        "colab": {
          "base_uri": "https://localhost:8080/"
        },
        "id": "sr93fPbZdOaX",
        "outputId": "008f05c3-0a4c-484b-fc84-a17d5e52ba68"
      },
      "execution_count": 47,
      "outputs": [
        {
          "output_type": "stream",
          "name": "stdout",
          "text": [
            "Banner----\n"
          ]
        }
      ]
    },
    {
      "cell_type": "code",
      "source": [
        "name = ' Banner '\n",
        "print(name)\n",
        "print(name.strip())"
      ],
      "metadata": {
        "colab": {
          "base_uri": "https://localhost:8080/"
        },
        "id": "O2M99yCZdTuv",
        "outputId": "c26626da-96d7-4f08-ce0d-0566ee663b3a"
      },
      "execution_count": 48,
      "outputs": [
        {
          "output_type": "stream",
          "name": "stdout",
          "text": [
            " Banner \n",
            "Banner\n"
          ]
        }
      ]
    },
    {
      "cell_type": "code",
      "source": [
        "name = 'Banner '\n",
        "print(name)\n",
        "print(name.rstrip())"
      ],
      "metadata": {
        "colab": {
          "base_uri": "https://localhost:8080/"
        },
        "id": "7QMcaFEadWij",
        "outputId": "95777363-10cb-43ce-c797-298dab4383f6"
      },
      "execution_count": 49,
      "outputs": [
        {
          "output_type": "stream",
          "name": "stdout",
          "text": [
            "Banner \n",
            "Banner\n"
          ]
        }
      ]
    },
    {
      "cell_type": "code",
      "source": [
        "name = '  Banner'\n",
        "print(name)\n",
        "print(name.lstrip())"
      ],
      "metadata": {
        "colab": {
          "base_uri": "https://localhost:8080/"
        },
        "id": "htlz5KJOdZwQ",
        "outputId": "812ca0e8-a4e4-4af7-c23c-60163a9932d8"
      },
      "execution_count": 50,
      "outputs": [
        {
          "output_type": "stream",
          "name": "stdout",
          "text": [
            "  Banner\n",
            "Banner\n"
          ]
        }
      ]
    },
    {
      "cell_type": "markdown",
      "source": [
        "# **Concatenation :-**"
      ],
      "metadata": {
        "id": "KSc68Tkadf8t"
      }
    },
    {
      "cell_type": "code",
      "source": [
        "name = 'Spiderman'\n",
        "place = 'NewYork'\n",
        "print(name + place)"
      ],
      "metadata": {
        "colab": {
          "base_uri": "https://localhost:8080/"
        },
        "id": "ATlqZgObdlC2",
        "outputId": "ee23cb27-daf1-4f5a-a729-3319cfcfb9bd"
      },
      "execution_count": 51,
      "outputs": [
        {
          "output_type": "stream",
          "name": "stdout",
          "text": [
            "SpidermanNewYork\n"
          ]
        }
      ]
    },
    {
      "cell_type": "code",
      "source": [
        "name = 'Spiderman'\n",
        "place = ' NewYork'\n",
        "print(name + place)"
      ],
      "metadata": {
        "colab": {
          "base_uri": "https://localhost:8080/"
        },
        "id": "qnd71AUsdr2l",
        "outputId": "433eb4fc-0c3b-46af-931b-88f88971862d"
      },
      "execution_count": 52,
      "outputs": [
        {
          "output_type": "stream",
          "name": "stdout",
          "text": [
            "Spiderman NewYork\n"
          ]
        }
      ]
    },
    {
      "cell_type": "code",
      "source": [
        "name = 'Spiderman '\n",
        "place = 'NewYork'\n",
        "print(name + place)"
      ],
      "metadata": {
        "colab": {
          "base_uri": "https://localhost:8080/"
        },
        "id": "y71CY6Ntd4J_",
        "outputId": "a3efd604-dcf5-4f1a-93f8-60efa2ecbd7f"
      },
      "execution_count": 53,
      "outputs": [
        {
          "output_type": "stream",
          "name": "stdout",
          "text": [
            "Spiderman NewYork\n"
          ]
        }
      ]
    },
    {
      "cell_type": "code",
      "source": [
        "name = 'Peter ' 'Parker'\n",
        "print(name)"
      ],
      "metadata": {
        "colab": {
          "base_uri": "https://localhost:8080/"
        },
        "id": "qLG7TwqTd69Q",
        "outputId": "d1d67a1a-c0b2-4473-bcab-d2522e9e4b53"
      },
      "execution_count": 54,
      "outputs": [
        {
          "output_type": "stream",
          "name": "stdout",
          "text": [
            "Peter Parker\n"
          ]
        }
      ]
    },
    {
      "cell_type": "code",
      "source": [
        "print('Tony' < 'Steve')"
      ],
      "metadata": {
        "colab": {
          "base_uri": "https://localhost:8080/"
        },
        "id": "rUI_yU0beBCF",
        "outputId": "70326656-3f70-4da6-c2a1-36546d14ffcd"
      },
      "execution_count": 55,
      "outputs": [
        {
          "output_type": "stream",
          "name": "stdout",
          "text": [
            "False\n"
          ]
        }
      ]
    },
    {
      "cell_type": "code",
      "source": [
        "a = 'I am Ironman'\n",
        "print('I' not in a)"
      ],
      "metadata": {
        "colab": {
          "base_uri": "https://localhost:8080/"
        },
        "id": "eWlbK7R3eELN",
        "outputId": "5bdff1c5-feca-4f26-bfde-5e8a2ef94693"
      },
      "execution_count": 56,
      "outputs": [
        {
          "output_type": "stream",
          "name": "stdout",
          "text": [
            "False\n"
          ]
        }
      ]
    },
    {
      "cell_type": "markdown",
      "source": [
        "# **String Slicing :-**"
      ],
      "metadata": {
        "id": "wyQIcKTAeKtH"
      }
    },
    {
      "cell_type": "code",
      "source": [
        "a = 'I am Ironman'\n",
        "print(a[0])"
      ],
      "metadata": {
        "colab": {
          "base_uri": "https://localhost:8080/"
        },
        "id": "tp6cBoSCeNzh",
        "outputId": "ac6ebaf0-a3ce-4660-d219-cabc6eeecd4f"
      },
      "execution_count": 57,
      "outputs": [
        {
          "output_type": "stream",
          "name": "stdout",
          "text": [
            "I\n"
          ]
        }
      ]
    },
    {
      "cell_type": "code",
      "source": [
        "print(a[0:5])"
      ],
      "metadata": {
        "colab": {
          "base_uri": "https://localhost:8080/"
        },
        "id": "TfrGVEUpeQUU",
        "outputId": "b0a3037b-1ef6-4393-d028-f9e280e4e919"
      },
      "execution_count": 58,
      "outputs": [
        {
          "output_type": "stream",
          "name": "stdout",
          "text": [
            "I am \n"
          ]
        }
      ]
    },
    {
      "cell_type": "code",
      "source": [
        "print(a[-1])"
      ],
      "metadata": {
        "colab": {
          "base_uri": "https://localhost:8080/"
        },
        "id": "_Ei--7j3eVLp",
        "outputId": "18b18af1-86f4-447a-8225-0cbc9f1dcc36"
      },
      "execution_count": 59,
      "outputs": [
        {
          "output_type": "stream",
          "name": "stdout",
          "text": [
            "n\n"
          ]
        }
      ]
    },
    {
      "cell_type": "code",
      "source": [
        "a[0] = 'Tony'\n",
        "print(a)"
      ],
      "metadata": {
        "colab": {
          "base_uri": "https://localhost:8080/",
          "height": 183
        },
        "id": "MBmt1cBxeXxC",
        "outputId": "f689b4a2-e93f-48b1-f9b8-84f8e68861d7"
      },
      "execution_count": 60,
      "outputs": [
        {
          "output_type": "error",
          "ename": "TypeError",
          "evalue": "ignored",
          "traceback": [
            "\u001b[0;31m---------------------------------------------------------------------------\u001b[0m",
            "\u001b[0;31mTypeError\u001b[0m                                 Traceback (most recent call last)",
            "\u001b[0;32m<ipython-input-60-3b22d00e3188>\u001b[0m in \u001b[0;36m<module>\u001b[0;34m()\u001b[0m\n\u001b[0;32m----> 1\u001b[0;31m \u001b[0ma\u001b[0m\u001b[0;34m[\u001b[0m\u001b[0;36m0\u001b[0m\u001b[0;34m]\u001b[0m \u001b[0;34m=\u001b[0m \u001b[0;34m'Tony'\u001b[0m\u001b[0;34m\u001b[0m\u001b[0;34m\u001b[0m\u001b[0m\n\u001b[0m\u001b[1;32m      2\u001b[0m \u001b[0mprint\u001b[0m\u001b[0;34m(\u001b[0m\u001b[0ma\u001b[0m\u001b[0;34m)\u001b[0m\u001b[0;34m\u001b[0m\u001b[0;34m\u001b[0m\u001b[0m\n",
            "\u001b[0;31mTypeError\u001b[0m: 'str' object does not support item assignment"
          ]
        }
      ]
    },
    {
      "cell_type": "code",
      "source": [
        ""
      ],
      "metadata": {
        "id": "MDWZN9GieaRj"
      },
      "execution_count": null,
      "outputs": []
    }
  ]
}