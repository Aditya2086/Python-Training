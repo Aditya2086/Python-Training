{
  "nbformat": 4,
  "nbformat_minor": 0,
  "metadata": {
    "colab": {
      "name": "Day_11_PT_01_Important_Concepts.ipynb",
      "provenance": [],
      "authorship_tag": "ABX9TyODFhnscCpT0A6VaX8DEi2M",
      "include_colab_link": true
    },
    "kernelspec": {
      "name": "python3",
      "display_name": "Python 3"
    },
    "language_info": {
      "name": "python"
    }
  },
  "cells": [
    {
      "cell_type": "markdown",
      "metadata": {
        "id": "view-in-github",
        "colab_type": "text"
      },
      "source": [
        "<a href=\"https://colab.research.google.com/github/Aditya2086/Python-Training/blob/main/Day_11_PT_01_Important_Concepts.ipynb\" target=\"_parent\"><img src=\"https://colab.research.google.com/assets/colab-badge.svg\" alt=\"Open In Colab\"/></a>"
      ]
    },
    {
      "cell_type": "markdown",
      "source": [
        "## **Duck Typing :-** Duck Typing means that an object is defined by what it can do, not by what it is."
      ],
      "metadata": {
        "id": "i6qGIPUQR_Fq"
      }
    },
    {
      "cell_type": "code",
      "execution_count": 1,
      "metadata": {
        "colab": {
          "base_uri": "https://localhost:8080/"
        },
        "id": "hWCdKbc1Rh_o",
        "outputId": "49cc04d4-e98a-4dc8-c0be-401dce591995"
      },
      "outputs": [
        {
          "output_type": "stream",
          "name": "stdout",
          "text": [
            "Compiling\n",
            "Executing\n",
            "Auto Completion\n"
          ]
        }
      ],
      "source": [
        "class Pycharm:\n",
        "  def execute(self):\n",
        "    print('Compiling')\n",
        "    print('Executing')\n",
        "\n",
        "class VSC:\n",
        "  def execute(self):\n",
        "    print('Compiling')\n",
        "    print('Executing')\n",
        "    print('Auto Completion')\n",
        "\n",
        "class Laptop:\n",
        "  def code(self, editor):\n",
        "    editor.execute()\n",
        "\n",
        "lap = Laptop()\n",
        "ide = VSC()\n",
        "lap.code(ide)"
      ]
    },
    {
      "cell_type": "markdown",
      "source": [
        "## **Monkey Patch :-** In Python, the term monkey patch refers to dynamic (or run-time) modifications of a class or module. In Python, we can actually change the behavior of code at run-time."
      ],
      "metadata": {
        "id": "BgQ8eR5vSltw"
      }
    },
    {
      "cell_type": "code",
      "source": [
        "class Test:\n",
        "  def __init__(self, x):\n",
        "    self.a = x\n",
        "  def get_data(self):\n",
        "    print('Get data from Database')\n",
        "  def f1(self):\n",
        "    self.get_data()\n",
        "  def f2(self):\n",
        "    self.get_data()\n",
        "\n",
        "t1 = Test(5)\n",
        "print('Before Monkey Patching')\n",
        "t1.f1()\n",
        "t1.f2()\n",
        "def new_get_data(self):\n",
        "  print('Get data from Local Disk')\n",
        "Test.get_data = new_get_data\n",
        "print('After Monkey Patching')\n",
        "t1.f1()\n",
        "t1.f2()"
      ],
      "metadata": {
        "colab": {
          "base_uri": "https://localhost:8080/"
        },
        "id": "Mw8mUQUTSuUk",
        "outputId": "1e018c39-8e26-496b-fa11-ff0fc0083a3e"
      },
      "execution_count": 2,
      "outputs": [
        {
          "output_type": "stream",
          "name": "stdout",
          "text": [
            "Before Monkey Patching\n",
            "Get data from Database\n",
            "Get data from Database\n",
            "After Monkey Patching\n",
            "Get data from Local Disk\n",
            "Get data from Local Disk\n"
          ]
        }
      ]
    },
    {
      "cell_type": "code",
      "source": [
        "# Duck Typing\n",
        "# Inheritance is not performed\n",
        "# this concept is similar to the concept of \"Interfacing\" in JAVA.\n",
        "class PyCharm:\n",
        "  def run(self):\n",
        "    print('Interpreting')\n",
        "    print('Executing')\n",
        "\n",
        "class VS_Code:\n",
        "  def run(self):\n",
        "    print('Interpreting')\n",
        "    print('Executing')\n",
        "    print('Code Completely Executed')\n",
        "\n",
        "class Desktop:\n",
        "  def snippet(self,editor):\n",
        "    editor.run()\n",
        "\n",
        "Desk = Desktop()\n",
        "IDE = VS_Code()\n",
        "Desk.snippet(IDE)"
      ],
      "metadata": {
        "colab": {
          "base_uri": "https://localhost:8080/"
        },
        "id": "Y1djLLkCTKv8",
        "outputId": "3f8276ee-3c85-4537-ee59-43c2739a31f1"
      },
      "execution_count": 3,
      "outputs": [
        {
          "output_type": "stream",
          "name": "stdout",
          "text": [
            "Interpreting\n",
            "Executing\n",
            "Code Completely Executed\n"
          ]
        }
      ]
    },
    {
      "cell_type": "code",
      "source": [
        "class Test:\n",
        "  def __init__(self,x):\n",
        "    self.a = x\n",
        "  def data_ext(self):\n",
        "    print(\"Fetching data from DB\")\n",
        "  def myfun1(self):\n",
        "    self.data_ext()\n",
        "  def myfun2(self):\n",
        "    self.data_ext()\n",
        "\n",
        "obj = Test(6)\n",
        "obj.myfun1()\n",
        "obj.myfun2()"
      ],
      "metadata": {
        "colab": {
          "base_uri": "https://localhost:8080/"
        },
        "id": "zlCF4Wc2TRAS",
        "outputId": "eb6c9fe3-b552-4821-f333-45e28475ad07"
      },
      "execution_count": 4,
      "outputs": [
        {
          "output_type": "stream",
          "name": "stdout",
          "text": [
            "Fetching data from DB\n",
            "Fetching data from DB\n"
          ]
        }
      ]
    },
    {
      "cell_type": "code",
      "source": [
        "# Monkey Patching\n",
        "class Test:\n",
        "  def __init__(self,x):\n",
        "    self.a = x\n",
        "  def data_ext(self):\n",
        "    print(\"Fetching data from DB\")\n",
        "  def myfun1(self):\n",
        "    self.data_ext()\n",
        "  def myfun2(self):\n",
        "    self.data_ext()\n",
        "\n",
        "obj = Test(6)\n",
        "print(\"Before Monkey Patching.........\")\n",
        "obj.myfun1()\n",
        "obj.myfun2()\n",
        "def new_dataset(self):  # We're Modifying the function at runtime\n",
        "  print('Extracting data from Hard-Disk')\n",
        "Test.data_ext = new_dataset\n",
        "print(\"After Monkey Patching..........\")\n",
        "obj.myfun1()\n",
        "obj.myfun2()"
      ],
      "metadata": {
        "colab": {
          "base_uri": "https://localhost:8080/"
        },
        "id": "d9NXSDSTTR5Y",
        "outputId": "fee40afa-8ff2-42f6-fa37-ca6078533da7"
      },
      "execution_count": 5,
      "outputs": [
        {
          "output_type": "stream",
          "name": "stdout",
          "text": [
            "Before Monkey Patching.........\n",
            "Fetching data from DB\n",
            "Fetching data from DB\n",
            "After Monkey Patching..........\n",
            "Extracting data from Hard-Disk\n",
            "Extracting data from Hard-Disk\n"
          ]
        }
      ]
    },
    {
      "cell_type": "code",
      "source": [
        ""
      ],
      "metadata": {
        "id": "sELbUE7TTWKT"
      },
      "execution_count": null,
      "outputs": []
    }
  ]
}