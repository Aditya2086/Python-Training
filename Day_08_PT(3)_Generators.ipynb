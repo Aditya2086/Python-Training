{
  "nbformat": 4,
  "nbformat_minor": 0,
  "metadata": {
    "colab": {
      "name": "Day 08_PT(3) - Generators.ipynb",
      "provenance": [],
      "authorship_tag": "ABX9TyN6wKX67HuaLMD1+jsTQUKf",
      "include_colab_link": true
    },
    "kernelspec": {
      "name": "python3",
      "display_name": "Python 3"
    },
    "language_info": {
      "name": "python"
    }
  },
  "cells": [
    {
      "cell_type": "markdown",
      "metadata": {
        "id": "view-in-github",
        "colab_type": "text"
      },
      "source": [
        "<a href=\"https://colab.research.google.com/github/Aditya2086/Python-Training/blob/main/Day_08_PT(3)_Generators.ipynb\" target=\"_parent\"><img src=\"https://colab.research.google.com/assets/colab-badge.svg\" alt=\"Open In Colab\"/></a>"
      ]
    },
    {
      "cell_type": "markdown",
      "source": [
        "# **A Generator Function Is A Function Which Returns The Generator- Iterator With The Help Of Yield Function.**"
      ],
      "metadata": {
        "id": "q9qPDuTkWRGZ"
      }
    },
    {
      "cell_type": "code",
      "source": [
        "x = (1, 2, 3, 4, 5)\n",
        "x_com = (i*i for i in x)\n",
        "print(x_com)"
      ],
      "metadata": {
        "colab": {
          "base_uri": "https://localhost:8080/"
        },
        "id": "w-fWYa2QWgOP",
        "outputId": "0a2896ba-aa75-49c6-a893-5d013b46edf0"
      },
      "execution_count": 1,
      "outputs": [
        {
          "output_type": "stream",
          "name": "stdout",
          "text": [
            "<generator object <genexpr> at 0x7f864c575b50>\n"
          ]
        }
      ]
    },
    {
      "cell_type": "code",
      "source": [
        "def sq_num(my_list):\n",
        "  res = []\n",
        "  for i in my_list:\n",
        "    res.append(i*i)\n",
        "  return res\n",
        "\n",
        "my_list = [1, 2, 3, 4]\n",
        "print(sq_num(my_list))"
      ],
      "metadata": {
        "colab": {
          "base_uri": "https://localhost:8080/"
        },
        "id": "47E3g1bcWla_",
        "outputId": "04360e55-8e3e-4a84-d1a5-c6290659e1f1"
      },
      "execution_count": 2,
      "outputs": [
        {
          "output_type": "stream",
          "name": "stdout",
          "text": [
            "[1, 4, 9, 16]\n"
          ]
        }
      ]
    },
    {
      "cell_type": "code",
      "source": [
        "def sq_num(my_list):\n",
        "  res = []\n",
        "  for i in my_list:\n",
        "    yield(i*i)\n",
        "\n",
        "my_list = sq_num([1, 2, 3, 4])\n",
        "print(next(my_list))\n",
        "print(next(my_list))\n",
        "print(next(my_list))"
      ],
      "metadata": {
        "colab": {
          "base_uri": "https://localhost:8080/"
        },
        "id": "y5uFDsp5WpZJ",
        "outputId": "dbe1544b-e88c-4ac7-99e8-0265880d331f"
      },
      "execution_count": 3,
      "outputs": [
        {
          "output_type": "stream",
          "name": "stdout",
          "text": [
            "1\n",
            "4\n",
            "9\n"
          ]
        }
      ]
    },
    {
      "cell_type": "code",
      "source": [
        "def sq_num(my_list):\n",
        "  res = []\n",
        "  for i in my_list:\n",
        "    yield(i*i)\n",
        "\n",
        "my_list = sq_num([1, 2, 3, 4])\n",
        "for x in my_list:\n",
        "  print(x, end = ' ')"
      ],
      "metadata": {
        "colab": {
          "base_uri": "https://localhost:8080/"
        },
        "id": "iSZdMy6kWtYW",
        "outputId": "36b0f784-920a-4466-dc99-1b0732e529ff"
      },
      "execution_count": 4,
      "outputs": [
        {
          "output_type": "stream",
          "name": "stdout",
          "text": [
            "1 4 9 16 "
          ]
        }
      ]
    },
    {
      "cell_type": "code",
      "source": [
        "x = (1, 2, 3, 4, 5)\n",
        "x_com = (i*i for i in x)\n",
        "for y in x_com:\n",
        "  print(y, end = ' ')"
      ],
      "metadata": {
        "colab": {
          "base_uri": "https://localhost:8080/"
        },
        "id": "mIkkABhQWxbP",
        "outputId": "3956a5cb-6d45-4001-c6ce-5545b24d3ff6"
      },
      "execution_count": 5,
      "outputs": [
        {
          "output_type": "stream",
          "name": "stdout",
          "text": [
            "1 4 9 16 25 "
          ]
        }
      ]
    },
    {
      "cell_type": "code",
      "source": [
        "x = (1, 2, 3, 4, 5)\n",
        "x_com = (i*i for i in x)\n",
        "print(list(x_com))"
      ],
      "metadata": {
        "colab": {
          "base_uri": "https://localhost:8080/"
        },
        "id": "NP9BKGwNW0wH",
        "outputId": "c72a0b37-5132-4c7e-aaf8-b16a8126ef19"
      },
      "execution_count": 6,
      "outputs": [
        {
          "output_type": "stream",
          "name": "stdout",
          "text": [
            "[1, 4, 9, 16, 25]\n"
          ]
        }
      ]
    },
    {
      "cell_type": "markdown",
      "source": [
        "# **Fibonacci Series Using Generators :-**"
      ],
      "metadata": {
        "id": "qL6mHC0MW3yA"
      }
    },
    {
      "cell_type": "code",
      "source": [
        "def fib_series(a):\n",
        "  x, y = 1, 0\n",
        "  while True:\n",
        "    z = x + y\n",
        "    if z < a:\n",
        "      yield z\n",
        "      x, y = y, z\n",
        "    else:\n",
        "      break\n",
        "\n",
        "gen_fib = fib_series(10)\n",
        "print(next(gen_fib))\n",
        "print(next(gen_fib))\n",
        "print(next(gen_fib))\n",
        "print(next(gen_fib))"
      ],
      "metadata": {
        "id": "6D3u75BCW9t3",
        "outputId": "e5d0866d-4b1f-4003-ec2a-b02212db84e4",
        "colab": {
          "base_uri": "https://localhost:8080/"
        }
      },
      "execution_count": 7,
      "outputs": [
        {
          "output_type": "stream",
          "name": "stdout",
          "text": [
            "1\n",
            "1\n",
            "2\n",
            "3\n"
          ]
        }
      ]
    },
    {
      "cell_type": "code",
      "source": [
        ""
      ],
      "metadata": {
        "id": "tmSmg5JVXAvG"
      },
      "execution_count": null,
      "outputs": []
    }
  ]
}