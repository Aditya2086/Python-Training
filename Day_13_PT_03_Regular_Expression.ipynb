{
  "nbformat": 4,
  "nbformat_minor": 0,
  "metadata": {
    "colab": {
      "name": "Day_13_PT_03_Regular_Expression.ipynb",
      "provenance": [],
      "authorship_tag": "ABX9TyPHr/EEI/WcEkMZ5ttaXCGh",
      "include_colab_link": true
    },
    "kernelspec": {
      "name": "python3",
      "display_name": "Python 3"
    },
    "language_info": {
      "name": "python"
    }
  },
  "cells": [
    {
      "cell_type": "markdown",
      "metadata": {
        "id": "view-in-github",
        "colab_type": "text"
      },
      "source": [
        "<a href=\"https://colab.research.google.com/github/Aditya2086/Python-Training/blob/main/Day_13_PT_03_Regular_Expression.ipynb\" target=\"_parent\"><img src=\"https://colab.research.google.com/assets/colab-badge.svg\" alt=\"Open In Colab\"/></a>"
      ]
    },
    {
      "cell_type": "markdown",
      "source": [
        "# **Substituting Using Regex :-**"
      ],
      "metadata": {
        "id": "B5d6VuwZJnVS"
      }
    },
    {
      "cell_type": "code",
      "execution_count": 1,
      "metadata": {
        "id": "BZjBde9i6qkP",
        "colab": {
          "base_uri": "https://localhost:8080/"
        },
        "outputId": "fa57afd4-d59b-4486-e6ed-04c28ac4cedb"
      },
      "outputs": [
        {
          "output_type": "stream",
          "name": "stdout",
          "text": [
            "Enter a string:Jayden123\n",
            "Jayden_\n"
          ]
        }
      ],
      "source": [
        "import re\n",
        "my_str = input('Enter a string:')\n",
        "pattern = re.compile(r'[0-9]+') # with + digits are treated as single no.\n",
        "res = pattern.sub('_', my_str)\n",
        "print(res)"
      ]
    },
    {
      "cell_type": "code",
      "source": [
        "my_str = input('Enter a string:')\n",
        "pattern = re.compile(r'[0-9]') # without + digits are treated as individual\n",
        "res = pattern.sub('_', my_str)\n",
        "print(res)"
      ],
      "metadata": {
        "colab": {
          "base_uri": "https://localhost:8080/"
        },
        "id": "zSqcp6GZJ1pb",
        "outputId": "9ef3016a-1e3a-4ad2-f04a-413e18959705"
      },
      "execution_count": 4,
      "outputs": [
        {
          "output_type": "stream",
          "name": "stdout",
          "text": [
            "Enter a string:Jayden123\n",
            "Jayden___\n"
          ]
        }
      ]
    },
    {
      "cell_type": "code",
      "source": [
        "my_str = input('Enter a string:')\n",
        "pattern = re.compile(r'\\d') # \\d is same as [0-9]\n",
        "res = pattern.sub('_', my_str)\n",
        "print(res)"
      ],
      "metadata": {
        "colab": {
          "base_uri": "https://localhost:8080/"
        },
        "id": "Rgng2kMvJ_PV",
        "outputId": "60ce4917-c953-4808-cd95-92312ac915e9"
      },
      "execution_count": 5,
      "outputs": [
        {
          "output_type": "stream",
          "name": "stdout",
          "text": [
            "Enter a string:Mike4567\n",
            "Mike____\n"
          ]
        }
      ]
    },
    {
      "cell_type": "code",
      "source": [
        "my_str = input('Enter a string:')\n",
        "pattern = re.compile(r'\\D') # \\D is used to select non digits\n",
        "res = pattern.sub('_', my_str)\n",
        "print(res)"
      ],
      "metadata": {
        "colab": {
          "base_uri": "https://localhost:8080/"
        },
        "id": "TggmCRLDKOxN",
        "outputId": "b846a874-ccac-478d-8956-d0626303ab4d"
      },
      "execution_count": 6,
      "outputs": [
        {
          "output_type": "stream",
          "name": "stdout",
          "text": [
            "Enter a string:Mike45789\n",
            "____45789\n"
          ]
        }
      ]
    },
    {
      "cell_type": "code",
      "source": [
        "my_str = input('Enter a string:')\n",
        "pattern = re.compile(r'\\D+') # \\D+ is used to treat non digits as single non digit\n",
        "res = pattern.sub('_', my_str)\n",
        "print(res)"
      ],
      "metadata": {
        "colab": {
          "base_uri": "https://localhost:8080/"
        },
        "id": "byE-5o67KXbx",
        "outputId": "a0a177a1-d7e0-4119-eed0-df251cdd1912"
      },
      "execution_count": 7,
      "outputs": [
        {
          "output_type": "stream",
          "name": "stdout",
          "text": [
            "Enter a string:Kevin3456\n",
            "_3456\n"
          ]
        }
      ]
    },
    {
      "cell_type": "code",
      "source": [
        "my_str = input('Enter a string:')\n",
        "pattern = re.compile(r'[^0-9]+') # \\D+ is used to treat non digits as single non digit\n",
        "res = pattern.sub('_', my_str)\n",
        "print(res)"
      ],
      "metadata": {
        "colab": {
          "base_uri": "https://localhost:8080/"
        },
        "id": "W1K7dRyfLNiM",
        "outputId": "14645d84-ed69-46cb-c504-edb8b3d21471"
      },
      "execution_count": 8,
      "outputs": [
        {
          "output_type": "stream",
          "name": "stdout",
          "text": [
            "Enter a string:Jayden12334\n",
            "_12334\n"
          ]
        }
      ]
    },
    {
      "cell_type": "markdown",
      "source": [
        "# **Finding Using Regex :-**"
      ],
      "metadata": {
        "id": "hEnwAjoTLgKC"
      }
    },
    {
      "cell_type": "code",
      "source": [
        "my_str = input('Enter a string:')\n",
        "res = re.findall(r'\\d', my_str)\n",
        "print(res)"
      ],
      "metadata": {
        "colab": {
          "base_uri": "https://localhost:8080/"
        },
        "id": "exPtoqWuLaAv",
        "outputId": "85763a15-ed85-4c24-f374-8cd64d35928e"
      },
      "execution_count": 9,
      "outputs": [
        {
          "output_type": "stream",
          "name": "stdout",
          "text": [
            "Enter a string:Jayden123\n",
            "['1', '2', '3']\n"
          ]
        }
      ]
    },
    {
      "cell_type": "code",
      "source": [
        "my_str = input('Enter a string:')\n",
        "res = re.findall(r'\\d+', my_str)\n",
        "print(res)"
      ],
      "metadata": {
        "colab": {
          "base_uri": "https://localhost:8080/"
        },
        "id": "SSLwTWqqMg7e",
        "outputId": "73120cfd-2cb6-45c0-b0c8-8b32b0e56840"
      },
      "execution_count": 10,
      "outputs": [
        {
          "output_type": "stream",
          "name": "stdout",
          "text": [
            "Enter a string:Jayden123\n",
            "['123']\n"
          ]
        }
      ]
    },
    {
      "cell_type": "code",
      "source": [
        "my_str = input('Enter a string:')\n",
        "res = re.findall(r'^Bond', my_str) # ^ checks the 1st word\n",
        "if res:\n",
        "  print('Yes the string starts with Bond')\n",
        "else:\n",
        "  print('No match')"
      ],
      "metadata": {
        "colab": {
          "base_uri": "https://localhost:8080/"
        },
        "id": "gia7DT4oMrna",
        "outputId": "26a0747d-14ec-4737-a420-c5d3362b6a26"
      },
      "execution_count": 11,
      "outputs": [
        {
          "output_type": "stream",
          "name": "stdout",
          "text": [
            "Enter a string:Red\n",
            "No match\n"
          ]
        }
      ]
    },
    {
      "cell_type": "code",
      "source": [
        "my_str = 'Bond. James Bond'\n",
        "res = re.findall(r'Bond$', my_str) # $ checks the last word\n",
        "if res:\n",
        "  print('Yes the string ends with Bond')\n",
        "else:\n",
        "  print('No match')"
      ],
      "metadata": {
        "colab": {
          "base_uri": "https://localhost:8080/"
        },
        "id": "eNPuFv-4MxY7",
        "outputId": "8a19a81f-adba-40cd-8e04-f2b47eee13ec"
      },
      "execution_count": 12,
      "outputs": [
        {
          "output_type": "stream",
          "name": "stdout",
          "text": [
            "Yes the string ends with Bond\n"
          ]
        }
      ]
    },
    {
      "cell_type": "markdown",
      "source": [
        "# **Searching Using Regex :-**"
      ],
      "metadata": {
        "id": "YpERF6U_M-rV"
      }
    },
    {
      "cell_type": "code",
      "source": [
        "my_str = 'The truth is... I am IronMan'\n",
        "res = re.search(r'Iron', my_str)\n",
        "print(res)\n",
        "if res:\n",
        "  print('Yes there is a match')\n",
        "else:\n",
        "  print('No match')"
      ],
      "metadata": {
        "colab": {
          "base_uri": "https://localhost:8080/"
        },
        "id": "vC4FHv7oM3Wn",
        "outputId": "a7cc689f-0561-4441-842a-e3ce3bc1179b"
      },
      "execution_count": 13,
      "outputs": [
        {
          "output_type": "stream",
          "name": "stdout",
          "text": [
            "<re.Match object; span=(21, 25), match='Iron'>\n",
            "Yes there is a match\n"
          ]
        }
      ]
    },
    {
      "cell_type": "code",
      "source": [
        "my_str = 'The truth is... I am The Iron Man'\n",
        "res = re.findall(r'The', my_str)\n",
        "print(res)\n",
        "if res:\n",
        "  print('Yes there is a match')\n",
        "else:\n",
        "  print('No match')"
      ],
      "metadata": {
        "colab": {
          "base_uri": "https://localhost:8080/"
        },
        "id": "-5rF6DA5NHr5",
        "outputId": "48293cc8-78a9-4720-f756-5ee6b3e3212f"
      },
      "execution_count": 14,
      "outputs": [
        {
          "output_type": "stream",
          "name": "stdout",
          "text": [
            "['The', 'The']\n",
            "Yes there is a match\n"
          ]
        }
      ]
    },
    {
      "cell_type": "code",
      "source": [
        "my_str = 'The truth is... I am The Iron Man'\n",
        "res = re.search(r'The', my_str)\n",
        "print(res)\n",
        "if res:\n",
        "  print('Yes there is a match')\n",
        "else:\n",
        "  print('No match')"
      ],
      "metadata": {
        "colab": {
          "base_uri": "https://localhost:8080/"
        },
        "id": "OpQntleVNLEq",
        "outputId": "530645e2-d3bb-4a12-b010-52203f87aae7"
      },
      "execution_count": 15,
      "outputs": [
        {
          "output_type": "stream",
          "name": "stdout",
          "text": [
            "<re.Match object; span=(0, 3), match='The'>\n",
            "Yes there is a match\n"
          ]
        }
      ]
    },
    {
      "cell_type": "markdown",
      "source": [
        "# **Splitting Using Regex :-**"
      ],
      "metadata": {
        "id": "K5lnk7biNSUP"
      }
    },
    {
      "cell_type": "code",
      "source": [
        "my_str = 'I am Spiderman'\n",
        "res = re.split(r'\\s', my_str)\n",
        "print(res)"
      ],
      "metadata": {
        "colab": {
          "base_uri": "https://localhost:8080/"
        },
        "id": "PLtqVRJ9NPOZ",
        "outputId": "81b21ca3-9176-4126-8683-bad421005c27"
      },
      "execution_count": 16,
      "outputs": [
        {
          "output_type": "stream",
          "name": "stdout",
          "text": [
            "['I', 'am', 'Spiderman']\n"
          ]
        }
      ]
    },
    {
      "cell_type": "code",
      "source": [
        "my_str = 'My name is Spiderman'\n",
        "res = re.split(r'\\s', my_str,2)\n",
        "print(res)"
      ],
      "metadata": {
        "colab": {
          "base_uri": "https://localhost:8080/"
        },
        "id": "bLF_g1RYNc2Y",
        "outputId": "e4fc9204-8134-4a86-cbeb-3979e271c866"
      },
      "execution_count": 17,
      "outputs": [
        {
          "output_type": "stream",
          "name": "stdout",
          "text": [
            "['My', 'name', 'is Spiderman']\n"
          ]
        }
      ]
    },
    {
      "cell_type": "markdown",
      "source": [
        "# **Write A Program To Search For An Uppercase Character At The Beginning Of A Word And Print Its Position And The Word :-**"
      ],
      "metadata": {
        "id": "WZ6V0nMYNjPJ"
      }
    },
    {
      "cell_type": "code",
      "source": [
        "my_str = 'I am Iron Man'\n",
        "res = re.search(r'\\bM', my_str)\n",
        "print(res.span())"
      ],
      "metadata": {
        "colab": {
          "base_uri": "https://localhost:8080/"
        },
        "id": "G2t5yBF-NgFx",
        "outputId": "e517ce15-86e2-450b-9d52-4e9a33565ca1"
      },
      "execution_count": 18,
      "outputs": [
        {
          "output_type": "stream",
          "name": "stdout",
          "text": [
            "(10, 11)\n"
          ]
        }
      ]
    },
    {
      "cell_type": "code",
      "source": [
        "my_str = 'I am Iron Man'\n",
        "res = re.search(r'\\bM\\w+', my_str)\n",
        "print(res.group())"
      ],
      "metadata": {
        "colab": {
          "base_uri": "https://localhost:8080/"
        },
        "id": "Mfv5s6j8N8Y5",
        "outputId": "b64aca13-da11-4250-da78-981aabc94b19"
      },
      "execution_count": 19,
      "outputs": [
        {
          "output_type": "stream",
          "name": "stdout",
          "text": [
            "Man\n"
          ]
        }
      ]
    },
    {
      "cell_type": "markdown",
      "source": [
        "# **Password Validation :-**\n",
        "\n",
        "# **Write A Program To Generate A Password That Consists Of Numbers And Characters ?**"
      ],
      "metadata": {
        "id": "7cX4bESYOHwW"
      }
    },
    {
      "cell_type": "code",
      "source": [
        "pwd = input('Enter a password:')\n",
        "pattern = re.compile(r'[a-zA-Z0-9]')\n",
        "res = pattern.match(pwd)\n",
        "if res:\n",
        "  print('Valid')\n",
        "else:\n",
        "  print('Invalid')"
      ],
      "metadata": {
        "colab": {
          "base_uri": "https://localhost:8080/"
        },
        "id": "Up9CGwzvN_wO",
        "outputId": "e1473411-3ab1-43c9-d570-93e8a4b97145"
      },
      "execution_count": 20,
      "outputs": [
        {
          "output_type": "stream",
          "name": "stdout",
          "text": [
            "Enter a password:Jai Ho\n",
            "Valid\n"
          ]
        }
      ]
    },
    {
      "cell_type": "code",
      "source": [
        "pwd = input('Enter a password:')\n",
        "pattern = re.compile(r'\\w')\n",
        "res = pattern.match(pwd)\n",
        "if res:\n",
        "  print('Valid')\n",
        "else:\n",
        "  print('Invalid')"
      ],
      "metadata": {
        "colab": {
          "base_uri": "https://localhost:8080/"
        },
        "id": "aTcJ2zU-Ou_K",
        "outputId": "6ca2daa6-6b06-402c-ca94-c94d64f7ad5e"
      },
      "execution_count": 21,
      "outputs": [
        {
          "output_type": "stream",
          "name": "stdout",
          "text": [
            "Enter a password:adi123\n",
            "Valid\n"
          ]
        }
      ]
    },
    {
      "cell_type": "code",
      "source": [
        "pwd = input('Enter a password:')\n",
        "pattern = re.compile(r'\\W')\n",
        "res = pattern.match(pwd)\n",
        "if res:\n",
        "  print('Valid')\n",
        "else:\n",
        "  print('Invalid')"
      ],
      "metadata": {
        "colab": {
          "base_uri": "https://localhost:8080/"
        },
        "id": "1zoZww1AO0nX",
        "outputId": "f4e98226-5ffb-4515-e81f-1743ff766227"
      },
      "execution_count": 22,
      "outputs": [
        {
          "output_type": "stream",
          "name": "stdout",
          "text": [
            "Enter a password:#@%&\n",
            "Valid\n"
          ]
        }
      ]
    },
    {
      "cell_type": "code",
      "source": [
        "pwd = input('Enter a password:')\n",
        "pattern = re.compile(r'[a-zA-Z0-9@#$%^&]')\n",
        "res = pattern.match(pwd)\n",
        "if res:\n",
        "  print('Valid')\n",
        "else:\n",
        "  print('Invalid')"
      ],
      "metadata": {
        "colab": {
          "base_uri": "https://localhost:8080/"
        },
        "id": "iPDKhseYO5nE",
        "outputId": "5e4a3b6a-30c5-4b66-c78d-ed6cd5e47145"
      },
      "execution_count": 23,
      "outputs": [
        {
          "output_type": "stream",
          "name": "stdout",
          "text": [
            "Enter a password:^adi123\n",
            "Valid\n"
          ]
        }
      ]
    },
    {
      "cell_type": "code",
      "source": [
        "pwd = input('Enter a password:')\n",
        "pattern = re.compile(r'[a-zA-Z0-9@#$%^&]{6,}')\n",
        "res = pattern.match(pwd)\n",
        "if res:\n",
        "  print('Valid')\n",
        "else:\n",
        "  print('Invalid')"
      ],
      "metadata": {
        "colab": {
          "base_uri": "https://localhost:8080/"
        },
        "id": "ot3CDuJRPBxa",
        "outputId": "cff29b38-d189-4e6c-ae46-2670445e666e"
      },
      "execution_count": 24,
      "outputs": [
        {
          "output_type": "stream",
          "name": "stdout",
          "text": [
            "Enter a password:javac++@12345\n",
            "Invalid\n"
          ]
        }
      ]
    },
    {
      "cell_type": "code",
      "source": [
        "pwd = input('Enter a password:')\n",
        "pattern = re.compile(r'[a-zA-Z0-9@#$%^&]{6,}')\n",
        "res = pattern.match(pwd)\n",
        "if res:\n",
        "  print('Valid')\n",
        "else:\n",
        "  print('Invalid')"
      ],
      "metadata": {
        "colab": {
          "base_uri": "https://localhost:8080/"
        },
        "id": "ANu-bPh0PNSs",
        "outputId": "e99b627a-e925-43af-a484-2eb2ed3e1528"
      },
      "execution_count": 25,
      "outputs": [
        {
          "output_type": "stream",
          "name": "stdout",
          "text": [
            "Enter a password:java@1234\n",
            "Valid\n"
          ]
        }
      ]
    },
    {
      "cell_type": "code",
      "source": [
        "pwd = input('Enter a password:')\n",
        "pattern = re.compile(r'[a-zA-Z0-9@#$%^&]{1,9}')\n",
        "res = pattern.match(pwd)\n",
        "if res:\n",
        "  print('Valid')\n",
        "else:\n",
        "  print('Invalid')"
      ],
      "metadata": {
        "colab": {
          "base_uri": "https://localhost:8080/"
        },
        "id": "ZEmWJJ63PU_W",
        "outputId": "79631aa0-1505-4e45-aefb-a40abf5ce602"
      },
      "execution_count": 26,
      "outputs": [
        {
          "output_type": "stream",
          "name": "stdout",
          "text": [
            "Enter a password:adi@123456789\n",
            "Valid\n"
          ]
        }
      ]
    },
    {
      "cell_type": "code",
      "source": [
        "while True:\n",
        "  pwd = input('Enter a paasword:')\n",
        "  if (len(pwd) < 6):\n",
        "    print('Password must be minimum of 6 characters')\n",
        "  elif re.match(r'[a-zA-Z0-9@#$%^&]{1,7}', pwd):\n",
        "    pattern = re.compile(r'[a-zA-Z0-9@#$%^&]{1,7}')\n",
        "    res = pattern.match(pwd)\n",
        "    print('Valid Password. Your Password is:',pwd)\n",
        "    break\n",
        "  else:\n",
        "    print('Password Invalid')"
      ],
      "metadata": {
        "colab": {
          "base_uri": "https://localhost:8080/"
        },
        "id": "kWp46l4rPeaG",
        "outputId": "7862fa9a-d719-47cb-dd6a-8e6a62e2b617"
      },
      "execution_count": 28,
      "outputs": [
        {
          "output_type": "stream",
          "name": "stdout",
          "text": [
            "Enter a paasword:adi\n",
            "Password must be minimum of 6 characters\n",
            "Enter a paasword:aditya2086\n",
            "Valid Password. Your Password is: aditya2086\n"
          ]
        }
      ]
    },
    {
      "cell_type": "code",
      "source": [
        "import getpass\n",
        "while True:\n",
        "  pwd = getpass.getpass('Enter a paasword:')\n",
        "  if (len(pwd) < 6):\n",
        "    print('Password must be minimum of 6 characters')\n",
        "  elif re.match(r'[a-zA-Z0-9@#$%^&]{1,7}', pwd):\n",
        "    pattern = re.compile(r'[a-zA-Z0-9@#$%^&]{1,7}')\n",
        "    res = pattern.match(pwd)\n",
        "    print('Valid Password. Your Password is:',pwd)\n",
        "    break\n",
        "  else:\n",
        "    print('Password Invalid')"
      ],
      "metadata": {
        "colab": {
          "base_uri": "https://localhost:8080/"
        },
        "id": "EGpfRbbfPmg_",
        "outputId": "58edfa86-5e12-4fb1-cb32-9677dae13ff1"
      },
      "execution_count": 29,
      "outputs": [
        {
          "output_type": "stream",
          "name": "stdout",
          "text": [
            "Enter a paasword:··········\n",
            "Valid Password. Your Password is: aditya2086\n"
          ]
        }
      ]
    },
    {
      "cell_type": "markdown",
      "source": [
        "# **Write A Program To Generate A Password Having :-**\n",
        "\n",
        "## **1. Atleast 8 Characters Long.**\n",
        "\n",
        "## **2. Must Contain 1 Number Atleast.**\n",
        "\n",
        "## **3. Must Have 1st Letter Uppercase.**\n",
        "\n",
        "## **4. Must Have 1 Special Character.**"
      ],
      "metadata": {
        "id": "Oi5edXUZQNss"
      }
    },
    {
      "cell_type": "code",
      "source": [
        "while True:\n",
        "  pwd = input('Enter a paasword:')\n",
        "  if (len(pwd) < 8):\n",
        "    print('Password must be minimum of 8 characters')\n",
        "\n",
        "  if re.search(r'[!@#$%^&]', pwd) is None:\n",
        "    print('Password must have 1 special character')\n",
        "\n",
        "  if re.search(r'\\d', pwd) is None:\n",
        "    print('Password must have one digit')\n",
        "\n",
        "  if pwd and not pwd[0].isupper():\n",
        "    print('First character must be in uppercase')\n",
        "\n",
        "  elif re.match(r'[a-zA-Z0-9@#$%^&]{8,}', pwd):\n",
        "    pattern = re.compile(r'[a-zA-Z0-9@#$%^&]{8,}')\n",
        "    res = pattern.match(pwd)\n",
        "    print('Valid Password. Your Password is:',pwd)\n",
        "    break\n",
        "  else:\n",
        "    print('Password Invalid')"
      ],
      "metadata": {
        "colab": {
          "base_uri": "https://localhost:8080/"
        },
        "id": "c5cNVOWAP5y2",
        "outputId": "6c1837c5-5915-473f-afd0-716ee72dabc4"
      },
      "execution_count": 30,
      "outputs": [
        {
          "output_type": "stream",
          "name": "stdout",
          "text": [
            "Enter a paasword:Aditya@2086\n",
            "Valid Password. Your Password is: Aditya@2086\n"
          ]
        }
      ]
    },
    {
      "cell_type": "code",
      "source": [
        "while True:\n",
        "  user_pwd = input('Enter a password:')\n",
        "  if user_pwd == 'done':\n",
        "    break\n",
        "  res = re.match(r'.*\\W+', user_pwd)\n",
        "  if res:\n",
        "    print('Invalid! Some special character is present')\n",
        "  else:\n",
        "    res = re.match(r'\\w+', user_pwd)\n",
        "    print(f'{res.group()} is a valid password')"
      ],
      "metadata": {
        "colab": {
          "base_uri": "https://localhost:8080/"
        },
        "id": "4vLDzIBXS0Q3",
        "outputId": "8c69300a-c506-4bb8-e5e3-bb6a043243a1"
      },
      "execution_count": 31,
      "outputs": [
        {
          "name": "stdout",
          "output_type": "stream",
          "text": [
            "Enter a password:adi\n",
            "adi is a valid password\n",
            "Enter a password:adi@123\n",
            "Invalid! Some special character is present\n",
            "Enter a password:Aditya123\n",
            "Aditya123 is a valid password\n",
            "Enter a password:adi@123#\n",
            "Invalid! Some special character is present\n",
            "Enter a password:Aditya2086\n",
            "Aditya2086 is a valid password\n",
            "Enter a password:done\n"
          ]
        }
      ]
    },
    {
      "cell_type": "code",
      "source": [
        "from __future__ import braces"
      ],
      "metadata": {
        "colab": {
          "base_uri": "https://localhost:8080/",
          "height": 130
        },
        "id": "AgNDJ2Q7TTDb",
        "outputId": "855f9049-1be3-4ff6-ca80-82ea271b62cf"
      },
      "execution_count": 32,
      "outputs": [
        {
          "output_type": "error",
          "ename": "SyntaxError",
          "evalue": "ignored",
          "traceback": [
            "\u001b[0;36m  File \u001b[0;32m\"<ipython-input-32-6d5c5b2f0daf>\"\u001b[0;36m, line \u001b[0;32m1\u001b[0m\n\u001b[0;31m    from __future__ import braces\u001b[0m\n\u001b[0m                                 ^\u001b[0m\n\u001b[0;31mSyntaxError\u001b[0m\u001b[0;31m:\u001b[0m not a chance\n"
          ]
        }
      ]
    },
    {
      "cell_type": "code",
      "source": [
        "import this"
      ],
      "metadata": {
        "colab": {
          "base_uri": "https://localhost:8080/"
        },
        "id": "S9DlnCEjToJV",
        "outputId": "f82f5334-1aab-4089-e649-133a94ca6bad"
      },
      "execution_count": 33,
      "outputs": [
        {
          "output_type": "stream",
          "name": "stdout",
          "text": [
            "The Zen of Python, by Tim Peters\n",
            "\n",
            "Beautiful is better than ugly.\n",
            "Explicit is better than implicit.\n",
            "Simple is better than complex.\n",
            "Complex is better than complicated.\n",
            "Flat is better than nested.\n",
            "Sparse is better than dense.\n",
            "Readability counts.\n",
            "Special cases aren't special enough to break the rules.\n",
            "Although practicality beats purity.\n",
            "Errors should never pass silently.\n",
            "Unless explicitly silenced.\n",
            "In the face of ambiguity, refuse the temptation to guess.\n",
            "There should be one-- and preferably only one --obvious way to do it.\n",
            "Although that way may not be obvious at first unless you're Dutch.\n",
            "Now is better than never.\n",
            "Although never is often better than *right* now.\n",
            "If the implementation is hard to explain, it's a bad idea.\n",
            "If the implementation is easy to explain, it may be a good idea.\n",
            "Namespaces are one honking great idea -- let's do more of those!\n"
          ]
        }
      ]
    },
    {
      "cell_type": "markdown",
      "source": [
        "# **Write A Program To Validate Aadhar Card. The Format Should Be xxxx-xxxx-xxxx.:-**"
      ],
      "metadata": {
        "id": "mvIQ4EbYUi6X"
      }
    },
    {
      "cell_type": "code",
      "source": [
        "num = input('Enter the 12 digit Aadhar Card:')\n",
        "if len(num) == 14:\n",
        "  res = re.match(r'[\\d]{4}-[\\d]{4}-[\\d]{4}', num)\n",
        "  print('Aadhar Card is in correct format')\n",
        "else:\n",
        "  print('Please enter Aadhar Card in correct format')"
      ],
      "metadata": {
        "colab": {
          "base_uri": "https://localhost:8080/"
        },
        "id": "kFLn-RPQTr73",
        "outputId": "668a24b5-1bde-4ade-dbca-5f11042e994a"
      },
      "execution_count": 34,
      "outputs": [
        {
          "output_type": "stream",
          "name": "stdout",
          "text": [
            "Enter the 12 digit Aadhar Card:5565-8785-1828\n",
            "Aadhar Card is in correct format\n"
          ]
        }
      ]
    },
    {
      "cell_type": "code",
      "source": [
        "while True:\n",
        "  num = input('Enter the 12 digit Aadhar Card:')\n",
        "  if num == 'done':\n",
        "    break\n",
        "  if len(num) == 14:\n",
        "    res = re.match(r'[\\d]{4}(-| |/)[\\d]{4}(\\1)[\\d]{4}', num)\n",
        "    print('Aadhar Card is in correct format')\n",
        "  else:\n",
        "    print('Please enter Aadhar Card in correct format')"
      ],
      "metadata": {
        "colab": {
          "base_uri": "https://localhost:8080/"
        },
        "id": "q4CN-IbgU66-",
        "outputId": "30290947-5b30-4063-ef4a-2c35199f97c7"
      },
      "execution_count": 35,
      "outputs": [
        {
          "name": "stdout",
          "output_type": "stream",
          "text": [
            "Enter the 12 digit Aadhar Card:5565 8785 1828\n",
            "Aadhar Card is in correct format\n",
            "Enter the 12 digit Aadhar Card:5565/8785/1828\n",
            "Aadhar Card is in correct format\n",
            "Enter the 12 digit Aadhar Card:5565-8785-1828\n",
            "Aadhar Card is in correct format\n",
            "Enter the 12 digit Aadhar Card:done\n"
          ]
        }
      ]
    },
    {
      "cell_type": "markdown",
      "source": [
        "# **Write A Program To Validate PAN Card Number :-**"
      ],
      "metadata": {
        "id": "mkMD-tmsVfGP"
      }
    },
    {
      "cell_type": "code",
      "source": [
        "num = input('Enter the 10 digit PAN Card Number:')\n",
        "if len(num) == 10:\n",
        "  res = re.match(r'[\\D]{5}[\\d]{4}[\\D]', num)\n",
        "  print('PAN Card is in correct format')\n",
        "else:\n",
        "  print('Please enter PAN Card in correct format')"
      ],
      "metadata": {
        "colab": {
          "base_uri": "https://localhost:8080/"
        },
        "id": "aSd3gGsNVJUd",
        "outputId": "acebcdf8-4bdb-4ba2-be00-7dc31bb64952"
      },
      "execution_count": 2,
      "outputs": [
        {
          "output_type": "stream",
          "name": "stdout",
          "text": [
            "Enter the 10 digit PAN Card Number:ZXMPS2854Y\n",
            "PAN Card is in correct format\n"
          ]
        }
      ]
    },
    {
      "cell_type": "code",
      "source": [
        "num = input('Enter the 10 digit PAN Card Number:')\n",
        "if len(num) == 10:\n",
        "  res = re.match(r'[\\D]{5}[\\d]{4}[\\D]', num)\n",
        "  print('PAN Card is in correct format')\n",
        "else:\n",
        "  print('Please enter PAN Card in correct format')"
      ],
      "metadata": {
        "colab": {
          "base_uri": "https://localhost:8080/"
        },
        "id": "Tc_IAPxmVsAS",
        "outputId": "006477bc-be7a-400f-b759-b87c404e02a4"
      },
      "execution_count": 3,
      "outputs": [
        {
          "output_type": "stream",
          "name": "stdout",
          "text": [
            "Enter the 10 digit PAN Card Number:zxmps2854y\n",
            "PAN Card is in correct format\n"
          ]
        }
      ]
    },
    {
      "cell_type": "code",
      "source": [
        "num = input('Enter the 10 digit PAN Card Number:')\n",
        "if len(num) == 10:\n",
        "  res = re.match(r'^[\\D]{5}[\\d]{4}[\\D]$', num)\n",
        "  print('PAN Card is in correct format')\n",
        "else:\n",
        "  print('Please enter PAN Card in correct format')"
      ],
      "metadata": {
        "colab": {
          "base_uri": "https://localhost:8080/"
        },
        "id": "cAUO18HjyLI6",
        "outputId": "9bf73e0e-f9d2-49df-c065-eb58fdce59d3"
      },
      "execution_count": 4,
      "outputs": [
        {
          "output_type": "stream",
          "name": "stdout",
          "text": [
            "Enter the 10 digit PAN Card Number:12345gfhjp\n",
            "PAN Card is in correct format\n"
          ]
        }
      ]
    },
    {
      "cell_type": "code",
      "source": [
        "num = input('Enter the 10 digit PAN Card Number:')\n",
        "if len(num) == 10:\n",
        "  res = re.match(r'^[A-Z]{5}[\\d]{4}[A-Z]$', num)\n",
        "  print('PAN Card is in correct format')\n",
        "else:\n",
        "  print('Please enter PAN Card in correct format')"
      ],
      "metadata": {
        "colab": {
          "base_uri": "https://localhost:8080/"
        },
        "id": "Xj6aekApAJIB",
        "outputId": "cb9cfbbb-ed47-4702-c2a7-6eb03de3e105"
      },
      "execution_count": 5,
      "outputs": [
        {
          "output_type": "stream",
          "name": "stdout",
          "text": [
            "Enter the 10 digit PAN Card Number:ZYMPS8542D\n",
            "PAN Card is in correct format\n"
          ]
        }
      ]
    },
    {
      "cell_type": "code",
      "source": [
        ""
      ],
      "metadata": {
        "id": "NXaTFpGsASIw"
      },
      "execution_count": 5,
      "outputs": []
    }
  ]
}