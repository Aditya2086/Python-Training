{
  "nbformat": 4,
  "nbformat_minor": 0,
  "metadata": {
    "colab": {
      "name": "Day 08_PT(1) - Anonymous Functions.ipynb",
      "provenance": [],
      "authorship_tag": "ABX9TyOwzhG5yf21Q/xc4tCiYJW3",
      "include_colab_link": true
    },
    "kernelspec": {
      "name": "python3",
      "display_name": "Python 3"
    },
    "language_info": {
      "name": "python"
    }
  },
  "cells": [
    {
      "cell_type": "markdown",
      "metadata": {
        "id": "view-in-github",
        "colab_type": "text"
      },
      "source": [
        "<a href=\"https://colab.research.google.com/github/Aditya2086/Python-Training/blob/main/Day_08_PT(1)_Anonymous_Functions.ipynb\" target=\"_parent\"><img src=\"https://colab.research.google.com/assets/colab-badge.svg\" alt=\"Open In Colab\"/></a>"
      ]
    },
    {
      "cell_type": "markdown",
      "source": [
        "# **Anonymous Functions Are Also Called Lambda Functions in Python Because Instead Of Declaring Them With The Standard def Keyword, Lambda Keyword is Used.**"
      ],
      "metadata": {
        "id": "LRRnC2fVPma_"
      }
    },
    {
      "cell_type": "code",
      "source": [
        "def sq(n):\n",
        "  return n**2\n",
        "\n",
        "sq(5)"
      ],
      "metadata": {
        "colab": {
          "base_uri": "https://localhost:8080/"
        },
        "id": "t1Id65zQQAPA",
        "outputId": "d93d02c7-0615-4bd1-a7e9-9f5fea242aa0"
      },
      "execution_count": 1,
      "outputs": [
        {
          "output_type": "execute_result",
          "data": {
            "text/plain": [
              "25"
            ]
          },
          "metadata": {},
          "execution_count": 1
        }
      ]
    },
    {
      "cell_type": "code",
      "source": [
        "m = lambda n:n**2\n",
        "print(m(5))"
      ],
      "metadata": {
        "colab": {
          "base_uri": "https://localhost:8080/"
        },
        "id": "sGaIu075QE3P",
        "outputId": "ba7e83f9-6fde-4855-c182-916e47fd5382"
      },
      "execution_count": 2,
      "outputs": [
        {
          "output_type": "stream",
          "name": "stdout",
          "text": [
            "25\n"
          ]
        }
      ]
    },
    {
      "cell_type": "code",
      "source": [
        "def mx(m, n):\n",
        "  if m > n:\n",
        "    return m\n",
        "  else:\n",
        "    return n\n",
        "\n",
        "mx(5,6)"
      ],
      "metadata": {
        "colab": {
          "base_uri": "https://localhost:8080/"
        },
        "id": "CViE-k5SQKAD",
        "outputId": "1829c0f2-9245-4351-dac1-1450797c2ff0"
      },
      "execution_count": 3,
      "outputs": [
        {
          "output_type": "execute_result",
          "data": {
            "text/plain": [
              "6"
            ]
          },
          "metadata": {},
          "execution_count": 3
        }
      ]
    },
    {
      "cell_type": "code",
      "source": [
        "def mx(m, n):\n",
        "  if m > n:\n",
        "    return m\n",
        "  else:\n",
        "    return n\n",
        "\n",
        "mx(5,6)"
      ],
      "metadata": {
        "colab": {
          "base_uri": "https://localhost:8080/"
        },
        "id": "RJNiQrnwQgSc",
        "outputId": "81fbd64f-8ad7-4826-e266-49366bc360b9"
      },
      "execution_count": 4,
      "outputs": [
        {
          "output_type": "execute_result",
          "data": {
            "text/plain": [
              "6"
            ]
          },
          "metadata": {},
          "execution_count": 4
        }
      ]
    },
    {
      "cell_type": "code",
      "source": [
        "mx = lambda m, n:m if m > n else n\n",
        "print(mx(5, 6))"
      ],
      "metadata": {
        "colab": {
          "base_uri": "https://localhost:8080/"
        },
        "id": "jZo_5KGWQlyP",
        "outputId": "0430a081-2ff2-489c-88b0-b2910e1abb8a"
      },
      "execution_count": 5,
      "outputs": [
        {
          "output_type": "stream",
          "name": "stdout",
          "text": [
            "6\n"
          ]
        }
      ]
    },
    {
      "cell_type": "code",
      "source": [
        "def sq_num(l):\n",
        "  res = []\n",
        "  for i in l:\n",
        "    res.append(i*i)\n",
        "  return res\n",
        "\n",
        "l = [1, 2, 3, 4]\n",
        "print(sq_num(l))"
      ],
      "metadata": {
        "colab": {
          "base_uri": "https://localhost:8080/"
        },
        "id": "uLChMv8NQuWm",
        "outputId": "c1dcc164-0535-4341-ad7b-6fcf0b828714"
      },
      "execution_count": 6,
      "outputs": [
        {
          "output_type": "stream",
          "name": "stdout",
          "text": [
            "[1, 4, 9, 16]\n"
          ]
        }
      ]
    },
    {
      "cell_type": "code",
      "source": [
        "l = [1, 2, 3, 4]\n",
        "print(list(map(lambda i:i**2, l)))"
      ],
      "metadata": {
        "colab": {
          "base_uri": "https://localhost:8080/"
        },
        "id": "GBIQTWAuQxi1",
        "outputId": "a0be8c24-871f-4267-f2ee-a1cc5ef566af"
      },
      "execution_count": 7,
      "outputs": [
        {
          "output_type": "stream",
          "name": "stdout",
          "text": [
            "[1, 4, 9, 16]\n"
          ]
        }
      ]
    },
    {
      "cell_type": "code",
      "source": [
        "def sq_num(n):\n",
        "  return n*2\n",
        "\n",
        "n = [1, 2, 3, 4]\n",
        "sq_num(n)"
      ],
      "metadata": {
        "colab": {
          "base_uri": "https://localhost:8080/"
        },
        "id": "CGkadTl5Q06u",
        "outputId": "f2a9787a-ec3e-4f76-f98e-be5645558a01"
      },
      "execution_count": 8,
      "outputs": [
        {
          "output_type": "execute_result",
          "data": {
            "text/plain": [
              "[1, 2, 3, 4, 1, 2, 3, 4]"
            ]
          },
          "metadata": {},
          "execution_count": 8
        }
      ]
    },
    {
      "cell_type": "code",
      "source": [
        "def sq_num(n):\n",
        "  return n*n\n",
        "\n",
        "def my_map_func(my_fun, list_of_args):\n",
        "  res = []\n",
        "  for i in list_of_args:\n",
        "    res.append(my_fun(i))\n",
        "  return res\n",
        "\n",
        "sq = my_map_func(sq_num, [1, 2, 3, 4])\n",
        "print(sq)"
      ],
      "metadata": {
        "colab": {
          "base_uri": "https://localhost:8080/"
        },
        "id": "bAfBE6xWQ4hO",
        "outputId": "15c41fc2-efc0-44db-b43c-98db2e3cec72"
      },
      "execution_count": 9,
      "outputs": [
        {
          "output_type": "stream",
          "name": "stdout",
          "text": [
            "[1, 4, 9, 16]\n"
          ]
        }
      ]
    },
    {
      "cell_type": "code",
      "source": [
        "def val_over_two(l):\n",
        "  res = []\n",
        "  for i in l:\n",
        "    if i > 2:\n",
        "      res.append(i)\n",
        "  return res\n",
        "\n",
        "l = [1, 2, 3, 4]\n",
        "print(val_over_two(l))"
      ],
      "metadata": {
        "colab": {
          "base_uri": "https://localhost:8080/"
        },
        "id": "XUpQbbUPQ8ih",
        "outputId": "b1892f93-a008-4177-ed2c-82a52215896a"
      },
      "execution_count": 10,
      "outputs": [
        {
          "output_type": "stream",
          "name": "stdout",
          "text": [
            "[3, 4]\n"
          ]
        }
      ]
    },
    {
      "cell_type": "code",
      "source": [
        "l = [1, 2, 3, 4]\n",
        "print(list(filter(lambda i:i>2, l)))"
      ],
      "metadata": {
        "colab": {
          "base_uri": "https://localhost:8080/"
        },
        "id": "hfLlGbedQ_l8",
        "outputId": "1e847ac8-1be7-43ca-d818-099ed9a49851"
      },
      "execution_count": 11,
      "outputs": [
        {
          "output_type": "stream",
          "name": "stdout",
          "text": [
            "[3, 4]\n"
          ]
        }
      ]
    },
    {
      "cell_type": "code",
      "source": [
        "l = [1, 2, 3, 4]\n",
        "print(list(map(lambda i:i>2, l)))"
      ],
      "metadata": {
        "colab": {
          "base_uri": "https://localhost:8080/"
        },
        "id": "MGpEyRebRC62",
        "outputId": "1e510bdd-d055-477c-e1ac-f127e2cf2178"
      },
      "execution_count": 12,
      "outputs": [
        {
          "output_type": "stream",
          "name": "stdout",
          "text": [
            "[False, False, True, True]\n"
          ]
        }
      ]
    },
    {
      "cell_type": "code",
      "source": [
        "def prod_terms(a):\n",
        "  mul = a[0]\n",
        "  for i in range(1, len(a)):\n",
        "    mul *= a[i] # mul = mul * a[i]\n",
        "  return mul\n",
        "\n",
        "l = [1, 2, 3, 4]\n",
        "print(prod_terms(l))"
      ],
      "metadata": {
        "colab": {
          "base_uri": "https://localhost:8080/"
        },
        "id": "wR9ldNI5RFck",
        "outputId": "c22ced8c-b33e-4d11-c66e-3e43972aa881"
      },
      "execution_count": 13,
      "outputs": [
        {
          "output_type": "stream",
          "name": "stdout",
          "text": [
            "24\n"
          ]
        }
      ]
    },
    {
      "cell_type": "code",
      "source": [
        "from functools import reduce\n",
        "l = [1, 2, 3, 4]\n",
        "print(reduce(lambda x, y:x * y, l))"
      ],
      "metadata": {
        "colab": {
          "base_uri": "https://localhost:8080/"
        },
        "id": "RLzENjF-RIw0",
        "outputId": "4c8e49cd-6e81-4a9e-a6ad-65f5b9f91389"
      },
      "execution_count": 14,
      "outputs": [
        {
          "output_type": "stream",
          "name": "stdout",
          "text": [
            "24\n"
          ]
        }
      ]
    },
    {
      "cell_type": "code",
      "source": [
        ""
      ],
      "metadata": {
        "id": "uNERgC4PRMUj"
      },
      "execution_count": null,
      "outputs": []
    }
  ]
}