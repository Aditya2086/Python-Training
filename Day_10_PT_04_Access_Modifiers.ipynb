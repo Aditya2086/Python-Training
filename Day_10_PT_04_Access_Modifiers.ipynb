{
  "nbformat": 4,
  "nbformat_minor": 0,
  "metadata": {
    "colab": {
      "name": "Day_10_PT_04_Access_Modifiers.ipynb",
      "provenance": [],
      "authorship_tag": "ABX9TyOqJLWSnQvRsm+FqDJmg6lz",
      "include_colab_link": true
    },
    "kernelspec": {
      "name": "python3",
      "display_name": "Python 3"
    },
    "language_info": {
      "name": "python"
    }
  },
  "cells": [
    {
      "cell_type": "markdown",
      "metadata": {
        "id": "view-in-github",
        "colab_type": "text"
      },
      "source": [
        "<a href=\"https://colab.research.google.com/github/Aditya2086/Python-Training/blob/main/Day_10_PT_04_Access_Modifiers.ipynb\" target=\"_parent\"><img src=\"https://colab.research.google.com/assets/colab-badge.svg\" alt=\"Open In Colab\"/></a>"
      ]
    },
    {
      "cell_type": "code",
      "execution_count": 1,
      "metadata": {
        "colab": {
          "base_uri": "https://localhost:8080/"
        },
        "id": "6WV0y00ANABc",
        "outputId": "f78e4c6c-a11d-479f-fb5b-4b82d5463fb2"
      },
      "outputs": [
        {
          "output_type": "stream",
          "name": "stdout",
          "text": [
            "75000000\n"
          ]
        }
      ],
      "source": [
        "class Employee:\n",
        "  def __init__(self, name, sal):\n",
        "    self.name = name\n",
        "    self.salary = sal\n",
        "e1 = Employee('Tony', 75000000)\n",
        "print(e1.salary)"
      ]
    },
    {
      "cell_type": "code",
      "source": [
        "class Employee:\n",
        "  def __init__(self, name, sal):\n",
        "    self._name = name # single underscore means protected\n",
        "    self.__salary = sal # double underscore means private\n",
        "e1 = Employee('Tony', 75000000)\n",
        "print(e1._name)\n",
        "print(e1._Employee__salary)"
      ],
      "metadata": {
        "colab": {
          "base_uri": "https://localhost:8080/"
        },
        "id": "V-3l6qZHNfaD",
        "outputId": "fa2a8512-2074-4651-c84a-73bb52f39776"
      },
      "execution_count": 2,
      "outputs": [
        {
          "output_type": "stream",
          "name": "stdout",
          "text": [
            "Tony\n",
            "75000000\n"
          ]
        }
      ]
    },
    {
      "cell_type": "code",
      "source": [
        "# Public Access Modifier\n",
        "class Employee :\n",
        "  def __init__(self,name,sal):\n",
        "    self.name = name # by default public specified attribute\n",
        "    self.salary = sal\n",
        "\n",
        "Emp = Employee('Raja',770056660)\n",
        "print(Emp.salary) # public attribute"
      ],
      "metadata": {
        "colab": {
          "base_uri": "https://localhost:8080/"
        },
        "id": "A93iyr6eNkTi",
        "outputId": "10b8c7e2-902b-4c65-a9bc-7b46150cb7f8"
      },
      "execution_count": 3,
      "outputs": [
        {
          "output_type": "stream",
          "name": "stdout",
          "text": [
            "770056660\n"
          ]
        }
      ]
    },
    {
      "cell_type": "code",
      "source": [
        "# Private Access Modifier\n",
        "class Employee :\n",
        "  def __init__(self,name,sal):\n",
        "    self.name = name\n",
        "    self.__salary = sal # double underscore turns the attribute to a private one.\n",
        "\n",
        "Emp = Employee('Raja',77000)\n",
        "print(Emp.name)\n",
        "print(Emp.salary) # private attribute"
      ],
      "metadata": {
        "colab": {
          "base_uri": "https://localhost:8080/",
          "height": 217
        },
        "id": "6veqIiNrNqPV",
        "outputId": "23744df0-ffb2-4c67-e495-8a0e5c455e76"
      },
      "execution_count": 4,
      "outputs": [
        {
          "output_type": "stream",
          "name": "stdout",
          "text": [
            "Raja\n"
          ]
        },
        {
          "output_type": "error",
          "ename": "AttributeError",
          "evalue": "ignored",
          "traceback": [
            "\u001b[0;31m---------------------------------------------------------------------------\u001b[0m",
            "\u001b[0;31mAttributeError\u001b[0m                            Traceback (most recent call last)",
            "\u001b[0;32m<ipython-input-4-0ced4e9f8f5e>\u001b[0m in \u001b[0;36m<module>\u001b[0;34m()\u001b[0m\n\u001b[1;32m      7\u001b[0m \u001b[0mEmp\u001b[0m \u001b[0;34m=\u001b[0m \u001b[0mEmployee\u001b[0m\u001b[0;34m(\u001b[0m\u001b[0;34m'Raja'\u001b[0m\u001b[0;34m,\u001b[0m\u001b[0;36m77000\u001b[0m\u001b[0;34m)\u001b[0m\u001b[0;34m\u001b[0m\u001b[0;34m\u001b[0m\u001b[0m\n\u001b[1;32m      8\u001b[0m \u001b[0mprint\u001b[0m\u001b[0;34m(\u001b[0m\u001b[0mEmp\u001b[0m\u001b[0;34m.\u001b[0m\u001b[0mname\u001b[0m\u001b[0;34m)\u001b[0m\u001b[0;34m\u001b[0m\u001b[0;34m\u001b[0m\u001b[0m\n\u001b[0;32m----> 9\u001b[0;31m \u001b[0mprint\u001b[0m\u001b[0;34m(\u001b[0m\u001b[0mEmp\u001b[0m\u001b[0;34m.\u001b[0m\u001b[0msalary\u001b[0m\u001b[0;34m)\u001b[0m \u001b[0;31m# private attribute\u001b[0m\u001b[0;34m\u001b[0m\u001b[0;34m\u001b[0m\u001b[0m\n\u001b[0m",
            "\u001b[0;31mAttributeError\u001b[0m: 'Employee' object has no attribute 'salary'"
          ]
        }
      ]
    },
    {
      "cell_type": "code",
      "source": [
        "# ENCAPSULATION\n",
        "class Employee :\n",
        "  def __init__(self,name,sal):\n",
        "    self.name = name\n",
        "    self.__salary = sal # double underscore turns the attribute to a private one.\n",
        "\n",
        "Emp = Employee('Raj',77000)\n",
        "print(Emp.name)\n",
        "print(Emp._Employee__salary) # private attribute encoded internally by interpreter\n",
        "# internal encoding format : <obj-name>._<Class-name>__<Private-Attribute>\n",
        "# This type of encoding is called \"Named Mangling\""
      ],
      "metadata": {
        "colab": {
          "base_uri": "https://localhost:8080/"
        },
        "id": "DQ6xtmGBNsgc",
        "outputId": "5861efe9-b98a-4356-f816-a3466fc285ca"
      },
      "execution_count": 5,
      "outputs": [
        {
          "output_type": "stream",
          "name": "stdout",
          "text": [
            "Raj\n",
            "77000\n"
          ]
        }
      ]
    },
    {
      "cell_type": "code",
      "source": [
        "# Protected Access Modifier\n",
        "class Employee :\n",
        "  def __init__(self,name,sal):\n",
        "    self.name = name\n",
        "    self._salary = sal # single underscore turns the attribute to a protected one.\n",
        "\n",
        "Emp = Employee('Raja',77000)\n",
        "print(Emp.name)\n",
        "print(Emp._salary) # protected attribute"
      ],
      "metadata": {
        "colab": {
          "base_uri": "https://localhost:8080/"
        },
        "id": "E2KnB5LhNvwB",
        "outputId": "1431be5a-f04d-4d86-b62c-a58e31fcd6bb"
      },
      "execution_count": 6,
      "outputs": [
        {
          "output_type": "stream",
          "name": "stdout",
          "text": [
            "Raja\n",
            "77000\n"
          ]
        }
      ]
    },
    {
      "cell_type": "code",
      "source": [
        ""
      ],
      "metadata": {
        "id": "KlDBqnETNzLY"
      },
      "execution_count": null,
      "outputs": []
    }
  ]
}