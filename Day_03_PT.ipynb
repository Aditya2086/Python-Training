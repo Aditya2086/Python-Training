{
  "nbformat": 4,
  "nbformat_minor": 0,
  "metadata": {
    "colab": {
      "name": "Day 03_PT.ipynb",
      "provenance": [],
      "authorship_tag": "ABX9TyMGZvkjElvekqoSzuGNItsv",
      "include_colab_link": true
    },
    "kernelspec": {
      "name": "python3",
      "display_name": "Python 3"
    },
    "language_info": {
      "name": "python"
    }
  },
  "cells": [
    {
      "cell_type": "markdown",
      "metadata": {
        "id": "view-in-github",
        "colab_type": "text"
      },
      "source": [
        "<a href=\"https://colab.research.google.com/github/Aditya2086/Python-Training/blob/main/Day_03_PT.ipynb\" target=\"_parent\"><img src=\"https://colab.research.google.com/assets/colab-badge.svg\" alt=\"Open In Colab\"/></a>"
      ]
    },
    {
      "cell_type": "markdown",
      "source": [
        "# **Strings In Python :-**"
      ],
      "metadata": {
        "id": "HNQo27APVSMC"
      }
    },
    {
      "cell_type": "code",
      "source": [
        "a = 'Python'\n",
        "print(a)\n",
        "print(type(a))"
      ],
      "metadata": {
        "colab": {
          "base_uri": "https://localhost:8080/"
        },
        "id": "HCZ4W0SvVaHk",
        "outputId": "72a9f151-0558-4e29-fe52-29eb87385cf1"
      },
      "execution_count": 1,
      "outputs": [
        {
          "output_type": "stream",
          "name": "stdout",
          "text": [
            "Python\n",
            "<class 'str'>\n"
          ]
        }
      ]
    },
    {
      "cell_type": "code",
      "source": [
        "a = \"Python\"\n",
        "print(a)\n",
        "print(type(a))"
      ],
      "metadata": {
        "colab": {
          "base_uri": "https://localhost:8080/"
        },
        "id": "YNjqn5WNVhap",
        "outputId": "1d10e466-72eb-4f8b-e59a-680ccae7ef41"
      },
      "execution_count": 2,
      "outputs": [
        {
          "output_type": "stream",
          "name": "stdout",
          "text": [
            "Python\n",
            "<class 'str'>\n"
          ]
        }
      ]
    },
    {
      "cell_type": "code",
      "source": [
        "a = '''Python'''\n",
        "print(a)\n",
        "print(type(a))"
      ],
      "metadata": {
        "colab": {
          "base_uri": "https://localhost:8080/"
        },
        "id": "v1v7VzDuVkRp",
        "outputId": "8e8bb84c-13ce-4326-bead-9733705bfd60"
      },
      "execution_count": 3,
      "outputs": [
        {
          "output_type": "stream",
          "name": "stdout",
          "text": [
            "Python\n",
            "<class 'str'>\n"
          ]
        }
      ]
    },
    {
      "cell_type": "code",
      "source": [
        "a = \"\"\"Python\"\"\"\n",
        "print(a)\n",
        "print(type(a))"
      ],
      "metadata": {
        "colab": {
          "base_uri": "https://localhost:8080/"
        },
        "id": "qllSFsR9Vnfx",
        "outputId": "0c4614d2-0345-43e3-e6dd-7439ed3f8ee8"
      },
      "execution_count": 4,
      "outputs": [
        {
          "output_type": "stream",
          "name": "stdout",
          "text": [
            "Python\n",
            "<class 'str'>\n"
          ]
        }
      ]
    },
    {
      "cell_type": "code",
      "source": [
        "a = \"Python's training is fun\"\n",
        "print(a)"
      ],
      "metadata": {
        "colab": {
          "base_uri": "https://localhost:8080/"
        },
        "id": "beG9l-PCVqog",
        "outputId": "2515fedc-7217-4c0f-d1a5-43afeaadd17c"
      },
      "execution_count": 5,
      "outputs": [
        {
          "output_type": "stream",
          "name": "stdout",
          "text": [
            "Python's training is fun\n"
          ]
        }
      ]
    },
    {
      "cell_type": "code",
      "source": [
        "a = '''\"Python's Training is Fun\"'''\n",
        "print(a)"
      ],
      "metadata": {
        "colab": {
          "base_uri": "https://localhost:8080/"
        },
        "id": "0KDBnB9BVuXZ",
        "outputId": "ae4b6f48-bda5-4f93-aff7-ccc235830749"
      },
      "execution_count": 6,
      "outputs": [
        {
          "output_type": "stream",
          "name": "stdout",
          "text": [
            "\"Python's Training is Fun\"\n"
          ]
        }
      ]
    },
    {
      "cell_type": "code",
      "source": [
        "a = 'PYTHON'\n",
        "for i in a:\n",
        "  print(i)"
      ],
      "metadata": {
        "colab": {
          "base_uri": "https://localhost:8080/"
        },
        "id": "8w8TR7RxV0nZ",
        "outputId": "9a7960c2-011c-427b-cffe-62c65a33f5bc"
      },
      "execution_count": 7,
      "outputs": [
        {
          "output_type": "stream",
          "name": "stdout",
          "text": [
            "P\n",
            "Y\n",
            "T\n",
            "H\n",
            "O\n",
            "N\n"
          ]
        }
      ]
    },
    {
      "cell_type": "code",
      "source": [
        "a = 'Python'\n",
        "print(a[0])"
      ],
      "metadata": {
        "colab": {
          "base_uri": "https://localhost:8080/"
        },
        "id": "6Kc2WPfLV6-f",
        "outputId": "630d694b-88e2-4dc1-e0a7-7e860473e79d"
      },
      "execution_count": 8,
      "outputs": [
        {
          "output_type": "stream",
          "name": "stdout",
          "text": [
            "P\n"
          ]
        }
      ]
    },
    {
      "cell_type": "code",
      "source": [
        "a = int(input('Enter A Number:- '))\n",
        "fact = 1\n",
        "for i in range(1, a+1):\n",
        "  fact *= i # fact = fact * i\n",
        "  print(fact, end = ',')"
      ],
      "metadata": {
        "colab": {
          "base_uri": "https://localhost:8080/"
        },
        "id": "GAfPCb0rV_-n",
        "outputId": "a824cda6-fb14-41f6-8d38-11751ef7ea25"
      },
      "execution_count": 10,
      "outputs": [
        {
          "output_type": "stream",
          "name": "stdout",
          "text": [
            "Enter A Number:- 10\n",
            "1,2,6,24,120,720,5040,40320,362880,3628800,"
          ]
        }
      ]
    },
    {
      "cell_type": "code",
      "source": [
        "a = int(input('Enter A Number:- '))\n",
        "fact = 1\n",
        "for i in range(1, a+1):\n",
        "  fact *= i\n",
        "  if i != a:\n",
        "    print(fact, end = ',')\n",
        "  else:\n",
        "    print(fact, end = '')"
      ],
      "metadata": {
        "colab": {
          "base_uri": "https://localhost:8080/"
        },
        "id": "vUqtEEVpWJFr",
        "outputId": "7297d349-e171-4d34-ba10-f05d233a903b"
      },
      "execution_count": 12,
      "outputs": [
        {
          "output_type": "stream",
          "name": "stdout",
          "text": [
            "Enter A Number:- 10\n",
            "1,2,6,24,120,720,5040,40320,362880,3628800"
          ]
        }
      ]
    },
    {
      "cell_type": "markdown",
      "source": [
        "# **Write A Program To Print Fibonacci Series :-**"
      ],
      "metadata": {
        "id": "qSJs1V5GWakI"
      }
    },
    {
      "cell_type": "code",
      "source": [
        "a = int(input('Enter 1st No.:- '))\n",
        "b = int(input('Enter 2nd No.:- '))\n",
        "n = int(input('Enter the number upto which you want Fibonacci Series:'))\n",
        "for i in range(2, n+1):\n",
        "  a, b = b, a+b\n",
        "  print(a, end = ' ')"
      ],
      "metadata": {
        "colab": {
          "base_uri": "https://localhost:8080/"
        },
        "id": "KcMFxE9KWlBX",
        "outputId": "c51a634b-6af1-49db-d06d-2da69f3cf540"
      },
      "execution_count": 13,
      "outputs": [
        {
          "output_type": "stream",
          "name": "stdout",
          "text": [
            "Enter 1st No.:- 5\n",
            "Enter 2nd No.:- 6\n",
            "Enter the number upto which you want Fibonacci Series:10\n",
            "6 11 17 28 45 73 118 191 309 "
          ]
        }
      ]
    },
    {
      "cell_type": "code",
      "source": [
        "a = 'PYTHON'\n",
        "print(list(a))"
      ],
      "metadata": {
        "colab": {
          "base_uri": "https://localhost:8080/"
        },
        "id": "d1uXseGlWyy3",
        "outputId": "371882f0-daeb-4271-8cdf-aa6a31cb502e"
      },
      "execution_count": 15,
      "outputs": [
        {
          "output_type": "stream",
          "name": "stdout",
          "text": [
            "['P', 'Y', 'T', 'H', 'O', 'N']\n"
          ]
        }
      ]
    },
    {
      "cell_type": "code",
      "source": [
        "# Upper case \n",
        "a = 'Python'\n",
        "print(a.upper())"
      ],
      "metadata": {
        "colab": {
          "base_uri": "https://localhost:8080/"
        },
        "id": "NEIzFsOcW6pE",
        "outputId": "f9c449aa-f514-4265-a29f-9f3b93b30681"
      },
      "execution_count": 16,
      "outputs": [
        {
          "output_type": "stream",
          "name": "stdout",
          "text": [
            "PYTHON\n"
          ]
        }
      ]
    },
    {
      "cell_type": "code",
      "source": [
        "# Lower case\n",
        "print(a.lower())"
      ],
      "metadata": {
        "colab": {
          "base_uri": "https://localhost:8080/"
        },
        "id": "xVKTPehRXAl8",
        "outputId": "2b8b417a-d2df-4624-82f5-e8b3697cadd8"
      },
      "execution_count": 17,
      "outputs": [
        {
          "output_type": "stream",
          "name": "stdout",
          "text": [
            "python\n"
          ]
        }
      ]
    },
    {
      "cell_type": "code",
      "source": [
        "# Title case\n",
        "a = 'python training is fun'\n",
        "print(a.title())"
      ],
      "metadata": {
        "colab": {
          "base_uri": "https://localhost:8080/"
        },
        "id": "-5am2Fx3XDV-",
        "outputId": "d743a670-b34e-4174-aff0-ebcae954c31d"
      },
      "execution_count": 18,
      "outputs": [
        {
          "output_type": "stream",
          "name": "stdout",
          "text": [
            "Python Training Is Fun\n"
          ]
        }
      ]
    },
    {
      "cell_type": "code",
      "source": [
        "# Sentence case\n",
        "a = 'python training is fun'\n",
        "print(a.capitalize())"
      ],
      "metadata": {
        "colab": {
          "base_uri": "https://localhost:8080/"
        },
        "id": "ADjM_a1vXGMn",
        "outputId": "cb8e3796-87bf-4f3f-96d4-6ef044ec7b4e"
      },
      "execution_count": 19,
      "outputs": [
        {
          "output_type": "stream",
          "name": "stdout",
          "text": [
            "Python training is fun\n"
          ]
        }
      ]
    },
    {
      "cell_type": "code",
      "source": [
        "# Swap case\n",
        "a = 'pYtHoN TrAinInG iS FuN'\n",
        "print(a.swapcase())"
      ],
      "metadata": {
        "colab": {
          "base_uri": "https://localhost:8080/"
        },
        "id": "LI08snRsXJff",
        "outputId": "8f019709-ae9d-4fb4-a4ba-6c66c7635e2c"
      },
      "execution_count": 20,
      "outputs": [
        {
          "output_type": "stream",
          "name": "stdout",
          "text": [
            "PyThOn tRaINiNg Is fUn\n"
          ]
        }
      ]
    },
    {
      "cell_type": "markdown",
      "source": [
        "# **Write A Program To String Attributes Follows Series Connection :-**"
      ],
      "metadata": {
        "id": "m6wB3BqvXOmn"
      }
    },
    {
      "cell_type": "code",
      "source": [
        "a = 'python training is fun'\n",
        "print(a.title().upper())"
      ],
      "metadata": {
        "colab": {
          "base_uri": "https://localhost:8080/"
        },
        "id": "rQfp_WstXeHe",
        "outputId": "c7b36de8-3df1-4bd2-eb43-4aff93677223"
      },
      "execution_count": 21,
      "outputs": [
        {
          "output_type": "stream",
          "name": "stdout",
          "text": [
            "PYTHON TRAINING IS FUN\n"
          ]
        }
      ]
    },
    {
      "cell_type": "code",
      "source": [
        "a = 'python training is fun'\n",
        "print(a.replace('python', 'Java'))"
      ],
      "metadata": {
        "colab": {
          "base_uri": "https://localhost:8080/"
        },
        "id": "HEa3FnFwXhz9",
        "outputId": "93a0321a-976f-42ea-bf58-36a8085b6066"
      },
      "execution_count": 22,
      "outputs": [
        {
          "output_type": "stream",
          "name": "stdout",
          "text": [
            "Java training is fun\n"
          ]
        }
      ]
    },
    {
      "cell_type": "markdown",
      "source": [
        "# **Write A Program in Palindrome :-**"
      ],
      "metadata": {
        "id": "Ec_g1Vn9XrYp"
      }
    },
    {
      "cell_type": "code",
      "source": [
        "my_str = input('Enter your string:')\n",
        "my_str = my_str.lower()\n",
        "new_str = reversed(my_str)\n",
        "if list(my_str) == list(new_str):\n",
        "  print('Same')\n",
        "else:\n",
        "  print('Not same')"
      ],
      "metadata": {
        "colab": {
          "base_uri": "https://localhost:8080/"
        },
        "id": "5eR2owdsX1H2",
        "outputId": "ba0a5363-2684-4e19-83c9-1e6ed77e79e0"
      },
      "execution_count": 25,
      "outputs": [
        {
          "output_type": "stream",
          "name": "stdout",
          "text": [
            "Enter your string:Ada\n",
            "Same\n"
          ]
        }
      ]
    },
    {
      "cell_type": "markdown",
      "source": [
        "# **Write A Program To Add Digits Of List Elements :-**"
      ],
      "metadata": {
        "id": "ZUP3MHG7YeA3"
      }
    },
    {
      "cell_type": "code",
      "source": [
        "a = [12, 25, 67, 21, 45]\n",
        "# output --> [3, 7, 13, 3, 9]\n",
        "b = []\n",
        "for i in a:\n",
        "  s = str(i)\n",
        "  sod = int(s[0]) + int(s[1])\n",
        "  b.append(sod)\n",
        "print(b)"
      ],
      "metadata": {
        "colab": {
          "base_uri": "https://localhost:8080/"
        },
        "id": "1CGEEn-zYgVa",
        "outputId": "45b407d7-d95e-48bb-edff-131049e8e399"
      },
      "execution_count": 26,
      "outputs": [
        {
          "output_type": "stream",
          "name": "stdout",
          "text": [
            "[3, 7, 13, 3, 9]\n"
          ]
        }
      ]
    },
    {
      "cell_type": "code",
      "source": [
        "a = [12, 25, 267, 21, 145]\n",
        "b = []\n",
        "for i in a:\n",
        "  s = 0\n",
        "  for d in str(i):\n",
        "    s += int(d)\n",
        "  b.append(s)\n",
        "print(b)"
      ],
      "metadata": {
        "colab": {
          "base_uri": "https://localhost:8080/"
        },
        "id": "Jm1qM-cyYk9U",
        "outputId": "34427a8c-cfcb-4189-ed67-ca2ff1854d4d"
      },
      "execution_count": 27,
      "outputs": [
        {
          "output_type": "stream",
          "name": "stdout",
          "text": [
            "[3, 7, 15, 3, 10]\n"
          ]
        }
      ]
    },
    {
      "cell_type": "code",
      "source": [
        "s = '12'\n",
        "print(s[0])\n",
        "print(s[1])\n",
        "print(s[0]+s[1])\n",
        "print(int(s[0])+int(s[1]))"
      ],
      "metadata": {
        "colab": {
          "base_uri": "https://localhost:8080/"
        },
        "id": "vjxdHR2kYn5G",
        "outputId": "2f9a7ddf-326a-4aea-f0c4-72d295ca5da5"
      },
      "execution_count": 28,
      "outputs": [
        {
          "output_type": "stream",
          "name": "stdout",
          "text": [
            "1\n",
            "2\n",
            "12\n",
            "3\n"
          ]
        }
      ]
    },
    {
      "cell_type": "markdown",
      "source": [
        "# **Write A Program To Remove Duplicate Elements From A List :-**"
      ],
      "metadata": {
        "id": "LiSGjV80YrJz"
      }
    },
    {
      "cell_type": "code",
      "source": [
        "a = [1, 2, 3, 4, 4, 5, 6, 7, 6, 7, 1]\n",
        "b = []\n",
        "for i in a:\n",
        "  if i not in b:\n",
        "    b.append(i)\n",
        "print(b)"
      ],
      "metadata": {
        "colab": {
          "base_uri": "https://localhost:8080/"
        },
        "id": "77-MxFxgY_Gr",
        "outputId": "5c7eaf24-4836-414c-e887-97e44b47e3ef"
      },
      "execution_count": 29,
      "outputs": [
        {
          "output_type": "stream",
          "name": "stdout",
          "text": [
            "[1, 2, 3, 4, 5, 6, 7]\n"
          ]
        }
      ]
    },
    {
      "cell_type": "markdown",
      "source": [
        "# **Write A Program To Add Digits Upto Single Digit :-**"
      ],
      "metadata": {
        "id": "ufVqq5ENZF06"
      }
    },
    {
      "cell_type": "code",
      "source": [
        "a = int(input('Enter A Number:- '))\n",
        "sod = 0\n",
        "while a > 0:\n",
        "  temp = a % 10\n",
        "  sod = sod + temp\n",
        "  a = a // 10\n",
        "if sod == 0:\n",
        "  print('Sum of Digits is 0')\n",
        "if sod % 9 == 0:\n",
        "  print('Sum of Digits is 9') \n",
        "else:\n",
        "  sod = sod % 9\n",
        "print('Sum of Digits is:',sod)"
      ],
      "metadata": {
        "colab": {
          "base_uri": "https://localhost:8080/"
        },
        "id": "G46z0hP2ZOog",
        "outputId": "4e187b85-e7fa-46dd-edc7-8c1b330c5c4d"
      },
      "execution_count": 31,
      "outputs": [
        {
          "output_type": "stream",
          "name": "stdout",
          "text": [
            "Enter A Number:- 20\n",
            "Sum of Digits is: 2\n"
          ]
        }
      ]
    }
  ]
}