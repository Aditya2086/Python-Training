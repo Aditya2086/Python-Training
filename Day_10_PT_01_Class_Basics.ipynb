{
  "nbformat": 4,
  "nbformat_minor": 0,
  "metadata": {
    "colab": {
      "name": "Day_10_PT_01_Class_Basics.ipynb",
      "provenance": [],
      "authorship_tag": "ABX9TyPIGAq6jJowu7aGtT0jhR2z",
      "include_colab_link": true
    },
    "kernelspec": {
      "name": "python3",
      "display_name": "Python 3"
    },
    "language_info": {
      "name": "python"
    }
  },
  "cells": [
    {
      "cell_type": "markdown",
      "metadata": {
        "id": "view-in-github",
        "colab_type": "text"
      },
      "source": [
        "<a href=\"https://colab.research.google.com/github/Aditya2086/Python-Training/blob/main/Day_10_PT_01_Class_Basics.ipynb\" target=\"_parent\"><img src=\"https://colab.research.google.com/assets/colab-badge.svg\" alt=\"Open In Colab\"/></a>"
      ]
    },
    {
      "cell_type": "code",
      "execution_count": 1,
      "metadata": {
        "id": "7vYv1hqQArxr"
      },
      "outputs": [],
      "source": [
        "# What is an object?\n",
        "# Object is a container which contains\n",
        "# Data --> has state --> has attributes\n",
        "# functionality --> has behavior --> has methods"
      ]
    },
    {
      "cell_type": "code",
      "source": [
        "# my_car object has states-\n",
        "'''brand = Ferrari\n",
        "model = 599XX\n",
        "year = 2010'''\n",
        "\n",
        "# my_car object has behavior\n",
        "'''accelerate\n",
        "brake\n",
        "steer'''"
      ],
      "metadata": {
        "colab": {
          "base_uri": "https://localhost:8080/",
          "height": 35
        },
        "id": "PSA4X_FsAyLd",
        "outputId": "e4cf7f70-0141-4693-b3b9-dc8508cda393"
      },
      "execution_count": 3,
      "outputs": [
        {
          "output_type": "execute_result",
          "data": {
            "text/plain": [
              "'accelerate\\nbrake\\nsteer'"
            ],
            "application/vnd.google.colaboratory.intrinsic+json": {
              "type": "string"
            }
          },
          "metadata": {},
          "execution_count": 3
        }
      ]
    },
    {
      "cell_type": "code",
      "source": [
        "# How to create objects?\n",
        "# A class is like a template used to create objects\n",
        "# Objects created from that class are called instances"
      ],
      "metadata": {
        "id": "cX202NV-A4Yf"
      },
      "execution_count": 4,
      "outputs": []
    },
    {
      "cell_type": "code",
      "source": [
        "# Classes are themselves objects\n",
        "# classes have attributes (state)\n",
        "# classes have behavior\n",
        "# classes are callable"
      ],
      "metadata": {
        "id": "BZgqn35aBGXk"
      },
      "execution_count": 5,
      "outputs": []
    },
    {
      "cell_type": "code",
      "source": [
        "class MyClass: # class creation\n",
        "  pass\n",
        "\n",
        "my_obj = MyClass() # instance creation"
      ],
      "metadata": {
        "id": "WVagOn7tBJHa"
      },
      "execution_count": 6,
      "outputs": []
    },
    {
      "cell_type": "code",
      "source": [
        "type(MyClass)"
      ],
      "metadata": {
        "colab": {
          "base_uri": "https://localhost:8080/"
        },
        "id": "xdCvf-WlBM_5",
        "outputId": "991179f4-fc92-4afb-ad35-4234c9d898bc"
      },
      "execution_count": 7,
      "outputs": [
        {
          "output_type": "execute_result",
          "data": {
            "text/plain": [
              "type"
            ]
          },
          "metadata": {},
          "execution_count": 7
        }
      ]
    },
    {
      "cell_type": "code",
      "source": [
        "type(my_obj) # MyClass object is returned instead of string"
      ],
      "metadata": {
        "colab": {
          "base_uri": "https://localhost:8080/"
        },
        "id": "zjQnTJsoBPR1",
        "outputId": "7600be41-e288-4e31-94c3-666f931d397d"
      },
      "execution_count": 8,
      "outputs": [
        {
          "output_type": "execute_result",
          "data": {
            "text/plain": [
              "__main__.MyClass"
            ]
          },
          "metadata": {},
          "execution_count": 8
        }
      ]
    },
    {
      "cell_type": "code",
      "source": [
        "isinstance(my_obj, MyClass)"
      ],
      "metadata": {
        "colab": {
          "base_uri": "https://localhost:8080/"
        },
        "id": "VT5oesccBSMC",
        "outputId": "47c7ce06-fc88-4daa-9916-6cfe6edf67b5"
      },
      "execution_count": 9,
      "outputs": [
        {
          "output_type": "execute_result",
          "data": {
            "text/plain": [
              "True"
            ]
          },
          "metadata": {},
          "execution_count": 9
        }
      ]
    },
    {
      "cell_type": "code",
      "source": [
        "type(MyClass)\n"
      ],
      "metadata": {
        "colab": {
          "base_uri": "https://localhost:8080/"
        },
        "id": "39AkfOzKBUTg",
        "outputId": "29f04de7-80a6-4920-897d-d6c090e2a251"
      },
      "execution_count": 10,
      "outputs": [
        {
          "output_type": "execute_result",
          "data": {
            "text/plain": [
              "type"
            ]
          },
          "metadata": {},
          "execution_count": 10
        }
      ]
    },
    {
      "cell_type": "code",
      "source": [
        "# Python automatically provides us certain attributes and methods"
      ],
      "metadata": {
        "id": "UkqCGlM6B4E4"
      },
      "execution_count": 12,
      "outputs": []
    },
    {
      "cell_type": "code",
      "source": [
        "MyClass.__name__ # state"
      ],
      "metadata": {
        "colab": {
          "base_uri": "https://localhost:8080/",
          "height": 35
        },
        "id": "iUezB7gvB5kE",
        "outputId": "f8524da9-f008-422b-b72d-b43ba638df9c"
      },
      "execution_count": 14,
      "outputs": [
        {
          "output_type": "execute_result",
          "data": {
            "text/plain": [
              "'MyClass'"
            ],
            "application/vnd.google.colaboratory.intrinsic+json": {
              "type": "string"
            }
          },
          "metadata": {},
          "execution_count": 14
        }
      ]
    },
    {
      "cell_type": "code",
      "source": [
        "MyClass() # returns an instance of MyClass (behavior)"
      ],
      "metadata": {
        "colab": {
          "base_uri": "https://localhost:8080/"
        },
        "id": "A-gdWm6zB8XW",
        "outputId": "0246c13f-3056-4456-f02f-fc50e9859ccb"
      },
      "execution_count": 15,
      "outputs": [
        {
          "output_type": "execute_result",
          "data": {
            "text/plain": [
              "<__main__.MyClass at 0x7fc9737dfa90>"
            ]
          },
          "metadata": {},
          "execution_count": 15
        }
      ]
    },
    {
      "cell_type": "code",
      "source": [
        "my_obj.__class__"
      ],
      "metadata": {
        "colab": {
          "base_uri": "https://localhost:8080/"
        },
        "id": "pxaI8J3tCAHR",
        "outputId": "5d7e5f38-eed1-449d-bdcb-350e63f70357"
      },
      "execution_count": 16,
      "outputs": [
        {
          "output_type": "execute_result",
          "data": {
            "text/plain": [
              "__main__.MyClass"
            ]
          },
          "metadata": {},
          "execution_count": 16
        }
      ]
    },
    {
      "cell_type": "code",
      "source": [
        "MyClass.__dict__"
      ],
      "metadata": {
        "colab": {
          "base_uri": "https://localhost:8080/"
        },
        "id": "kgTI-bnsCB9r",
        "outputId": "528b79de-c652-4524-decf-9cbfe8db2e0e"
      },
      "execution_count": 18,
      "outputs": [
        {
          "output_type": "execute_result",
          "data": {
            "text/plain": [
              "mappingproxy({'__dict__': <attribute '__dict__' of 'MyClass' objects>,\n",
              "              '__doc__': None,\n",
              "              '__module__': '__main__',\n",
              "              '__weakref__': <attribute '__weakref__' of 'MyClass' objects>})"
            ]
          },
          "metadata": {},
          "execution_count": 18
        }
      ]
    },
    {
      "cell_type": "code",
      "source": [
        "my_obj.__dict__"
      ],
      "metadata": {
        "colab": {
          "base_uri": "https://localhost:8080/"
        },
        "id": "n1-1mOl3CEmt",
        "outputId": "fdf2814d-f2e3-4a04-d447-725a0552611b"
      },
      "execution_count": 19,
      "outputs": [
        {
          "output_type": "execute_result",
          "data": {
            "text/plain": [
              "{}"
            ]
          },
          "metadata": {},
          "execution_count": 19
        }
      ]
    },
    {
      "cell_type": "code",
      "source": [
        ""
      ],
      "metadata": {
        "id": "4gLyun4bCIwy"
      },
      "execution_count": null,
      "outputs": []
    }
  ]
}