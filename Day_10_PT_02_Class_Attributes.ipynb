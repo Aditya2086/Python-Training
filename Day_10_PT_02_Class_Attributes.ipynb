{
  "nbformat": 4,
  "nbformat_minor": 0,
  "metadata": {
    "colab": {
      "name": "Day_10_PT_02_Class_Attributes.ipynb",
      "provenance": [],
      "authorship_tag": "ABX9TyMDtMk0Dd/r/gEMEwkH6sKX",
      "include_colab_link": true
    },
    "kernelspec": {
      "name": "python3",
      "display_name": "Python 3"
    },
    "language_info": {
      "name": "python"
    }
  },
  "cells": [
    {
      "cell_type": "markdown",
      "metadata": {
        "id": "view-in-github",
        "colab_type": "text"
      },
      "source": [
        "<a href=\"https://colab.research.google.com/github/Aditya2086/Python-Training/blob/main/Day_10_PT_02_Class_Attributes.ipynb\" target=\"_parent\"><img src=\"https://colab.research.google.com/assets/colab-badge.svg\" alt=\"Open In Colab\"/></a>"
      ]
    },
    {
      "cell_type": "code",
      "execution_count": 1,
      "metadata": {
        "id": "ZQeX1BjPCtiZ"
      },
      "outputs": [],
      "source": [
        "class MyClass:\n",
        "  language = 'Python' # attribute of class\n",
        "  version = '3.7' # attribute of class"
      ]
    },
    {
      "cell_type": "code",
      "source": [
        "# getattr (object_symbol, attribute_name, optional_default)\n"
      ],
      "metadata": {
        "id": "iVkhLSpODJxo"
      },
      "execution_count": 2,
      "outputs": []
    },
    {
      "cell_type": "code",
      "source": [
        "getattr(MyClass, 'language')"
      ],
      "metadata": {
        "colab": {
          "base_uri": "https://localhost:8080/",
          "height": 35
        },
        "id": "hhkebuaHDMYq",
        "outputId": "2849c38c-07c3-4047-b420-6576b0241088"
      },
      "execution_count": 3,
      "outputs": [
        {
          "output_type": "execute_result",
          "data": {
            "text/plain": [
              "'Python'"
            ],
            "application/vnd.google.colaboratory.intrinsic+json": {
              "type": "string"
            }
          },
          "metadata": {},
          "execution_count": 3
        }
      ]
    },
    {
      "cell_type": "code",
      "source": [
        "getattr(MyClass, 'Java')"
      ],
      "metadata": {
        "colab": {
          "base_uri": "https://localhost:8080/",
          "height": 165
        },
        "id": "KL812aPvDP9E",
        "outputId": "03b2aeaa-7f3f-4756-f82e-f83b956e71e0"
      },
      "execution_count": 4,
      "outputs": [
        {
          "output_type": "error",
          "ename": "AttributeError",
          "evalue": "ignored",
          "traceback": [
            "\u001b[0;31m---------------------------------------------------------------------------\u001b[0m",
            "\u001b[0;31mAttributeError\u001b[0m                            Traceback (most recent call last)",
            "\u001b[0;32m<ipython-input-4-f8947c545c8e>\u001b[0m in \u001b[0;36m<module>\u001b[0;34m()\u001b[0m\n\u001b[0;32m----> 1\u001b[0;31m \u001b[0mgetattr\u001b[0m\u001b[0;34m(\u001b[0m\u001b[0mMyClass\u001b[0m\u001b[0;34m,\u001b[0m \u001b[0;34m'Java'\u001b[0m\u001b[0;34m)\u001b[0m\u001b[0;34m\u001b[0m\u001b[0;34m\u001b[0m\u001b[0m\n\u001b[0m",
            "\u001b[0;31mAttributeError\u001b[0m: type object 'MyClass' has no attribute 'Java'"
          ]
        }
      ]
    },
    {
      "cell_type": "code",
      "source": [
        "getattr(MyClass, 'Javascript', 'None')"
      ],
      "metadata": {
        "colab": {
          "base_uri": "https://localhost:8080/",
          "height": 35
        },
        "id": "tCxuuUqZDTm0",
        "outputId": "85f0fefe-7eb9-4124-a564-16beedc4a1f3"
      },
      "execution_count": 5,
      "outputs": [
        {
          "output_type": "execute_result",
          "data": {
            "text/plain": [
              "'None'"
            ],
            "application/vnd.google.colaboratory.intrinsic+json": {
              "type": "string"
            }
          },
          "metadata": {},
          "execution_count": 5
        }
      ]
    },
    {
      "cell_type": "code",
      "source": [
        "# Using dot notation"
      ],
      "metadata": {
        "id": "x5-qAAoMDV16"
      },
      "execution_count": 6,
      "outputs": []
    },
    {
      "cell_type": "code",
      "source": [
        "MyClass.language"
      ],
      "metadata": {
        "colab": {
          "base_uri": "https://localhost:8080/",
          "height": 35
        },
        "id": "aqfsK9LvDYIh",
        "outputId": "ff342eca-e8fe-4511-ca87-f53449791081"
      },
      "execution_count": 7,
      "outputs": [
        {
          "output_type": "execute_result",
          "data": {
            "text/plain": [
              "'Python'"
            ],
            "application/vnd.google.colaboratory.intrinsic+json": {
              "type": "string"
            }
          },
          "metadata": {},
          "execution_count": 7
        }
      ]
    },
    {
      "cell_type": "code",
      "source": [
        "# Using dot notation no default option is available"
      ],
      "metadata": {
        "id": "iikptP0ODZ2Q"
      },
      "execution_count": 9,
      "outputs": []
    },
    {
      "cell_type": "code",
      "source": [
        "# Setting Attribute Values"
      ],
      "metadata": {
        "id": "-Dx2KL96Db1z"
      },
      "execution_count": 10,
      "outputs": []
    },
    {
      "cell_type": "code",
      "source": [
        "# setattr(object_symbol, attribute_name, attribute_value)"
      ],
      "metadata": {
        "id": "Sd812g43Devv"
      },
      "execution_count": 11,
      "outputs": []
    },
    {
      "cell_type": "code",
      "source": [
        "setattr(MyClass, 'version', '3.10')"
      ],
      "metadata": {
        "id": "BAXYgvQ9DhN3"
      },
      "execution_count": 12,
      "outputs": []
    },
    {
      "cell_type": "code",
      "source": [
        "MyClass.version = '3.10'"
      ],
      "metadata": {
        "id": "ANGMMtaaDjKz"
      },
      "execution_count": 13,
      "outputs": []
    },
    {
      "cell_type": "code",
      "source": [
        "getattr(MyClass, 'version')"
      ],
      "metadata": {
        "colab": {
          "base_uri": "https://localhost:8080/",
          "height": 35
        },
        "id": "J-K6H-fvDlDi",
        "outputId": "5d50f26d-fe2b-4a52-f20c-9651233eb920"
      },
      "execution_count": 14,
      "outputs": [
        {
          "output_type": "execute_result",
          "data": {
            "text/plain": [
              "'3.10'"
            ],
            "application/vnd.google.colaboratory.intrinsic+json": {
              "type": "string"
            }
          },
          "metadata": {},
          "execution_count": 14
        }
      ]
    },
    {
      "cell_type": "code",
      "source": [
        "# MyClass attribute has been mutated."
      ],
      "metadata": {
        "id": "QFHwsLtEDm21"
      },
      "execution_count": 15,
      "outputs": []
    },
    {
      "cell_type": "code",
      "source": [
        "# Setting a new attribute"
      ],
      "metadata": {
        "id": "UGciiG3LDo2z"
      },
      "execution_count": 16,
      "outputs": []
    },
    {
      "cell_type": "code",
      "source": [
        "setattr(MyClass, 'JavaScript', '3.7')"
      ],
      "metadata": {
        "id": "pfyPwioODqz2"
      },
      "execution_count": 17,
      "outputs": []
    },
    {
      "cell_type": "code",
      "source": [
        "MyClass.__dict__ # class namespace"
      ],
      "metadata": {
        "colab": {
          "base_uri": "https://localhost:8080/"
        },
        "id": "9dyaln9oDsx5",
        "outputId": "b28e3f40-9be0-41dd-e5c3-07ab651f1f64"
      },
      "execution_count": 18,
      "outputs": [
        {
          "output_type": "execute_result",
          "data": {
            "text/plain": [
              "mappingproxy({'JavaScript': '3.7',\n",
              "              '__dict__': <attribute '__dict__' of 'MyClass' objects>,\n",
              "              '__doc__': None,\n",
              "              '__module__': '__main__',\n",
              "              '__weakref__': <attribute '__weakref__' of 'MyClass' objects>,\n",
              "              'language': 'Python',\n",
              "              'version': '3.10'})"
            ]
          },
          "metadata": {},
          "execution_count": 18
        }
      ]
    },
    {
      "cell_type": "code",
      "source": [
        "# Mutating Attributes"
      ],
      "metadata": {
        "id": "P_44b7DiDukk"
      },
      "execution_count": 19,
      "outputs": []
    },
    {
      "cell_type": "code",
      "source": [
        "setattr(MyClass, 'JavaScript', '3.7')"
      ],
      "metadata": {
        "id": "myjgTA_ADxQY"
      },
      "execution_count": 20,
      "outputs": []
    },
    {
      "cell_type": "code",
      "source": [
        "MyClass.__dict__"
      ],
      "metadata": {
        "colab": {
          "base_uri": "https://localhost:8080/"
        },
        "id": "vHsDyMyoDzDC",
        "outputId": "3d07be85-2976-438f-d77f-9a6738d79d64"
      },
      "execution_count": 21,
      "outputs": [
        {
          "output_type": "execute_result",
          "data": {
            "text/plain": [
              "mappingproxy({'JavaScript': '3.7',\n",
              "              '__dict__': <attribute '__dict__' of 'MyClass' objects>,\n",
              "              '__doc__': None,\n",
              "              '__module__': '__main__',\n",
              "              '__weakref__': <attribute '__weakref__' of 'MyClass' objects>,\n",
              "              'language': 'Python',\n",
              "              'version': '3.10'})"
            ]
          },
          "metadata": {},
          "execution_count": 21
        }
      ]
    },
    {
      "cell_type": "code",
      "source": [
        "# Deleting Attributes"
      ],
      "metadata": {
        "id": "6-E4lEY1D02K"
      },
      "execution_count": 22,
      "outputs": []
    },
    {
      "cell_type": "code",
      "source": [
        "# delattr(obj_symbol, attribute_name) or del keyword"
      ],
      "metadata": {
        "id": "yBtP3PW2D3Sa"
      },
      "execution_count": 23,
      "outputs": []
    },
    {
      "cell_type": "code",
      "source": [
        "delattr(MyClass, 'JavaScript')"
      ],
      "metadata": {
        "id": "Bf-xJsPzD5jA"
      },
      "execution_count": 24,
      "outputs": []
    },
    {
      "cell_type": "code",
      "source": [
        "MyClass.__dict__"
      ],
      "metadata": {
        "colab": {
          "base_uri": "https://localhost:8080/"
        },
        "id": "42SLOPymD72S",
        "outputId": "01470617-80ca-4053-bb38-5a23b5f6b710"
      },
      "execution_count": 25,
      "outputs": [
        {
          "output_type": "execute_result",
          "data": {
            "text/plain": [
              "mappingproxy({'__dict__': <attribute '__dict__' of 'MyClass' objects>,\n",
              "              '__doc__': None,\n",
              "              '__module__': '__main__',\n",
              "              '__weakref__': <attribute '__weakref__' of 'MyClass' objects>,\n",
              "              'language': 'Python',\n",
              "              'version': '3.10'})"
            ]
          },
          "metadata": {},
          "execution_count": 25
        }
      ]
    },
    {
      "cell_type": "code",
      "source": [
        "list(MyClass.__dict__.items())"
      ],
      "metadata": {
        "colab": {
          "base_uri": "https://localhost:8080/"
        },
        "id": "5ormffmXD94q",
        "outputId": "d80772cd-7f70-4b45-a04f-d61d7a0c3274"
      },
      "execution_count": 26,
      "outputs": [
        {
          "output_type": "execute_result",
          "data": {
            "text/plain": [
              "[('__module__', '__main__'),\n",
              " ('language', 'Python'),\n",
              " ('version', '3.10'),\n",
              " ('__dict__', <attribute '__dict__' of 'MyClass' objects>),\n",
              " ('__weakref__', <attribute '__weakref__' of 'MyClass' objects>),\n",
              " ('__doc__', None)]"
            ]
          },
          "metadata": {},
          "execution_count": 26
        }
      ]
    },
    {
      "cell_type": "code",
      "source": [
        "# Accessing the namespace directly"
      ],
      "metadata": {
        "id": "_M6GrnkLECpW"
      },
      "execution_count": 27,
      "outputs": []
    },
    {
      "cell_type": "code",
      "source": [
        "# __dict__ attribute returns mappingproxy object"
      ],
      "metadata": {
        "id": "yK66UcbZEGKv"
      },
      "execution_count": 28,
      "outputs": []
    },
    {
      "cell_type": "code",
      "source": [
        "# Use the following methods\n",
        "MyClass.language"
      ],
      "metadata": {
        "colab": {
          "base_uri": "https://localhost:8080/",
          "height": 35
        },
        "id": "ZN2MuMm0EH6a",
        "outputId": "a2da9223-ba0f-412f-fcfe-d290d57313fc"
      },
      "execution_count": 29,
      "outputs": [
        {
          "output_type": "execute_result",
          "data": {
            "text/plain": [
              "'Python'"
            ],
            "application/vnd.google.colaboratory.intrinsic+json": {
              "type": "string"
            }
          },
          "metadata": {},
          "execution_count": 29
        }
      ]
    },
    {
      "cell_type": "code",
      "source": [
        "getattr(MyClass, 'language')"
      ],
      "metadata": {
        "colab": {
          "base_uri": "https://localhost:8080/",
          "height": 35
        },
        "id": "kLQBXPxPEKlb",
        "outputId": "c90b6ead-a730-4a48-db8c-864732357eb2"
      },
      "execution_count": 30,
      "outputs": [
        {
          "output_type": "execute_result",
          "data": {
            "text/plain": [
              "'Python'"
            ],
            "application/vnd.google.colaboratory.intrinsic+json": {
              "type": "string"
            }
          },
          "metadata": {},
          "execution_count": 30
        }
      ]
    },
    {
      "cell_type": "code",
      "source": [
        "# Do not prefer this method\n",
        "MyClass.__dict__['language']"
      ],
      "metadata": {
        "colab": {
          "base_uri": "https://localhost:8080/",
          "height": 35
        },
        "id": "1mPJxJmKEMcx",
        "outputId": "26d1c312-fbcd-471a-fe68-882d588029f5"
      },
      "execution_count": 31,
      "outputs": [
        {
          "output_type": "execute_result",
          "data": {
            "text/plain": [
              "'Python'"
            ],
            "application/vnd.google.colaboratory.intrinsic+json": {
              "type": "string"
            }
          },
          "metadata": {},
          "execution_count": 31
        }
      ]
    },
    {
      "cell_type": "code",
      "source": [
        ""
      ],
      "metadata": {
        "id": "R8C1BE-sEPYl"
      },
      "execution_count": null,
      "outputs": []
    }
  ]
}