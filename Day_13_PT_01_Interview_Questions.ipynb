{
  "nbformat": 4,
  "nbformat_minor": 0,
  "metadata": {
    "colab": {
      "name": "Day_13_PT_04_Interview_Questions.ipynb",
      "provenance": [],
      "authorship_tag": "ABX9TyML84rHKReUNRCwytQygXql",
      "include_colab_link": true
    },
    "kernelspec": {
      "name": "python3",
      "display_name": "Python 3"
    },
    "language_info": {
      "name": "python"
    }
  },
  "cells": [
    {
      "cell_type": "markdown",
      "metadata": {
        "id": "view-in-github",
        "colab_type": "text"
      },
      "source": [
        "<a href=\"https://colab.research.google.com/github/Aditya2086/Python-Training/blob/main/Day_13_PT_04_Interview_Questions.ipynb\" target=\"_parent\"><img src=\"https://colab.research.google.com/assets/colab-badge.svg\" alt=\"Open In Colab\"/></a>"
      ]
    },
    {
      "cell_type": "markdown",
      "source": [
        "# **Average Calculation :-**"
      ],
      "metadata": {
        "id": "Fl8YEPYMkN5Z"
      }
    },
    {
      "cell_type": "code",
      "execution_count": 1,
      "metadata": {
        "colab": {
          "base_uri": "https://localhost:8080/"
        },
        "id": "R_wG3oJAj4as",
        "outputId": "d0235719-5a46-4073-9302-dc7af8b46a9f"
      },
      "outputs": [
        {
          "output_type": "stream",
          "name": "stdout",
          "text": [
            "My average is: 3\n",
            "New average is: 3\n",
            "Removing 3 will not change the average\n"
          ]
        }
      ],
      "source": [
        "a = [1, 2, 3, 4, 5]\n",
        "my_avg = sum(a)//len(a)\n",
        "a.remove(my_avg)\n",
        "print('My average is:',my_avg)\n",
        "new_avg = sum(a)//len(a)\n",
        "print('New average is:',new_avg)\n",
        "if my_avg == new_avg:\n",
        "  print('Removing',my_avg,'will not change the average')\n",
        "else:\n",
        "  print(\"Don't remove\", my_avg)"
      ]
    },
    {
      "cell_type": "markdown",
      "source": [
        "# **Gapful Number Check :-**"
      ],
      "metadata": {
        "id": "pN68KYaylYX2"
      }
    },
    {
      "cell_type": "code",
      "source": [
        "a = input('Enter a number:')\n",
        "b = a[0] + a[-1]\n",
        "c = int(a)\n",
        "d = int(b)\n",
        "if c % d == 0:\n",
        "  print('The no.is gapful')\n",
        "else:\n",
        "  print('The no.is not gapful')"
      ],
      "metadata": {
        "colab": {
          "base_uri": "https://localhost:8080/"
        },
        "id": "2jdyGCQElKpl",
        "outputId": "1fb23f10-0532-4d00-c8d6-ff78addd62aa"
      },
      "execution_count": 3,
      "outputs": [
        {
          "output_type": "stream",
          "name": "stdout",
          "text": [
            "Enter a number:583\n",
            "The no.is gapful\n"
          ]
        }
      ]
    },
    {
      "cell_type": "markdown",
      "source": [
        "# **Print Common Letters From 2 Strings :-**"
      ],
      "metadata": {
        "id": "zlDKciIGmWUV"
      }
    },
    {
      "cell_type": "code",
      "source": [
        "s1 = input('Enter 1st string:')\n",
        "s2 = input('Enter 2nd string:')\n",
        "a = list(set(s1) & set(s2))\n",
        "print(a)\n",
        "print('The common letters are:')\n",
        "for i in a:\n",
        "  print(i, end = ' ')"
      ],
      "metadata": {
        "colab": {
          "base_uri": "https://localhost:8080/"
        },
        "id": "Qgv-RJvxleem",
        "outputId": "111ebfbc-474b-4e55-8749-70127eaecc8f"
      },
      "execution_count": 4,
      "outputs": [
        {
          "output_type": "stream",
          "name": "stdout",
          "text": [
            "Enter 1st string:PYTHON\n",
            "Enter 2nd string:CYTHON\n",
            "['O', 'H', 'T', 'N', 'Y']\n",
            "The common letters are:\n",
            "O H T N Y "
          ]
        }
      ]
    },
    {
      "cell_type": "markdown",
      "source": [
        "# **Perfect Number :-**"
      ],
      "metadata": {
        "id": "pBRaYsoImsZf"
      }
    },
    {
      "cell_type": "code",
      "source": [
        "# Find the factors\n",
        "n = int(input('Enter a number:'))\n",
        "for i in range(1, n):\n",
        "  if n % i == 0:\n",
        "    print(i, end = ' ')"
      ],
      "metadata": {
        "colab": {
          "base_uri": "https://localhost:8080/"
        },
        "id": "XlDk4MbfmhyJ",
        "outputId": "768a5027-f078-44f0-f7fd-5e80e951373d"
      },
      "execution_count": 5,
      "outputs": [
        {
          "output_type": "stream",
          "name": "stdout",
          "text": [
            "Enter a number:10\n",
            "1 2 5 "
          ]
        }
      ]
    },
    {
      "cell_type": "code",
      "source": [
        "n = int(input('Enter a number:'))\n",
        "s = 0\n",
        "for i in range(1, n):\n",
        "  if n % i == 0:\n",
        "    s = s + i\n",
        "if s == n:\n",
        "  print('The no. is perfect no.')\n",
        "else:\n",
        "  print('The no. is not a perfect no.')"
      ],
      "metadata": {
        "colab": {
          "base_uri": "https://localhost:8080/"
        },
        "id": "lE4DLqZ0muJP",
        "outputId": "e86b4fe8-881e-4e31-ae8d-86c9ac897af6"
      },
      "execution_count": 6,
      "outputs": [
        {
          "output_type": "stream",
          "name": "stdout",
          "text": [
            "Enter a number:10\n",
            "The no. is not a perfect no.\n"
          ]
        }
      ]
    },
    {
      "cell_type": "markdown",
      "source": [
        "# **Count Digits :-**"
      ],
      "metadata": {
        "id": "VhGRnX2dm-Wc"
      }
    },
    {
      "cell_type": "code",
      "source": [
        "n = int(input('Enter a number:'))\n",
        "count = 0\n",
        "while (n > 0):\n",
        "  count = count + 1\n",
        "  n //= 10\n",
        "print('The no.of digits are:',count)"
      ],
      "metadata": {
        "colab": {
          "base_uri": "https://localhost:8080/"
        },
        "id": "m_uEBd6xm4zn",
        "outputId": "c5aa08d2-9cbd-446f-ac51-f0c2442a274e"
      },
      "execution_count": 8,
      "outputs": [
        {
          "output_type": "stream",
          "name": "stdout",
          "text": [
            "Enter a number:12345678\n",
            "The no.of digits are: 8\n"
          ]
        }
      ]
    },
    {
      "cell_type": "markdown",
      "source": [
        "# **Armstrong Numbers :-**"
      ],
      "metadata": {
        "id": "uy8A8snInQzj"
      }
    },
    {
      "cell_type": "code",
      "source": [
        "n = int(input('Enter a number:'))\n",
        "a = list(map(int, str(n)))\n",
        "b = list(map(lambda x:x**3, a))\n",
        "if (sum(b) == n):\n",
        "  print('The no.is Armstrong Number')\n",
        "else:\n",
        "  print('The no.is not an Armstrong Number')"
      ],
      "metadata": {
        "colab": {
          "base_uri": "https://localhost:8080/"
        },
        "id": "sVZj7Q0XnH2m",
        "outputId": "6e56a0f9-1ade-4780-ec63-4adf0ba265eb"
      },
      "execution_count": 9,
      "outputs": [
        {
          "output_type": "stream",
          "name": "stdout",
          "text": [
            "Enter a number:153\n",
            "The no.is Armstrong Number\n"
          ]
        }
      ]
    },
    {
      "cell_type": "markdown",
      "source": [
        "# **Count vowels :-**"
      ],
      "metadata": {
        "id": "IJEbKM-Cn8JJ"
      }
    },
    {
      "cell_type": "code",
      "source": [
        "string = 'Hello This is Python Programming Language.'\n",
        "vowels = 0\n",
        "for i in string:\n",
        "  if (i == 'a' or i == 'e' or i == 'i' or i == 'o' or i == 'u'):\n",
        "    vowels += 1\n",
        "print('No.of vowels are:', vowels)"
      ],
      "metadata": {
        "colab": {
          "base_uri": "https://localhost:8080/"
        },
        "id": "U_V9MuA4nTsX",
        "outputId": "03bd6afb-c86b-4cb1-dce0-3654767b8aa8"
      },
      "execution_count": 10,
      "outputs": [
        {
          "output_type": "stream",
          "name": "stdout",
          "text": [
            "No.of vowels are: 12\n"
          ]
        }
      ]
    },
    {
      "cell_type": "code",
      "source": [
        "string = 'Hello This is Python Programming Language.'\n",
        "string = string.lower()\n",
        "vowels = 0\n",
        "for i in string:\n",
        "  if (i == 'a' or i == 'e' or i == 'i' or i == 'o' or i == 'u'):\n",
        "    vowels += 1\n",
        "print('No.of vowels are:', vowels)"
      ],
      "metadata": {
        "colab": {
          "base_uri": "https://localhost:8080/"
        },
        "id": "PWIfEeagoBM8",
        "outputId": "2312e2a6-d5fa-40a6-8f00-7a6215ef1217"
      },
      "execution_count": 11,
      "outputs": [
        {
          "output_type": "stream",
          "name": "stdout",
          "text": [
            "No.of vowels are: 12\n"
          ]
        }
      ]
    },
    {
      "cell_type": "markdown",
      "source": [
        "# **Print Strings Of Even Length :-**"
      ],
      "metadata": {
        "id": "tv1BxJ5EoHbS"
      }
    },
    {
      "cell_type": "code",
      "source": [
        "string = 'Hello This is Python Programming Language.'\n",
        "string = string.split(' ')\n",
        "print(string)"
      ],
      "metadata": {
        "colab": {
          "base_uri": "https://localhost:8080/"
        },
        "id": "rravJ0ydoEXg",
        "outputId": "137b474a-a397-4784-fb2e-ad6e59c7c80c"
      },
      "execution_count": 12,
      "outputs": [
        {
          "output_type": "stream",
          "name": "stdout",
          "text": [
            "['Hello', 'This', 'is', 'Python', 'Programming', 'Language.']\n"
          ]
        }
      ]
    },
    {
      "cell_type": "code",
      "source": [
        "for i in string:\n",
        "  if len(i) % 2 == 0:\n",
        "    print(i)"
      ],
      "metadata": {
        "colab": {
          "base_uri": "https://localhost:8080/"
        },
        "id": "dRBju2-eouH7",
        "outputId": "6fcdd500-10b9-4163-bd38-ca2c6710e14a"
      },
      "execution_count": 13,
      "outputs": [
        {
          "output_type": "stream",
          "name": "stdout",
          "text": [
            "This\n",
            "is\n",
            "Python\n"
          ]
        }
      ]
    },
    {
      "cell_type": "markdown",
      "source": [
        "# **Anagram :-**"
      ],
      "metadata": {
        "id": "LmwXhydCo0JY"
      }
    },
    {
      "cell_type": "code",
      "source": [
        "def anagram(word):\n",
        "  f = {}\n",
        "  for i in word:\n",
        "    if i in f:\n",
        "      f[i] += 1\n",
        "    else:\n",
        "      f[i] = 1 # creating a dictionary key- value pair\n",
        "  return f\n",
        "\n",
        "a = input('Enter 1st word:')\n",
        "b = input('Enter 2nd word:')\n",
        "if(anagram(a) == anagram(b)):\n",
        "  print('Matched. It is Anagram')\n",
        "else:\n",
        "  print('Its not an Anagram')"
      ],
      "metadata": {
        "colab": {
          "base_uri": "https://localhost:8080/"
        },
        "id": "3GoPYgIuowmA",
        "outputId": "487aa84e-35ee-4c48-95ac-9a5f336cccb8"
      },
      "execution_count": 14,
      "outputs": [
        {
          "output_type": "stream",
          "name": "stdout",
          "text": [
            "Enter 1st word:malyalam\n",
            "Enter 2nd word:malyalam\n",
            "Matched. It is Anagram\n"
          ]
        }
      ]
    },
    {
      "cell_type": "markdown",
      "source": [
        "# **Count The Occurance Of Character :-**"
      ],
      "metadata": {
        "id": "3kctLDXbpgkd"
      }
    },
    {
      "cell_type": "code",
      "source": [
        "def char_occur(word):\n",
        "  f = {}\n",
        "  for i in word:\n",
        "    if i in f:\n",
        "      f[i] += 1\n",
        "    else:\n",
        "      f[i] = 1 # creating a dictionary key- value pair\n",
        "  return f\n",
        "\n",
        "a = input('Enter the word:')\n",
        "char_occur(a)"
      ],
      "metadata": {
        "colab": {
          "base_uri": "https://localhost:8080/"
        },
        "id": "xKehoOCPpM4g",
        "outputId": "8fa2bd1e-aa35-4bee-943e-faf34189e601"
      },
      "execution_count": 15,
      "outputs": [
        {
          "name": "stdout",
          "output_type": "stream",
          "text": [
            "Enter the word:malyalam\n"
          ]
        },
        {
          "output_type": "execute_result",
          "data": {
            "text/plain": [
              "{'a': 3, 'l': 2, 'm': 2, 'y': 1}"
            ]
          },
          "metadata": {},
          "execution_count": 15
        }
      ]
    }
  ]
}
