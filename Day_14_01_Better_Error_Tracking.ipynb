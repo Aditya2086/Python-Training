{
  "nbformat": 4,
  "nbformat_minor": 0,
  "metadata": {
    "colab": {
      "name": "Day_14_01_Better_Error_Tracking.ipynb",
      "provenance": [],
      "authorship_tag": "ABX9TyPV81kykcogg0BPZnTvz35+",
      "include_colab_link": true
    },
    "kernelspec": {
      "name": "python3",
      "display_name": "Python 3"
    },
    "language_info": {
      "name": "python"
    }
  },
  "cells": [
    {
      "cell_type": "markdown",
      "metadata": {
        "id": "view-in-github",
        "colab_type": "text"
      },
      "source": [
        "<a href=\"https://colab.research.google.com/github/Aditya2086/Python-Training/blob/main/Day_14_01_Better_Error_Tracking.ipynb\" target=\"_parent\"><img src=\"https://colab.research.google.com/assets/colab-badge.svg\" alt=\"Open In Colab\"/></a>"
      ]
    },
    {
      "cell_type": "markdown",
      "source": [
        "# **Example 1 :-**"
      ],
      "metadata": {
        "id": "yAoVuaPDVq1_"
      }
    },
    {
      "cell_type": "code",
      "source": [
        "avengers = {'old':'steve','rich':'tony','god':'thor'} # remove the closing bracket to see the error\n",
        "print(avengers)"
      ],
      "metadata": {
        "colab": {
          "base_uri": "https://localhost:8080/"
        },
        "id": "Pz5wdaqTWeNE",
        "outputId": "0fb1b020-a0d8-4cf8-87d4-07e22002cdeb"
      },
      "execution_count": 1,
      "outputs": [
        {
          "output_type": "stream",
          "name": "stdout",
          "text": [
            "{'old': 'steve', 'rich': 'tony', 'god': 'thor'}\n"
          ]
        }
      ]
    },
    {
      "cell_type": "code",
      "source": [
        "avengers = 'old':'steve','rich':'tony','god':'thor' # remove the closing bracket to see the error\n",
        "print(avengers)"
      ],
      "metadata": {
        "colab": {
          "base_uri": "https://localhost:8080/",
          "height": 130
        },
        "outputId": "167cb612-637f-4502-94bf-a0c1f4b41470",
        "id": "JfVf-FbHXmhb"
      },
      "execution_count": 12,
      "outputs": [
        {
          "output_type": "error",
          "ename": "SyntaxError",
          "evalue": "ignored",
          "traceback": [
            "\u001b[0;36m  File \u001b[0;32m\"<ipython-input-12-f1b081b02c88>\"\u001b[0;36m, line \u001b[0;32m1\u001b[0m\n\u001b[0;31m    avengers = 'old':'steve','rich':'tony','god':'thor' # remove the closing bracket to see the error\u001b[0m\n\u001b[0m                    ^\u001b[0m\n\u001b[0;31mSyntaxError\u001b[0m\u001b[0;31m:\u001b[0m invalid syntax\n"
          ]
        }
      ]
    },
    {
      "cell_type": "markdown",
      "source": [
        "# **Example 2 :-**"
      ],
      "metadata": {
        "id": "hwObZw2TWBBQ"
      }
    },
    {
      "cell_type": "code",
      "source": [
        "print('List:',[x for x in range(10)]) # remove the closing square bracket to see the error"
      ],
      "metadata": {
        "colab": {
          "base_uri": "https://localhost:8080/"
        },
        "id": "54-Z59fZWtVO",
        "outputId": "42a9172b-d89d-40d3-d9ce-2f3144231419"
      },
      "execution_count": null,
      "outputs": [
        {
          "output_type": "stream",
          "name": "stdout",
          "text": [
            "List: [0, 1, 2, 3, 4, 5, 6, 7, 8, 9]\n"
          ]
        }
      ]
    },
    {
      "cell_type": "code",
      "source": [
        "print'List:',[x for x in range(10)] # remove the closing square bracket to see the error"
      ],
      "metadata": {
        "colab": {
          "base_uri": "https://localhost:8080/",
          "height": 130
        },
        "outputId": "ddfc8b4e-3338-4d5a-c747-904e3e9180bd",
        "id": "zKUswYZmX35y"
      },
      "execution_count": 13,
      "outputs": [
        {
          "output_type": "error",
          "ename": "SyntaxError",
          "evalue": "ignored",
          "traceback": [
            "\u001b[0;36m  File \u001b[0;32m\"<ipython-input-13-cbc62790c3a8>\"\u001b[0;36m, line \u001b[0;32m1\u001b[0m\n\u001b[0;31m    print'List:',[x for x in range(10)] # remove the closing square bracket to see the error\u001b[0m\n\u001b[0m               ^\u001b[0m\n\u001b[0;31mSyntaxError\u001b[0m\u001b[0;31m:\u001b[0m invalid syntax\n"
          ]
        }
      ]
    },
    {
      "cell_type": "markdown",
      "source": [
        "# **Example 3 :-**"
      ],
      "metadata": {
        "id": "EypVpNJLWHTj"
      }
    },
    {
      "cell_type": "code",
      "source": [
        "print({(x,y) for x,y in zip('abcd','1234')}) # remove the square bracket from x,y to see the error"
      ],
      "metadata": {
        "colab": {
          "base_uri": "https://localhost:8080/"
        },
        "id": "ry4uAPiIWxrF",
        "outputId": "9fca02c1-9dc6-4d84-b457-492666d1d4df"
      },
      "execution_count": 3,
      "outputs": [
        {
          "output_type": "stream",
          "name": "stdout",
          "text": [
            "{('a', '1'), ('b', '2'), ('c', '3'), ('d', '4')}\n"
          ]
        }
      ]
    },
    {
      "cell_type": "markdown",
      "source": [
        "# **Example 4 :-**"
      ],
      "metadata": {
        "id": "-iBi8_ZLWJOF"
      }
    },
    {
      "cell_type": "code",
      "source": [
        "avengers = {\n",
        "            'old':'steve',\n",
        "            'rich':'tony' # remove this value to see the error\n",
        "            }\n",
        "print(avengers)"
      ],
      "metadata": {
        "colab": {
          "base_uri": "https://localhost:8080/"
        },
        "id": "drXGvpj1W2ot",
        "outputId": "8cadf401-4a1f-42c2-f39d-536169fd1177"
      },
      "execution_count": 4,
      "outputs": [
        {
          "output_type": "stream",
          "name": "stdout",
          "text": [
            "{'old': 'steve', 'rich': 'tony'}\n"
          ]
        }
      ]
    },
    {
      "cell_type": "markdown",
      "source": [
        "# **Example 5 :-**"
      ],
      "metadata": {
        "id": "2ulKAmVFWMT4"
      }
    },
    {
      "cell_type": "code",
      "source": [
        "try:\n",
        "    print('Hello Python')\n",
        "except (ValueError, AttributeError): # remove these brackets to see the error\n",
        "    print('Problem Happened')"
      ],
      "metadata": {
        "colab": {
          "base_uri": "https://localhost:8080/"
        },
        "id": "4dhqEQBDW7R0",
        "outputId": "0054820b-2c83-4250-a6a6-64b51ea14ce3"
      },
      "execution_count": 5,
      "outputs": [
        {
          "output_type": "stream",
          "name": "stdout",
          "text": [
            "Hello Python\n"
          ]
        }
      ]
    },
    {
      "cell_type": "markdown",
      "source": [
        "# **Example 6 :-**"
      ],
      "metadata": {
        "id": "aFmgrFpIWRHm"
      }
    },
    {
      "cell_type": "code",
      "source": [
        "try:\n",
        "    print('Hello Python')\n",
        "except: # Remove this except keyword, indent the below statement outside the try block and see the error\n",
        "    print('Only Try Block is Present')"
      ],
      "metadata": {
        "colab": {
          "base_uri": "https://localhost:8080/"
        },
        "id": "f15h3Q1jXE8c",
        "outputId": "b49f0d39-cffd-4803-fb81-faf8cac463a9"
      },
      "execution_count": 6,
      "outputs": [
        {
          "output_type": "stream",
          "name": "stdout",
          "text": [
            "Hello Python\n"
          ]
        }
      ]
    },
    {
      "cell_type": "markdown",
      "source": [
        "# **Example 7 :-**"
      ],
      "metadata": {
        "id": "RUvFs_k9WTJ8"
      }
    },
    {
      "cell_type": "code",
      "source": [
        "num = 5\n",
        "if num > 1: # remove the colon to see the error\n",
        "    print('True')"
      ],
      "metadata": {
        "colab": {
          "base_uri": "https://localhost:8080/"
        },
        "id": "xSjPdb-wXJpW",
        "outputId": "4707f2f7-3b6e-4ecb-a4e0-0990d6999fc7"
      },
      "execution_count": 7,
      "outputs": [
        {
          "output_type": "stream",
          "name": "stdout",
          "text": [
            "True\n"
          ]
        }
      ]
    },
    {
      "cell_type": "markdown",
      "source": [
        "# **Example 8 :-**"
      ],
      "metadata": {
        "id": "mpktc15nWUyc"
      }
    },
    {
      "cell_type": "code",
      "source": [
        "num = 5\n",
        "if num == 1: # replace the == with = to see the error\n",
        "    print('True')\n",
        "else:\n",
        "    print('False')"
      ],
      "metadata": {
        "colab": {
          "base_uri": "https://localhost:8080/"
        },
        "id": "4faHsfGmXMs8",
        "outputId": "52420571-f273-4e73-ac60-e3a624dadf05"
      },
      "execution_count": 8,
      "outputs": [
        {
          "output_type": "stream",
          "name": "stdout",
          "text": [
            "False\n"
          ]
        }
      ]
    },
    {
      "cell_type": "markdown",
      "source": [
        "# **Example 9 :-**"
      ],
      "metadata": {
        "id": "OB2pdW6ZWXum"
      }
    },
    {
      "cell_type": "code",
      "source": [
        "old_avengers = ['steve','tony','thor','hulk','natasha','hawkeye']\n",
        "new_avengers = ['antman','peter','stephen','Tchala','wong']\n",
        "avengers = [*old_avengers, *new_avengers]\n",
        "print(avengers)\n",
        "print(f'The Original Avengers are {old_avengers}') # put * with old_avengers to see the error"
      ],
      "metadata": {
        "colab": {
          "base_uri": "https://localhost:8080/"
        },
        "id": "R0w5r22XXVL8",
        "outputId": "47b25242-5a78-476c-cafc-dc9af2595cae"
      },
      "execution_count": 9,
      "outputs": [
        {
          "output_type": "stream",
          "name": "stdout",
          "text": [
            "['steve', 'tony', 'thor', 'hulk', 'natasha', 'hawkeye', 'antman', 'peter', 'stephen', 'Tchala', 'wong']\n",
            "The Original Avengers are ['steve', 'tony', 'thor', 'hulk', 'natasha', 'hawkeye']\n"
          ]
        }
      ]
    },
    {
      "cell_type": "markdown",
      "source": [
        "# **Example 10 :-**"
      ],
      "metadata": {
        "id": "Bvknwr6VWbBc"
      }
    },
    {
      "cell_type": "code",
      "source": [
        "num = 1\n",
        "if num > 5:\n",
        "    print('True') # unindent this line to see the error\n",
        "else:\n",
        "    print('False') # unindent this line to see the error"
      ],
      "metadata": {
        "colab": {
          "base_uri": "https://localhost:8080/"
        },
        "id": "dIX-GNqKXXgk",
        "outputId": "28c6831a-ec94-4b0a-98ce-6c5cc247c195"
      },
      "execution_count": 10,
      "outputs": [
        {
          "output_type": "stream",
          "name": "stdout",
          "text": [
            "False\n"
          ]
        }
      ]
    },
    {
      "cell_type": "markdown",
      "source": [
        "# **Example 11 :-**"
      ],
      "metadata": {
        "id": "vRRYxv4PWcmL"
      }
    },
    {
      "cell_type": "code",
      "source": [
        "import collections\n",
        "collections.namedtuple # misspell this word namedtuple to see the error\n",
        "num = 3\n",
        "print(num) # misspell this word namedtuple to see the error"
      ],
      "metadata": {
        "colab": {
          "base_uri": "https://localhost:8080/"
        },
        "id": "0NiZSY9kXdB0",
        "outputId": "4f524c10-fefe-4142-ffee-553614352d0c"
      },
      "execution_count": 11,
      "outputs": [
        {
          "output_type": "stream",
          "name": "stdout",
          "text": [
            "3\n"
          ]
        }
      ]
    },
    {
      "cell_type": "code",
      "source": [
        ""
      ],
      "metadata": {
        "id": "Ar0sgsCKXgYM"
      },
      "execution_count": null,
      "outputs": []
    }
  ]
}