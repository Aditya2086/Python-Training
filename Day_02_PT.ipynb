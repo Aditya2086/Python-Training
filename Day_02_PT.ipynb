{
  "nbformat": 4,
  "nbformat_minor": 0,
  "metadata": {
    "colab": {
      "name": "Day 02_PT.ipynb",
      "provenance": [],
      "authorship_tag": "ABX9TyO7TgckuScLbIRrcy7nx+bK",
      "include_colab_link": true
    },
    "kernelspec": {
      "name": "python3",
      "display_name": "Python 3"
    },
    "language_info": {
      "name": "python"
    }
  },
  "cells": [
    {
      "cell_type": "markdown",
      "metadata": {
        "id": "view-in-github",
        "colab_type": "text"
      },
      "source": [
        "<a href=\"https://colab.research.google.com/github/Aditya2086/Python-Training/blob/main/Day_02_PT.ipynb\" target=\"_parent\"><img src=\"https://colab.research.google.com/assets/colab-badge.svg\" alt=\"Open In Colab\"/></a>"
      ]
    },
    {
      "cell_type": "markdown",
      "source": [
        "# **Write A Program To Find The Least Common Multiple (LCM)**"
      ],
      "metadata": {
        "id": "KD8AZa4ZqyzA"
      }
    },
    {
      "cell_type": "code",
      "source": [
        "a = int(input('Enter 1st no:- '))\n",
        "b = int(input('Enter 2nd no:- '))\n",
        "if a < b:\n",
        "  a,b = b,a\n",
        "for i in range(b, (a*b)+1, b):\n",
        "  if i%a == 0:\n",
        "    print('The LCM is:',i)\n",
        "    break"
      ],
      "metadata": {
        "colab": {
          "base_uri": "https://localhost:8080/"
        },
        "id": "rLxpktL1rWpi",
        "outputId": "91e326ee-430f-4566-853a-f061a26bf33f"
      },
      "execution_count": 1,
      "outputs": [
        {
          "output_type": "stream",
          "name": "stdout",
          "text": [
            "Enter 1st no:- 40\n",
            "Enter 2nd no:- 50\n",
            "The LCM is: 200\n"
          ]
        }
      ]
    },
    {
      "cell_type": "markdown",
      "source": [
        "# **Write A Program To Find The Highest Common Factor (HCF) ?**"
      ],
      "metadata": {
        "id": "8HDYX0SnOS6H"
      }
    },
    {
      "cell_type": "code",
      "source": [
        "a = int(input('Enter 1st no:'))\n",
        "b = int(input('Enter 2nd no:'))\n",
        "i = 1\n",
        "while (i <= a and i <= b):\n",
        "  if a%i == 0 and b%i == 0:\n",
        "    hcf = i\n",
        "  i += 1\n",
        "print('The HCF is:', hcf)"
      ],
      "metadata": {
        "colab": {
          "base_uri": "https://localhost:8080/"
        },
        "id": "9YynS7txOwSi",
        "outputId": "1f53a3ca-c1a5-468e-caaa-67f8ec558819"
      },
      "execution_count": 1,
      "outputs": [
        {
          "output_type": "stream",
          "name": "stdout",
          "text": [
            "Enter 1st no:2\n",
            "Enter 2nd no:5\n",
            "The HCF is: 1\n"
          ]
        }
      ]
    },
    {
      "cell_type": "markdown",
      "source": [
        "# **Write A Program To Print The Star Patterns ?**"
      ],
      "metadata": {
        "id": "yxFn5F_BO7BO"
      }
    },
    {
      "cell_type": "code",
      "source": [
        "print(1)\n",
        "print(1)\n",
        "print(1)\n",
        "print(1)"
      ],
      "metadata": {
        "colab": {
          "base_uri": "https://localhost:8080/"
        },
        "id": "KcvNNXvRPLJw",
        "outputId": "4d18d8aa-2f7c-496a-8c29-5ae3c68ca6ea"
      },
      "execution_count": 2,
      "outputs": [
        {
          "output_type": "stream",
          "name": "stdout",
          "text": [
            "1\n",
            "1\n",
            "1\n",
            "1\n"
          ]
        }
      ]
    },
    {
      "cell_type": "code",
      "source": [
        "for i in range(4):\n",
        "  print(1)"
      ],
      "metadata": {
        "colab": {
          "base_uri": "https://localhost:8080/"
        },
        "id": "vi6wg2c3PQlQ",
        "outputId": "c7adbbbb-3a41-49d9-b73f-ae60b20c128e"
      },
      "execution_count": 3,
      "outputs": [
        {
          "output_type": "stream",
          "name": "stdout",
          "text": [
            "1\n",
            "1\n",
            "1\n",
            "1\n"
          ]
        }
      ]
    },
    {
      "cell_type": "code",
      "source": [
        "for x in range(0,4):\n",
        "  for i in range(0,4):\n",
        "    print(1, end = ' ')\n",
        "  print()"
      ],
      "metadata": {
        "colab": {
          "base_uri": "https://localhost:8080/"
        },
        "id": "gIXekdjyPT4Y",
        "outputId": "73a62363-00a9-4e7b-e795-a246b13555a8"
      },
      "execution_count": 4,
      "outputs": [
        {
          "output_type": "stream",
          "name": "stdout",
          "text": [
            "1 1 1 1 \n",
            "1 1 1 1 \n",
            "1 1 1 1 \n",
            "1 1 1 1 \n"
          ]
        }
      ]
    },
    {
      "cell_type": "code",
      "source": [
        "a = int(input('Enter a number:'))\n",
        "for x in range(a):\n",
        "  for i in range(a):\n",
        "    print(1, end = ' ')\n",
        "  print()"
      ],
      "metadata": {
        "colab": {
          "base_uri": "https://localhost:8080/"
        },
        "id": "0wBynWoMPXyw",
        "outputId": "6c3e463c-cad5-4bce-d786-b5cae87f0077"
      },
      "execution_count": 5,
      "outputs": [
        {
          "output_type": "stream",
          "name": "stdout",
          "text": [
            "Enter a number:6\n",
            "1 1 1 1 1 1 \n",
            "1 1 1 1 1 1 \n",
            "1 1 1 1 1 1 \n",
            "1 1 1 1 1 1 \n",
            "1 1 1 1 1 1 \n",
            "1 1 1 1 1 1 \n"
          ]
        }
      ]
    },
    {
      "cell_type": "code",
      "source": [
        "a = int(input('Enter a number:'))\n",
        "for x in range(a):\n",
        "  for i in range(a):\n",
        "    print('*', end = ' ')\n",
        "  print()"
      ],
      "metadata": {
        "colab": {
          "base_uri": "https://localhost:8080/"
        },
        "id": "seqCdT2nPaTq",
        "outputId": "7d601ceb-a9a3-4f08-964e-4ecbd2eca6b8"
      },
      "execution_count": 6,
      "outputs": [
        {
          "output_type": "stream",
          "name": "stdout",
          "text": [
            "Enter a number:5\n",
            "* * * * * \n",
            "* * * * * \n",
            "* * * * * \n",
            "* * * * * \n",
            "* * * * * \n"
          ]
        }
      ]
    },
    {
      "cell_type": "code",
      "source": [
        "a = int(input('Enter a number:'))\n",
        "for x in range(a):\n",
        "  for i in range(4-x):\n",
        "    print('*', end = ' ')\n",
        "  print()"
      ],
      "metadata": {
        "colab": {
          "base_uri": "https://localhost:8080/"
        },
        "id": "CWuKIaTsPfvM",
        "outputId": "629d8e85-ef16-4bc0-8473-3ef4745d2fb4"
      },
      "execution_count": 7,
      "outputs": [
        {
          "output_type": "stream",
          "name": "stdout",
          "text": [
            "Enter a number:8\n",
            "* * * * \n",
            "* * * \n",
            "* * \n",
            "* \n",
            "\n",
            "\n",
            "\n",
            "\n"
          ]
        }
      ]
    },
    {
      "cell_type": "markdown",
      "source": [
        "# **List**"
      ],
      "metadata": {
        "id": "bvKKg6SXPo1h"
      }
    },
    {
      "cell_type": "code",
      "source": [
        "a = []\n",
        "print(a)\n",
        "print(type(a))"
      ],
      "metadata": {
        "colab": {
          "base_uri": "https://localhost:8080/"
        },
        "id": "zOhRB3HiPsO4",
        "outputId": "2feb0978-4e22-4076-fe2f-9244865892a0"
      },
      "execution_count": 8,
      "outputs": [
        {
          "output_type": "stream",
          "name": "stdout",
          "text": [
            "[]\n",
            "<class 'list'>\n"
          ]
        }
      ]
    },
    {
      "cell_type": "code",
      "source": [
        "a.append(1)"
      ],
      "metadata": {
        "id": "T_zEfhEYP1cv"
      },
      "execution_count": 9,
      "outputs": []
    },
    {
      "cell_type": "code",
      "source": [
        "print(a)"
      ],
      "metadata": {
        "colab": {
          "base_uri": "https://localhost:8080/"
        },
        "id": "T3FeWjgmP6RI",
        "outputId": "f0af5685-300c-4858-9e3b-d2f63f779224"
      },
      "execution_count": 10,
      "outputs": [
        {
          "output_type": "stream",
          "name": "stdout",
          "text": [
            "[1]\n"
          ]
        }
      ]
    },
    {
      "cell_type": "code",
      "source": [
        "a.append(0)\n",
        "print(a)"
      ],
      "metadata": {
        "colab": {
          "base_uri": "https://localhost:8080/"
        },
        "id": "2XpcIrD7P_fP",
        "outputId": "83ca6b34-86ed-4120-c7e3-504ecff232d8"
      },
      "execution_count": 11,
      "outputs": [
        {
          "output_type": "stream",
          "name": "stdout",
          "text": [
            "[1, 0]\n"
          ]
        }
      ]
    },
    {
      "cell_type": "code",
      "source": [
        "a.append(5)\n",
        "print(a)"
      ],
      "metadata": {
        "colab": {
          "base_uri": "https://localhost:8080/"
        },
        "id": "F2Aqf8ibQEEB",
        "outputId": "b152718a-549f-4502-8e20-d8c1222db33e"
      },
      "execution_count": 12,
      "outputs": [
        {
          "output_type": "stream",
          "name": "stdout",
          "text": [
            "[1, 0, 5]\n"
          ]
        }
      ]
    },
    {
      "cell_type": "code",
      "source": [
        "a.append(-1)\n",
        "print(a)"
      ],
      "metadata": {
        "colab": {
          "base_uri": "https://localhost:8080/"
        },
        "id": "b3ObsIcrQHHH",
        "outputId": "f693394f-1791-4e9b-e8d6-21c4b30cccf6"
      },
      "execution_count": 13,
      "outputs": [
        {
          "output_type": "stream",
          "name": "stdout",
          "text": [
            "[1, 0, 5, -1]\n"
          ]
        }
      ]
    },
    {
      "cell_type": "code",
      "source": [
        "a.append([-2,5,6])\n",
        "print(a)"
      ],
      "metadata": {
        "colab": {
          "base_uri": "https://localhost:8080/"
        },
        "id": "12iqm53UQKOP",
        "outputId": "f415c411-00c6-4cf9-eb8b-dbcf9d3ad606"
      },
      "execution_count": 14,
      "outputs": [
        {
          "output_type": "stream",
          "name": "stdout",
          "text": [
            "[1, 0, 5, -1, [-2, 5, 6]]\n"
          ]
        }
      ]
    },
    {
      "cell_type": "code",
      "source": [
        "a = [1, 0, 5, -1]\n",
        "a.extend([-2,6,7])\n",
        "print(a)"
      ],
      "metadata": {
        "colab": {
          "base_uri": "https://localhost:8080/"
        },
        "id": "ThSmM0dUQM3v",
        "outputId": "3436ccb4-d945-41ce-a9b7-19fde51868a3"
      },
      "execution_count": 15,
      "outputs": [
        {
          "output_type": "stream",
          "name": "stdout",
          "text": [
            "[1, 0, 5, -1, -2, 6, 7]\n"
          ]
        }
      ]
    },
    {
      "cell_type": "code",
      "source": [
        "a = [1, 0, 5, -1, -2, 6, 7]\n",
        "print(a[0])\n",
        "print(a[3])\n",
        "print(a[0:5])"
      ],
      "metadata": {
        "colab": {
          "base_uri": "https://localhost:8080/"
        },
        "id": "-ZaxXUTpQPhG",
        "outputId": "c36383c1-00d9-4d7b-b2fd-02ab341d48e1"
      },
      "execution_count": 16,
      "outputs": [
        {
          "output_type": "stream",
          "name": "stdout",
          "text": [
            "1\n",
            "-1\n",
            "[1, 0, 5, -1, -2]\n"
          ]
        }
      ]
    },
    {
      "cell_type": "code",
      "source": [
        "print(a[0:5:1])\n",
        "print(a[0:])\n",
        "print(a[:])\n",
        "print(a[0:7])"
      ],
      "metadata": {
        "colab": {
          "base_uri": "https://localhost:8080/"
        },
        "id": "TLJIrLGcQS5H",
        "outputId": "e80d1461-9088-499c-9a76-345eb06aa6a5"
      },
      "execution_count": 17,
      "outputs": [
        {
          "output_type": "stream",
          "name": "stdout",
          "text": [
            "[1, 0, 5, -1, -2]\n",
            "[1, 0, 5, -1, -2, 6, 7]\n",
            "[1, 0, 5, -1, -2, 6, 7]\n",
            "[1, 0, 5, -1, -2, 6, 7]\n"
          ]
        }
      ]
    },
    {
      "cell_type": "code",
      "source": [
        "print(a[-1])"
      ],
      "metadata": {
        "colab": {
          "base_uri": "https://localhost:8080/"
        },
        "id": "DcYQliIuQWFe",
        "outputId": "28e37219-a2b8-4849-ef3c-fd9e0ebe349f"
      },
      "execution_count": 18,
      "outputs": [
        {
          "output_type": "stream",
          "name": "stdout",
          "text": [
            "7\n"
          ]
        }
      ]
    },
    {
      "cell_type": "code",
      "source": [
        "print(a[::-1])"
      ],
      "metadata": {
        "colab": {
          "base_uri": "https://localhost:8080/"
        },
        "id": "AkdmwEu8QY-R",
        "outputId": "57975165-b382-4a2e-8d45-6b212ac53c63"
      },
      "execution_count": 19,
      "outputs": [
        {
          "output_type": "stream",
          "name": "stdout",
          "text": [
            "[7, 6, -2, -1, 5, 0, 1]\n"
          ]
        }
      ]
    },
    {
      "cell_type": "code",
      "source": [
        "a.insert(0,10)\n",
        "print(a)"
      ],
      "metadata": {
        "colab": {
          "base_uri": "https://localhost:8080/"
        },
        "id": "I1spjMJGQbrP",
        "outputId": "b85775a9-f764-48c1-cbb2-cb5006a43c0d"
      },
      "execution_count": 20,
      "outputs": [
        {
          "output_type": "stream",
          "name": "stdout",
          "text": [
            "[10, 1, 0, 5, -1, -2, 6, 7]\n"
          ]
        }
      ]
    },
    {
      "cell_type": "markdown",
      "source": [
        "# **Copying List Elements :-**"
      ],
      "metadata": {
        "id": "t4VQoGz1QfaV"
      }
    },
    {
      "cell_type": "code",
      "source": [
        "a = [10, 1, 0, 5, -1, -2, 6, 7]\n",
        "b = a\n",
        "print('The original List is:',a)\n",
        "print('The copied List is:',b)"
      ],
      "metadata": {
        "colab": {
          "base_uri": "https://localhost:8080/"
        },
        "id": "FU_ooDaCQjl-",
        "outputId": "5b6034d4-e434-49ab-b146-46ade46db97b"
      },
      "execution_count": 21,
      "outputs": [
        {
          "output_type": "stream",
          "name": "stdout",
          "text": [
            "The original List is: [10, 1, 0, 5, -1, -2, 6, 7]\n",
            "The copied List is: [10, 1, 0, 5, -1, -2, 6, 7]\n"
          ]
        }
      ]
    },
    {
      "cell_type": "code",
      "source": [
        "a = [10, 1, 0, 5, -1, -2, 6, 7]\n",
        "b = a # shallow copy\n",
        "b.append(100)\n",
        "print('The original List is:',a)\n",
        "print('The copied List is:',b)"
      ],
      "metadata": {
        "colab": {
          "base_uri": "https://localhost:8080/"
        },
        "id": "CjGeec6fQo7P",
        "outputId": "8b6958c9-4725-42af-ff57-c790927cd61d"
      },
      "execution_count": 22,
      "outputs": [
        {
          "output_type": "stream",
          "name": "stdout",
          "text": [
            "The original List is: [10, 1, 0, 5, -1, -2, 6, 7, 100]\n",
            "The copied List is: [10, 1, 0, 5, -1, -2, 6, 7, 100]\n"
          ]
        }
      ]
    },
    {
      "cell_type": "code",
      "source": [
        "a = [10, 1, 0, 5, -1, -2, 6, 7]\n",
        "b = a.copy() # deep copy\n",
        "b.append(100)\n",
        "print('The original List is:',a)\n",
        "print('The copied List is:',b)"
      ],
      "metadata": {
        "colab": {
          "base_uri": "https://localhost:8080/"
        },
        "id": "4YkrCSrPQs2O",
        "outputId": "daed051e-402f-47bd-ed47-e731c428f875"
      },
      "execution_count": 23,
      "outputs": [
        {
          "output_type": "stream",
          "name": "stdout",
          "text": [
            "The original List is: [10, 1, 0, 5, -1, -2, 6, 7]\n",
            "The copied List is: [10, 1, 0, 5, -1, -2, 6, 7, 100]\n"
          ]
        }
      ]
    },
    {
      "cell_type": "code",
      "source": [
        "a = [10, 1, 0, 5, -1, -2, 6, 7]\n",
        "b = a[:] # deep copy\n",
        "b.append(100)\n",
        "print('The original List is:',a)\n",
        "print('The copied List is:',b)"
      ],
      "metadata": {
        "colab": {
          "base_uri": "https://localhost:8080/"
        },
        "id": "Qza-vsmFQvrG",
        "outputId": "af883bea-90d1-4549-a373-bb327c977c2b"
      },
      "execution_count": 24,
      "outputs": [
        {
          "output_type": "stream",
          "name": "stdout",
          "text": [
            "The original List is: [10, 1, 0, 5, -1, -2, 6, 7]\n",
            "The copied List is: [10, 1, 0, 5, -1, -2, 6, 7, 100]\n"
          ]
        }
      ]
    },
    {
      "cell_type": "markdown",
      "source": [
        "# **Write A Program To Copy One List Elements Into Other List Without Using Shallow Or Deep Copy ?**"
      ],
      "metadata": {
        "id": "DDZa5GckQzrn"
      }
    },
    {
      "cell_type": "code",
      "source": [
        "a = [10, 1, 0, 5, -1, -2, 6, 7]\n",
        "b = []\n",
        "for i in a:\n",
        "  b.append(i)\n",
        "print(b)"
      ],
      "metadata": {
        "colab": {
          "base_uri": "https://localhost:8080/"
        },
        "id": "pMc-9aoSRE-W",
        "outputId": "6fdff56e-fa11-41fd-fb10-c59daa389c7d"
      },
      "execution_count": 25,
      "outputs": [
        {
          "output_type": "stream",
          "name": "stdout",
          "text": [
            "[10, 1, 0, 5, -1, -2, 6, 7]\n"
          ]
        }
      ]
    },
    {
      "cell_type": "markdown",
      "source": [
        "# **Write A Program To Copy Square Of One List Elements Into Other List Without Using Shallow Or Deep Copy ?**"
      ],
      "metadata": {
        "id": "x90JjnWIRH8N"
      }
    },
    {
      "cell_type": "code",
      "source": [
        "a = [10, 1, 0, 5, -1, -2, 6, 7]\n",
        "b = []\n",
        "for i in a:\n",
        "  b.append(i**2)\n",
        "print(b)"
      ],
      "metadata": {
        "colab": {
          "base_uri": "https://localhost:8080/"
        },
        "id": "s3X_zOItRVw9",
        "outputId": "992f15b6-64e1-4df4-8aeb-b67c23dcbe10"
      },
      "execution_count": 26,
      "outputs": [
        {
          "output_type": "stream",
          "name": "stdout",
          "text": [
            "[100, 1, 0, 25, 1, 4, 36, 49]\n"
          ]
        }
      ]
    },
    {
      "cell_type": "markdown",
      "source": [
        "# **Write A Program To Copy Those Elements Of A List Which Are Divisible By 2 & 5 Only ?**"
      ],
      "metadata": {
        "id": "rdfH3FaARZRV"
      }
    },
    {
      "cell_type": "code",
      "source": [
        "a = [10, 1, 0, 5, -1, -2, 6, 7]\n",
        "b = []\n",
        "for i in a:\n",
        "  if i%2 == 0 and i%5 == 0:\n",
        "    b.append(i)\n",
        "print(b)"
      ],
      "metadata": {
        "colab": {
          "base_uri": "https://localhost:8080/"
        },
        "id": "I5qqqR06Rry8",
        "outputId": "44d1fd67-8bc2-4966-a0e2-01d32ea8e30d"
      },
      "execution_count": 27,
      "outputs": [
        {
          "output_type": "stream",
          "name": "stdout",
          "text": [
            "[10, 0]\n"
          ]
        }
      ]
    },
    {
      "cell_type": "markdown",
      "source": [
        "# **Write A Program To Copy One List Elements Into Another List. If The Element Is Greater Than 2, Then Copy It After Squaring It ?**"
      ],
      "metadata": {
        "id": "nG8TwiQzRx2c"
      }
    },
    {
      "cell_type": "code",
      "source": [
        "a = [10, 1, 0, 5, -1, -2, 6, 7]\n",
        "b = []\n",
        "for i in a:\n",
        "  if i > 2:\n",
        "    b.append(i**2)\n",
        "  else:\n",
        "    b.append(i)\n",
        "print(b)"
      ],
      "metadata": {
        "colab": {
          "base_uri": "https://localhost:8080/"
        },
        "id": "1exJ4PT5SDRF",
        "outputId": "a7ddf70d-64f2-4d18-c86b-646da69af893"
      },
      "execution_count": 28,
      "outputs": [
        {
          "output_type": "stream",
          "name": "stdout",
          "text": [
            "[100, 1, 0, 25, -1, -2, 36, 49]\n"
          ]
        }
      ]
    },
    {
      "cell_type": "markdown",
      "source": [
        "# **Write A Program To Find The Missing Values :-**"
      ],
      "metadata": {
        "id": "5S4cjTotSJ-F"
      }
    },
    {
      "cell_type": "code",
      "source": [
        "a = [1, 2, 3, 5, 6, 8, 9, 10]\n",
        "b = []\n",
        "for i in range(a[0], a[-1]):\n",
        "  if i not in a:\n",
        "    b.append(i)\n",
        "print(b)"
      ],
      "metadata": {
        "colab": {
          "base_uri": "https://localhost:8080/"
        },
        "id": "d9au6uHSSTAM",
        "outputId": "37d7fe57-7e5a-44d0-c32d-f2da9652b7b2"
      },
      "execution_count": 29,
      "outputs": [
        {
          "output_type": "stream",
          "name": "stdout",
          "text": [
            "[4, 7]\n"
          ]
        }
      ]
    },
    {
      "cell_type": "markdown",
      "source": [
        "# **List Comprehension :-**"
      ],
      "metadata": {
        "id": "2jAkep7BSX3L"
      }
    },
    {
      "cell_type": "code",
      "source": [
        "a = [10, 1, 0, 5, -1, -2, 6, 7]\n",
        "b = []\n",
        "for i in a:\n",
        "  b.append(i)\n",
        "print(b)"
      ],
      "metadata": {
        "colab": {
          "base_uri": "https://localhost:8080/"
        },
        "id": "TIjdds14SeNn",
        "outputId": "e10bb648-38c3-4b92-cb4a-1a01ccb37e2a"
      },
      "execution_count": 30,
      "outputs": [
        {
          "output_type": "stream",
          "name": "stdout",
          "text": [
            "[10, 1, 0, 5, -1, -2, 6, 7]\n"
          ]
        }
      ]
    },
    {
      "cell_type": "code",
      "source": [
        "a = [10, 1, 0, 5, -1, -2, 6, 7]\n",
        "b = [i for i in a]\n",
        "print(b)"
      ],
      "metadata": {
        "colab": {
          "base_uri": "https://localhost:8080/"
        },
        "id": "BvAAmxsjSjnL",
        "outputId": "b3763922-c991-4572-a35d-1820d858b3c8"
      },
      "execution_count": 31,
      "outputs": [
        {
          "output_type": "stream",
          "name": "stdout",
          "text": [
            "[10, 1, 0, 5, -1, -2, 6, 7]\n"
          ]
        }
      ]
    },
    {
      "cell_type": "code",
      "source": [
        "a = [10, 1, 0, 5, -1, -2, 6, 7]\n",
        "b = [i**2 for i in a]\n",
        "print(b)"
      ],
      "metadata": {
        "colab": {
          "base_uri": "https://localhost:8080/"
        },
        "id": "v-MupIwTSm8L",
        "outputId": "adacc258-4b32-4f87-a3bf-a7914d1f8f40"
      },
      "execution_count": 32,
      "outputs": [
        {
          "output_type": "stream",
          "name": "stdout",
          "text": [
            "[100, 1, 0, 25, 1, 4, 36, 49]\n"
          ]
        }
      ]
    },
    {
      "cell_type": "code",
      "source": [
        "a = [10, 1, 0, 5, -1, -2, 6, 7]\n",
        "b = [i for i in a if i%2 == 0 and i%5 == 0]\n",
        "print(b)"
      ],
      "metadata": {
        "colab": {
          "base_uri": "https://localhost:8080/"
        },
        "id": "UrVia0OcSpvF",
        "outputId": "049d58d3-4310-4129-855c-c81d6703db49"
      },
      "execution_count": 33,
      "outputs": [
        {
          "output_type": "stream",
          "name": "stdout",
          "text": [
            "[10, 0]\n"
          ]
        }
      ]
    },
    {
      "cell_type": "code",
      "source": [
        "a = [10, 1, 0, 5, -1, -2, 6, 7]\n",
        "b = [i**2 if i > 2 else i for i in a]\n",
        "print(b)"
      ],
      "metadata": {
        "colab": {
          "base_uri": "https://localhost:8080/"
        },
        "id": "KmGlU4ZqSssK",
        "outputId": "78b33a0e-1e98-430d-bbe8-98e5357123b1"
      },
      "execution_count": 34,
      "outputs": [
        {
          "output_type": "stream",
          "name": "stdout",
          "text": [
            "[100, 1, 0, 25, -1, -2, 36, 49]\n"
          ]
        }
      ]
    },
    {
      "cell_type": "markdown",
      "source": [
        "# **Remove List Elements :-**"
      ],
      "metadata": {
        "id": "s3kMcspvTKEy"
      }
    },
    {
      "cell_type": "code",
      "source": [
        "a = ['Tony', 'Steve', 'Thor', 'Hulk', 'Thanos', 'Gorr']\n",
        "print(a)"
      ],
      "metadata": {
        "colab": {
          "base_uri": "https://localhost:8080/"
        },
        "id": "tud5fNZxTOwR",
        "outputId": "701eba74-a26c-40bb-9427-20e2eed01a63"
      },
      "execution_count": 35,
      "outputs": [
        {
          "output_type": "stream",
          "name": "stdout",
          "text": [
            "['Tony', 'Steve', 'Thor', 'Hulk', 'Thanos', 'Gorr']\n"
          ]
        }
      ]
    },
    {
      "cell_type": "code",
      "source": [
        "a.pop()\n",
        "print(a)"
      ],
      "metadata": {
        "colab": {
          "base_uri": "https://localhost:8080/"
        },
        "id": "eDntwV7lTT4h",
        "outputId": "93b56193-17d9-4ca3-a23d-cb4dcc1d0813"
      },
      "execution_count": 36,
      "outputs": [
        {
          "output_type": "stream",
          "name": "stdout",
          "text": [
            "['Tony', 'Steve', 'Thor', 'Hulk', 'Thanos']\n"
          ]
        }
      ]
    },
    {
      "cell_type": "code",
      "source": [
        "a.pop(1)\n",
        "print(a)"
      ],
      "metadata": {
        "colab": {
          "base_uri": "https://localhost:8080/"
        },
        "id": "oZsDKpoXTYF7",
        "outputId": "f0ad0b97-0916-4bfb-c736-7e5de77d83f6"
      },
      "execution_count": 37,
      "outputs": [
        {
          "output_type": "stream",
          "name": "stdout",
          "text": [
            "['Tony', 'Thor', 'Hulk', 'Thanos']\n"
          ]
        }
      ]
    },
    {
      "cell_type": "code",
      "source": [
        "a.remove('Thanos')\n",
        "print(a)"
      ],
      "metadata": {
        "colab": {
          "base_uri": "https://localhost:8080/"
        },
        "id": "AbRgKrfgTatA",
        "outputId": "240a31cc-f822-4d56-db2a-e93eefcc49c3"
      },
      "execution_count": 38,
      "outputs": [
        {
          "output_type": "stream",
          "name": "stdout",
          "text": [
            "['Tony', 'Thor', 'Hulk']\n"
          ]
        }
      ]
    },
    {
      "cell_type": "code",
      "source": [
        "a.clear()\n",
        "print(a)"
      ],
      "metadata": {
        "colab": {
          "base_uri": "https://localhost:8080/"
        },
        "id": "NIgHVzS2TdZK",
        "outputId": "c5d1be0d-b532-4781-a0ed-1cc888d08f6e"
      },
      "execution_count": 39,
      "outputs": [
        {
          "output_type": "stream",
          "name": "stdout",
          "text": [
            "[]\n"
          ]
        }
      ]
    },
    {
      "cell_type": "code",
      "source": [
        "del a\n",
        "print(a)"
      ],
      "metadata": {
        "colab": {
          "base_uri": "https://localhost:8080/",
          "height": 183
        },
        "id": "p78diS50TgNB",
        "outputId": "76d1589f-a820-47dd-ea29-a2eaa7f5f7f7"
      },
      "execution_count": 40,
      "outputs": [
        {
          "output_type": "error",
          "ename": "NameError",
          "evalue": "ignored",
          "traceback": [
            "\u001b[0;31m---------------------------------------------------------------------------\u001b[0m",
            "\u001b[0;31mNameError\u001b[0m                                 Traceback (most recent call last)",
            "\u001b[0;32m<ipython-input-40-c342333e421e>\u001b[0m in \u001b[0;36m<module>\u001b[0;34m()\u001b[0m\n\u001b[1;32m      1\u001b[0m \u001b[0;32mdel\u001b[0m \u001b[0ma\u001b[0m\u001b[0;34m\u001b[0m\u001b[0;34m\u001b[0m\u001b[0m\n\u001b[0;32m----> 2\u001b[0;31m \u001b[0mprint\u001b[0m\u001b[0;34m(\u001b[0m\u001b[0ma\u001b[0m\u001b[0;34m)\u001b[0m\u001b[0;34m\u001b[0m\u001b[0;34m\u001b[0m\u001b[0m\n\u001b[0m",
            "\u001b[0;31mNameError\u001b[0m: name 'a' is not defined"
          ]
        }
      ]
    },
    {
      "cell_type": "code",
      "source": [
        "a = [1, 2, 3, ['Tony', 'Steve', 'Thor'], 4, 5, 6, 'Python']\n",
        "print(a)"
      ],
      "metadata": {
        "colab": {
          "base_uri": "https://localhost:8080/"
        },
        "id": "oEjQ5P4nTjfM",
        "outputId": "211b604f-b8cf-4610-d1a6-20c593d96427"
      },
      "execution_count": 41,
      "outputs": [
        {
          "output_type": "stream",
          "name": "stdout",
          "text": [
            "[1, 2, 3, ['Tony', 'Steve', 'Thor'], 4, 5, 6, 'Python']\n"
          ]
        }
      ]
    },
    {
      "cell_type": "code",
      "source": [
        "print(a[3][1])"
      ],
      "metadata": {
        "colab": {
          "base_uri": "https://localhost:8080/"
        },
        "id": "KU1PfNLuTmYA",
        "outputId": "4d426801-0a76-43d8-8eb3-9b1dd638df2c"
      },
      "execution_count": 42,
      "outputs": [
        {
          "output_type": "stream",
          "name": "stdout",
          "text": [
            "Steve\n"
          ]
        }
      ]
    },
    {
      "cell_type": "code",
      "source": [
        "5/2\n"
      ],
      "metadata": {
        "colab": {
          "base_uri": "https://localhost:8080/"
        },
        "id": "jkhLsMnJTpiR",
        "outputId": "24dbeb4e-0b33-4a17-b209-3c9cf70458b8"
      },
      "execution_count": 43,
      "outputs": [
        {
          "output_type": "execute_result",
          "data": {
            "text/plain": [
              "2.5"
            ]
          },
          "metadata": {},
          "execution_count": 43
        }
      ]
    },
    {
      "cell_type": "code",
      "source": [
        "5//2\n"
      ],
      "metadata": {
        "colab": {
          "base_uri": "https://localhost:8080/"
        },
        "id": "6aI5eFA6Tr8J",
        "outputId": "2969c4ae-5a8d-43df-acb4-f2ed59159527"
      },
      "execution_count": 44,
      "outputs": [
        {
          "output_type": "execute_result",
          "data": {
            "text/plain": [
              "2"
            ]
          },
          "metadata": {},
          "execution_count": 44
        }
      ]
    },
    {
      "cell_type": "markdown",
      "source": [
        "# **Write A Program To Add Digits Of Any Number :-**"
      ],
      "metadata": {
        "id": "VPfyEaWuTvjo"
      }
    },
    {
      "cell_type": "code",
      "source": [
        "a = int(input('Enter A Number:- '))\n",
        "sod = 0\n",
        "while a > 0:\n",
        "  temp = a % 10\n",
        "  sod = sod + temp\n",
        "  a = a // 10\n",
        "print(sod)"
      ],
      "metadata": {
        "colab": {
          "base_uri": "https://localhost:8080/"
        },
        "id": "_X73vKeHT8UO",
        "outputId": "3e00fc5f-74e6-429a-d3e4-b933c56e5080"
      },
      "execution_count": 45,
      "outputs": [
        {
          "output_type": "stream",
          "name": "stdout",
          "text": [
            "Enter A Number:- 20\n",
            "2\n"
          ]
        }
      ]
    },
    {
      "cell_type": "code",
      "source": [
        ""
      ],
      "metadata": {
        "id": "idnnrIbbUK4D"
      },
      "execution_count": null,
      "outputs": []
    }
  ]
}