{
  "nbformat": 4,
  "nbformat_minor": 0,
  "metadata": {
    "colab": {
      "name": "Day 07_PT.ipynb",
      "provenance": [],
      "authorship_tag": "ABX9TyPgl0cAcickJaHWWh+Ilnjc",
      "include_colab_link": true
    },
    "kernelspec": {
      "name": "python3",
      "display_name": "Python 3"
    },
    "language_info": {
      "name": "python"
    }
  },
  "cells": [
    {
      "cell_type": "markdown",
      "metadata": {
        "id": "view-in-github",
        "colab_type": "text"
      },
      "source": [
        "<a href=\"https://colab.research.google.com/github/Aditya2086/Python-Training/blob/main/Day_07_PT.ipynb\" target=\"_parent\"><img src=\"https://colab.research.google.com/assets/colab-badge.svg\" alt=\"Open In Colab\"/></a>"
      ]
    },
    {
      "cell_type": "markdown",
      "source": [
        "# **Functions Are Block Of Codes Which Are Executed When They Are Called By Their Names. :-**\n",
        "\n",
        "# **Functions Are Used When A Set Of Instructions Are Used Again And Again Repeatedly - Code Reuseability. :-**"
      ],
      "metadata": {
        "id": "bEFnU441FfJR"
      }
    },
    {
      "cell_type": "code",
      "source": [
        "def sq(n): # n --> parameter\n",
        "  return n**2\n",
        "\n",
        "print(sq(4)) # n = 4 --> argument"
      ],
      "metadata": {
        "colab": {
          "base_uri": "https://localhost:8080/"
        },
        "id": "_Tni3LKFGLxZ",
        "outputId": "59e65722-759b-44f9-c7c4-3b099fde902e"
      },
      "execution_count": 1,
      "outputs": [
        {
          "output_type": "stream",
          "name": "stdout",
          "text": [
            "16\n"
          ]
        }
      ]
    },
    {
      "cell_type": "code",
      "source": [
        "n = 4\n",
        "print(n**2)"
      ],
      "metadata": {
        "colab": {
          "base_uri": "https://localhost:8080/"
        },
        "id": "Dfy3LPBEGXWC",
        "outputId": "1b8d3133-d2aa-4641-993e-7b296bd85030"
      },
      "execution_count": 2,
      "outputs": [
        {
          "output_type": "stream",
          "name": "stdout",
          "text": [
            "16\n"
          ]
        }
      ]
    },
    {
      "cell_type": "markdown",
      "source": [
        "# **Number Of Parameters Must Be Equal To The Number Of Arguments.:-**"
      ],
      "metadata": {
        "id": "Pzk15JJXGb8T"
      }
    },
    {
      "cell_type": "code",
      "source": [
        "def sq(n, m): # n --> parameter\n",
        "  return n**2\n",
        "\n",
        "print(sq(4)) # n = 4 --> argument"
      ],
      "metadata": {
        "colab": {
          "base_uri": "https://localhost:8080/",
          "height": 200
        },
        "id": "NKg_v9bPGpo9",
        "outputId": "896fedb4-186c-45be-a397-a1136634a2e5"
      },
      "execution_count": 3,
      "outputs": [
        {
          "output_type": "error",
          "ename": "TypeError",
          "evalue": "ignored",
          "traceback": [
            "\u001b[0;31m---------------------------------------------------------------------------\u001b[0m",
            "\u001b[0;31mTypeError\u001b[0m                                 Traceback (most recent call last)",
            "\u001b[0;32m<ipython-input-3-0e726b6abde0>\u001b[0m in \u001b[0;36m<module>\u001b[0;34m()\u001b[0m\n\u001b[1;32m      2\u001b[0m   \u001b[0;32mreturn\u001b[0m \u001b[0mn\u001b[0m\u001b[0;34m**\u001b[0m\u001b[0;36m2\u001b[0m\u001b[0;34m\u001b[0m\u001b[0;34m\u001b[0m\u001b[0m\n\u001b[1;32m      3\u001b[0m \u001b[0;34m\u001b[0m\u001b[0m\n\u001b[0;32m----> 4\u001b[0;31m \u001b[0mprint\u001b[0m\u001b[0;34m(\u001b[0m\u001b[0msq\u001b[0m\u001b[0;34m(\u001b[0m\u001b[0;36m4\u001b[0m\u001b[0;34m)\u001b[0m\u001b[0;34m)\u001b[0m \u001b[0;31m# n = 4 --> argument\u001b[0m\u001b[0;34m\u001b[0m\u001b[0;34m\u001b[0m\u001b[0m\n\u001b[0m",
            "\u001b[0;31mTypeError\u001b[0m: sq() missing 1 required positional argument: 'm'"
          ]
        }
      ]
    },
    {
      "cell_type": "code",
      "source": [
        "def sq(n, m): # n --> parameter\n",
        "  return n**2\n",
        "\n",
        "print(sq(4, 5)) # n = 4 --> argument"
      ],
      "metadata": {
        "colab": {
          "base_uri": "https://localhost:8080/"
        },
        "id": "oDqvpr4qGuYN",
        "outputId": "25c14a2e-7bae-4f33-999e-0456eb68ff7a"
      },
      "execution_count": 4,
      "outputs": [
        {
          "output_type": "stream",
          "name": "stdout",
          "text": [
            "16\n"
          ]
        }
      ]
    },
    {
      "cell_type": "code",
      "source": [
        "def sq(n, m = 0): # n --> parameter\n",
        "  return n**2\n",
        "\n",
        "print(sq(4)) # n = 4 --> argument"
      ],
      "metadata": {
        "colab": {
          "base_uri": "https://localhost:8080/"
        },
        "id": "kgJbtIkGGxId",
        "outputId": "c9456a4c-399a-4393-9443-0da9e534168c"
      },
      "execution_count": 5,
      "outputs": [
        {
          "output_type": "stream",
          "name": "stdout",
          "text": [
            "16\n"
          ]
        }
      ]
    },
    {
      "cell_type": "code",
      "source": [
        "def sq(n, m = 0): # n --> parameter\n",
        "  return (n**2 + m)\n",
        "\n",
        "print(sq(4)) # n = 4 --> argument"
      ],
      "metadata": {
        "colab": {
          "base_uri": "https://localhost:8080/"
        },
        "id": "dglnEM12Gzvk",
        "outputId": "29da8431-14a9-435a-c3f7-33dcc621095e"
      },
      "execution_count": 6,
      "outputs": [
        {
          "output_type": "stream",
          "name": "stdout",
          "text": [
            "16\n"
          ]
        }
      ]
    },
    {
      "cell_type": "code",
      "source": [
        "def sq(n, m = 0): # n, m --> parameter\n",
        "  return (n**2 + m)\n",
        "\n",
        "print(sq(4, 4)) # n, m = 4 --> argument"
      ],
      "metadata": {
        "colab": {
          "base_uri": "https://localhost:8080/"
        },
        "id": "h6jtINrXG2SF",
        "outputId": "30284c27-b5c4-4a88-bf7a-3ccea10621ee"
      },
      "execution_count": 7,
      "outputs": [
        {
          "output_type": "stream",
          "name": "stdout",
          "text": [
            "20\n"
          ]
        }
      ]
    },
    {
      "cell_type": "code",
      "source": [
        "def sq(m = 0, n): # n, m --> parameter\n",
        "  return (n**2 + m)\n",
        "\n",
        "print(sq(4, 4)) # n, m = 4 --> argument"
      ],
      "metadata": {
        "colab": {
          "base_uri": "https://localhost:8080/",
          "height": 130
        },
        "id": "6dlN9v8jG4rE",
        "outputId": "250cf580-94a1-47bb-80aa-2a18f06ac596"
      },
      "execution_count": 8,
      "outputs": [
        {
          "output_type": "error",
          "ename": "SyntaxError",
          "evalue": "ignored",
          "traceback": [
            "\u001b[0;36m  File \u001b[0;32m\"<ipython-input-8-7ef1296ab399>\"\u001b[0;36m, line \u001b[0;32m1\u001b[0m\n\u001b[0;31m    def sq(m = 0, n): # n, m --> parameter\u001b[0m\n\u001b[0m          ^\u001b[0m\n\u001b[0;31mSyntaxError\u001b[0m\u001b[0;31m:\u001b[0m non-default argument follows default argument\n"
          ]
        }
      ]
    },
    {
      "cell_type": "code",
      "source": [
        "def sq(n, m = 0): # n, m --> parameter\n",
        "  return (n**2 + m)\n",
        "\n",
        "f = sq\n",
        "print(sq)\n",
        "print(f(8, 2))"
      ],
      "metadata": {
        "colab": {
          "base_uri": "https://localhost:8080/"
        },
        "id": "sM0hQ02PG72c",
        "outputId": "12a768a4-2bdc-4239-d075-0b366b9d691a"
      },
      "execution_count": 9,
      "outputs": [
        {
          "output_type": "stream",
          "name": "stdout",
          "text": [
            "<function sq at 0x7f39540ab050>\n",
            "66\n"
          ]
        }
      ]
    },
    {
      "cell_type": "markdown",
      "source": [
        "# **First Class Functions :-**"
      ],
      "metadata": {
        "id": "119RI8y1G99c"
      }
    },
    {
      "cell_type": "code",
      "source": [
        "def log_in(msg):\n",
        "  def login_msg():\n",
        "    print('Login', msg)\n",
        "  return login_msg\n",
        "user_login = log_in('Welcome')\n",
        "user_login()"
      ],
      "metadata": {
        "colab": {
          "base_uri": "https://localhost:8080/"
        },
        "id": "ojM8J2pEHAgl",
        "outputId": "3b0274f2-660b-4587-dca5-7d398a53da8e"
      },
      "execution_count": 10,
      "outputs": [
        {
          "output_type": "stream",
          "name": "stdout",
          "text": [
            "Login Welcome\n"
          ]
        }
      ]
    },
    {
      "cell_type": "markdown",
      "source": [
        "# **Scopes In Functions :-**"
      ],
      "metadata": {
        "id": "4wYyIbTeHFW0"
      }
    },
    {
      "cell_type": "code",
      "source": [
        "def sq(n):\n",
        "  m = n**2\n",
        "  return m\n",
        "print(sq(4))"
      ],
      "metadata": {
        "colab": {
          "base_uri": "https://localhost:8080/"
        },
        "id": "xoa-8lYbHOtI",
        "outputId": "bb8540b0-574f-49a2-e559-a129940176c3"
      },
      "execution_count": 11,
      "outputs": [
        {
          "output_type": "stream",
          "name": "stdout",
          "text": [
            "16\n"
          ]
        }
      ]
    },
    {
      "cell_type": "code",
      "source": [
        "def sq(n):\n",
        "  m = n**2\n",
        "  return m\n",
        "print(sq(m))"
      ],
      "metadata": {
        "colab": {
          "base_uri": "https://localhost:8080/",
          "height": 200
        },
        "id": "SnBZLdsMIFb6",
        "outputId": "053bf766-87af-4eaa-b917-a74c641b4479"
      },
      "execution_count": 12,
      "outputs": [
        {
          "output_type": "error",
          "ename": "NameError",
          "evalue": "ignored",
          "traceback": [
            "\u001b[0;31m---------------------------------------------------------------------------\u001b[0m",
            "\u001b[0;31mNameError\u001b[0m                                 Traceback (most recent call last)",
            "\u001b[0;32m<ipython-input-12-56fd631c9325>\u001b[0m in \u001b[0;36m<module>\u001b[0;34m()\u001b[0m\n\u001b[1;32m      2\u001b[0m   \u001b[0mm\u001b[0m \u001b[0;34m=\u001b[0m \u001b[0mn\u001b[0m\u001b[0;34m**\u001b[0m\u001b[0;36m2\u001b[0m\u001b[0;34m\u001b[0m\u001b[0;34m\u001b[0m\u001b[0m\n\u001b[1;32m      3\u001b[0m   \u001b[0;32mreturn\u001b[0m \u001b[0mm\u001b[0m\u001b[0;34m\u001b[0m\u001b[0;34m\u001b[0m\u001b[0m\n\u001b[0;32m----> 4\u001b[0;31m \u001b[0mprint\u001b[0m\u001b[0;34m(\u001b[0m\u001b[0msq\u001b[0m\u001b[0;34m(\u001b[0m\u001b[0mm\u001b[0m\u001b[0;34m)\u001b[0m\u001b[0;34m)\u001b[0m\u001b[0;34m\u001b[0m\u001b[0;34m\u001b[0m\u001b[0m\n\u001b[0m",
            "\u001b[0;31mNameError\u001b[0m: name 'm' is not defined"
          ]
        }
      ]
    },
    {
      "cell_type": "code",
      "source": [
        "def sq(n):\n",
        "  global m\n",
        "  m = n**2\n",
        "  return m\n",
        "print(sq(m))"
      ],
      "metadata": {
        "colab": {
          "base_uri": "https://localhost:8080/",
          "height": 200
        },
        "id": "sjPo5xq4II6q",
        "outputId": "af76895a-2c32-4a33-db82-12e73f35e6c5"
      },
      "execution_count": 13,
      "outputs": [
        {
          "output_type": "error",
          "ename": "NameError",
          "evalue": "ignored",
          "traceback": [
            "\u001b[0;31m---------------------------------------------------------------------------\u001b[0m",
            "\u001b[0;31mNameError\u001b[0m                                 Traceback (most recent call last)",
            "\u001b[0;32m<ipython-input-13-0e414f8b4472>\u001b[0m in \u001b[0;36m<module>\u001b[0;34m()\u001b[0m\n\u001b[1;32m      3\u001b[0m   \u001b[0mm\u001b[0m \u001b[0;34m=\u001b[0m \u001b[0mn\u001b[0m\u001b[0;34m**\u001b[0m\u001b[0;36m2\u001b[0m\u001b[0;34m\u001b[0m\u001b[0;34m\u001b[0m\u001b[0m\n\u001b[1;32m      4\u001b[0m   \u001b[0;32mreturn\u001b[0m \u001b[0mm\u001b[0m\u001b[0;34m\u001b[0m\u001b[0;34m\u001b[0m\u001b[0m\n\u001b[0;32m----> 5\u001b[0;31m \u001b[0mprint\u001b[0m\u001b[0;34m(\u001b[0m\u001b[0msq\u001b[0m\u001b[0;34m(\u001b[0m\u001b[0mm\u001b[0m\u001b[0;34m)\u001b[0m\u001b[0;34m)\u001b[0m\u001b[0;34m\u001b[0m\u001b[0;34m\u001b[0m\u001b[0m\n\u001b[0m",
            "\u001b[0;31mNameError\u001b[0m: name 'm' is not defined"
          ]
        }
      ]
    },
    {
      "cell_type": "code",
      "source": [
        "m = 1\n",
        "def sq(n):\n",
        "  m = n**2\n",
        "  return m\n",
        "print(sq(m))"
      ],
      "metadata": {
        "colab": {
          "base_uri": "https://localhost:8080/"
        },
        "id": "GxcgeCXSILlq",
        "outputId": "f5a46855-e2b9-49a6-d47d-00b41a841651"
      },
      "execution_count": 14,
      "outputs": [
        {
          "output_type": "stream",
          "name": "stdout",
          "text": [
            "1\n"
          ]
        }
      ]
    },
    {
      "cell_type": "code",
      "source": [
        "m = 10\n",
        "def global_check():\n",
        "  m = 20\n",
        "  print('Variable inside function:',m)\n",
        "\n",
        "global_check()\n",
        "print('Variable outside function:',m)"
      ],
      "metadata": {
        "colab": {
          "base_uri": "https://localhost:8080/"
        },
        "id": "-FBKoUn5IO85",
        "outputId": "99ac0532-cee2-49e1-fb40-0d1a6d1c1a2f"
      },
      "execution_count": 15,
      "outputs": [
        {
          "output_type": "stream",
          "name": "stdout",
          "text": [
            "Variable inside function: 20\n",
            "Variable outside function: 10\n"
          ]
        }
      ]
    },
    {
      "cell_type": "code",
      "source": [
        "m = 10\n",
        "def global_check():\n",
        "  # m = 20\n",
        "  print('Variable inside function:',m)\n",
        "\n",
        "global_check()\n",
        "print('Variable outside function:',m)"
      ],
      "metadata": {
        "colab": {
          "base_uri": "https://localhost:8080/"
        },
        "id": "rsZzTYcpISGp",
        "outputId": "fac2a36f-83ef-4ebf-8e71-a53c0c386841"
      },
      "execution_count": 16,
      "outputs": [
        {
          "output_type": "stream",
          "name": "stdout",
          "text": [
            "Variable inside function: 10\n",
            "Variable outside function: 10\n"
          ]
        }
      ]
    },
    {
      "cell_type": "code",
      "source": [
        "m = 10\n",
        "def global_check():\n",
        "  global m\n",
        "  m = 20\n",
        "  print('Variable inside function:',m)\n",
        "\n",
        "global_check()\n",
        "print('Variable outside function:',m)"
      ],
      "metadata": {
        "colab": {
          "base_uri": "https://localhost:8080/"
        },
        "id": "20qP5SWRIVtT",
        "outputId": "463ab94f-258f-4eb1-fcf1-043a4b22af0c"
      },
      "execution_count": 17,
      "outputs": [
        {
          "output_type": "stream",
          "name": "stdout",
          "text": [
            "Variable inside function: 20\n",
            "Variable outside function: 20\n"
          ]
        }
      ]
    },
    {
      "cell_type": "code",
      "source": [
        "m = 10\n",
        "def global_check():\n",
        "  m = 20\n",
        "  a = globals()['m']\n",
        "  print('Variable inside function:',m)\n",
        "\n",
        "global_check()\n",
        "print('Variable outside function:',m)"
      ],
      "metadata": {
        "colab": {
          "base_uri": "https://localhost:8080/"
        },
        "id": "pKnmcpuHIaaS",
        "outputId": "35760174-b2f0-4382-cd99-c97c5948d0db"
      },
      "execution_count": 18,
      "outputs": [
        {
          "output_type": "stream",
          "name": "stdout",
          "text": [
            "Variable inside function: 20\n",
            "Variable outside function: 10\n"
          ]
        }
      ]
    },
    {
      "cell_type": "code",
      "source": [
        "m = 10\n",
        "def global_check():\n",
        "  m = 20\n",
        "  a = globals()['m']\n",
        "  print('Variable inside function:',m)\n",
        "\n",
        "  globals()['m'] = 50\n",
        "\n",
        "global_check()\n",
        "print('Variable outside function:',m)"
      ],
      "metadata": {
        "colab": {
          "base_uri": "https://localhost:8080/"
        },
        "id": "R-WVnnaqIeta",
        "outputId": "affce915-3c25-4adf-e091-dc5d97eba807"
      },
      "execution_count": 19,
      "outputs": [
        {
          "output_type": "stream",
          "name": "stdout",
          "text": [
            "Variable inside function: 20\n",
            "Variable outside function: 50\n"
          ]
        }
      ]
    },
    {
      "cell_type": "markdown",
      "source": [
        "# **LEGB -> Local, Enclosed, Global, Built-In.**"
      ],
      "metadata": {
        "id": "IJEZsW6bIhXr"
      }
    },
    {
      "cell_type": "code",
      "source": [
        "def outer():\n",
        "  x = 'Outer of x'\n",
        "  def inner():\n",
        "    x = 'inner of x'\n",
        "    print(x)\n",
        "  inner()\n",
        "  print(x)\n",
        "\n",
        "outer()"
      ],
      "metadata": {
        "colab": {
          "base_uri": "https://localhost:8080/"
        },
        "id": "e8Rbs-P3Ixdp",
        "outputId": "1538887e-fd8b-4665-cece-cc8988ada3fb"
      },
      "execution_count": 20,
      "outputs": [
        {
          "output_type": "stream",
          "name": "stdout",
          "text": [
            "inner of x\n",
            "Outer of x\n"
          ]
        }
      ]
    },
    {
      "cell_type": "code",
      "source": [
        "def outer():\n",
        "  x = 'Outer of x'\n",
        "  def inner():\n",
        "    # x = 'inner of x'\n",
        "    print(x)\n",
        "  inner()\n",
        "  print(x)\n",
        "\n",
        "outer()"
      ],
      "metadata": {
        "colab": {
          "base_uri": "https://localhost:8080/"
        },
        "id": "Ca8qF6oaI2nR",
        "outputId": "e0224053-26bb-4b31-d7bb-21ef779ab27f"
      },
      "execution_count": 21,
      "outputs": [
        {
          "output_type": "stream",
          "name": "stdout",
          "text": [
            "Outer of x\n",
            "Outer of x\n"
          ]
        }
      ]
    },
    {
      "cell_type": "code",
      "source": [
        "def outer():\n",
        "  # x = 'Outer of x'\n",
        "  def inner():\n",
        "    x = 'inner of x'\n",
        "    print(x)\n",
        "  inner()\n",
        "  print(x)\n",
        "\n",
        "outer()"
      ],
      "metadata": {
        "colab": {
          "base_uri": "https://localhost:8080/",
          "height": 339
        },
        "id": "7mSBwlixI6Js",
        "outputId": "65cce137-f9c7-469b-c925-41f8defbd4d4"
      },
      "execution_count": 22,
      "outputs": [
        {
          "output_type": "stream",
          "name": "stdout",
          "text": [
            "inner of x\n"
          ]
        },
        {
          "output_type": "error",
          "ename": "NameError",
          "evalue": "ignored",
          "traceback": [
            "\u001b[0;31m---------------------------------------------------------------------------\u001b[0m",
            "\u001b[0;31mNameError\u001b[0m                                 Traceback (most recent call last)",
            "\u001b[0;32m<ipython-input-22-d95b2e45b33a>\u001b[0m in \u001b[0;36m<module>\u001b[0;34m()\u001b[0m\n\u001b[1;32m      7\u001b[0m   \u001b[0mprint\u001b[0m\u001b[0;34m(\u001b[0m\u001b[0mx\u001b[0m\u001b[0;34m)\u001b[0m\u001b[0;34m\u001b[0m\u001b[0;34m\u001b[0m\u001b[0m\n\u001b[1;32m      8\u001b[0m \u001b[0;34m\u001b[0m\u001b[0m\n\u001b[0;32m----> 9\u001b[0;31m \u001b[0mouter\u001b[0m\u001b[0;34m(\u001b[0m\u001b[0;34m)\u001b[0m\u001b[0;34m\u001b[0m\u001b[0;34m\u001b[0m\u001b[0m\n\u001b[0m",
            "\u001b[0;32m<ipython-input-22-d95b2e45b33a>\u001b[0m in \u001b[0;36mouter\u001b[0;34m()\u001b[0m\n\u001b[1;32m      5\u001b[0m     \u001b[0mprint\u001b[0m\u001b[0;34m(\u001b[0m\u001b[0mx\u001b[0m\u001b[0;34m)\u001b[0m\u001b[0;34m\u001b[0m\u001b[0;34m\u001b[0m\u001b[0m\n\u001b[1;32m      6\u001b[0m   \u001b[0minner\u001b[0m\u001b[0;34m(\u001b[0m\u001b[0;34m)\u001b[0m\u001b[0;34m\u001b[0m\u001b[0;34m\u001b[0m\u001b[0m\n\u001b[0;32m----> 7\u001b[0;31m   \u001b[0mprint\u001b[0m\u001b[0;34m(\u001b[0m\u001b[0mx\u001b[0m\u001b[0;34m)\u001b[0m\u001b[0;34m\u001b[0m\u001b[0;34m\u001b[0m\u001b[0m\n\u001b[0m\u001b[1;32m      8\u001b[0m \u001b[0;34m\u001b[0m\u001b[0m\n\u001b[1;32m      9\u001b[0m \u001b[0mouter\u001b[0m\u001b[0;34m(\u001b[0m\u001b[0;34m)\u001b[0m\u001b[0;34m\u001b[0m\u001b[0;34m\u001b[0m\u001b[0m\n",
            "\u001b[0;31mNameError\u001b[0m: name 'x' is not defined"
          ]
        }
      ]
    },
    {
      "cell_type": "code",
      "source": [
        "def outer():\n",
        "  x = 'Outer of x'\n",
        "  def inner():\n",
        "    nonlocal x\n",
        "    x = 'inner of x'\n",
        "    print(x)\n",
        "  inner()\n",
        "  print(x)\n",
        "\n",
        "outer()"
      ],
      "metadata": {
        "colab": {
          "base_uri": "https://localhost:8080/"
        },
        "id": "aSzNotGwI-8R",
        "outputId": "02790868-0e0d-47c0-a9d0-9b1a6f16308c"
      },
      "execution_count": 23,
      "outputs": [
        {
          "output_type": "stream",
          "name": "stdout",
          "text": [
            "inner of x\n",
            "inner of x\n"
          ]
        }
      ]
    },
    {
      "cell_type": "code",
      "source": [
        "def add_fun():\n",
        "  v1 = 1\n",
        "  v2 = 2\n",
        "  return v1 + v2\n",
        "print(add_fun())"
      ],
      "metadata": {
        "colab": {
          "base_uri": "https://localhost:8080/"
        },
        "id": "tqBpJiJCJCJH",
        "outputId": "a3dee45c-6a6f-47d1-d692-4c285ca2f5bd"
      },
      "execution_count": 24,
      "outputs": [
        {
          "output_type": "stream",
          "name": "stdout",
          "text": [
            "3\n"
          ]
        }
      ]
    },
    {
      "cell_type": "code",
      "source": [
        "v2 = 2\n",
        "def add_fun():\n",
        "  v1 = 1\n",
        "  return v1 + v2\n",
        "print(add_fun())"
      ],
      "metadata": {
        "colab": {
          "base_uri": "https://localhost:8080/"
        },
        "id": "h1HG0k-uJOUQ",
        "outputId": "9bd4b6f4-ba25-4605-f6d0-d71b21aec7bb"
      },
      "execution_count": 25,
      "outputs": [
        {
          "output_type": "stream",
          "name": "stdout",
          "text": [
            "3\n"
          ]
        }
      ]
    },
    {
      "cell_type": "code",
      "source": [
        "def add_fun(v1):\n",
        "  def add_to_fun(v2):\n",
        "    return v1 + v2\n",
        "  return add_to_fun\n",
        "\n",
        "add_to_fun = add_fun(5)\n",
        "print(add_to_fun(6))"
      ],
      "metadata": {
        "colab": {
          "base_uri": "https://localhost:8080/"
        },
        "id": "yG7ZvgKhJSJn",
        "outputId": "2a8e4961-5c0f-46ff-bd9d-64eb18ea0a39"
      },
      "execution_count": 26,
      "outputs": [
        {
          "output_type": "stream",
          "name": "stdout",
          "text": [
            "11\n"
          ]
        }
      ]
    },
    {
      "cell_type": "markdown",
      "source": [
        "# **Inner Function Variable Can Access The Outer Function Variable. This Concept Is Called Closure Function :-**"
      ],
      "metadata": {
        "id": "i_8SKIfIJXr3"
      }
    },
    {
      "cell_type": "code",
      "source": [
        "def outer_fun():\n",
        "  msg = 'Python is Fun'\n",
        "  def inner_fun():\n",
        "    print(msg)\n",
        "  return inner_fun()\n",
        "\n",
        "outer_fun()"
      ],
      "metadata": {
        "colab": {
          "base_uri": "https://localhost:8080/"
        },
        "id": "OAG2VBJdJpeH",
        "outputId": "d33cf780-8d08-4038-aed4-302d313a3b7a"
      },
      "execution_count": 27,
      "outputs": [
        {
          "output_type": "stream",
          "name": "stdout",
          "text": [
            "Python is Fun\n"
          ]
        }
      ]
    },
    {
      "cell_type": "code",
      "source": [
        "def outer_fun():\n",
        "  msg = 'Python is Fun'\n",
        "  def inner_fun():\n",
        "    print(msg)\n",
        "  return inner_fun\n",
        "\n",
        "new_fun = outer_fun()\n",
        "new_fun()"
      ],
      "metadata": {
        "colab": {
          "base_uri": "https://localhost:8080/"
        },
        "id": "cF89wA3uJvAJ",
        "outputId": "5750fd67-06f9-4363-b141-c5f84664c6bc"
      },
      "execution_count": 28,
      "outputs": [
        {
          "output_type": "stream",
          "name": "stdout",
          "text": [
            "Python is Fun\n"
          ]
        }
      ]
    },
    {
      "cell_type": "code",
      "source": [
        "def outer_fun():\n",
        "  msg = 'Python is Fun'\n",
        "  def inner_fun():\n",
        "    print(msg)\n",
        "  return inner_fun\n",
        "\n",
        "new_fun = outer_fun()\n",
        "print(new_fun.__name__)"
      ],
      "metadata": {
        "colab": {
          "base_uri": "https://localhost:8080/"
        },
        "id": "z-vJevqGJ0dP",
        "outputId": "de82efa8-6680-4e7e-9db8-0140bb39da02"
      },
      "execution_count": 29,
      "outputs": [
        {
          "output_type": "stream",
          "name": "stdout",
          "text": [
            "inner_fun\n"
          ]
        }
      ]
    },
    {
      "cell_type": "code",
      "source": [
        "def outer_fun():\n",
        "  msg = 'Python is Fun'\n",
        "  def inner_fun():\n",
        "    print(msg)\n",
        "  return inner_fun\n",
        "\n",
        "new_fun = outer_fun()\n",
        "new_fun()\n",
        "new_fun()\n",
        "new_fun()"
      ],
      "metadata": {
        "colab": {
          "base_uri": "https://localhost:8080/"
        },
        "id": "1qJ5K8fIJ8pU",
        "outputId": "150fd6b2-ad91-4a6e-c6ef-e2220caf4202"
      },
      "execution_count": 30,
      "outputs": [
        {
          "output_type": "stream",
          "name": "stdout",
          "text": [
            "Python is Fun\n",
            "Python is Fun\n",
            "Python is Fun\n"
          ]
        }
      ]
    },
    {
      "cell_type": "code",
      "source": [
        "def div_op(a,b):\n",
        "  return a/b\n",
        "div_op(5, 2)"
      ],
      "metadata": {
        "colab": {
          "base_uri": "https://localhost:8080/"
        },
        "id": "EzPiAMJRKVUY",
        "outputId": "a993c5c8-b16e-490e-e900-2154cdaa4bf2"
      },
      "execution_count": 31,
      "outputs": [
        {
          "output_type": "execute_result",
          "data": {
            "text/plain": [
              "2.5"
            ]
          },
          "metadata": {},
          "execution_count": 31
        }
      ]
    },
    {
      "cell_type": "code",
      "source": [
        "def div_op(a,b):\n",
        "  return a/b\n",
        "div_op(5, 0)"
      ],
      "metadata": {
        "colab": {
          "base_uri": "https://localhost:8080/",
          "height": 287
        },
        "id": "hAjMCfwTKaKP",
        "outputId": "3a7175df-dbce-40f2-c5a6-f768b1c5b734"
      },
      "execution_count": 32,
      "outputs": [
        {
          "output_type": "error",
          "ename": "ZeroDivisionError",
          "evalue": "ignored",
          "traceback": [
            "\u001b[0;31m---------------------------------------------------------------------------\u001b[0m",
            "\u001b[0;31mZeroDivisionError\u001b[0m                         Traceback (most recent call last)",
            "\u001b[0;32m<ipython-input-32-8ae9dc6d8919>\u001b[0m in \u001b[0;36m<module>\u001b[0;34m()\u001b[0m\n\u001b[1;32m      1\u001b[0m \u001b[0;32mdef\u001b[0m \u001b[0mdiv_op\u001b[0m\u001b[0;34m(\u001b[0m\u001b[0ma\u001b[0m\u001b[0;34m,\u001b[0m\u001b[0mb\u001b[0m\u001b[0;34m)\u001b[0m\u001b[0;34m:\u001b[0m\u001b[0;34m\u001b[0m\u001b[0;34m\u001b[0m\u001b[0m\n\u001b[1;32m      2\u001b[0m   \u001b[0;32mreturn\u001b[0m \u001b[0ma\u001b[0m\u001b[0;34m/\u001b[0m\u001b[0mb\u001b[0m\u001b[0;34m\u001b[0m\u001b[0;34m\u001b[0m\u001b[0m\n\u001b[0;32m----> 3\u001b[0;31m \u001b[0mdiv_op\u001b[0m\u001b[0;34m(\u001b[0m\u001b[0;36m5\u001b[0m\u001b[0;34m,\u001b[0m \u001b[0;36m0\u001b[0m\u001b[0;34m)\u001b[0m\u001b[0;34m\u001b[0m\u001b[0;34m\u001b[0m\u001b[0m\n\u001b[0m",
            "\u001b[0;32m<ipython-input-32-8ae9dc6d8919>\u001b[0m in \u001b[0;36mdiv_op\u001b[0;34m(a, b)\u001b[0m\n\u001b[1;32m      1\u001b[0m \u001b[0;32mdef\u001b[0m \u001b[0mdiv_op\u001b[0m\u001b[0;34m(\u001b[0m\u001b[0ma\u001b[0m\u001b[0;34m,\u001b[0m\u001b[0mb\u001b[0m\u001b[0;34m)\u001b[0m\u001b[0;34m:\u001b[0m\u001b[0;34m\u001b[0m\u001b[0;34m\u001b[0m\u001b[0m\n\u001b[0;32m----> 2\u001b[0;31m   \u001b[0;32mreturn\u001b[0m \u001b[0ma\u001b[0m\u001b[0;34m/\u001b[0m\u001b[0mb\u001b[0m\u001b[0;34m\u001b[0m\u001b[0;34m\u001b[0m\u001b[0m\n\u001b[0m\u001b[1;32m      3\u001b[0m \u001b[0mdiv_op\u001b[0m\u001b[0;34m(\u001b[0m\u001b[0;36m5\u001b[0m\u001b[0;34m,\u001b[0m \u001b[0;36m0\u001b[0m\u001b[0;34m)\u001b[0m\u001b[0;34m\u001b[0m\u001b[0;34m\u001b[0m\u001b[0m\n",
            "\u001b[0;31mZeroDivisionError\u001b[0m: division by zero"
          ]
        }
      ]
    },
    {
      "cell_type": "code",
      "source": [
        "def div_op(a,b):\n",
        "  if b != 0:\n",
        "    return a/b\n",
        "  else:\n",
        "    print('The value of b is zero. Change it.')\n",
        "div_op(5, 0)"
      ],
      "metadata": {
        "colab": {
          "base_uri": "https://localhost:8080/"
        },
        "id": "dxyBoQmfKdtE",
        "outputId": "c6f024b8-1161-4a82-aa9b-aa67c3c89987"
      },
      "execution_count": 33,
      "outputs": [
        {
          "output_type": "stream",
          "name": "stdout",
          "text": [
            "The value of b is zero. Change it.\n"
          ]
        }
      ]
    },
    {
      "cell_type": "code",
      "source": [
        "def check_div_op(func):\n",
        "  def inside(a,b):\n",
        "    if b == 0:\n",
        "      print('The value of b is zero. Change it.')\n",
        "      return\n",
        "    func(a, b)\n",
        "  return inside\n",
        "\n",
        "def div_op(a,b):\n",
        "  return a/b\n",
        "\n",
        "div_op = check_div_op(div_op)\n",
        "\n",
        "div_op(5, 0)"
      ],
      "metadata": {
        "colab": {
          "base_uri": "https://localhost:8080/"
        },
        "id": "HEO-mveGKg6M",
        "outputId": "a33bfcce-976b-4f20-9a99-266c77ebb9db"
      },
      "execution_count": 34,
      "outputs": [
        {
          "output_type": "stream",
          "name": "stdout",
          "text": [
            "The value of b is zero. Change it.\n"
          ]
        }
      ]
    },
    {
      "cell_type": "code",
      "source": [
        "def check_div_op(func):\n",
        "  def inside(a,b):\n",
        "    if b == 0:\n",
        "      print('The value of b is zero. Change it.')\n",
        "      return\n",
        "    func(a, b)\n",
        "  return inside\n",
        "\n",
        "@check_div_op # Decorator Function\n",
        "def div_op(a,b):\n",
        "  return a/b\n",
        "\n",
        "div_op(5, 0)"
      ],
      "metadata": {
        "colab": {
          "base_uri": "https://localhost:8080/"
        },
        "id": "5V0cgp7CKkC9",
        "outputId": "2eab62cf-0049-4169-c3bf-b18e63822f83"
      },
      "execution_count": 35,
      "outputs": [
        {
          "output_type": "stream",
          "name": "stdout",
          "text": [
            "The value of b is zero. Change it.\n"
          ]
        }
      ]
    },
    {
      "cell_type": "markdown",
      "source": [
        "# **Types Of Arguments :-**"
      ],
      "metadata": {
        "id": "y0VLbaY3KmQ0"
      }
    },
    {
      "cell_type": "code",
      "source": [
        "# Default Arguments\n",
        "# Keyword Arguments"
      ],
      "metadata": {
        "id": "-4Wsc9FBKrYp"
      },
      "execution_count": 36,
      "outputs": []
    },
    {
      "cell_type": "code",
      "source": [
        "def sq(n, m): # n --> parameter\n",
        "  return n**2\n",
        "\n",
        "print(sq(n = 4, m = 5)) # n = 4 --> argument"
      ],
      "metadata": {
        "colab": {
          "base_uri": "https://localhost:8080/"
        },
        "id": "qksTggC8Kwsw",
        "outputId": "38e88799-ee22-4bdd-e41f-5710a659ff42"
      },
      "execution_count": 37,
      "outputs": [
        {
          "output_type": "stream",
          "name": "stdout",
          "text": [
            "16\n"
          ]
        }
      ]
    },
    {
      "cell_type": "code",
      "source": [
        "def sq(n, m): # n --> parameter\n",
        "  return n**2\n",
        "\n",
        "print(sq(m = 4, n = 5)) # n = 4 --> argument"
      ],
      "metadata": {
        "colab": {
          "base_uri": "https://localhost:8080/"
        },
        "id": "aIm29wKpKz0K",
        "outputId": "d57d343f-c0f9-4606-bd87-9abfcb3dcbc6"
      },
      "execution_count": 38,
      "outputs": [
        {
          "output_type": "stream",
          "name": "stdout",
          "text": [
            "25\n"
          ]
        }
      ]
    },
    {
      "cell_type": "markdown",
      "source": [
        "# **Variable Arguments :-**"
      ],
      "metadata": {
        "id": "-oZNZ4eiK1_M"
      }
    },
    {
      "cell_type": "code",
      "source": [
        "def n_values(*n): \n",
        "  return n\n",
        "\n",
        "print(n_values(1, 2, 3))"
      ],
      "metadata": {
        "colab": {
          "base_uri": "https://localhost:8080/"
        },
        "id": "jc-M1d1lK6m1",
        "outputId": "64f19968-9dc9-4ae6-dd3c-f487532a7da5"
      },
      "execution_count": 39,
      "outputs": [
        {
          "output_type": "stream",
          "name": "stdout",
          "text": [
            "(1, 2, 3)\n"
          ]
        }
      ]
    },
    {
      "cell_type": "code",
      "source": [
        "print(type(n_values()))"
      ],
      "metadata": {
        "colab": {
          "base_uri": "https://localhost:8080/"
        },
        "id": "HYT-guMPK-k9",
        "outputId": "102b7356-0f1d-4ae8-d587-4ca5b1515549"
      },
      "execution_count": 40,
      "outputs": [
        {
          "output_type": "stream",
          "name": "stdout",
          "text": [
            "<class 'tuple'>\n"
          ]
        }
      ]
    },
    {
      "cell_type": "code",
      "source": [
        "def n_values(**n): \n",
        "  return n\n",
        "\n",
        "print(n_values(x = 1, y = 2, z = 3))"
      ],
      "metadata": {
        "colab": {
          "base_uri": "https://localhost:8080/"
        },
        "id": "Kig0vNIVLCMY",
        "outputId": "134b76bf-69b6-49a0-b999-cc2c0c885348"
      },
      "execution_count": 41,
      "outputs": [
        {
          "output_type": "stream",
          "name": "stdout",
          "text": [
            "{'x': 1, 'y': 2, 'z': 3}\n"
          ]
        }
      ]
    },
    {
      "cell_type": "code",
      "source": [
        "print(type(n_values()))"
      ],
      "metadata": {
        "colab": {
          "base_uri": "https://localhost:8080/"
        },
        "id": "3iH4kexBLEiU",
        "outputId": "a35a0d36-b406-462f-f166-120758aa68ac"
      },
      "execution_count": 42,
      "outputs": [
        {
          "output_type": "stream",
          "name": "stdout",
          "text": [
            "<class 'dict'>\n"
          ]
        }
      ]
    },
    {
      "cell_type": "code",
      "source": [
        "def n_values(*a,**b): \n",
        "  return a, b\n",
        "\n",
        "print(n_values(1,2,3, x = 1, y = 2, z = 3))\n",
        "print(type(n_values()))"
      ],
      "metadata": {
        "colab": {
          "base_uri": "https://localhost:8080/"
        },
        "id": "6WSLY25CLHQ3",
        "outputId": "d60f8ead-bf00-4058-eb8c-d1c9cb470ad5"
      },
      "execution_count": 43,
      "outputs": [
        {
          "output_type": "stream",
          "name": "stdout",
          "text": [
            "((1, 2, 3), {'x': 1, 'y': 2, 'z': 3})\n",
            "<class 'tuple'>\n"
          ]
        }
      ]
    },
    {
      "cell_type": "code",
      "source": [
        "def n_values(*args,**kwargs): \n",
        "  return args, kwargs\n",
        "\n",
        "print(n_values(1,2,3, x = 1, y = 2, z = 3))\n",
        "print(type(n_values()))"
      ],
      "metadata": {
        "colab": {
          "base_uri": "https://localhost:8080/"
        },
        "id": "Xv89kSpFLJwZ",
        "outputId": "3bc44783-3be4-403e-be92-1207d159173d"
      },
      "execution_count": 44,
      "outputs": [
        {
          "output_type": "stream",
          "name": "stdout",
          "text": [
            "((1, 2, 3), {'x': 1, 'y': 2, 'z': 3})\n",
            "<class 'tuple'>\n"
          ]
        }
      ]
    },
    {
      "cell_type": "code",
      "source": [
        "def n_values(*args,**kwargs): \n",
        "  return kwargs, args\n",
        "\n",
        "print(n_values(x = 1, y = 2, z = 3, 1, 2, 3))\n",
        "print(type(n_values()))"
      ],
      "metadata": {
        "colab": {
          "base_uri": "https://localhost:8080/",
          "height": 130
        },
        "id": "0XeeFY9tLOct",
        "outputId": "e0a4265e-11ea-4d1e-d04b-0d217625529b"
      },
      "execution_count": 45,
      "outputs": [
        {
          "output_type": "error",
          "ename": "SyntaxError",
          "evalue": "ignored",
          "traceback": [
            "\u001b[0;36m  File \u001b[0;32m\"<ipython-input-45-4213e7f31191>\"\u001b[0;36m, line \u001b[0;32m4\u001b[0m\n\u001b[0;31m    print(n_values(x = 1, y = 2, z = 3, 1, 2, 3))\u001b[0m\n\u001b[0m                                       ^\u001b[0m\n\u001b[0;31mSyntaxError\u001b[0m\u001b[0;31m:\u001b[0m positional argument follows keyword argument\n"
          ]
        }
      ]
    },
    {
      "cell_type": "markdown",
      "source": [
        "# **Which Method is Used To Pass Arguments in Python ?**"
      ],
      "metadata": {
        "id": "A-aO5QzfLSaR"
      }
    },
    {
      "cell_type": "code",
      "source": [
        "a = 10\n",
        "def change(a):\n",
        "  a = 20\n",
        "  print('Inside function:',a,'has address:',id(a))\n",
        "  return\n",
        "print('Outside function:',a,'has address:',id(a))\n",
        "change(a)\n",
        "print('Function after call:',a,'has address:',id(a))"
      ],
      "metadata": {
        "colab": {
          "base_uri": "https://localhost:8080/"
        },
        "id": "Y6D2ijtsLcCN",
        "outputId": "77d6d277-3e4d-4ad1-db92-7bf1bf4c2fab"
      },
      "execution_count": 46,
      "outputs": [
        {
          "output_type": "stream",
          "name": "stdout",
          "text": [
            "Outside function: 10 has address: 11256352\n",
            "Inside function: 20 has address: 11256672\n",
            "Function after call: 10 has address: 11256352\n"
          ]
        }
      ]
    },
    {
      "cell_type": "markdown",
      "source": [
        "# **Pass By Value :- Function Creates A Copy Of The Variable Passed As An Argument. The Actual Object is Not Affected. Variable Should Be Of Immutable Type.**"
      ],
      "metadata": {
        "id": "xgC77VKyLhhk"
      }
    },
    {
      "cell_type": "code",
      "source": [
        "a = [10, 20, 30, 40]\n",
        "def change(a):\n",
        "  a[1] = 50\n",
        "  print('Inside function:',a,'has address:',id(a))\n",
        "  return\n",
        "print('Outside function:',a,'has address:',id(a))\n",
        "change(a)\n",
        "print('Function after call:',a,'has address:',id(a))"
      ],
      "metadata": {
        "colab": {
          "base_uri": "https://localhost:8080/"
        },
        "id": "mimPnZPXL3BR",
        "outputId": "4de865d9-7cbc-4c30-e915-20a21a59deed"
      },
      "execution_count": 47,
      "outputs": [
        {
          "output_type": "stream",
          "name": "stdout",
          "text": [
            "Outside function: [10, 20, 30, 40] has address: 139884200321584\n",
            "Inside function: [10, 50, 30, 40] has address: 139884200321584\n",
            "Function after call: [10, 50, 30, 40] has address: 139884200321584\n"
          ]
        }
      ]
    },
    {
      "cell_type": "markdown",
      "source": [
        "# **Pass By Reference :- Function Creates A Copy Of The Variable Passed As An Argument. The Actual Object is Affected By The Changes Made To The Object. Variable Should Be Of Mutable Type And Can Be Modified.**"
      ],
      "metadata": {
        "id": "LCvfwTlQL9gz"
      }
    },
    {
      "cell_type": "code",
      "source": [
        ""
      ],
      "metadata": {
        "id": "7ujFXAo4NVdD"
      },
      "execution_count": null,
      "outputs": []
    }
  ]
}