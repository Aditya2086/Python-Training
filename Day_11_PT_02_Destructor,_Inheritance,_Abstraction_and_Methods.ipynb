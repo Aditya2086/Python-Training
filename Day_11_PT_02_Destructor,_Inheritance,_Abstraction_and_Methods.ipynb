{
  "nbformat": 4,
  "nbformat_minor": 0,
  "metadata": {
    "colab": {
      "name": "Day_11_PT_02_Destructor,_Inheritance,_Abstraction_and_Methods.ipynb",
      "provenance": [],
      "authorship_tag": "ABX9TyP7R+7fL5LLm0dNQeoIpT6r",
      "include_colab_link": true
    },
    "kernelspec": {
      "name": "python3",
      "display_name": "Python 3"
    },
    "language_info": {
      "name": "python"
    }
  },
  "cells": [
    {
      "cell_type": "markdown",
      "metadata": {
        "id": "view-in-github",
        "colab_type": "text"
      },
      "source": [
        "<a href=\"https://colab.research.google.com/github/Aditya2086/Python-Training/blob/main/Day_11_PT_02_Destructor%2C_Inheritance%2C_Abstraction_and_Methods.ipynb\" target=\"_parent\"><img src=\"https://colab.research.google.com/assets/colab-badge.svg\" alt=\"Open In Colab\"/></a>"
      ]
    },
    {
      "cell_type": "markdown",
      "source": [
        "# **Destructors in OOPS :-**"
      ],
      "metadata": {
        "id": "BDfw7OYAcx0O"
      }
    },
    {
      "cell_type": "code",
      "execution_count": 1,
      "metadata": {
        "colab": {
          "base_uri": "https://localhost:8080/"
        },
        "id": "DkookVCRT21X",
        "outputId": "0d6163cc-a06e-4af8-939d-0f1c96d95911"
      },
      "outputs": [
        {
          "output_type": "stream",
          "name": "stdout",
          "text": [
            "Constructor is called\n",
            "Display method is called\n"
          ]
        }
      ],
      "source": [
        "class demo:\n",
        "  def __init__(self):\n",
        "    print('Constructor is called')\n",
        "\n",
        "  def display(self):\n",
        "    print('Display method is called')\n",
        "\n",
        "  def __del__(self):\n",
        "    print('Destructor is called')\n",
        "\n",
        "d = demo()\n",
        "d.display()"
      ]
    },
    {
      "cell_type": "markdown",
      "source": [
        "# **How To Change Private Attributes :-**"
      ],
      "metadata": {
        "id": "sGyZtUHIdCqJ"
      }
    },
    {
      "cell_type": "code",
      "source": [
        "class speed:\n",
        "  def __init__(self):\n",
        "    self.speed = 10\n",
        "\n",
        "  def get_speed(self):\n",
        "    return self.speed\n",
        "\n",
        "s = speed()\n",
        "s.get_speed()"
      ],
      "metadata": {
        "colab": {
          "base_uri": "https://localhost:8080/"
        },
        "id": "u4yWk0RMdAY9",
        "outputId": "103ebf8d-ce58-4030-acd2-0905466363f8"
      },
      "execution_count": 2,
      "outputs": [
        {
          "output_type": "execute_result",
          "data": {
            "text/plain": [
              "10"
            ]
          },
          "metadata": {},
          "execution_count": 2
        }
      ]
    },
    {
      "cell_type": "code",
      "source": [
        "class speed:\n",
        "  def __init__(self):\n",
        "    self.speed = 10\n",
        "\n",
        "  def get_speed(self):\n",
        "    return self.speed\n",
        "\n",
        "s = speed()\n",
        "s.speed = 100\n",
        "s.get_speed()"
      ],
      "metadata": {
        "colab": {
          "base_uri": "https://localhost:8080/"
        },
        "id": "ljgEw6yBdOEq",
        "outputId": "f05f0bfb-9cca-4ec2-a9ee-b59bef30ac82"
      },
      "execution_count": 3,
      "outputs": [
        {
          "output_type": "execute_result",
          "data": {
            "text/plain": [
              "100"
            ]
          },
          "metadata": {},
          "execution_count": 3
        }
      ]
    },
    {
      "cell_type": "code",
      "source": [
        "class speed:\n",
        "  def __init__(self):\n",
        "    self.speed = 10\n",
        "    self.__setspeed = 70\n",
        "\n",
        "  def get_speed(self):\n",
        "    return self.speed\n",
        "\n",
        "  def set_speed(self):\n",
        "    return self.__setspeed\n",
        "\n",
        "s = speed()\n",
        "s.speed = 100\n",
        "s.__setspeed = 120\n",
        "s.get_speed(), s.set_speed()"
      ],
      "metadata": {
        "colab": {
          "base_uri": "https://localhost:8080/"
        },
        "id": "TbkwQWhudTKE",
        "outputId": "b8a212ce-8660-4089-c847-af75800667f6"
      },
      "execution_count": 4,
      "outputs": [
        {
          "output_type": "execute_result",
          "data": {
            "text/plain": [
              "(100, 70)"
            ]
          },
          "metadata": {},
          "execution_count": 4
        }
      ]
    },
    {
      "cell_type": "code",
      "source": [
        "class speed:\n",
        "  def __init__(self):\n",
        "    self.speed = 10\n",
        "    self.__setspeed = 70\n",
        "\n",
        "  def get_speed(self):\n",
        "    return self.speed\n",
        "\n",
        "  def set_speed(self):\n",
        "    return self.__setspeed\n",
        "\n",
        "  def set_speed_limit(self, new_speed):\n",
        "    self.__setspeed = new_speed\n",
        "\n",
        "s = speed()\n",
        "s.speed = 100\n",
        "s.set_speed_limit(120)\n",
        "s.get_speed(), s.set_speed()"
      ],
      "metadata": {
        "colab": {
          "base_uri": "https://localhost:8080/"
        },
        "id": "G01j9ajUdVcz",
        "outputId": "7ac9f75f-03ef-4ab1-894d-92b5913cb6fd"
      },
      "execution_count": 5,
      "outputs": [
        {
          "output_type": "execute_result",
          "data": {
            "text/plain": [
              "(100, 120)"
            ]
          },
          "metadata": {},
          "execution_count": 5
        }
      ]
    },
    {
      "cell_type": "markdown",
      "source": [
        "# **Abstraction in OOPS Python :-**"
      ],
      "metadata": {
        "id": "36Gy5ntOdb8M"
      }
    },
    {
      "cell_type": "code",
      "source": [
        "from abc import ABC, abstractmethod\n",
        "class animal(ABC):\n",
        "  @abstractmethod\n",
        "  def dog(self):\n",
        "    pass # declared but not defined\n",
        "\n",
        "class pet(animal):\n",
        "  def dog(self):\n",
        "    print('Loyal friend')\n",
        "\n",
        "p = pet()\n",
        "p.dog()"
      ],
      "metadata": {
        "colab": {
          "base_uri": "https://localhost:8080/"
        },
        "id": "tJS2QBUUdiGl",
        "outputId": "7b09ea03-2810-4dd3-caea-a505cc1b1f48"
      },
      "execution_count": 6,
      "outputs": [
        {
          "output_type": "stream",
          "name": "stdout",
          "text": [
            "Loyal friend\n"
          ]
        }
      ]
    },
    {
      "cell_type": "markdown",
      "source": [
        "# **Inheritance :-**"
      ],
      "metadata": {
        "id": "GdBd1E6Ldls9"
      }
    },
    {
      "cell_type": "code",
      "source": [
        "class employee:\n",
        "  raise_amount = 1.05\n",
        "  def __init__(self, firstn, lastn, sal):\n",
        "    self.firstn = firstn\n",
        "    self.lastn = lastn\n",
        "    self.sal = sal\n",
        "\n",
        "  def fulln(self):\n",
        "    return '{} {}'.format(self.firstn, self.lastn)\n",
        "\n",
        "  def raise_in_salary(self):\n",
        "    self.sal = int(self.sal * self.raise_amount)\n",
        "\n",
        "emp1 = employee('Tony', 'Stark', 75000000)\n",
        "emp2 = employee('Steve', 'Rogers', 65000000)\n",
        "print(emp1.fulln())\n",
        "print('The salary is', emp1.sal)\n",
        "emp1.raise_in_salary()\n",
        "print('The salary is', emp1.sal)"
      ],
      "metadata": {
        "colab": {
          "base_uri": "https://localhost:8080/"
        },
        "id": "jW0660JRdj_j",
        "outputId": "02e80471-f111-421c-9cf1-74617f518cfb"
      },
      "execution_count": 7,
      "outputs": [
        {
          "output_type": "stream",
          "name": "stdout",
          "text": [
            "Tony Stark\n",
            "The salary is 75000000\n",
            "The salary is 78750000\n"
          ]
        }
      ]
    },
    {
      "cell_type": "code",
      "source": [
        "class developers(employee):\n",
        "  pass\n",
        "\n",
        "emp1 = developers('Tony', 'Stark', 75000000)\n",
        "emp2 = developers('Steve', 'Rogers', 65000000)\n",
        "print(emp1.fulln())\n",
        "print('The salary is', emp1.sal)\n",
        "emp1.raise_in_salary()\n",
        "print('The salary is', emp1.sal)"
      ],
      "metadata": {
        "colab": {
          "base_uri": "https://localhost:8080/"
        },
        "id": "3QRPnRwRdrDH",
        "outputId": "71194550-fad2-4c13-d4ac-22f49c5afa51"
      },
      "execution_count": 8,
      "outputs": [
        {
          "output_type": "stream",
          "name": "stdout",
          "text": [
            "Tony Stark\n",
            "The salary is 75000000\n",
            "The salary is 78750000\n"
          ]
        }
      ]
    },
    {
      "cell_type": "code",
      "source": [
        "class developers(employee):\n",
        "  raise_amount = 2.04\n",
        "\n",
        "emp1 = developers('Tony', 'Stark', 75000000)\n",
        "emp2 = developers('Steve', 'Rogers', 65000000)\n",
        "print(emp1.fulln())\n",
        "print('The salary is', emp1.sal)\n",
        "emp1.raise_in_salary()\n",
        "print('The salary is', emp1.sal)"
      ],
      "metadata": {
        "colab": {
          "base_uri": "https://localhost:8080/"
        },
        "id": "OGiPhghsdt_u",
        "outputId": "ab338a2d-0722-439b-c523-55687b9f12a4"
      },
      "execution_count": 9,
      "outputs": [
        {
          "output_type": "stream",
          "name": "stdout",
          "text": [
            "Tony Stark\n",
            "The salary is 75000000\n",
            "The salary is 153000000\n"
          ]
        }
      ]
    },
    {
      "cell_type": "code",
      "source": [
        "class developers(employee):\n",
        "  raise_amount = 2.04\n",
        "  def __init__(self, firstn, lastn, sal, prog_lang):\n",
        "    employee.__init__(self, firstn, lastn, sal)\n",
        "    self.prog_lang = prog_lang\n",
        "\n",
        "emp1 = developers('Tony', 'Stark', 75000000, 'Python')\n",
        "emp2 = developers('Steve', 'Rogers', 65000000, 'Javascript')\n",
        "print(emp1.fulln())\n",
        "print('The salary is', emp1.sal)\n",
        "emp1.raise_in_salary()\n",
        "print('The salary is', emp1.sal)"
      ],
      "metadata": {
        "colab": {
          "base_uri": "https://localhost:8080/"
        },
        "id": "bTISXAK3dwRY",
        "outputId": "e1645536-a0ab-42ae-eaab-87f4f85603ea"
      },
      "execution_count": 10,
      "outputs": [
        {
          "output_type": "stream",
          "name": "stdout",
          "text": [
            "Tony Stark\n",
            "The salary is 75000000\n",
            "The salary is 153000000\n"
          ]
        }
      ]
    },
    {
      "cell_type": "code",
      "source": [
        "class developers(employee):\n",
        "  raise_amount = 2.04\n",
        "  def __init__(self, firstn, lastn, sal, prog_lang):\n",
        "    super().__init__(firstn, lastn, sal)\n",
        "    self.prog_lang = prog_lang\n",
        "\n",
        "emp1 = developers('Tony', 'Stark', 75000000, 'Python')\n",
        "emp2 = developers('Steve', 'Rogers', 65000000, 'Javascript')\n",
        "print(emp1.fulln())\n",
        "print('The salary is', emp1.sal)\n",
        "emp1.raise_in_salary()\n",
        "print('The salary is', emp1.sal)"
      ],
      "metadata": {
        "colab": {
          "base_uri": "https://localhost:8080/"
        },
        "id": "jsKbxQr4dzKF",
        "outputId": "176b8dab-dda3-4b4a-ba9c-e3328c48c981"
      },
      "execution_count": 11,
      "outputs": [
        {
          "output_type": "stream",
          "name": "stdout",
          "text": [
            "Tony Stark\n",
            "The salary is 75000000\n",
            "The salary is 153000000\n"
          ]
        }
      ]
    },
    {
      "cell_type": "code",
      "source": [
        "class managers(employee):\n",
        "  def __init__(self, firstn, lastn, sal, employees = None):\n",
        "    super().__init__(firstn, lastn, sal)\n",
        "    if employees is None:\n",
        "      self.employees = []\n",
        "    else:\n",
        "      self.employees = employees\n",
        "\n",
        "  def add_emp(self,emp):\n",
        "    if emp not in self.employees:\n",
        "      self.employees.append(emp)\n",
        "  \n",
        "  def remove_emp(self, emp):\n",
        "    if emp in self.employees:\n",
        "      self.employees.remove(emp)\n",
        "\n",
        "  def print_emp(self):\n",
        "    for emp in self.employees:\n",
        "      print('-->',emp.fulln())\n",
        "\n",
        "emp1 = developers('Tony', 'Stark', 75000000, 'Python')\n",
        "emp2 = developers('Steve', 'Rogers', 65000000, 'Javascript')\n",
        "mgr = managers('Nick', 'Fury', 1000000000, [emp1])\n",
        "print(mgr.sal)\n",
        "mgr.add_emp(emp2)\n",
        "print('Employees List After adding all employees:')\n",
        "mgr.print_emp()\n",
        "mgr.remove_emp(emp1)\n",
        "print('Employees List After removing any employees:')\n",
        "mgr.print_emp()"
      ],
      "metadata": {
        "colab": {
          "base_uri": "https://localhost:8080/"
        },
        "id": "pfi_NYD8d3Py",
        "outputId": "cbcf09dc-fb4a-427d-c550-8c46e6a6fd49"
      },
      "execution_count": 12,
      "outputs": [
        {
          "output_type": "stream",
          "name": "stdout",
          "text": [
            "1000000000\n",
            "Employees List After adding all employees:\n",
            "--> Tony Stark\n",
            "--> Steve Rogers\n",
            "Employees List After removing any employees:\n",
            "--> Steve Rogers\n"
          ]
        }
      ]
    },
    {
      "cell_type": "code",
      "source": [
        "def add_emp(emp, emp_list = []):\n",
        "  emp_list.append(emp)\n",
        "  print(emp_list)\n",
        "\n",
        "emp_list = ['Tony', 'Steve']\n",
        "add_emp('Bruce')\n",
        "add_emp('Thor')\n",
        "add_emp('Strange')\n",
        "print(emp_list)"
      ],
      "metadata": {
        "colab": {
          "base_uri": "https://localhost:8080/"
        },
        "id": "-Sq_IzYAd69k",
        "outputId": "de7b7cbc-72df-44f8-ae13-4891ae56426e"
      },
      "execution_count": 13,
      "outputs": [
        {
          "output_type": "stream",
          "name": "stdout",
          "text": [
            "['Bruce']\n",
            "['Bruce', 'Thor']\n",
            "['Bruce', 'Thor', 'Strange']\n",
            "['Tony', 'Steve']\n"
          ]
        }
      ]
    },
    {
      "cell_type": "code",
      "source": [
        "def add_emp(emp, emp_list = None):\n",
        "  if emp_list is None:\n",
        "    emp_list = []\n",
        "  emp_list.append(emp)\n",
        "  print(emp_list)\n",
        "\n",
        "emp_list = ['Tony', 'Steve']\n",
        "add_emp('Bruce')\n",
        "add_emp('Thor')\n",
        "add_emp('Strange')\n",
        "print(emp_list)"
      ],
      "metadata": {
        "colab": {
          "base_uri": "https://localhost:8080/"
        },
        "id": "jPNTv8wFd9hF",
        "outputId": "2f9b3d17-7c1f-4001-ae82-496082971009"
      },
      "execution_count": 14,
      "outputs": [
        {
          "output_type": "stream",
          "name": "stdout",
          "text": [
            "['Bruce']\n",
            "['Thor']\n",
            "['Strange']\n",
            "['Tony', 'Steve']\n"
          ]
        }
      ]
    },
    {
      "cell_type": "markdown",
      "source": [
        "# **Repr, Str Methods :-**"
      ],
      "metadata": {
        "id": "mlKApSyAeDue"
      }
    },
    {
      "cell_type": "code",
      "source": [
        "class employee:\n",
        "  raise_amount = 1.05\n",
        "  def __init__(self, firstn, lastn, sal):\n",
        "    self.firstn = firstn\n",
        "    self.lastn = lastn\n",
        "    self.sal = sal\n",
        "\n",
        "  def fulln(self):\n",
        "    return '{} {}'.format(self.firstn, self.lastn)\n",
        "\n",
        "  def raise_in_salary(self):\n",
        "    self.sal = int(self.sal * self.raise_amount)\n",
        "\n",
        "  def __repr__(self):\n",
        "    return '{} {}'.format(self.firstn, self.lastn)\n",
        "\n",
        "  def __str__(self):\n",
        "    return '{}- {}'.format(self.fulln(), self.sal)\n",
        "\n",
        "emp1 = employee('Tony', 'Stark', 75000000)\n",
        "emp2 = employee('Steve', 'Rogers', 65000000)\n",
        "print(emp1)"
      ],
      "metadata": {
        "colab": {
          "base_uri": "https://localhost:8080/"
        },
        "id": "WuLCB9W8eAbr",
        "outputId": "94155361-d347-42e2-c8bf-bc761077456d"
      },
      "execution_count": 15,
      "outputs": [
        {
          "output_type": "stream",
          "name": "stdout",
          "text": [
            "Tony Stark- 75000000\n"
          ]
        }
      ]
    },
    {
      "cell_type": "code",
      "source": [
        ""
      ],
      "metadata": {
        "id": "Ixjbi057eMIu"
      },
      "execution_count": null,
      "outputs": []
    },
    {
      "cell_type": "markdown",
      "source": [
        "# **Different methods in OOPS :-**"
      ],
      "metadata": {
        "id": "s2EKPbhSeO4j"
      }
    },
    {
      "cell_type": "code",
      "source": [
        "class MyClass:\n",
        "  def method(self):\n",
        "    return 'Instance Method Called', self\n",
        "\n",
        "  @classmethod\n",
        "  def class_method(cls):\n",
        "    return 'Class Method Called', cls\n",
        "\n",
        "  @staticmethod\n",
        "  def static_method():\n",
        "    return 'Static Method Called'\n",
        "\n",
        "obj = MyClass()\n",
        "obj.method()"
      ],
      "metadata": {
        "colab": {
          "base_uri": "https://localhost:8080/"
        },
        "id": "wFoBPG8zeSuM",
        "outputId": "ce6c6d30-beec-4460-93f4-02bb78cd5631"
      },
      "execution_count": 16,
      "outputs": [
        {
          "output_type": "execute_result",
          "data": {
            "text/plain": [
              "('Instance Method Called', <__main__.MyClass at 0x7fd2e414b410>)"
            ]
          },
          "metadata": {},
          "execution_count": 16
        }
      ]
    },
    {
      "cell_type": "code",
      "source": [
        "class Pizza:\n",
        "  def __init__(self, ingredients):\n",
        "    self.ingredients = ingredients\n",
        "\n",
        "  def __repr__(self):\n",
        "    return f'Pizza({self.ingredients})'\n",
        "\n",
        "  @classmethod \n",
        "  def __panpizza__(cls, self):\n",
        "    self.type = type \n",
        "  \n",
        "  def pizzatype(self, types):\n",
        "    return types\n",
        "\n",
        "  @classmethod\n",
        "  def bakepizza(cls):\n",
        "    return cls(['mozzarella', 'cheeseburst', 'onion'])\n",
        "\n",
        "p = Pizza('Heese Burst Pizza')\n",
        "t = Pizza('Pan Pizza')\n",
        "print(t.pizzatype('Pan Pizza'))"
      ],
      "metadata": {
        "colab": {
          "base_uri": "https://localhost:8080/"
        },
        "id": "CMTjnzc1eVz7",
        "outputId": "b390b9cb-4180-4dc1-beb3-ca6df433065b"
      },
      "execution_count": 17,
      "outputs": [
        {
          "output_type": "stream",
          "name": "stdout",
          "text": [
            "Pan Pizza\n"
          ]
        }
      ]
    },
    {
      "cell_type": "code",
      "source": [
        "import math\n",
        "class Pizza:\n",
        "  def __init__(self, radius, ingredients):\n",
        "    self.radius = radius\n",
        "    self.ingredients = ingredients\n",
        "\n",
        "  def area(self):\n",
        "    return self.pizza_area(self.radius)\n",
        "  \n",
        "  @staticmethod\n",
        "  def pizza_area(r):\n",
        "    return math.pi*r**2\n",
        "\n",
        "p = Pizza(4,['Barbequed', 'Pan'])\n",
        "print(p.area())"
      ],
      "metadata": {
        "colab": {
          "base_uri": "https://localhost:8080/"
        },
        "id": "mB4rO6FZeY2h",
        "outputId": "4c38856d-d4d9-43be-9385-3cc35d0d03ed"
      },
      "execution_count": 18,
      "outputs": [
        {
          "output_type": "stream",
          "name": "stdout",
          "text": [
            "50.26548245743669\n"
          ]
        }
      ]
    },
    {
      "cell_type": "code",
      "source": [
        "import numpy as np\n",
        "arr = np.array([1,2,3,4,5,6,7,8,9]) # creates a 1-D array\n",
        "print(\"Array :\",arr)\n",
        "print(\"Array Size :\",arr.size)\n",
        "print(\"Array Dimensions :\",arr.shape)\n",
        "print(\"Array type :\",type(arr))"
      ],
      "metadata": {
        "colab": {
          "base_uri": "https://localhost:8080/"
        },
        "id": "7E0jCOPzebq3",
        "outputId": "36ec9de2-dfa6-4e58-8c88-f4e2687c7b2c"
      },
      "execution_count": 19,
      "outputs": [
        {
          "output_type": "stream",
          "name": "stdout",
          "text": [
            "Array : [1 2 3 4 5 6 7 8 9]\n",
            "Array Size : 9\n",
            "Array Dimensions : (9,)\n",
            "Array type : <class 'numpy.ndarray'>\n"
          ]
        }
      ]
    },
    {
      "cell_type": "code",
      "source": [
        "arr1 = np.array([(1,2,3),(4,5,6),(7,8,9)]) # creates a 2-D Array\n",
        "print(\"Array :\",arr1)\n",
        "print(\"Array Size :\",arr1.size)\n",
        "print(\"Array Dimensions :\",arr1.shape)\n",
        "print(\"Array type :\",type(arr1))"
      ],
      "metadata": {
        "colab": {
          "base_uri": "https://localhost:8080/"
        },
        "id": "zWy11LOPeujP",
        "outputId": "f5c02c57-dc4e-47c2-e2e0-a856ae644435"
      },
      "execution_count": 20,
      "outputs": [
        {
          "output_type": "stream",
          "name": "stdout",
          "text": [
            "Array : [[1 2 3]\n",
            " [4 5 6]\n",
            " [7 8 9]]\n",
            "Array Size : 9\n",
            "Array Dimensions : (3, 3)\n",
            "Array type : <class 'numpy.ndarray'>\n"
          ]
        }
      ]
    },
    {
      "cell_type": "code",
      "source": [
        "arr2 = np.array([1,2,3,4,5,6,7,8,9]).reshape(3,3) # converts 1-D array to passes \"n X m\" dimensional 2-D array\n",
        "print(\"Array :\",arr2)"
      ],
      "metadata": {
        "colab": {
          "base_uri": "https://localhost:8080/"
        },
        "id": "qkP8IF9zeyEn",
        "outputId": "70382f4d-d94e-4587-f76d-c8be397602ca"
      },
      "execution_count": 21,
      "outputs": [
        {
          "output_type": "stream",
          "name": "stdout",
          "text": [
            "Array : [[1 2 3]\n",
            " [4 5 6]\n",
            " [7 8 9]]\n"
          ]
        }
      ]
    },
    {
      "cell_type": "code",
      "source": [
        "arr2 = np.array([1,2,3,4,5,6,7,8,9]).reshape(3,3)\n",
        "print(\"Size of Elements in Bytes :\",arr2.itemsize) # gives size of elements in bytes"
      ],
      "metadata": {
        "colab": {
          "base_uri": "https://localhost:8080/"
        },
        "id": "8xRXxDeRe0qs",
        "outputId": "eb1d65ab-1a60-43c9-e00d-bd3c2c603cd7"
      },
      "execution_count": 22,
      "outputs": [
        {
          "output_type": "stream",
          "name": "stdout",
          "text": [
            "Size of Elements in Bytes : 8\n"
          ]
        }
      ]
    },
    {
      "cell_type": "code",
      "source": [
        "# changing the dimensions of the existing array using \"reshape()\" method.\n",
        "x = np.array([(54,35,75,97),(15,67,15,14)])\n",
        "print(\"Before Reshaping.....\")\n",
        "print(\"Array :\",x)\n",
        "x = x.reshape(4,2)\n",
        "print(\"Before Reshaping.....\")\n",
        "print(\"Array :\",x)"
      ],
      "metadata": {
        "colab": {
          "base_uri": "https://localhost:8080/"
        },
        "id": "9j6eKh9Ge3i9",
        "outputId": "bf505458-f936-42aa-bdb1-b6a88539ed54"
      },
      "execution_count": 23,
      "outputs": [
        {
          "output_type": "stream",
          "name": "stdout",
          "text": [
            "Before Reshaping.....\n",
            "Array : [[54 35 75 97]\n",
            " [15 67 15 14]]\n",
            "Before Reshaping.....\n",
            "Array : [[54 35]\n",
            " [75 97]\n",
            " [15 67]\n",
            " [15 14]]\n"
          ]
        }
      ]
    },
    {
      "cell_type": "code",
      "source": [
        "x = np.arange(10).reshape(5,2) # another way to write matrix\n",
        "print(\"array :\",x) # <row> , <col>"
      ],
      "metadata": {
        "colab": {
          "base_uri": "https://localhost:8080/"
        },
        "id": "eAhSTG76e7A-",
        "outputId": "ec52a841-e326-4620-8888-6bcaa24422a7"
      },
      "execution_count": 24,
      "outputs": [
        {
          "output_type": "stream",
          "name": "stdout",
          "text": [
            "array : [[0 1]\n",
            " [2 3]\n",
            " [4 5]\n",
            " [6 7]\n",
            " [8 9]]\n"
          ]
        }
      ]
    },
    {
      "cell_type": "code",
      "source": [
        "# array having less or more than passed dimensions will not be reshaped.\n",
        "x = np.arange(10).reshape(3,2) # another way to write matrix\n",
        "print(\"array :\",x) # <row> , <col>"
      ],
      "metadata": {
        "colab": {
          "base_uri": "https://localhost:8080/",
          "height": 200
        },
        "id": "Jz4c4qlKe_I3",
        "outputId": "5e37e96e-2612-432c-d23f-1c00c6303f6f"
      },
      "execution_count": 25,
      "outputs": [
        {
          "output_type": "error",
          "ename": "ValueError",
          "evalue": "ignored",
          "traceback": [
            "\u001b[0;31m---------------------------------------------------------------------------\u001b[0m",
            "\u001b[0;31mValueError\u001b[0m                                Traceback (most recent call last)",
            "\u001b[0;32m<ipython-input-25-1a301de16bae>\u001b[0m in \u001b[0;36m<module>\u001b[0;34m()\u001b[0m\n\u001b[1;32m      1\u001b[0m \u001b[0;31m# array having less or more than passed dimensions will not be reshaped.\u001b[0m\u001b[0;34m\u001b[0m\u001b[0;34m\u001b[0m\u001b[0;34m\u001b[0m\u001b[0m\n\u001b[0;32m----> 2\u001b[0;31m \u001b[0mx\u001b[0m \u001b[0;34m=\u001b[0m \u001b[0mnp\u001b[0m\u001b[0;34m.\u001b[0m\u001b[0marange\u001b[0m\u001b[0;34m(\u001b[0m\u001b[0;36m10\u001b[0m\u001b[0;34m)\u001b[0m\u001b[0;34m.\u001b[0m\u001b[0mreshape\u001b[0m\u001b[0;34m(\u001b[0m\u001b[0;36m3\u001b[0m\u001b[0;34m,\u001b[0m\u001b[0;36m2\u001b[0m\u001b[0;34m)\u001b[0m \u001b[0;31m# another way to write matrix\u001b[0m\u001b[0;34m\u001b[0m\u001b[0;34m\u001b[0m\u001b[0m\n\u001b[0m\u001b[1;32m      3\u001b[0m \u001b[0mprint\u001b[0m\u001b[0;34m(\u001b[0m\u001b[0;34m\"array :\"\u001b[0m\u001b[0;34m,\u001b[0m\u001b[0mx\u001b[0m\u001b[0;34m)\u001b[0m \u001b[0;31m# <row> , <col>\u001b[0m\u001b[0;34m\u001b[0m\u001b[0;34m\u001b[0m\u001b[0m\n",
            "\u001b[0;31mValueError\u001b[0m: cannot reshape array of size 10 into shape (3,2)"
          ]
        }
      ]
    },
    {
      "cell_type": "code",
      "source": [
        "p = np.zeros((2,3)) # a Matrix Filled with all elements zero\n",
        "print(\"Matrix :\",p)"
      ],
      "metadata": {
        "colab": {
          "base_uri": "https://localhost:8080/"
        },
        "id": "hC-hju2VfBgt",
        "outputId": "256d6bb8-a689-40cb-f8a3-d60df6bed389"
      },
      "execution_count": 26,
      "outputs": [
        {
          "output_type": "stream",
          "name": "stdout",
          "text": [
            "Matrix : [[0. 0. 0.]\n",
            " [0. 0. 0.]]\n"
          ]
        }
      ]
    },
    {
      "cell_type": "code",
      "source": [
        "p = np.ones((2,3)) # a Matrix Filled with all elements zero\n",
        "print(\"Matrix :\",p)"
      ],
      "metadata": {
        "colab": {
          "base_uri": "https://localhost:8080/"
        },
        "id": "kht31bE6fEL5",
        "outputId": "9aaa9353-12dc-4da7-aa2b-c51c246f4a5d"
      },
      "execution_count": 27,
      "outputs": [
        {
          "output_type": "stream",
          "name": "stdout",
          "text": [
            "Matrix : [[1. 1. 1.]\n",
            " [1. 1. 1.]]\n"
          ]
        }
      ]
    },
    {
      "cell_type": "code",
      "source": [
        "p = np.eye(2,2) # creates an Identity matrix of \"N X N\" dimension\n",
        "print(\"Matrix :\",p)"
      ],
      "metadata": {
        "colab": {
          "base_uri": "https://localhost:8080/"
        },
        "id": "lJi2ORjgfGEn",
        "outputId": "1abbff38-52e3-4910-a673-f9d1b06db483"
      },
      "execution_count": 28,
      "outputs": [
        {
          "output_type": "stream",
          "name": "stdout",
          "text": [
            "Matrix : [[1. 0.]\n",
            " [0. 1.]]\n"
          ]
        }
      ]
    },
    {
      "cell_type": "code",
      "source": [
        "p = np.diag([1,2,3]) # creates a diagonal matrix\n",
        "print(\"Matrix :\",p)"
      ],
      "metadata": {
        "colab": {
          "base_uri": "https://localhost:8080/"
        },
        "id": "RETnQvRzfIMy",
        "outputId": "168a64a9-21d1-4f79-8b10-0994ab91bbac"
      },
      "execution_count": 29,
      "outputs": [
        {
          "output_type": "stream",
          "name": "stdout",
          "text": [
            "Matrix : [[1 0 0]\n",
            " [0 2 0]\n",
            " [0 0 3]]\n"
          ]
        }
      ]
    },
    {
      "cell_type": "code",
      "source": [
        "m = np.array([[54,44],[61,35]])\n",
        "det = np.linalg.det(m) # finds determinant of a matrix\n",
        "print(\"Determinant Value =\",det)"
      ],
      "metadata": {
        "colab": {
          "base_uri": "https://localhost:8080/"
        },
        "id": "Rvda4vePfKoT",
        "outputId": "9b3a2e87-7e3b-43c6-e1d3-4579a91c277c"
      },
      "execution_count": 30,
      "outputs": [
        {
          "output_type": "stream",
          "name": "stdout",
          "text": [
            "Determinant Value = -794.0000000000003\n"
          ]
        }
      ]
    },
    {
      "cell_type": "code",
      "source": [
        "m = np.array([[54,44],[61,35]])\n",
        "det = np.linalg.inv(m) # finds inverse of a matrix\n",
        "print(\"Inverse Value =\",det)"
      ],
      "metadata": {
        "colab": {
          "base_uri": "https://localhost:8080/"
        },
        "id": "uukFyg41fNYH",
        "outputId": "e2b52af6-1339-4ac9-d917-249be0670d74"
      },
      "execution_count": 31,
      "outputs": [
        {
          "output_type": "stream",
          "name": "stdout",
          "text": [
            "Inverse Value = [[-0.0440806   0.05541562]\n",
            " [ 0.0768262  -0.06801008]]\n"
          ]
        }
      ]
    },
    {
      "cell_type": "code",
      "source": [
        "m = np.array([[54,44],[61,35]])\n",
        "(sign,lodget) = np.linalg.slogdet(m)\n",
        "print(sign,lodget)\n",
        "det = np.linalg.det(m) \n",
        "print(\"Determinant Value =\",det)"
      ],
      "metadata": {
        "colab": {
          "base_uri": "https://localhost:8080/"
        },
        "id": "Ez1NmjBWfQNK",
        "outputId": "5182b9c1-cb9c-4b23-f6a6-b0281e211274"
      },
      "execution_count": 32,
      "outputs": [
        {
          "output_type": "stream",
          "name": "stdout",
          "text": [
            "-1.0 6.677083461247136\n",
            "Determinant Value = -794.0000000000003\n"
          ]
        }
      ]
    },
    {
      "cell_type": "code",
      "source": [
        "m = np.array([[8,4,3],[9,1,6],[2,7,4]])\n",
        "print(m.sum(axis=1)) # Adding elements row-wise"
      ],
      "metadata": {
        "colab": {
          "base_uri": "https://localhost:8080/"
        },
        "id": "v93JDhBhfTO6",
        "outputId": "9d2f9e1c-6846-484b-f838-e55cc18b864d"
      },
      "execution_count": 33,
      "outputs": [
        {
          "output_type": "stream",
          "name": "stdout",
          "text": [
            "[15 16 13]\n"
          ]
        }
      ]
    },
    {
      "cell_type": "code",
      "source": [
        "print(m.sum(axis=0)) # Adding elements column-wise"
      ],
      "metadata": {
        "colab": {
          "base_uri": "https://localhost:8080/"
        },
        "id": "dCoWQz0tfVQP",
        "outputId": "c3e38cba-b32f-457d-e33d-574515dd8a37"
      },
      "execution_count": 34,
      "outputs": [
        {
          "output_type": "stream",
          "name": "stdout",
          "text": [
            "[19 12 13]\n"
          ]
        }
      ]
    },
    {
      "cell_type": "code",
      "source": [
        "# flattening arrays\n",
        "x = np.array([[0,1],[2,3]])\n",
        "y = x.flatten()\n",
        "print(y)\n",
        "y[0] = 10\n",
        "print(\"Array 2 is :\",y)\n",
        "print(\"Array 1 is :\",x)"
      ],
      "metadata": {
        "colab": {
          "base_uri": "https://localhost:8080/"
        },
        "id": "8yT7t9qHfXY0",
        "outputId": "1e370d57-ceb3-4a43-f7df-c6d84ba25604"
      },
      "execution_count": 35,
      "outputs": [
        {
          "output_type": "stream",
          "name": "stdout",
          "text": [
            "[0 1 2 3]\n",
            "Array 2 is : [10  1  2  3]\n",
            "Array 1 is : [[0 1]\n",
            " [2 3]]\n"
          ]
        }
      ]
    },
    {
      "cell_type": "code",
      "source": [
        "x = np.array([[0,1],[2,3]])\n",
        "y = x.ravel()\n",
        "print(y)\n",
        "y[0] = 10\n",
        "print(\"Array 2 is :\",y)\n",
        "print(\"Array 1 is :\",x)"
      ],
      "metadata": {
        "colab": {
          "base_uri": "https://localhost:8080/"
        },
        "id": "78JTPE5MfZdN",
        "outputId": "6a5e3d6a-6aba-4f61-aec9-4c7343445672"
      },
      "execution_count": 36,
      "outputs": [
        {
          "output_type": "stream",
          "name": "stdout",
          "text": [
            "[0 1 2 3]\n",
            "Array 2 is : [10  1  2  3]\n",
            "Array 1 is : [[10  1]\n",
            " [ 2  3]]\n"
          ]
        }
      ]
    },
    {
      "cell_type": "code",
      "source": [
        "x = np.array([4,5,6])\n",
        "y = np.array([7,8,9])\n",
        "print(\"Addition :\",x + y)"
      ],
      "metadata": {
        "colab": {
          "base_uri": "https://localhost:8080/"
        },
        "id": "RLT73RYXfb5G",
        "outputId": "a662c007-2025-4d99-b2c9-62e937336fb1"
      },
      "execution_count": 37,
      "outputs": [
        {
          "output_type": "stream",
          "name": "stdout",
          "text": [
            "Addition : [11 13 15]\n"
          ]
        }
      ]
    },
    {
      "cell_type": "code",
      "source": [
        "x = np.array([4,5,6])\n",
        "y = np.array([7,8,9])\n",
        "print(\"Subtraction :\",x - y)"
      ],
      "metadata": {
        "colab": {
          "base_uri": "https://localhost:8080/"
        },
        "id": "cWwkc8E0feHm",
        "outputId": "f52b8584-2231-4f62-f830-1e35b1db3001"
      },
      "execution_count": 38,
      "outputs": [
        {
          "output_type": "stream",
          "name": "stdout",
          "text": [
            "Subtraction : [-3 -3 -3]\n"
          ]
        }
      ]
    },
    {
      "cell_type": "code",
      "source": [
        "x = np.array([4,5,6])\n",
        "y = np.array([7,8,9])\n",
        "print(\"Multiplication :\",x * y)"
      ],
      "metadata": {
        "colab": {
          "base_uri": "https://localhost:8080/"
        },
        "id": "9nyfPT41fgKy",
        "outputId": "41f3795c-c6db-467f-e544-e1d7307ff1c0"
      },
      "execution_count": 39,
      "outputs": [
        {
          "output_type": "stream",
          "name": "stdout",
          "text": [
            "Multiplication : [28 40 54]\n"
          ]
        }
      ]
    },
    {
      "cell_type": "code",
      "source": [
        "x = np.array([14,15,16])\n",
        "y = np.array([7,8,9])\n",
        "print(\"Integer Division :\",x // y)"
      ],
      "metadata": {
        "colab": {
          "base_uri": "https://localhost:8080/"
        },
        "id": "IZIrxk-8fiEB",
        "outputId": "892dde0d-e0eb-4dbb-d0ba-b1869678035b"
      },
      "execution_count": 40,
      "outputs": [
        {
          "output_type": "stream",
          "name": "stdout",
          "text": [
            "Integer Division : [2 1 1]\n"
          ]
        }
      ]
    },
    {
      "cell_type": "code",
      "source": [
        "# Scalar Product not possible for different dimensional arrays.\n",
        "a = np.array([np.arange(0,3), np.arange(0,6)])\n",
        "b = np.array([np.arange(0,2), np.arange(2,4), np.arange(4,6)])\n",
        "print('Matrix a is:',a)\n",
        "print('Matrix b is:',b)\n",
        "print('Scalar Product is:', a * 2)\n",
        "print('Dot Product:', np.dot(a, b))"
      ],
      "metadata": {
        "colab": {
          "base_uri": "https://localhost:8080/",
          "height": 376
        },
        "id": "P4XcR5LafknG",
        "outputId": "9cceeb33-080c-4693-f0ad-001d853e3b33"
      },
      "execution_count": 41,
      "outputs": [
        {
          "output_type": "stream",
          "name": "stdout",
          "text": [
            "Matrix a is: [array([0, 1, 2]) array([0, 1, 2, 3, 4, 5])]\n",
            "Matrix b is: [[0 1]\n",
            " [2 3]\n",
            " [4 5]]\n",
            "Scalar Product is: [array([0, 2, 4]) array([ 0,  2,  4,  6,  8, 10])]\n"
          ]
        },
        {
          "output_type": "stream",
          "name": "stderr",
          "text": [
            "/usr/local/lib/python3.7/dist-packages/ipykernel_launcher.py:2: VisibleDeprecationWarning: Creating an ndarray from ragged nested sequences (which is a list-or-tuple of lists-or-tuples-or ndarrays with different lengths or shapes) is deprecated. If you meant to do this, you must specify 'dtype=object' when creating the ndarray.\n",
            "  \n"
          ]
        },
        {
          "output_type": "error",
          "ename": "ValueError",
          "evalue": "ignored",
          "traceback": [
            "\u001b[0;31m---------------------------------------------------------------------------\u001b[0m",
            "\u001b[0;31mValueError\u001b[0m                                Traceback (most recent call last)",
            "\u001b[0;32m<ipython-input-41-52c03adefa8e>\u001b[0m in \u001b[0;36m<module>\u001b[0;34m()\u001b[0m\n\u001b[1;32m      5\u001b[0m \u001b[0mprint\u001b[0m\u001b[0;34m(\u001b[0m\u001b[0;34m'Matrix b is:'\u001b[0m\u001b[0;34m,\u001b[0m\u001b[0mb\u001b[0m\u001b[0;34m)\u001b[0m\u001b[0;34m\u001b[0m\u001b[0;34m\u001b[0m\u001b[0m\n\u001b[1;32m      6\u001b[0m \u001b[0mprint\u001b[0m\u001b[0;34m(\u001b[0m\u001b[0;34m'Scalar Product is:'\u001b[0m\u001b[0;34m,\u001b[0m \u001b[0ma\u001b[0m \u001b[0;34m*\u001b[0m \u001b[0;36m2\u001b[0m\u001b[0;34m)\u001b[0m\u001b[0;34m\u001b[0m\u001b[0;34m\u001b[0m\u001b[0m\n\u001b[0;32m----> 7\u001b[0;31m \u001b[0mprint\u001b[0m\u001b[0;34m(\u001b[0m\u001b[0;34m'Dot Product:'\u001b[0m\u001b[0;34m,\u001b[0m \u001b[0mnp\u001b[0m\u001b[0;34m.\u001b[0m\u001b[0mdot\u001b[0m\u001b[0;34m(\u001b[0m\u001b[0ma\u001b[0m\u001b[0;34m,\u001b[0m \u001b[0mb\u001b[0m\u001b[0;34m)\u001b[0m\u001b[0;34m)\u001b[0m\u001b[0;34m\u001b[0m\u001b[0;34m\u001b[0m\u001b[0m\n\u001b[0m",
            "\u001b[0;32m<__array_function__ internals>\u001b[0m in \u001b[0;36mdot\u001b[0;34m(*args, **kwargs)\u001b[0m\n",
            "\u001b[0;31mValueError\u001b[0m: shapes (2,) and (3,2) not aligned: 2 (dim 0) != 3 (dim 0)"
          ]
        }
      ]
    },
    {
      "cell_type": "code",
      "source": [
        "# Addition of two arrays having different dimensions is not possible.\n",
        "a = np.array([1, 2, 3])\n",
        "b = np.array([4, 5, 6, 7])\n",
        "print(\"Sum =\",a + b)"
      ],
      "metadata": {
        "colab": {
          "base_uri": "https://localhost:8080/",
          "height": 200
        },
        "id": "xJjhIPkMfnMC",
        "outputId": "3ea626ee-1556-469d-ec9f-8ae885cc5545"
      },
      "execution_count": 42,
      "outputs": [
        {
          "output_type": "error",
          "ename": "ValueError",
          "evalue": "ignored",
          "traceback": [
            "\u001b[0;31m---------------------------------------------------------------------------\u001b[0m",
            "\u001b[0;31mValueError\u001b[0m                                Traceback (most recent call last)",
            "\u001b[0;32m<ipython-input-42-6b58a53f2c4c>\u001b[0m in \u001b[0;36m<module>\u001b[0;34m()\u001b[0m\n\u001b[1;32m      2\u001b[0m \u001b[0ma\u001b[0m \u001b[0;34m=\u001b[0m \u001b[0mnp\u001b[0m\u001b[0;34m.\u001b[0m\u001b[0marray\u001b[0m\u001b[0;34m(\u001b[0m\u001b[0;34m[\u001b[0m\u001b[0;36m1\u001b[0m\u001b[0;34m,\u001b[0m \u001b[0;36m2\u001b[0m\u001b[0;34m,\u001b[0m \u001b[0;36m3\u001b[0m\u001b[0;34m]\u001b[0m\u001b[0;34m)\u001b[0m\u001b[0;34m\u001b[0m\u001b[0;34m\u001b[0m\u001b[0m\n\u001b[1;32m      3\u001b[0m \u001b[0mb\u001b[0m \u001b[0;34m=\u001b[0m \u001b[0mnp\u001b[0m\u001b[0;34m.\u001b[0m\u001b[0marray\u001b[0m\u001b[0;34m(\u001b[0m\u001b[0;34m[\u001b[0m\u001b[0;36m4\u001b[0m\u001b[0;34m,\u001b[0m \u001b[0;36m5\u001b[0m\u001b[0;34m,\u001b[0m \u001b[0;36m6\u001b[0m\u001b[0;34m,\u001b[0m \u001b[0;36m7\u001b[0m\u001b[0;34m]\u001b[0m\u001b[0;34m)\u001b[0m\u001b[0;34m\u001b[0m\u001b[0;34m\u001b[0m\u001b[0m\n\u001b[0;32m----> 4\u001b[0;31m \u001b[0mprint\u001b[0m\u001b[0;34m(\u001b[0m\u001b[0;34m\"Sum =\"\u001b[0m\u001b[0;34m,\u001b[0m\u001b[0ma\u001b[0m \u001b[0;34m+\u001b[0m \u001b[0mb\u001b[0m\u001b[0;34m)\u001b[0m\u001b[0;34m\u001b[0m\u001b[0;34m\u001b[0m\u001b[0m\n\u001b[0m",
            "\u001b[0;31mValueError\u001b[0m: operands could not be broadcast together with shapes (3,) (4,) "
          ]
        }
      ]
    },
    {
      "cell_type": "code",
      "source": [
        "x = np.array([[45,65],[74,34],[31,19]])\n",
        "print(\"Matrix 1 :\",x)\n",
        "y = np.array([37,25,85])\n",
        "z = np.array([34,24])\n",
        "print(\"shape of x :\",x.shape)\n",
        "print(\"shape of y :\",y.shape)\n",
        "print(\"shape of z :\",z.shape)\n",
        "print(\"Addition of x and z :\",x + z)"
      ],
      "metadata": {
        "colab": {
          "base_uri": "https://localhost:8080/"
        },
        "id": "7p5e5HXFfqUO",
        "outputId": "9f51a77a-24bc-4408-ab52-784b40259934"
      },
      "execution_count": 43,
      "outputs": [
        {
          "output_type": "stream",
          "name": "stdout",
          "text": [
            "Matrix 1 : [[45 65]\n",
            " [74 34]\n",
            " [31 19]]\n",
            "shape of x : (3, 2)\n",
            "shape of y : (3,)\n",
            "shape of z : (2,)\n",
            "Addition of x and z : [[ 79  89]\n",
            " [108  58]\n",
            " [ 65  43]]\n"
          ]
        }
      ]
    },
    {
      "cell_type": "code",
      "source": [
        "print(x + y)"
      ],
      "metadata": {
        "colab": {
          "base_uri": "https://localhost:8080/",
          "height": 165
        },
        "id": "BCo2UrukftF9",
        "outputId": "b151e153-d76d-486f-8906-975e6ff5824e"
      },
      "execution_count": 44,
      "outputs": [
        {
          "output_type": "error",
          "ename": "ValueError",
          "evalue": "ignored",
          "traceback": [
            "\u001b[0;31m---------------------------------------------------------------------------\u001b[0m",
            "\u001b[0;31mValueError\u001b[0m                                Traceback (most recent call last)",
            "\u001b[0;32m<ipython-input-44-f09a7b03ddbf>\u001b[0m in \u001b[0;36m<module>\u001b[0;34m()\u001b[0m\n\u001b[0;32m----> 1\u001b[0;31m \u001b[0mprint\u001b[0m\u001b[0;34m(\u001b[0m\u001b[0mx\u001b[0m \u001b[0;34m+\u001b[0m \u001b[0my\u001b[0m\u001b[0;34m)\u001b[0m\u001b[0;34m\u001b[0m\u001b[0;34m\u001b[0m\u001b[0m\n\u001b[0m",
            "\u001b[0;31mValueError\u001b[0m: operands could not be broadcast together with shapes (3,2) (3,) "
          ]
        }
      ]
    },
    {
      "cell_type": "code",
      "source": [
        ""
      ],
      "metadata": {
        "id": "qrg2TrB7fv1l"
      },
      "execution_count": null,
      "outputs": []
    }
  ]
}