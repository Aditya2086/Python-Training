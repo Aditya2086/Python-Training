{
  "nbformat": 4,
  "nbformat_minor": 0,
  "metadata": {
    "colab": {
      "name": "Day_11_PT_02_Destructor,_Inheritance,_Abstraction_and_Methods.ipynb",
      "provenance": [],
      "authorship_tag": "ABX9TyOLvk3m6prieGihUP6zbXUn",
      "include_colab_link": true
    },
    "kernelspec": {
      "name": "python3",
      "display_name": "Python 3"
    },
    "language_info": {
      "name": "python"
    }
  },
  "cells": [
    {
      "cell_type": "markdown",
      "metadata": {
        "id": "view-in-github",
        "colab_type": "text"
      },
      "source": [
        "<a href=\"https://colab.research.google.com/github/Aditya2086/Python-Training/blob/main/Day_11_PT_02_Destructor%2C_Inheritance%2C_Abstraction_and_Methods.ipynb\" target=\"_parent\"><img src=\"https://colab.research.google.com/assets/colab-badge.svg\" alt=\"Open In Colab\"/></a>"
      ]
    },
    {
      "cell_type": "markdown",
      "source": [
        "# **Destructors in OOPS :-**"
      ],
      "metadata": {
        "id": "BDfw7OYAcx0O"
      }
    },
    {
      "cell_type": "code",
      "execution_count": null,
      "metadata": {
        "colab": {
          "base_uri": "https://localhost:8080/"
        },
        "id": "DkookVCRT21X",
        "outputId": "0d6163cc-a06e-4af8-939d-0f1c96d95911"
      },
      "outputs": [
        {
          "output_type": "stream",
          "name": "stdout",
          "text": [
            "Constructor is called\n",
            "Display method is called\n"
          ]
        }
      ],
      "source": [
        "class demo:\n",
        "  def __init__(self):\n",
        "    print('Constructor is called')\n",
        "\n",
        "  def display(self):\n",
        "    print('Display method is called')\n",
        "\n",
        "  def __del__(self):\n",
        "    print('Destructor is called')\n",
        "\n",
        "d = demo()\n",
        "d.display()"
      ]
    },
    {
      "cell_type": "markdown",
      "source": [
        "# **How To Change Private Attributes :-**"
      ],
      "metadata": {
        "id": "sGyZtUHIdCqJ"
      }
    },
    {
      "cell_type": "code",
      "source": [
        "class speed:\n",
        "  def __init__(self):\n",
        "    self.speed = 10\n",
        "\n",
        "  def get_speed(self):\n",
        "    return self.speed\n",
        "\n",
        "s = speed()\n",
        "s.get_speed()"
      ],
      "metadata": {
        "colab": {
          "base_uri": "https://localhost:8080/"
        },
        "id": "u4yWk0RMdAY9",
        "outputId": "103ebf8d-ce58-4030-acd2-0905466363f8"
      },
      "execution_count": null,
      "outputs": [
        {
          "output_type": "execute_result",
          "data": {
            "text/plain": [
              "10"
            ]
          },
          "metadata": {},
          "execution_count": 2
        }
      ]
    },
    {
      "cell_type": "code",
      "source": [
        "class speed:\n",
        "  def __init__(self):\n",
        "    self.speed = 10\n",
        "\n",
        "  def get_speed(self):\n",
        "    return self.speed\n",
        "\n",
        "s = speed()\n",
        "s.speed = 100\n",
        "s.get_speed()"
      ],
      "metadata": {
        "colab": {
          "base_uri": "https://localhost:8080/"
        },
        "id": "ljgEw6yBdOEq",
        "outputId": "f05f0bfb-9cca-4ec2-a9ee-b59bef30ac82"
      },
      "execution_count": null,
      "outputs": [
        {
          "output_type": "execute_result",
          "data": {
            "text/plain": [
              "100"
            ]
          },
          "metadata": {},
          "execution_count": 3
        }
      ]
    },
    {
      "cell_type": "code",
      "source": [
        "class speed:\n",
        "  def __init__(self):\n",
        "    self.speed = 10\n",
        "    self.__setspeed = 70\n",
        "\n",
        "  def get_speed(self):\n",
        "    return self.speed\n",
        "\n",
        "  def set_speed(self):\n",
        "    return self.__setspeed\n",
        "\n",
        "s = speed()\n",
        "s.speed = 100\n",
        "s.__setspeed = 120\n",
        "s.get_speed(), s.set_speed()"
      ],
      "metadata": {
        "colab": {
          "base_uri": "https://localhost:8080/"
        },
        "id": "TbkwQWhudTKE",
        "outputId": "b8a212ce-8660-4089-c847-af75800667f6"
      },
      "execution_count": null,
      "outputs": [
        {
          "output_type": "execute_result",
          "data": {
            "text/plain": [
              "(100, 70)"
            ]
          },
          "metadata": {},
          "execution_count": 4
        }
      ]
    },
    {
      "cell_type": "code",
      "source": [
        "class speed:\n",
        "  def __init__(self):\n",
        "    self.speed = 10\n",
        "    self.__setspeed = 70\n",
        "\n",
        "  def get_speed(self):\n",
        "    return self.speed\n",
        "\n",
        "  def set_speed(self):\n",
        "    return self.__setspeed\n",
        "\n",
        "  def set_speed_limit(self, new_speed):\n",
        "    self.__setspeed = new_speed\n",
        "\n",
        "s = speed()\n",
        "s.speed = 100\n",
        "s.set_speed_limit(120)\n",
        "s.get_speed(), s.set_speed()"
      ],
      "metadata": {
        "colab": {
          "base_uri": "https://localhost:8080/"
        },
        "id": "G01j9ajUdVcz",
        "outputId": "7ac9f75f-03ef-4ab1-894d-92b5913cb6fd"
      },
      "execution_count": null,
      "outputs": [
        {
          "output_type": "execute_result",
          "data": {
            "text/plain": [
              "(100, 120)"
            ]
          },
          "metadata": {},
          "execution_count": 5
        }
      ]
    },
    {
      "cell_type": "markdown",
      "source": [
        "# **Abstraction in OOPS Python :-**"
      ],
      "metadata": {
        "id": "36Gy5ntOdb8M"
      }
    },
    {
      "cell_type": "code",
      "source": [
        "from abc import ABC, abstractmethod\n",
        "class animal(ABC):\n",
        "  @abstractmethod\n",
        "  def dog(self):\n",
        "    pass # declared but not defined\n",
        "\n",
        "class pet(animal):\n",
        "  def dog(self):\n",
        "    print('Loyal friend')\n",
        "\n",
        "p = pet()\n",
        "p.dog()"
      ],
      "metadata": {
        "colab": {
          "base_uri": "https://localhost:8080/"
        },
        "id": "tJS2QBUUdiGl",
        "outputId": "7b09ea03-2810-4dd3-caea-a505cc1b1f48"
      },
      "execution_count": null,
      "outputs": [
        {
          "output_type": "stream",
          "name": "stdout",
          "text": [
            "Loyal friend\n"
          ]
        }
      ]
    },
    {
      "cell_type": "markdown",
      "source": [
        "# **Inheritance :-**"
      ],
      "metadata": {
        "id": "GdBd1E6Ldls9"
      }
    },
    {
      "cell_type": "code",
      "source": [
        "class employee:\n",
        "  raise_amount = 1.05\n",
        "  def __init__(self, firstn, lastn, sal):\n",
        "    self.firstn = firstn\n",
        "    self.lastn = lastn\n",
        "    self.sal = sal\n",
        "\n",
        "  def fulln(self):\n",
        "    return '{} {}'.format(self.firstn, self.lastn)\n",
        "\n",
        "  def raise_in_salary(self):\n",
        "    self.sal = int(self.sal * self.raise_amount)\n",
        "\n",
        "emp1 = employee('Tony', 'Stark', 75000000)\n",
        "emp2 = employee('Steve', 'Rogers', 65000000)\n",
        "print(emp1.fulln())\n",
        "print('The salary is', emp1.sal)\n",
        "emp1.raise_in_salary()\n",
        "print('The salary is', emp1.sal)"
      ],
      "metadata": {
        "colab": {
          "base_uri": "https://localhost:8080/"
        },
        "id": "jW0660JRdj_j",
        "outputId": "02e80471-f111-421c-9cf1-74617f518cfb"
      },
      "execution_count": null,
      "outputs": [
        {
          "output_type": "stream",
          "name": "stdout",
          "text": [
            "Tony Stark\n",
            "The salary is 75000000\n",
            "The salary is 78750000\n"
          ]
        }
      ]
    },
    {
      "cell_type": "code",
      "source": [
        "class developers(employee):\n",
        "  pass\n",
        "\n",
        "emp1 = developers('Tony', 'Stark', 75000000)\n",
        "emp2 = developers('Steve', 'Rogers', 65000000)\n",
        "print(emp1.fulln())\n",
        "print('The salary is', emp1.sal)\n",
        "emp1.raise_in_salary()\n",
        "print('The salary is', emp1.sal)"
      ],
      "metadata": {
        "colab": {
          "base_uri": "https://localhost:8080/"
        },
        "id": "3QRPnRwRdrDH",
        "outputId": "71194550-fad2-4c13-d4ac-22f49c5afa51"
      },
      "execution_count": null,
      "outputs": [
        {
          "output_type": "stream",
          "name": "stdout",
          "text": [
            "Tony Stark\n",
            "The salary is 75000000\n",
            "The salary is 78750000\n"
          ]
        }
      ]
    },
    {
      "cell_type": "code",
      "source": [
        "class developers(employee):\n",
        "  raise_amount = 2.04\n",
        "\n",
        "emp1 = developers('Tony', 'Stark', 75000000)\n",
        "emp2 = developers('Steve', 'Rogers', 65000000)\n",
        "print(emp1.fulln())\n",
        "print('The salary is', emp1.sal)\n",
        "emp1.raise_in_salary()\n",
        "print('The salary is', emp1.sal)"
      ],
      "metadata": {
        "colab": {
          "base_uri": "https://localhost:8080/"
        },
        "id": "OGiPhghsdt_u",
        "outputId": "ab338a2d-0722-439b-c523-55687b9f12a4"
      },
      "execution_count": null,
      "outputs": [
        {
          "output_type": "stream",
          "name": "stdout",
          "text": [
            "Tony Stark\n",
            "The salary is 75000000\n",
            "The salary is 153000000\n"
          ]
        }
      ]
    },
    {
      "cell_type": "code",
      "source": [
        "class developers(employee):\n",
        "  raise_amount = 2.04\n",
        "  def __init__(self, firstn, lastn, sal, prog_lang):\n",
        "    employee.__init__(self, firstn, lastn, sal)\n",
        "    self.prog_lang = prog_lang\n",
        "\n",
        "emp1 = developers('Tony', 'Stark', 75000000, 'Python')\n",
        "emp2 = developers('Steve', 'Rogers', 65000000, 'Javascript')\n",
        "print(emp1.fulln())\n",
        "print('The salary is', emp1.sal)\n",
        "emp1.raise_in_salary()\n",
        "print('The salary is', emp1.sal)"
      ],
      "metadata": {
        "colab": {
          "base_uri": "https://localhost:8080/"
        },
        "id": "bTISXAK3dwRY",
        "outputId": "e1645536-a0ab-42ae-eaab-87f4f85603ea"
      },
      "execution_count": null,
      "outputs": [
        {
          "output_type": "stream",
          "name": "stdout",
          "text": [
            "Tony Stark\n",
            "The salary is 75000000\n",
            "The salary is 153000000\n"
          ]
        }
      ]
    },
    {
      "cell_type": "code",
      "source": [
        "class developers(employee):\n",
        "  raise_amount = 2.04\n",
        "  def __init__(self, firstn, lastn, sal, prog_lang):\n",
        "    super().__init__(firstn, lastn, sal)\n",
        "    self.prog_lang = prog_lang\n",
        "\n",
        "emp1 = developers('Tony', 'Stark', 75000000, 'Python')\n",
        "emp2 = developers('Steve', 'Rogers', 65000000, 'Javascript')\n",
        "print(emp1.fulln())\n",
        "print('The salary is', emp1.sal)\n",
        "emp1.raise_in_salary()\n",
        "print('The salary is', emp1.sal)"
      ],
      "metadata": {
        "colab": {
          "base_uri": "https://localhost:8080/"
        },
        "id": "jsKbxQr4dzKF",
        "outputId": "176b8dab-dda3-4b4a-ba9c-e3328c48c981"
      },
      "execution_count": null,
      "outputs": [
        {
          "output_type": "stream",
          "name": "stdout",
          "text": [
            "Tony Stark\n",
            "The salary is 75000000\n",
            "The salary is 153000000\n"
          ]
        }
      ]
    },
    {
      "cell_type": "code",
      "source": [
        "class managers(employee):\n",
        "  def __init__(self, firstn, lastn, sal, employees = None):\n",
        "    super().__init__(firstn, lastn, sal)\n",
        "    if employees is None:\n",
        "      self.employees = []\n",
        "    else:\n",
        "      self.employees = employees\n",
        "\n",
        "  def add_emp(self,emp):\n",
        "    if emp not in self.employees:\n",
        "      self.employees.append(emp)\n",
        "  \n",
        "  def remove_emp(self, emp):\n",
        "    if emp in self.employees:\n",
        "      self.employees.remove(emp)\n",
        "\n",
        "  def print_emp(self):\n",
        "    for emp in self.employees:\n",
        "      print('-->',emp.fulln())\n",
        "\n",
        "emp1 = developers('Tony', 'Stark', 75000000, 'Python')\n",
        "emp2 = developers('Steve', 'Rogers', 65000000, 'Javascript')\n",
        "mgr = managers('Nick', 'Fury', 1000000000, [emp1])\n",
        "print(mgr.sal)\n",
        "mgr.add_emp(emp2)\n",
        "print('Employees List After adding all employees:')\n",
        "mgr.print_emp()\n",
        "mgr.remove_emp(emp1)\n",
        "print('Employees List After removing any employees:')\n",
        "mgr.print_emp()"
      ],
      "metadata": {
        "colab": {
          "base_uri": "https://localhost:8080/"
        },
        "id": "pfi_NYD8d3Py",
        "outputId": "cbcf09dc-fb4a-427d-c550-8c46e6a6fd49"
      },
      "execution_count": null,
      "outputs": [
        {
          "output_type": "stream",
          "name": "stdout",
          "text": [
            "1000000000\n",
            "Employees List After adding all employees:\n",
            "--> Tony Stark\n",
            "--> Steve Rogers\n",
            "Employees List After removing any employees:\n",
            "--> Steve Rogers\n"
          ]
        }
      ]
    },
    {
      "cell_type": "code",
      "source": [
        "def add_emp(emp, emp_list = []):\n",
        "  emp_list.append(emp)\n",
        "  print(emp_list)\n",
        "\n",
        "emp_list = ['Tony', 'Steve']\n",
        "add_emp('Bruce')\n",
        "add_emp('Thor')\n",
        "add_emp('Strange')\n",
        "print(emp_list)"
      ],
      "metadata": {
        "colab": {
          "base_uri": "https://localhost:8080/"
        },
        "id": "-Sq_IzYAd69k",
        "outputId": "de7b7cbc-72df-44f8-ae13-4891ae56426e"
      },
      "execution_count": null,
      "outputs": [
        {
          "output_type": "stream",
          "name": "stdout",
          "text": [
            "['Bruce']\n",
            "['Bruce', 'Thor']\n",
            "['Bruce', 'Thor', 'Strange']\n",
            "['Tony', 'Steve']\n"
          ]
        }
      ]
    },
    {
      "cell_type": "code",
      "source": [
        "def add_emp(emp, emp_list = None):\n",
        "  if emp_list is None:\n",
        "    emp_list = []\n",
        "  emp_list.append(emp)\n",
        "  print(emp_list)\n",
        "\n",
        "emp_list = ['Tony', 'Steve']\n",
        "add_emp('Bruce')\n",
        "add_emp('Thor')\n",
        "add_emp('Strange')\n",
        "print(emp_list)"
      ],
      "metadata": {
        "colab": {
          "base_uri": "https://localhost:8080/"
        },
        "id": "jPNTv8wFd9hF",
        "outputId": "2f9b3d17-7c1f-4001-ae82-496082971009"
      },
      "execution_count": null,
      "outputs": [
        {
          "output_type": "stream",
          "name": "stdout",
          "text": [
            "['Bruce']\n",
            "['Thor']\n",
            "['Strange']\n",
            "['Tony', 'Steve']\n"
          ]
        }
      ]
    },
    {
      "cell_type": "markdown",
      "source": [
        "# **Repr, Str Methods :-**"
      ],
      "metadata": {
        "id": "mlKApSyAeDue"
      }
    },
    {
      "cell_type": "code",
      "source": [
        "class employee:\n",
        "  raise_amount = 1.05\n",
        "  def __init__(self, firstn, lastn, sal):\n",
        "    self.firstn = firstn\n",
        "    self.lastn = lastn\n",
        "    self.sal = sal\n",
        "\n",
        "  def fulln(self):\n",
        "    return '{} {}'.format(self.firstn, self.lastn)\n",
        "\n",
        "  def raise_in_salary(self):\n",
        "    self.sal = int(self.sal * self.raise_amount)\n",
        "\n",
        "  def __repr__(self):\n",
        "    return '{} {}'.format(self.firstn, self.lastn)\n",
        "\n",
        "  def __str__(self):\n",
        "    return '{}- {}'.format(self.fulln(), self.sal)\n",
        "\n",
        "emp1 = employee('Tony', 'Stark', 75000000)\n",
        "emp2 = employee('Steve', 'Rogers', 65000000)\n",
        "print(emp1)"
      ],
      "metadata": {
        "colab": {
          "base_uri": "https://localhost:8080/"
        },
        "id": "WuLCB9W8eAbr",
        "outputId": "94155361-d347-42e2-c8bf-bc761077456d"
      },
      "execution_count": null,
      "outputs": [
        {
          "output_type": "stream",
          "name": "stdout",
          "text": [
            "Tony Stark- 75000000\n"
          ]
        }
      ]
    },
    {
      "cell_type": "code",
      "source": [
        ""
      ],
      "metadata": {
        "id": "Ixjbi057eMIu"
      },
      "execution_count": null,
      "outputs": []
    },
    {
      "cell_type": "markdown",
      "source": [
        "# **Different methods in OOPS :-**"
      ],
      "metadata": {
        "id": "s2EKPbhSeO4j"
      }
    },
    {
      "cell_type": "code",
      "source": [
        "class MyClass:\n",
        "  def method(self):\n",
        "    return 'Instance Method Called', self\n",
        "\n",
        "  @classmethod\n",
        "  def class_method(cls):\n",
        "    return 'Class Method Called', cls\n",
        "\n",
        "  @staticmethod\n",
        "  def static_method():\n",
        "    return 'Static Method Called'\n",
        "\n",
        "obj = MyClass()\n",
        "obj.method()"
      ],
      "metadata": {
        "colab": {
          "base_uri": "https://localhost:8080/"
        },
        "id": "wFoBPG8zeSuM",
        "outputId": "ce6c6d30-beec-4460-93f4-02bb78cd5631"
      },
      "execution_count": null,
      "outputs": [
        {
          "output_type": "execute_result",
          "data": {
            "text/plain": [
              "('Instance Method Called', <__main__.MyClass at 0x7fd2e414b410>)"
            ]
          },
          "metadata": {},
          "execution_count": 16
        }
      ]
    },
    {
      "cell_type": "code",
      "source": [
        "class Pizza:\n",
        "  def __init__(self, ingredients):\n",
        "    self.ingredients = ingredients\n",
        "\n",
        "  def __repr__(self):\n",
        "    return f'Pizza({self.ingredients})'\n",
        "\n",
        "  @classmethod \n",
        "  def __panpizza__(cls, self):\n",
        "    self.type = type \n",
        "  \n",
        "  def pizzatype(self, types):\n",
        "    return types\n",
        "\n",
        "  @classmethod\n",
        "  def bakepizza(cls):\n",
        "    return cls(['mozzarella', 'cheeseburst', 'onion'])\n",
        "\n",
        "p = Pizza('Heese Burst Pizza')\n",
        "t = Pizza('Pan Pizza')\n",
        "print(t.pizzatype('Pan Pizza'))"
      ],
      "metadata": {
        "colab": {
          "base_uri": "https://localhost:8080/"
        },
        "id": "CMTjnzc1eVz7",
        "outputId": "b390b9cb-4180-4dc1-beb3-ca6df433065b"
      },
      "execution_count": null,
      "outputs": [
        {
          "output_type": "stream",
          "name": "stdout",
          "text": [
            "Pan Pizza\n"
          ]
        }
      ]
    },
    {
      "cell_type": "code",
      "source": [
        "import math\n",
        "class Pizza:\n",
        "  def __init__(self, radius, ingredients):\n",
        "    self.radius = radius\n",
        "    self.ingredients = ingredients\n",
        "\n",
        "  def area(self):\n",
        "    return self.pizza_area(self.radius)\n",
        "  \n",
        "  @staticmethod\n",
        "  def pizza_area(r):\n",
        "    return math.pi*r**2\n",
        "\n",
        "p = Pizza(4,['Barbequed', 'Pan'])\n",
        "print(p.area())"
      ],
      "metadata": {
        "colab": {
          "base_uri": "https://localhost:8080/"
        },
        "id": "mB4rO6FZeY2h",
        "outputId": "4c38856d-d4d9-43be-9385-3cc35d0d03ed"
      },
      "execution_count": null,
      "outputs": [
        {
          "output_type": "stream",
          "name": "stdout",
          "text": [
            "50.26548245743669\n"
          ]
        }
      ]
    },
    {
      "cell_type": "code",
      "source": [
        "class Cons_Des:\n",
        "  def __init__(self):\n",
        "    print(\"Constructor called here...\")\n",
        "\n",
        "  def __show__(self):\n",
        "    print(\"Method show called here...\")\n",
        "\n",
        "  def __del__(self): # destructor \n",
        "    print(\"Destructor called here...\")\n",
        "\n",
        "cd = Cons_Des()\n",
        "cd.__show__()"
      ],
      "metadata": {
        "colab": {
          "base_uri": "https://localhost:8080/"
        },
        "id": "JLIAaZV_h_xF",
        "outputId": "fc4a6a31-1b7b-4c58-fa5b-ae1fbb14dff9"
      },
      "execution_count": 45,
      "outputs": [
        {
          "output_type": "stream",
          "name": "stdout",
          "text": [
            "Constructor called here...\n",
            "Method show called here...\n"
          ]
        }
      ]
    },
    {
      "cell_type": "code",
      "source": [
        "class velocity :\n",
        "  def __init__(self):\n",
        "    self.vel = 18\n",
        "  def velo_get(self):\n",
        "    return self.vel\n",
        "    \n",
        "V = velocity()\n",
        "V.velo_get()"
      ],
      "metadata": {
        "colab": {
          "base_uri": "https://localhost:8080/"
        },
        "id": "dg89pUg9iAp9",
        "outputId": "8df22fb4-70ef-429b-df35-fe519957c6fb"
      },
      "execution_count": 46,
      "outputs": [
        {
          "output_type": "execute_result",
          "data": {
            "text/plain": [
              "18"
            ]
          },
          "metadata": {},
          "execution_count": 46
        }
      ]
    },
    {
      "cell_type": "code",
      "source": [
        "class velocity :\n",
        "  def __init__(self):\n",
        "    self.vel = 18\n",
        "  def velo_get(self):\n",
        "    return self.vel\n",
        "    \n",
        "V = velocity()\n",
        "V.vel = 54\n",
        "V.velo_get()"
      ],
      "metadata": {
        "colab": {
          "base_uri": "https://localhost:8080/"
        },
        "id": "WSkE3MD9iDkJ",
        "outputId": "661a30a2-d8c2-488a-a127-bcaed4298d3d"
      },
      "execution_count": 47,
      "outputs": [
        {
          "output_type": "execute_result",
          "data": {
            "text/plain": [
              "54"
            ]
          },
          "metadata": {},
          "execution_count": 47
        }
      ]
    },
    {
      "cell_type": "code",
      "source": [
        "class velocity :\n",
        "  def __init__(self):\n",
        "    self.vel = 18\n",
        "    self.__veloset = 41 # setting private attribute\n",
        "\n",
        "  def velo_get(self):\n",
        "    return self.vel # fetching the value\n",
        "\n",
        "  def velo_set(self):\n",
        "    return self.__veloset \n",
        "    \n",
        "V = velocity()\n",
        "V.vel = 546\n",
        "V.velo_set() ,V.velo_get() # private attribute changed"
      ],
      "metadata": {
        "colab": {
          "base_uri": "https://localhost:8080/"
        },
        "id": "evOc-eUniFlu",
        "outputId": "c7a5ae3a-fe8b-4e08-f503-2c949d9e5971"
      },
      "execution_count": 48,
      "outputs": [
        {
          "output_type": "execute_result",
          "data": {
            "text/plain": [
              "(41, 546)"
            ]
          },
          "metadata": {},
          "execution_count": 48
        }
      ]
    },
    {
      "cell_type": "code",
      "source": [
        "class velocity :\n",
        "  def __init__(self):\n",
        "    self.vel = 18\n",
        "    self.__veloset = 41\n",
        "\n",
        "  def velo_get(self):\n",
        "    return self.vel\n",
        "\n",
        "  def velo_set(self):\n",
        "    return self.__veloset\n",
        "    \n",
        "  def set_lim(self,new_velo):\n",
        "    self.__veloset = new_velo # changing the value of private attribute using new variable\n",
        "    \n",
        "V = velocity()\n",
        "V.vel = 546\n",
        "V.set_lim(255)\n",
        "V.velo_set() ,V.velo_get()"
      ],
      "metadata": {
        "colab": {
          "base_uri": "https://localhost:8080/"
        },
        "id": "z-XYU1l6iIEp",
        "outputId": "5ea7a902-81ba-419d-a07f-d6573f3a0750"
      },
      "execution_count": 49,
      "outputs": [
        {
          "output_type": "execute_result",
          "data": {
            "text/plain": [
              "(255, 546)"
            ]
          },
          "metadata": {},
          "execution_count": 49
        }
      ]
    },
    {
      "cell_type": "code",
      "source": [
        "from abc import ABC , abstractmethod\n",
        "class fauna(ABC):\n",
        "  @abstractmethod # can't be used in this class because class is abstract one.\n",
        "  def tiger(self):\n",
        "    pass\n",
        "\n",
        "class wild(fauna):\n",
        "  pass\n",
        "\n",
        "wa = wild()\n",
        "wa.tiger()"
      ],
      "metadata": {
        "colab": {
          "base_uri": "https://localhost:8080/",
          "height": 217
        },
        "id": "sdil-ub4iLO-",
        "outputId": "9b2db2ff-d682-4af0-8bce-3bbd4fdf91f6"
      },
      "execution_count": 50,
      "outputs": [
        {
          "output_type": "error",
          "ename": "TypeError",
          "evalue": "ignored",
          "traceback": [
            "\u001b[0;31m---------------------------------------------------------------------------\u001b[0m",
            "\u001b[0;31mTypeError\u001b[0m                                 Traceback (most recent call last)",
            "\u001b[0;32m<ipython-input-50-34887be9f520>\u001b[0m in \u001b[0;36m<module>\u001b[0;34m()\u001b[0m\n\u001b[1;32m      8\u001b[0m   \u001b[0;32mpass\u001b[0m\u001b[0;34m\u001b[0m\u001b[0;34m\u001b[0m\u001b[0m\n\u001b[1;32m      9\u001b[0m \u001b[0;34m\u001b[0m\u001b[0m\n\u001b[0;32m---> 10\u001b[0;31m \u001b[0mwa\u001b[0m \u001b[0;34m=\u001b[0m \u001b[0mwild\u001b[0m\u001b[0;34m(\u001b[0m\u001b[0;34m)\u001b[0m\u001b[0;34m\u001b[0m\u001b[0;34m\u001b[0m\u001b[0m\n\u001b[0m\u001b[1;32m     11\u001b[0m \u001b[0mwa\u001b[0m\u001b[0;34m.\u001b[0m\u001b[0mtiger\u001b[0m\u001b[0;34m(\u001b[0m\u001b[0;34m)\u001b[0m\u001b[0;34m\u001b[0m\u001b[0;34m\u001b[0m\u001b[0m\n",
            "\u001b[0;31mTypeError\u001b[0m: Can't instantiate abstract class wild with abstract methods tiger"
          ]
        }
      ]
    },
    {
      "cell_type": "code",
      "source": [
        "from abc import ABC , abstractmethod\n",
        "class fauna(ABC):\n",
        "  @abstractmethod\n",
        "  def tiger(self): # can't be used in this class because class is abstract one.\n",
        "    pass # declared but not defined\n",
        "\n",
        "class wild(fauna):\n",
        "  def tiger(self): # abstract method can be used outside the abstract class\n",
        "    print('Found in Sunderban Delta')\n",
        "\n",
        "wa = wild()\n",
        "wa.tiger()"
      ],
      "metadata": {
        "colab": {
          "base_uri": "https://localhost:8080/"
        },
        "id": "JrxVaWpHiOGT",
        "outputId": "d1f1f1a2-699a-4106-bc28-a045ed484c28"
      },
      "execution_count": 51,
      "outputs": [
        {
          "output_type": "stream",
          "name": "stdout",
          "text": [
            "Found in Sunderban Delta\n"
          ]
        }
      ]
    },
    {
      "cell_type": "code",
      "source": [
        "class Emp:\n",
        "  inc = 1.22\n",
        "  def __init__(self,fname,lname,sal):\n",
        "    self.fname = fname\n",
        "    self.lname = lname\n",
        "    self.sal = sal\n",
        "\n",
        "  def fullname(self):\n",
        "    return '{} {}'.format(self.fname,self.lname)\n",
        "\n",
        "  def sal_rise(self):\n",
        "    self.sal = int(self.sal * self.inc)\n",
        "\n",
        "e1 = Emp('Steve','Smith',1250000)\n",
        "e2 = Emp('Glenn','Maxwell',950000)\n",
        "print('Previous salary')\n",
        "print(e1.fullname())\n",
        "print(\"Salary =\",e1.sal)\n",
        "print(e2.fullname())\n",
        "print(\"Salary =\",e2.sal)\n",
        "\n",
        "e1.sal_rise() # function call\n",
        "e2.sal_rise() # function call\n",
        "\n",
        "print('Salary After Increment')\n",
        "print(e1.fullname())\n",
        "print(\"Salary =\",e1.sal)\n",
        "e1.sal_rise()\n",
        "print(e2.fullname())\n",
        "print(\"Salary =\",e2.sal)"
      ],
      "metadata": {
        "colab": {
          "base_uri": "https://localhost:8080/"
        },
        "id": "RCag70zhiQk6",
        "outputId": "af441154-c58a-4f9c-cbae-b465e582c368"
      },
      "execution_count": 52,
      "outputs": [
        {
          "output_type": "stream",
          "name": "stdout",
          "text": [
            "Previous salary\n",
            "Steve Smith\n",
            "Salary = 1250000\n",
            "Glenn Maxwell\n",
            "Salary = 950000\n",
            "Salary After Increment\n",
            "Steve Smith\n",
            "Salary = 1525000\n",
            "Glenn Maxwell\n",
            "Salary = 1159000\n"
          ]
        }
      ]
    },
    {
      "cell_type": "code",
      "source": [
        "class DEV(Emp): # 'DVP' class inherits 'Emp' class \n",
        "  pass\n",
        "\n",
        "e1 = DEV('Steve','Smith',1250000)\n",
        "e2 = DEV('Glenn','Maxwell',950000)\n",
        "print('Previous salary')\n",
        "print(e1.fullname())\n",
        "print(\"Salary =\",e1.sal)\n",
        "print(e2.fullname())\n",
        "print(\"Salary =\",e2.sal)\n",
        "\n",
        "e1.sal_rise() # function call\n",
        "e2.sal_rise() # function call\n",
        "\n",
        "print('Salary After Increment')\n",
        "print(e1.fullname())\n",
        "print(\"Salary =\",e1.sal)\n",
        "e1.sal_rise()\n",
        "print(e2.fullname())\n",
        "print(\"Salary =\",e2.sal)"
      ],
      "metadata": {
        "colab": {
          "base_uri": "https://localhost:8080/"
        },
        "id": "3iZWOqiRiToK",
        "outputId": "394923e4-1e83-40bf-8147-8ebecd2ff23a"
      },
      "execution_count": 53,
      "outputs": [
        {
          "output_type": "stream",
          "name": "stdout",
          "text": [
            "Previous salary\n",
            "Steve Smith\n",
            "Salary = 1250000\n",
            "Glenn Maxwell\n",
            "Salary = 950000\n",
            "Salary After Increment\n",
            "Steve Smith\n",
            "Salary = 1525000\n",
            "Glenn Maxwell\n",
            "Salary = 1159000\n"
          ]
        }
      ]
    },
    {
      "cell_type": "code",
      "source": [
        "class DEV(Emp):\n",
        "  inc = 2.08 # everything will be same due to inheritance but new attribute value will be taken\n",
        "\n",
        "e1 = DEV('Steve','Smith',1250000)\n",
        "e2 = DEV('Glenn','Maxwell',950000)\n",
        "print('Previous salary')\n",
        "print(e1.fullname())\n",
        "print(\"Salary =\",e1.sal)\n",
        "print(e2.fullname())\n",
        "print(\"Salary =\",e2.sal)\n",
        "\n",
        "e1.sal_rise() # function call\n",
        "e2.sal_rise() # function call\n",
        "\n",
        "print('Salary After Increment')\n",
        "print(e1.fullname())\n",
        "print(\"Salary =\",e1.sal)\n",
        "e1.sal_rise()\n",
        "print(e2.fullname())\n",
        "print(\"Salary =\",e2.sal)"
      ],
      "metadata": {
        "colab": {
          "base_uri": "https://localhost:8080/"
        },
        "id": "YeTp6alwiW--",
        "outputId": "ea644179-7824-4e22-b136-72b9426fc418"
      },
      "execution_count": 54,
      "outputs": [
        {
          "output_type": "stream",
          "name": "stdout",
          "text": [
            "Previous salary\n",
            "Steve Smith\n",
            "Salary = 1250000\n",
            "Glenn Maxwell\n",
            "Salary = 950000\n",
            "Salary After Increment\n",
            "Steve Smith\n",
            "Salary = 2600000\n",
            "Glenn Maxwell\n",
            "Salary = 1976000\n"
          ]
        }
      ]
    },
    {
      "cell_type": "code",
      "source": [
        "class DEV(Emp):\n",
        "  inc = 2.31\n",
        "  def __init__(self,fname,lname,sal,PL):\n",
        "    Emp.__init__(self,fname,lname,sal)\n",
        "    self.PL = PL\n",
        "\n",
        "e1 = DEV('Steve','Smith',1250000,'C++')\n",
        "e2 = DEV('Glenn','Maxwell',950000,'Java')\n",
        "print('Previous salary')\n",
        "print(e1.fullname())\n",
        "print(\"Salary =\",e1.sal)\n",
        "print(e2.fullname())\n",
        "print(\"Salary =\",e2.sal)\n",
        "\n",
        "e1.sal_rise() # function call\n",
        "e2.sal_rise() # function call\n",
        "\n",
        "print('Salary After Increment')\n",
        "print(e1.fullname())\n",
        "print(\"Salary =\",e1.sal)\n",
        "e1.sal_rise()\n",
        "print(e2.fullname())\n",
        "print(\"Salary =\",e2.sal)"
      ],
      "metadata": {
        "colab": {
          "base_uri": "https://localhost:8080/"
        },
        "id": "mCKxsKxBiZxD",
        "outputId": "1ef8f86c-aac2-4433-cfca-7dcf8c58b54b"
      },
      "execution_count": 55,
      "outputs": [
        {
          "output_type": "stream",
          "name": "stdout",
          "text": [
            "Previous salary\n",
            "Steve Smith\n",
            "Salary = 1250000\n",
            "Glenn Maxwell\n",
            "Salary = 950000\n",
            "Salary After Increment\n",
            "Steve Smith\n",
            "Salary = 2887500\n",
            "Glenn Maxwell\n",
            "Salary = 2194500\n"
          ]
        }
      ]
    },
    {
      "cell_type": "code",
      "source": [
        "class DEV(Emp):\n",
        "  inc = 2.31\n",
        "  def __init__(self,fname,lname,sal,PL):\n",
        "    super().__init__(fname,lname,sal)  # using \"super class()\"\n",
        "    self.PL = PL\n",
        "\n",
        "e1 = DEV('Steve','Smith',1250000,'C++')\n",
        "e2 = DEV('Glenn','Maxwell',950000,'Java')\n",
        "print('Previous salary')\n",
        "print(e1.fullname())\n",
        "print(\"Salary =\",e1.sal)\n",
        "print(e2.fullname())\n",
        "print(\"Salary =\",e2.sal)\n",
        "\n",
        "e1.sal_rise() # function call\n",
        "e2.sal_rise() # function call\n",
        "\n",
        "print('Salary After Increment')\n",
        "print(e1.fullname())\n",
        "print(\"Salary =\",e1.sal)\n",
        "e1.sal_rise()\n",
        "print(e2.fullname())\n",
        "print(\"Salary =\",e2.sal)"
      ],
      "metadata": {
        "colab": {
          "base_uri": "https://localhost:8080/"
        },
        "id": "kyZXBD4lidIZ",
        "outputId": "490a7514-be6d-4392-c3f3-0ba1c736c3ea"
      },
      "execution_count": 56,
      "outputs": [
        {
          "output_type": "stream",
          "name": "stdout",
          "text": [
            "Previous salary\n",
            "Steve Smith\n",
            "Salary = 1250000\n",
            "Glenn Maxwell\n",
            "Salary = 950000\n",
            "Salary After Increment\n",
            "Steve Smith\n",
            "Salary = 2887500\n",
            "Glenn Maxwell\n",
            "Salary = 2194500\n"
          ]
        }
      ]
    },
    {
      "cell_type": "code",
      "source": [
        "class Managers(Emp):\n",
        "  def __init__(self,fname,lname,sal,Empl = None):\n",
        "    super().__init__(fname,lname,sal)\n",
        "    if Empl is None :\n",
        "      self.Empl = []\n",
        "    else:\n",
        "      self.Empl = Empl\n",
        "  \n",
        "  def Emp_Add(self,emp):\n",
        "    if emp not in self.Empl:\n",
        "      self.Empl.append(emp)\n",
        "\n",
        "  def Emp_Del(self,emp):\n",
        "    if emp in self.Empl:\n",
        "      self.Empl.remove(emp)\n",
        "\n",
        "  def Emp_Show(self):\n",
        "    for emp in self.Empl:\n",
        "      print('---->',emp.fname)\n",
        "\n",
        "e1 = DEV('Steve','Smith',1250000,'C++')\n",
        "e2 = DEV('Glenn','Maxwell',950000,'Java')\n",
        "mngr = Managers('Shane','Watson',469666000,[e1])\n",
        "print(mngr.sal)\n",
        "print(\"List of Employees after adding all employees ..........\")\n",
        "mngr.Emp_Add(e2)\n",
        "mngr.Emp_Show()\n",
        "print(\"List of Employees after deleting any employees ..........\")\n",
        "mngr.Emp_Del(e1)\n",
        "mngr.Emp_Show()"
      ],
      "metadata": {
        "colab": {
          "base_uri": "https://localhost:8080/"
        },
        "id": "dakROiJxigna",
        "outputId": "85096f1c-b65e-4462-cb26-62c0e5343b5d"
      },
      "execution_count": 57,
      "outputs": [
        {
          "output_type": "stream",
          "name": "stdout",
          "text": [
            "469666000\n",
            "List of Employees after adding all employees ..........\n",
            "----> Steve\n",
            "----> Glenn\n",
            "List of Employees after deleting any employees ..........\n",
            "----> Glenn\n"
          ]
        }
      ]
    },
    {
      "cell_type": "code",
      "source": [
        "def ADD_EMP(emp,emplst = []):\n",
        "  emplst.append(emp)\n",
        "  print(emplst)\n",
        "\n",
        "emplst = ['Ramesh','Suresh']\n",
        "ADD_EMP('Brijesh')\n",
        "ADD_EMP('Rajesh')\n",
        "ADD_EMP('Kamlesh')\n",
        "print(emplst)"
      ],
      "metadata": {
        "colab": {
          "base_uri": "https://localhost:8080/"
        },
        "id": "oJ0XZOdvikJZ",
        "outputId": "06cd39d5-0f31-4efd-98f1-22216dafdc93"
      },
      "execution_count": 58,
      "outputs": [
        {
          "output_type": "stream",
          "name": "stdout",
          "text": [
            "['Brijesh']\n",
            "['Brijesh', 'Rajesh']\n",
            "['Brijesh', 'Rajesh', 'Kamlesh']\n",
            "['Ramesh', 'Suresh']\n"
          ]
        }
      ]
    },
    {
      "cell_type": "code",
      "source": [
        "def ADD_EMP(emp,emplst = None):\n",
        "  if emplst is None : # cheking for None value\n",
        "    emplst = [] # defining an empty list\n",
        "  emplst.append(emp)\n",
        "  print(emplst)\n",
        "\n",
        "emplst = ['Ramesh','Suresh']\n",
        "ADD_EMP('Brijesh')\n",
        "ADD_EMP('Rajesh')\n",
        "ADD_EMP('Kamlesh')\n",
        "print(emplst)"
      ],
      "metadata": {
        "colab": {
          "base_uri": "https://localhost:8080/"
        },
        "id": "M3o5mG9wimpP",
        "outputId": "4ad35e89-960b-43d6-a540-8092d08ca1e2"
      },
      "execution_count": 59,
      "outputs": [
        {
          "output_type": "stream",
          "name": "stdout",
          "text": [
            "['Brijesh']\n",
            "['Rajesh']\n",
            "['Kamlesh']\n",
            "['Ramesh', 'Suresh']\n"
          ]
        }
      ]
    },
    {
      "cell_type": "code",
      "source": [
        "# \"__repr__\" & \"__str__\" both produce textual representation of object.\n",
        "class Emp:\n",
        "  inc = 1.22\n",
        "  def __init__(self,fname,lname,sal):\n",
        "    self.fname = fname\n",
        "    self.lname = lname\n",
        "    self.sal = sal\n",
        "\n",
        "  def fullname(self):\n",
        "    return '{} {}'.format(self.fname,self.lname)\n",
        "\n",
        "  def sal_rise(self):\n",
        "    self.sal = int(self.sal * self.inc)\n",
        "  \n",
        "# if both 'repr' and 'str' are used in a code then 'str' takes precedence.\n",
        "  def __repr__(self): # used for debugging purposes by the developers\n",
        "    return '{} {}'.format(self.fname,self.lname)\n",
        "\n",
        "  def __str__(self): # used generally by users\n",
        "    return '{}---> {}'.format(self.fullname(),self.sal)\n",
        "\n",
        "e1 = Emp('Steve','Smith',1250000)\n",
        "e2 = Emp('Glenn','Maxwell',950000)\n",
        "print(e1)"
      ],
      "metadata": {
        "colab": {
          "base_uri": "https://localhost:8080/"
        },
        "id": "hhV2x6f-ipt-",
        "outputId": "54388650-b4fa-40d6-fbcb-0036f409a976"
      },
      "execution_count": 60,
      "outputs": [
        {
          "output_type": "stream",
          "name": "stdout",
          "text": [
            "Steve Smith---> 1250000\n"
          ]
        }
      ]
    },
    {
      "cell_type": "code",
      "source": [
        "class M_class:\n",
        "  def method(self):\n",
        "    return 'Instance Method Called',self\n",
        "\n",
        "  @classmethod\n",
        "  def cls_method(cls):\n",
        "    return 'Class Method Called',cls\n",
        "\n",
        "  @staticmethod\n",
        "  def st_method():\n",
        "    return 'Static Method Called'\n",
        "\n",
        "O = M_class()\n",
        "print(O.method())\n",
        "print(O.cls_method())\n",
        "print(O.st_method())"
      ],
      "metadata": {
        "colab": {
          "base_uri": "https://localhost:8080/"
        },
        "id": "Vh-lCm_Ois9g",
        "outputId": "7e972ecf-34d0-4801-bdf6-bb1d0a144fa9"
      },
      "execution_count": 61,
      "outputs": [
        {
          "output_type": "stream",
          "name": "stdout",
          "text": [
            "('Instance Method Called', <__main__.M_class object at 0x7fd2d987bf90>)\n",
            "('Class Method Called', <class '__main__.M_class'>)\n",
            "Static Method Called\n"
          ]
        }
      ]
    },
    {
      "cell_type": "code",
      "source": [
        "class Noodles:\n",
        "  def __init__(self, ingt):\n",
        "    self.ingt = ingt\n",
        "\n",
        "  def __repr__(self):\n",
        "    return f'Noodles({self.ingt})'\n",
        "\n",
        "  @classmethod\n",
        "  def __hakkanoodles__(cls,self):\n",
        "    self.type = type\n",
        "\n",
        "  def noodles_variant(self, types):\n",
        "    return types\n",
        "\n",
        "  @classmethod\n",
        "  def MakeNoodles(cls):\n",
        "    return cls(['Cabbage','Chilli-Sauce','Noodles','Chicken-flakes'])\n",
        "\n",
        "CN = Noodles('Chicken Fried Noodles')\n",
        "VN = Noodles('Veg Fried Noodles')\n",
        "print(CN.noodles_variant('Chicken Fried Noodles'))\n",
        "print(VN.noodles_variant('Veg Fried Noodles'))"
      ],
      "metadata": {
        "colab": {
          "base_uri": "https://localhost:8080/"
        },
        "id": "DyrdXX_EivqM",
        "outputId": "ceb16998-4400-42e0-db84-a8ec8560448e"
      },
      "execution_count": 62,
      "outputs": [
        {
          "output_type": "stream",
          "name": "stdout",
          "text": [
            "Chicken Fried Noodles\n",
            "Veg Fried Noodles\n"
          ]
        }
      ]
    },
    {
      "cell_type": "code",
      "source": [
        "from math import pi\n",
        "class Donut:\n",
        "  def __init__(self,rad,ing):\n",
        "    self.rad = rad\n",
        "    self.ing = ing\n",
        "\n",
        "  def area(self):\n",
        "    return self.Donut_area(self.rad)\n",
        "\n",
        "  @staticmethod\n",
        "  def Donut_area(r):\n",
        "    return (4/3)*pi*r**3\n",
        "\n",
        "D = Donut(10,['Cream','Chocolate'])\n",
        "print(\"Area of spherical Donut =\",D.area(),\"sq. units\")"
      ],
      "metadata": {
        "colab": {
          "base_uri": "https://localhost:8080/"
        },
        "id": "thBiQSitizKB",
        "outputId": "6d0a1571-f23f-4eaf-a36a-4bc791402b52"
      },
      "execution_count": 63,
      "outputs": [
        {
          "output_type": "stream",
          "name": "stdout",
          "text": [
            "Area of spherical Donut = 4188.790204786391 sq. units\n"
          ]
        }
      ]
    },
    {
      "cell_type": "code",
      "source": [
        ""
      ],
      "metadata": {
        "id": "6akWw2XSi2bN"
      },
      "execution_count": null,
      "outputs": []
    }
  ]
}