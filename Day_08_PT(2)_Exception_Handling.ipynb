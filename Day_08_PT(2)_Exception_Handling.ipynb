{
  "nbformat": 4,
  "nbformat_minor": 0,
  "metadata": {
    "colab": {
      "name": "Day 08_PT(2) - Exception Handling.ipynb",
      "provenance": [],
      "authorship_tag": "ABX9TyP0dSVwKiS++hSBjQTxT6wS",
      "include_colab_link": true
    },
    "kernelspec": {
      "name": "python3",
      "display_name": "Python 3"
    },
    "language_info": {
      "name": "python"
    }
  },
  "cells": [
    {
      "cell_type": "markdown",
      "metadata": {
        "id": "view-in-github",
        "colab_type": "text"
      },
      "source": [
        "<a href=\"https://colab.research.google.com/github/Aditya2086/Python-Training/blob/main/Day_08_PT(2)_Exception_Handling.ipynb\" target=\"_parent\"><img src=\"https://colab.research.google.com/assets/colab-badge.svg\" alt=\"Open In Colab\"/></a>"
      ]
    },
    {
      "cell_type": "code",
      "execution_count": 1,
      "metadata": {
        "colab": {
          "base_uri": "https://localhost:8080/",
          "height": 217
        },
        "id": "_2LsyAI7Rz1g",
        "outputId": "c115749e-8b66-4eac-f56a-f87640baff53"
      },
      "outputs": [
        {
          "output_type": "error",
          "ename": "ZeroDivisionError",
          "evalue": "ignored",
          "traceback": [
            "\u001b[0;31m---------------------------------------------------------------------------\u001b[0m",
            "\u001b[0;31mZeroDivisionError\u001b[0m                         Traceback (most recent call last)",
            "\u001b[0;32m<ipython-input-1-b6398ebc5d85>\u001b[0m in \u001b[0;36m<module>\u001b[0;34m()\u001b[0m\n\u001b[1;32m      1\u001b[0m \u001b[0ma\u001b[0m \u001b[0;34m=\u001b[0m \u001b[0;36m5\u001b[0m\u001b[0;34m\u001b[0m\u001b[0;34m\u001b[0m\u001b[0m\n\u001b[1;32m      2\u001b[0m \u001b[0mb\u001b[0m \u001b[0;34m=\u001b[0m \u001b[0;36m0\u001b[0m\u001b[0;34m\u001b[0m\u001b[0;34m\u001b[0m\u001b[0m\n\u001b[0;32m----> 3\u001b[0;31m \u001b[0mprint\u001b[0m\u001b[0;34m(\u001b[0m\u001b[0ma\u001b[0m\u001b[0;34m/\u001b[0m\u001b[0mb\u001b[0m\u001b[0;34m)\u001b[0m\u001b[0;34m\u001b[0m\u001b[0;34m\u001b[0m\u001b[0m\n\u001b[0m\u001b[1;32m      4\u001b[0m \u001b[0mprint\u001b[0m\u001b[0;34m(\u001b[0m\u001b[0;34m'Well Done'\u001b[0m\u001b[0;34m)\u001b[0m\u001b[0;34m\u001b[0m\u001b[0;34m\u001b[0m\u001b[0m\n",
            "\u001b[0;31mZeroDivisionError\u001b[0m: division by zero"
          ]
        }
      ],
      "source": [
        "a = 5\n",
        "b = 0\n",
        "print(a/b)\n",
        "print('Well Done')"
      ]
    },
    {
      "cell_type": "markdown",
      "source": [
        "# **Try Except Block :-**"
      ],
      "metadata": {
        "id": "s6qhhpKzSOJT"
      }
    },
    {
      "cell_type": "code",
      "source": [
        "a = 5\n",
        "b = 2\n",
        "try:\n",
        "  print(a/b)\n",
        "except Exception:\n",
        "  print('Divison By 0 is not allowed')\n",
        "\n",
        "print('Well Done')"
      ],
      "metadata": {
        "colab": {
          "base_uri": "https://localhost:8080/"
        },
        "id": "GzOGmP9ZSZcC",
        "outputId": "75beb13e-128a-409f-9876-92bc69913c90"
      },
      "execution_count": 2,
      "outputs": [
        {
          "output_type": "stream",
          "name": "stdout",
          "text": [
            "2.5\n",
            "Well Done\n"
          ]
        }
      ]
    },
    {
      "cell_type": "code",
      "source": [
        "a = 5\n",
        "b = 0\n",
        "try:\n",
        "  print(a/b)\n",
        "except Exception as e:\n",
        "  print('The error is:',e)\n",
        "\n",
        "print('Well Done')"
      ],
      "metadata": {
        "colab": {
          "base_uri": "https://localhost:8080/"
        },
        "id": "C_HlnqFlSfK5",
        "outputId": "af5b80c7-401e-4bef-dcb3-630b8f970014"
      },
      "execution_count": 3,
      "outputs": [
        {
          "output_type": "stream",
          "name": "stdout",
          "text": [
            "The error is: division by zero\n",
            "Well Done\n"
          ]
        }
      ]
    },
    {
      "cell_type": "code",
      "source": [
        "try:\n",
        "  a = int(input('Enter Some Word:- '))\n",
        "  print(a)\n",
        "except Exception as e:\n",
        "  print('The error is:',e)\n",
        "\n",
        "print('Well Done')"
      ],
      "metadata": {
        "colab": {
          "base_uri": "https://localhost:8080/"
        },
        "id": "05Pc8ICiSieJ",
        "outputId": "b726196e-ac10-4cbf-909b-da75f78e1fc1"
      },
      "execution_count": 5,
      "outputs": [
        {
          "output_type": "stream",
          "name": "stdout",
          "text": [
            "Enter Some Word:- Java\n",
            "The error is: invalid literal for int() with base 10: 'Java'\n",
            "Well Done\n"
          ]
        }
      ]
    },
    {
      "cell_type": "code",
      "source": [
        "a, b = 10, 0\n",
        "try:\n",
        "  x = int(input('Enter Some Number:- '))\n",
        "  print(x)\n",
        "  print(a/b)\n",
        "except ZeroDivisionError as e:\n",
        "  print('The error is:',e)\n",
        "except ValueError as e:\n",
        "  print('Input is not valid')\n",
        "except Exception as e:\n",
        "  print('The error is:',e)"
      ],
      "metadata": {
        "colab": {
          "base_uri": "https://localhost:8080/"
        },
        "id": "788Meq-4TFrf",
        "outputId": "80b31135-d2f2-4de1-8dc3-61386380ded2"
      },
      "execution_count": 6,
      "outputs": [
        {
          "output_type": "stream",
          "name": "stdout",
          "text": [
            "Enter Some Number:- Java\n",
            "Input is not valid\n"
          ]
        }
      ]
    },
    {
      "cell_type": "code",
      "source": [
        "a, b = 10, 0\n",
        "try:\n",
        "  x = int(input('Enter Some Number:- '))\n",
        "  print(x)\n",
        "  print(a/b)\n",
        "except ZeroDivisionError as e:\n",
        "  print('The error is:',e)\n",
        "except ValueError as e:\n",
        "  print('Input is not valid')\n",
        "except Exception as e:\n",
        "  print('The error is:',e)"
      ],
      "metadata": {
        "colab": {
          "base_uri": "https://localhost:8080/"
        },
        "id": "nNFdQ0o2TNE4",
        "outputId": "c08a2a57-07fa-4b47-8045-daf0060c71a9"
      },
      "execution_count": 8,
      "outputs": [
        {
          "output_type": "stream",
          "name": "stdout",
          "text": [
            "Enter Some Number:- 10\n",
            "10\n",
            "The error is: division by zero\n"
          ]
        }
      ]
    },
    {
      "cell_type": "markdown",
      "source": [
        "# **Try Except Finally Block :-**"
      ],
      "metadata": {
        "id": "1B-gyhWRTcSq"
      }
    },
    {
      "cell_type": "code",
      "source": [
        "a, b = 10, 0\n",
        "try:\n",
        "  x = int(input('Enter some number:'))\n",
        "  print(x)\n",
        "  print(a/b)\n",
        "except ZeroDivisionError as e:\n",
        "  print('The error is:',e)\n",
        "except ValueError as e:\n",
        "  print('Input is not valid')\n",
        "except Exception as e:\n",
        "  print('The error is:',e)\n",
        "\n",
        "finally:\n",
        "  print('Exception handled')"
      ],
      "metadata": {
        "colab": {
          "base_uri": "https://localhost:8080/"
        },
        "id": "wcFxRg8XTgj4",
        "outputId": "f3b70fec-9cce-4b04-e6c0-166e6ac3b28c"
      },
      "execution_count": 9,
      "outputs": [
        {
          "output_type": "stream",
          "name": "stdout",
          "text": [
            "Enter some number:20\n",
            "20\n",
            "The error is: division by zero\n",
            "Exception handled\n"
          ]
        }
      ]
    },
    {
      "cell_type": "code",
      "source": [
        "while True:\n",
        "  try:\n",
        "    x = int(input('Enter some number:'))\n",
        "    break\n",
        "  except ZeroDivisionError as e:\n",
        "    print('The error is:',e)\n",
        "  except ValueError as e:\n",
        "    print('Input is not valid')\n",
        "  except Exception as e:\n",
        "    print('The error is:',e)\n",
        "\n",
        "  finally:\n",
        "    print('Exception handled')"
      ],
      "metadata": {
        "colab": {
          "base_uri": "https://localhost:8080/"
        },
        "id": "Go9atVYxTjhL",
        "outputId": "38d5e426-7da5-454c-92f8-20c721ff3a8f"
      },
      "execution_count": 10,
      "outputs": [
        {
          "output_type": "stream",
          "name": "stdout",
          "text": [
            "Enter some number:Java\n",
            "Input is not valid\n",
            "Exception handled\n",
            "Enter some number:Aditya\n",
            "Input is not valid\n",
            "Exception handled\n",
            "Enter some number:1990\n",
            "Exception handled\n"
          ]
        }
      ]
    },
    {
      "cell_type": "code",
      "source": [
        "x = 0\n",
        "while x < 5:\n",
        "  try:\n",
        "    if (x != 0):\n",
        "      print('x = {0}'.format(x))\n",
        "  except:\n",
        "      continue\n",
        "  finally:\n",
        "      x += 1"
      ],
      "metadata": {
        "colab": {
          "base_uri": "https://localhost:8080/"
        },
        "id": "D1WJdS9RTooe",
        "outputId": "a33ce3ba-859b-4dd5-974e-95c02d35ec2d"
      },
      "execution_count": 11,
      "outputs": [
        {
          "output_type": "stream",
          "name": "stdout",
          "text": [
            "x = 1\n",
            "x = 2\n",
            "x = 3\n",
            "x = 4\n"
          ]
        }
      ]
    },
    {
      "cell_type": "code",
      "source": [
        "def func():\n",
        "  for num in range(5):\n",
        "    try:\n",
        "      print(num)\n",
        "    finally:\n",
        "      continue\n",
        "func()"
      ],
      "metadata": {
        "id": "5Agx_aGjT6Sh",
        "outputId": "7ff477dd-2457-42ce-cf36-6eff6b7ca5ab",
        "colab": {
          "base_uri": "https://localhost:8080/",
          "height": 130
        }
      },
      "execution_count": 12,
      "outputs": [
        {
          "output_type": "error",
          "ename": "SyntaxError",
          "evalue": "ignored",
          "traceback": [
            "\u001b[0;36m  File \u001b[0;32m\"<ipython-input-12-6c5142ed01dd>\"\u001b[0;36m, line \u001b[0;32m6\u001b[0m\n\u001b[0;31m    continue\u001b[0m\n\u001b[0m    ^\u001b[0m\n\u001b[0;31mSyntaxError\u001b[0m\u001b[0;31m:\u001b[0m 'continue' not supported inside 'finally' clause\n"
          ]
        }
      ]
    },
    {
      "cell_type": "code",
      "source": [
        ""
      ],
      "metadata": {
        "id": "iO5HLt6UT7Ib"
      },
      "execution_count": null,
      "outputs": []
    }
  ]
}